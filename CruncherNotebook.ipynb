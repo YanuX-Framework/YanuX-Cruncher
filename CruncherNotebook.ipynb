{
 "cells": [
  {
   "cell_type": "markdown",
   "metadata": {},
   "source": [
    "# YanuX Cruncher #"
   ]
  },
  {
   "cell_type": "code",
   "execution_count": 1,
   "metadata": {
    "collapsed": true
   },
   "outputs": [],
   "source": [
    "from model.jsonloader import JsonLoader\n",
    "from model.wifilogstats import WifiLogStats"
   ]
  },
  {
   "cell_type": "code",
   "execution_count": 2,
   "metadata": {
    "collapsed": false
   },
   "outputs": [],
   "source": [
    "path = 'data'\n",
    "json_loader = JsonLoader(path)"
   ]
  },
  {
   "cell_type": "markdown",
   "metadata": {},
   "source": [
    "**# Data Samples**"
   ]
  },
  {
   "cell_type": "code",
   "execution_count": 3,
   "metadata": {
    "collapsed": false
   },
   "outputs": [
    {
     "data": {
      "text/plain": [
       "'50'"
      ]
     },
     "execution_count": 3,
     "metadata": {},
     "output_type": "execute_result"
    }
   ],
   "source": [
    "str(len(json_loader.json_data))"
   ]
  },
  {
   "cell_type": "code",
   "execution_count": 4,
   "metadata": {
    "collapsed": false
   },
   "outputs": [],
   "source": [
    "wifi_log_stats = WifiLogStats(json_loader.json_data)"
   ]
  },
  {
   "cell_type": "markdown",
   "metadata": {},
   "source": [
    "**# Unique MAC Addresses**"
   ]
  },
  {
   "cell_type": "code",
   "execution_count": 5,
   "metadata": {
    "collapsed": false
   },
   "outputs": [
    {
     "data": {
      "text/plain": [
       "39"
      ]
     },
     "execution_count": 5,
     "metadata": {},
     "output_type": "execute_result"
    }
   ],
   "source": [
    "len(wifi_log_stats.mac_addresses)"
   ]
  },
  {
   "cell_type": "code",
   "execution_count": 6,
   "metadata": {
    "collapsed": false
   },
   "outputs": [
    {
     "data": {
      "text/plain": [
       "[['51', '22'],\n ['71', '22'],\n ['24', '1'],\n ['20', '1'],\n ['27', '18'],\n ['16', '1'],\n ['55', '22'],\n ['31', '22'],\n ['71', '22'],\n ['27', '18'],\n ['35', '22'],\n ['47', '22'],\n ['27', '2'],\n ['67', '22'],\n ['16', '1'],\n ['27', '22'],\n ['63', '22'],\n ['27', '10'],\n ['43', '22'],\n ['27', '22'],\n ['27', '14'],\n ['59', '22'],\n ['24', '1'],\n ['39', '22'],\n ['27', '2'],\n ['39', '22'],\n ['31', '22'],\n ['47', '22'],\n ['27', '10'],\n ['55', '22'],\n ['35', '22'],\n ['4', '1'],\n ['27', '6'],\n ['12', '1'],\n ['12', '1'],\n ['67', '22'],\n ['27', '14'],\n ['20', '1'],\n ['8', '1'],\n ['75', '22'],\n ['59', '22'],\n ['63', '22'],\n ['4', '1'],\n ['8', '1'],\n ['51', '22'],\n ['0', '1'],\n ['0', '1'],\n ['27', '6'],\n ['75', '22'],\n ['43', '22']]"
      ]
     },
     "execution_count": 6,
     "metadata": {},
     "output_type": "execute_result"
    }
   ],
   "source": [
    "wifi_log_stats.points"
   ]
  },
  {
   "cell_type": "code",
   "execution_count": null,
   "metadata": {},
   "outputs": [],
   "source": [
    ""
   ]
  }
 ],
 "metadata": {
  "kernelspec": {
   "display_name": "Python 3",
   "language": "python",
   "name": "python3"
  },
  "language_info": {
   "codemirror_mode": {
    "name": "ipython",
    "version": 3.0
   },
   "file_extension": ".py",
   "mimetype": "text/x-python",
   "name": "python",
   "nbconvert_exporter": "python",
   "pygments_lexer": "ipython3",
   "version": "3.5.1"
  }
 },
 "nbformat": 4,
 "nbformat_minor": 0
}