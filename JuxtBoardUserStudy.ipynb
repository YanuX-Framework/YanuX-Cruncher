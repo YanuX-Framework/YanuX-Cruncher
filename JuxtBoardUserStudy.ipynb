{
 "cells": [
  {
   "cell_type": "markdown",
   "id": "expressed-hughes",
   "metadata": {},
   "source": [
    "# JuxtBoard User Study"
   ]
  },
  {
   "cell_type": "markdown",
   "id": "formal-bubble",
   "metadata": {},
   "source": [
    "## Imports"
   ]
  },
  {
   "cell_type": "code",
   "execution_count": 1,
   "id": "historic-nebraska",
   "metadata": {},
   "outputs": [],
   "source": [
    "import numpy as np\n",
    "from scipy import stats\n",
    "import statsmodels.stats.proportion as smp\n",
    "import pandas as pd\n",
    "import matplotlib.pyplot as plt"
   ]
  },
  {
   "cell_type": "markdown",
   "id": "mysterious-saturn",
   "metadata": {},
   "source": [
    "## Helper Functions"
   ]
  },
  {
   "cell_type": "code",
   "execution_count": 2,
   "id": "hidden-sucking",
   "metadata": {},
   "outputs": [],
   "source": [
    "def print_stats(data, hist_bins=10, hist_size=(8,4)):\n",
    "    print('--- Statistics ----')\n",
    "    display(data.describe())\n",
    "    print('\\n')\n",
    "    print('--- Counting Unique Values ----')\n",
    "    display(data.value_counts())\n",
    "    print('\\n')\n",
    "    print('--- Basic Histogram ----')\n",
    "    data.hist(bins=hist_bins, figsize=hist_size)\n",
    "    plt.show()\n",
    "    \n",
    "def calculate_sus(data):\n",
    "    for i in range(len(data.columns)):\n",
    "        if i % 2:\n",
    "            data.iloc[:,i] = 7 - data.iloc[:,i]\n",
    "        else:\n",
    "            data.iloc[:,i] = data.iloc[:,i] - 1\n",
    "\n",
    "    data['Score'] = data.iloc[:,0:10].sum(axis=1)\n",
    "    data['Score 100'] = data['Score'] * (100/60)\n",
    "    return data\n",
    "\n",
    "def confidence_interval_t(data, confidence_level=0.95):\n",
    "    return stats.t.interval(confidence_level, data.count()-1, data.mean(), data.sem())\n",
    "    "
   ]
  },
  {
   "cell_type": "markdown",
   "id": "colored-surfing",
   "metadata": {},
   "source": [
    "## Load Excel"
   ]
  },
  {
   "cell_type": "code",
   "execution_count": 3,
   "id": "official-obligation",
   "metadata": {},
   "outputs": [],
   "source": [
    "data = pd.read_excel('data/juxtboard/juxtboard-questionnaire-responses.xlsx', sheet_name=None)  "
   ]
  },
  {
   "cell_type": "markdown",
   "id": "still-filename",
   "metadata": {},
   "source": [
    "## Basic Data"
   ]
  },
  {
   "cell_type": "code",
   "execution_count": 4,
   "id": "quarterly-particular",
   "metadata": {},
   "outputs": [],
   "source": [
    "data_basic = data['Basic']\n",
    "\n",
    "# Translating Genre from Portuguese to English\n",
    "data_basic['Genre'].replace('Masculino','Male',inplace=True)\n",
    "data_basic['Genre'].replace('Feminino','Female',inplace=True)\n",
    "data_basic['Genre'].replace('Prefiro não responder','Prefer not to say',inplace=True)\n",
    "\n",
    "# Translating Education from Portuguese to English\n",
    "data_basic['Education'].replace('Educação Básica','Basic Education',inplace=True)\n",
    "data_basic['Education'].replace('Educação Secundária','Secondary Education',inplace=True)\n",
    "data_basic['Education'].replace('Educação Pós-Secundária','Post-Secondary Education',inplace=True)\n",
    "data_basic['Education'].replace('Educação Pós-Secundária','Post-Secondary Education',inplace=True)\n",
    "data_basic['Education'].replace('Licenciatura','Bachelor\\'s Degree',inplace=True)\n",
    "data_basic['Education'].replace('Mestrado','Master\\'s Degree',inplace=True)\n",
    "data_basic['Education'].replace('Doutoramento','Doctoral Degree',inplace=True)\n",
    "data_basic['Education'].replace('Prefiro não responder','Prefer not to say',inplace=True)\n",
    "\n",
    "# Translating Type of Devices from Portuguese to English\n",
    "data_basic['Type of Devices'].replace({'Computador de secretária':'Desktop'}, regex=True ,inplace=True)\n",
    "data_basic['Type of Devices'].replace({'Computador portátil':'Laptop'}, regex=True, inplace=True)\n",
    "\n",
    "# Translating Test mode from Portuguese to English\n",
    "data_basic['Test Mode'].replace('PRIMEIRO em modo \"Multi-Dispositivo\" e DEPOIS em modo \"Dispositivo Único\".','Single Device > Multi-Device',inplace=True)\n",
    "data_basic['Test Mode'].replace('PRIMEIRO em modo \"Dispositivo Único\" e DEPOIS em modo \"Multi-Disposito\".','Multi-Device > Single Device',inplace=True)\n",
    "\n",
    "#display(data_basic)"
   ]
  },
  {
   "cell_type": "markdown",
   "id": "accomplished-performance",
   "metadata": {},
   "source": [
    "### Age"
   ]
  },
  {
   "cell_type": "code",
   "execution_count": 5,
   "id": "typical-marble",
   "metadata": {},
   "outputs": [
    {
     "name": "stdout",
     "output_type": "stream",
     "text": [
      "--- Statistics ----\n"
     ]
    },
    {
     "data": {
      "text/plain": [
       "count    27.000000\n",
       "mean     23.481481\n",
       "std       9.795487\n",
       "min      19.000000\n",
       "25%      19.500000\n",
       "50%      20.000000\n",
       "75%      22.000000\n",
       "max      60.000000\n",
       "Name: Age, dtype: float64"
      ]
     },
     "metadata": {},
     "output_type": "display_data"
    },
    {
     "name": "stdout",
     "output_type": "stream",
     "text": [
      "\n",
      "\n",
      "--- Counting Unique Values ----\n"
     ]
    },
    {
     "data": {
      "text/plain": [
       "20    11\n",
       "19     7\n",
       "22     3\n",
       "34     1\n",
       "51     1\n",
       "21     1\n",
       "23     1\n",
       "26     1\n",
       "60     1\n",
       "Name: Age, dtype: int64"
      ]
     },
     "metadata": {},
     "output_type": "display_data"
    },
    {
     "name": "stdout",
     "output_type": "stream",
     "text": [
      "\n",
      "\n",
      "--- Basic Histogram ----\n"
     ]
    },
    {
     "data": {
      "image/png": "[encoded data removed]",
      "text/plain": [
       "<Figure size 576x288 with 1 Axes>"
      ]
     },
     "metadata": {
      "needs_background": "light"
     },
     "output_type": "display_data"
    },
    {
     "name": "stdout",
     "output_type": "stream",
     "text": [
      "Population Standard Deviation:\n",
      "9.612377708591147\n"
     ]
    }
   ],
   "source": [
    "data_basic_age = data_basic['Age']\n",
    "print_stats(data_basic_age, hist_bins=20)\n",
    "print('Population Standard Deviation:')\n",
    "print(data_basic_age.std(ddof=0))"
   ]
  },
  {
   "cell_type": "markdown",
   "id": "hired-boards",
   "metadata": {},
   "source": [
    "### Genre"
   ]
  },
  {
   "cell_type": "code",
   "execution_count": 6,
   "id": "urban-loading",
   "metadata": {},
   "outputs": [
    {
     "name": "stdout",
     "output_type": "stream",
     "text": [
      "--- Statistics ----\n"
     ]
    },
    {
     "data": {
      "text/plain": [
       "count       27\n",
       "unique       2\n",
       "top       Male\n",
       "freq        23\n",
       "Name: Genre, dtype: object"
      ]
     },
     "metadata": {},
     "output_type": "display_data"
    },
    {
     "name": "stdout",
     "output_type": "stream",
     "text": [
      "\n",
      "\n",
      "--- Counting Unique Values ----\n"
     ]
    },
    {
     "data": {
      "text/plain": [
       "Male      23\n",
       "Female     4\n",
       "Name: Genre, dtype: int64"
      ]
     },
     "metadata": {},
     "output_type": "display_data"
    },
    {
     "name": "stdout",
     "output_type": "stream",
     "text": [
      "\n",
      "\n",
      "--- Basic Histogram ----\n"
     ]
    },
    {
     "data": {
      "image/png": "[encoded data removed]",
      "text/plain": [
       "<Figure size 576x288 with 1 Axes>"
      ]
     },
     "metadata": {
      "needs_background": "light"
     },
     "output_type": "display_data"
    }
   ],
   "source": [
    "data_basic_genre = data_basic['Genre']\n",
    "print_stats(data_basic_genre)"
   ]
  },
  {
   "cell_type": "markdown",
   "id": "chronic-chance",
   "metadata": {},
   "source": [
    "### Education"
   ]
  },
  {
   "cell_type": "code",
   "execution_count": 7,
   "id": "nuclear-story",
   "metadata": {},
   "outputs": [
    {
     "name": "stdout",
     "output_type": "stream",
     "text": [
      "--- Statistics ----\n"
     ]
    },
    {
     "data": {
      "text/plain": [
       "count                      27\n",
       "unique                      4\n",
       "top       Secondary Education\n",
       "freq                       19\n",
       "Name: Education, dtype: object"
      ]
     },
     "metadata": {},
     "output_type": "display_data"
    },
    {
     "name": "stdout",
     "output_type": "stream",
     "text": [
      "\n",
      "\n",
      "--- Counting Unique Values ----\n"
     ]
    },
    {
     "data": {
      "text/plain": [
       "Secondary Education         19\n",
       "Post-Secondary Education     5\n",
       "Bachelor's Degree            2\n",
       "Master's Degree              1\n",
       "Name: Education, dtype: int64"
      ]
     },
     "metadata": {},
     "output_type": "display_data"
    },
    {
     "name": "stdout",
     "output_type": "stream",
     "text": [
      "\n",
      "\n",
      "--- Basic Histogram ----\n"
     ]
    },
    {
     "data": {
      "image/png": "[encoded data removed]",
      "text/plain": [
       "<Figure size 576x288 with 1 Axes>"
      ]
     },
     "metadata": {
      "needs_background": "light"
     },
     "output_type": "display_data"
    }
   ],
   "source": [
    "data_basic_education = data_basic['Education']\n",
    "print_stats(data_basic_education)"
   ]
  },
  {
   "cell_type": "markdown",
   "id": "hawaiian-corner",
   "metadata": {},
   "source": [
    "### Type of Devices"
   ]
  },
  {
   "cell_type": "code",
   "execution_count": 8,
   "id": "linear-malta",
   "metadata": {},
   "outputs": [
    {
     "name": "stdout",
     "output_type": "stream",
     "text": [
      "--- Statistics ----\n"
     ]
    },
    {
     "data": {
      "text/plain": [
       "count                                          27\n",
       "unique                                         15\n",
       "top       [Desktop, Laptop, Smartphone, Smart TV]\n",
       "freq                                            5\n",
       "Name: Type of Devices, dtype: object"
      ]
     },
     "metadata": {},
     "output_type": "display_data"
    }
   ],
   "source": [
    "data_basic_type_of_devices = data_basic['Type of Devices'].map(lambda x: [i.strip() for i in x.split(\",\")])\n",
    "print('--- Statistics ----')\n",
    "display(data_basic_type_of_devices.describe())\n",
    "\n",
    "#print('--- Basic Histogram ----')\n",
    "#data_basic_type_of_devices.hist()"
   ]
  },
  {
   "cell_type": "code",
   "execution_count": 9,
   "id": "bacterial-surface",
   "metadata": {},
   "outputs": [
    {
     "name": "stdout",
     "output_type": "stream",
     "text": [
      "--- Statistics ----\n"
     ]
    },
    {
     "data": {
      "text/plain": [
       "count    27.000000\n",
       "mean      3.666667\n",
       "std       1.176697\n",
       "min       2.000000\n",
       "25%       3.000000\n",
       "50%       4.000000\n",
       "75%       4.000000\n",
       "max       7.000000\n",
       "Name: Type of Devices, dtype: float64"
      ]
     },
     "metadata": {},
     "output_type": "display_data"
    },
    {
     "name": "stdout",
     "output_type": "stream",
     "text": [
      "\n",
      "\n",
      "--- Counting Unique Values ----\n"
     ]
    },
    {
     "data": {
      "text/plain": [
       "4    11\n",
       "3     8\n",
       "2     4\n",
       "5     2\n",
       "6     1\n",
       "7     1\n",
       "Name: Type of Devices, dtype: int64"
      ]
     },
     "metadata": {},
     "output_type": "display_data"
    },
    {
     "name": "stdout",
     "output_type": "stream",
     "text": [
      "\n",
      "\n",
      "--- Basic Histogram ----\n"
     ]
    },
    {
     "data": {
      "image/png": "[encoded data removed]",
      "text/plain": [
       "<Figure size 576x288 with 1 Axes>"
      ]
     },
     "metadata": {
      "needs_background": "light"
     },
     "output_type": "display_data"
    }
   ],
   "source": [
    "data_number_of_devices = data_basic_type_of_devices.apply(len)\n",
    "print_stats(data_number_of_devices)\n",
    "\n",
    "#print('Population Standard Deviation:')\n",
    "#print(data_number_of_devices.std(ddof=0))"
   ]
  },
  {
   "cell_type": "code",
   "execution_count": 10,
   "id": "minus-fourth",
   "metadata": {},
   "outputs": [
    {
     "name": "stdout",
     "output_type": "stream",
     "text": [
      "--- Statistics ----\n"
     ]
    },
    {
     "data": {
      "text/plain": [
       "count    27.000000\n",
       "mean      6.037037\n",
       "std       1.315046\n",
       "min       2.000000\n",
       "25%       5.000000\n",
       "50%       7.000000\n",
       "75%       7.000000\n",
       "max       7.000000\n",
       "Name: Usage of Multiple-Devices, dtype: float64"
      ]
     },
     "metadata": {},
     "output_type": "display_data"
    },
    {
     "name": "stdout",
     "output_type": "stream",
     "text": [
      "\n",
      "\n",
      "--- Counting Unique Values ----\n"
     ]
    },
    {
     "data": {
      "text/plain": [
       "7    14\n",
       "5     6\n",
       "6     5\n",
       "2     1\n",
       "3     1\n",
       "Name: Usage of Multiple-Devices, dtype: int64"
      ]
     },
     "metadata": {},
     "output_type": "display_data"
    },
    {
     "name": "stdout",
     "output_type": "stream",
     "text": [
      "\n",
      "\n",
      "--- Basic Histogram ----\n"
     ]
    },
    {
     "data": {
      "image/png": "[encoded data removed]",
      "text/plain": [
       "<Figure size 576x288 with 1 Axes>"
      ]
     },
     "metadata": {
      "needs_background": "light"
     },
     "output_type": "display_data"
    }
   ],
   "source": [
    "data_basic_usage_multiple_devices = data_basic['Usage of Multiple-Devices']\n",
    "print_stats(data_basic_usage_multiple_devices)\n",
    "\n",
    "#print('Population Standard Deviation:')\n",
    "#print(data_basic_usage_multiple_devices.std(ddof=0))"
   ]
  },
  {
   "cell_type": "code",
   "execution_count": 11,
   "id": "natural-prison",
   "metadata": {},
   "outputs": [
    {
     "name": "stdout",
     "output_type": "stream",
     "text": [
      "--- Statistics ----\n"
     ]
    },
    {
     "data": {
      "text/plain": [
       "count                               27\n",
       "unique                               2\n",
       "top       Multi-Device > Single Device\n",
       "freq                                14\n",
       "Name: Test Mode, dtype: object"
      ]
     },
     "metadata": {},
     "output_type": "display_data"
    },
    {
     "name": "stdout",
     "output_type": "stream",
     "text": [
      "\n",
      "\n",
      "--- Counting Unique Values ----\n"
     ]
    },
    {
     "data": {
      "text/plain": [
       "Multi-Device > Single Device    14\n",
       "Single Device > Multi-Device    13\n",
       "Name: Test Mode, dtype: int64"
      ]
     },
     "metadata": {},
     "output_type": "display_data"
    },
    {
     "name": "stdout",
     "output_type": "stream",
     "text": [
      "\n",
      "\n",
      "--- Basic Histogram ----\n"
     ]
    },
    {
     "data": {
      "image/png": "[encoded data removed]",
      "text/plain": [
       "<Figure size 576x288 with 1 Axes>"
      ]
     },
     "metadata": {
      "needs_background": "light"
     },
     "output_type": "display_data"
    }
   ],
   "source": [
    "data_basic_test_mode = data_basic['Test Mode']\n",
    "print_stats(data_basic_test_mode)"
   ]
  },
  {
   "cell_type": "markdown",
   "id": "elect-passenger",
   "metadata": {},
   "source": [
    "## SUS - Single Device Mode"
   ]
  },
  {
   "cell_type": "markdown",
   "id": "convinced-invitation",
   "metadata": {},
   "source": [
    "#### Questions\n",
    "\n",
    "1. I think that I would like to use this system frequently.\n",
    "2. I found the system unnecessarily complex.\n",
    "3. I thought the system was easy to use.\n",
    "4. I think that I would need the support of a technical person to be able to use this system.\n",
    "5. I found the various functions in this system were well integrated.\n",
    "6. I thought there was too much inconsistency in this system.\n",
    "7. I would imagine that most people would learn to use this system very quickly.\n",
    "8. I found the system very cumbersome to use.\n",
    "9. I felt very confident using the system.\n",
    "10. I needed to learn a lot of things before I could get going with this system."
   ]
  },
  {
   "cell_type": "code",
   "execution_count": 12,
   "id": "available-mailing",
   "metadata": {},
   "outputs": [],
   "source": [
    "data_sus_single_device = calculate_sus(data['SUS Single Device'].copy().dropna())\n",
    "#data_sus_single_device"
   ]
  },
  {
   "cell_type": "markdown",
   "id": "authentic-third",
   "metadata": {},
   "source": [
    "#### Mean Score 100"
   ]
  },
  {
   "cell_type": "code",
   "execution_count": 13,
   "id": "female-thumbnail",
   "metadata": {},
   "outputs": [
    {
     "name": "stdout",
     "output_type": "stream",
     "text": [
      "85.67901234567901\n"
     ]
    }
   ],
   "source": [
    "print(data_sus_single_device['Score 100'].mean())"
   ]
  },
  {
   "cell_type": "markdown",
   "id": "disciplinary-copying",
   "metadata": {},
   "source": [
    "#### General Stats"
   ]
  },
  {
   "cell_type": "code",
   "execution_count": 14,
   "id": "alike-chile",
   "metadata": {},
   "outputs": [
    {
     "data": {
      "text/html": [
       "<div>\n",
       "<style scoped>\n",
       "    .dataframe tbody tr th:only-of-type {\n",
       "        vertical-align: middle;\n",
       "    }\n",
       "\n",
       "    .dataframe tbody tr th {\n",
       "        vertical-align: top;\n",
       "    }\n",
       "\n",
       "    .dataframe thead th {\n",
       "        text-align: right;\n",
       "    }\n",
       "</style>\n",
       "<table border=\"1\" class=\"dataframe\">\n",
       "  <thead>\n",
       "    <tr style=\"text-align: right;\">\n",
       "      <th></th>\n",
       "      <th>SUS1</th>\n",
       "      <th>SUS2</th>\n",
       "      <th>SUS3</th>\n",
       "      <th>SUS4</th>\n",
       "      <th>SUS5</th>\n",
       "      <th>SUS6</th>\n",
       "      <th>SUS7</th>\n",
       "      <th>SUS8</th>\n",
       "      <th>SUS9</th>\n",
       "      <th>SUS10</th>\n",
       "      <th>Score</th>\n",
       "      <th>Score 100</th>\n",
       "    </tr>\n",
       "  </thead>\n",
       "  <tbody>\n",
       "    <tr>\n",
       "      <th>count</th>\n",
       "      <td>27.000000</td>\n",
       "      <td>27.000000</td>\n",
       "      <td>27.000000</td>\n",
       "      <td>27.000000</td>\n",
       "      <td>27.000000</td>\n",
       "      <td>27.000000</td>\n",
       "      <td>27.000000</td>\n",
       "      <td>27.000000</td>\n",
       "      <td>27.000000</td>\n",
       "      <td>27.000000</td>\n",
       "      <td>27.000000</td>\n",
       "      <td>27.000000</td>\n",
       "    </tr>\n",
       "    <tr>\n",
       "      <th>mean</th>\n",
       "      <td>4.222222</td>\n",
       "      <td>5.074074</td>\n",
       "      <td>5.185185</td>\n",
       "      <td>5.481481</td>\n",
       "      <td>5.333333</td>\n",
       "      <td>5.222222</td>\n",
       "      <td>5.037037</td>\n",
       "      <td>5.555556</td>\n",
       "      <td>4.814815</td>\n",
       "      <td>5.481481</td>\n",
       "      <td>51.407407</td>\n",
       "      <td>85.679012</td>\n",
       "    </tr>\n",
       "    <tr>\n",
       "      <th>std</th>\n",
       "      <td>1.368136</td>\n",
       "      <td>0.675160</td>\n",
       "      <td>0.735738</td>\n",
       "      <td>0.579812</td>\n",
       "      <td>0.620174</td>\n",
       "      <td>1.012739</td>\n",
       "      <td>0.854017</td>\n",
       "      <td>0.506370</td>\n",
       "      <td>0.735738</td>\n",
       "      <td>0.848998</td>\n",
       "      <td>3.586934</td>\n",
       "      <td>5.978224</td>\n",
       "    </tr>\n",
       "    <tr>\n",
       "      <th>min</th>\n",
       "      <td>1.000000</td>\n",
       "      <td>3.000000</td>\n",
       "      <td>4.000000</td>\n",
       "      <td>4.000000</td>\n",
       "      <td>4.000000</td>\n",
       "      <td>1.000000</td>\n",
       "      <td>4.000000</td>\n",
       "      <td>5.000000</td>\n",
       "      <td>3.000000</td>\n",
       "      <td>2.000000</td>\n",
       "      <td>46.000000</td>\n",
       "      <td>76.666667</td>\n",
       "    </tr>\n",
       "    <tr>\n",
       "      <th>25%</th>\n",
       "      <td>4.000000</td>\n",
       "      <td>5.000000</td>\n",
       "      <td>5.000000</td>\n",
       "      <td>5.000000</td>\n",
       "      <td>5.000000</td>\n",
       "      <td>5.000000</td>\n",
       "      <td>4.000000</td>\n",
       "      <td>5.000000</td>\n",
       "      <td>4.000000</td>\n",
       "      <td>5.000000</td>\n",
       "      <td>48.500000</td>\n",
       "      <td>80.833333</td>\n",
       "    </tr>\n",
       "    <tr>\n",
       "      <th>50%</th>\n",
       "      <td>4.000000</td>\n",
       "      <td>5.000000</td>\n",
       "      <td>5.000000</td>\n",
       "      <td>6.000000</td>\n",
       "      <td>5.000000</td>\n",
       "      <td>5.000000</td>\n",
       "      <td>5.000000</td>\n",
       "      <td>6.000000</td>\n",
       "      <td>5.000000</td>\n",
       "      <td>6.000000</td>\n",
       "      <td>51.000000</td>\n",
       "      <td>85.000000</td>\n",
       "    </tr>\n",
       "    <tr>\n",
       "      <th>75%</th>\n",
       "      <td>5.000000</td>\n",
       "      <td>5.000000</td>\n",
       "      <td>6.000000</td>\n",
       "      <td>6.000000</td>\n",
       "      <td>6.000000</td>\n",
       "      <td>6.000000</td>\n",
       "      <td>6.000000</td>\n",
       "      <td>6.000000</td>\n",
       "      <td>5.000000</td>\n",
       "      <td>6.000000</td>\n",
       "      <td>54.000000</td>\n",
       "      <td>90.000000</td>\n",
       "    </tr>\n",
       "    <tr>\n",
       "      <th>max</th>\n",
       "      <td>6.000000</td>\n",
       "      <td>6.000000</td>\n",
       "      <td>6.000000</td>\n",
       "      <td>6.000000</td>\n",
       "      <td>6.000000</td>\n",
       "      <td>6.000000</td>\n",
       "      <td>6.000000</td>\n",
       "      <td>6.000000</td>\n",
       "      <td>6.000000</td>\n",
       "      <td>6.000000</td>\n",
       "      <td>57.000000</td>\n",
       "      <td>95.000000</td>\n",
       "    </tr>\n",
       "  </tbody>\n",
       "</table>\n",
       "</div>"
      ],
      "text/plain": [
       "            SUS1       SUS2       SUS3       SUS4       SUS5       SUS6  \\\n",
       "count  27.000000  27.000000  27.000000  27.000000  27.000000  27.000000   \n",
       "mean    4.222222   5.074074   5.185185   5.481481   5.333333   5.222222   \n",
       "std     1.368136   0.675160   0.735738   0.579812   0.620174   1.012739   \n",
       "min     1.000000   3.000000   4.000000   4.000000   4.000000   1.000000   \n",
       "25%     4.000000   5.000000   5.000000   5.000000   5.000000   5.000000   \n",
       "50%     4.000000   5.000000   5.000000   6.000000   5.000000   5.000000   \n",
       "75%     5.000000   5.000000   6.000000   6.000000   6.000000   6.000000   \n",
       "max     6.000000   6.000000   6.000000   6.000000   6.000000   6.000000   \n",
       "\n",
       "            SUS7       SUS8       SUS9      SUS10      Score  Score 100  \n",
       "count  27.000000  27.000000  27.000000  27.000000  27.000000  27.000000  \n",
       "mean    5.037037   5.555556   4.814815   5.481481  51.407407  85.679012  \n",
       "std     0.854017   0.506370   0.735738   0.848998   3.586934   5.978224  \n",
       "min     4.000000   5.000000   3.000000   2.000000  46.000000  76.666667  \n",
       "25%     4.000000   5.000000   4.000000   5.000000  48.500000  80.833333  \n",
       "50%     5.000000   6.000000   5.000000   6.000000  51.000000  85.000000  \n",
       "75%     6.000000   6.000000   5.000000   6.000000  54.000000  90.000000  \n",
       "max     6.000000   6.000000   6.000000   6.000000  57.000000  95.000000  "
      ]
     },
     "execution_count": 14,
     "metadata": {},
     "output_type": "execute_result"
    }
   ],
   "source": [
    "data_sus_single_device.describe()\n",
    "#print_stats(data_sus_single_device)"
   ]
  },
  {
   "cell_type": "markdown",
   "id": "under-robertson",
   "metadata": {},
   "source": [
    "#### Confidence Interval"
   ]
  },
  {
   "cell_type": "code",
   "execution_count": 15,
   "id": "cleared-clearance",
   "metadata": {},
   "outputs": [
    {
     "data": {
      "text/plain": [
       "(83.3141058349677, 88.04391885639032)"
      ]
     },
     "execution_count": 15,
     "metadata": {},
     "output_type": "execute_result"
    }
   ],
   "source": [
    "confidence_interval_t(data_sus_single_device['Score 100'])"
   ]
  },
  {
   "cell_type": "markdown",
   "id": "needed-tattoo",
   "metadata": {},
   "source": [
    "#### Per-question Stats"
   ]
  },
  {
   "cell_type": "code",
   "execution_count": 16,
   "id": "incident-africa",
   "metadata": {},
   "outputs": [],
   "source": [
    "##Uncomment if you need these stats\n",
    "#for column in data_sus_single_device:\n",
    "    #print_stats(data_sus_single_device[column])"
   ]
  },
  {
   "cell_type": "markdown",
   "id": "overhead-understanding",
   "metadata": {},
   "source": [
    "## SUS - Multi-Device Mode"
   ]
  },
  {
   "cell_type": "markdown",
   "id": "concrete-harvest",
   "metadata": {},
   "source": [
    "#### Questions\n",
    "\n",
    "1. I think that I would like to use this system frequently.\n",
    "2. I found the system unnecessarily complex.\n",
    "3. I thought the system was easy to use.\n",
    "4. I think that I would need the support of a technical person to be able to use this system.\n",
    "5. I found the various functions in this system were well integrated.\n",
    "6. I thought there was too much inconsistency in this system.\n",
    "7. I would imagine that most people would learn to use this system very quickly.\n",
    "8. I found the system very cumbersome to use.\n",
    "9. I felt very confident using the system.\n",
    "10. I needed to learn a lot of things before I could get going with this system."
   ]
  },
  {
   "cell_type": "code",
   "execution_count": 17,
   "id": "missing-taiwan",
   "metadata": {},
   "outputs": [],
   "source": [
    "data_sus_multi_device = calculate_sus(data['SUS Multi-Device'].copy().dropna())\n",
    "#data_sus_multi_device"
   ]
  },
  {
   "cell_type": "markdown",
   "id": "creative-shark",
   "metadata": {},
   "source": [
    "#### Mean Score 100"
   ]
  },
  {
   "cell_type": "code",
   "execution_count": 18,
   "id": "american-delicious",
   "metadata": {},
   "outputs": [
    {
     "name": "stdout",
     "output_type": "stream",
     "text": [
      "89.87654320987657\n"
     ]
    }
   ],
   "source": [
    "print(data_sus_multi_device['Score 100'].mean())"
   ]
  },
  {
   "cell_type": "markdown",
   "id": "daily-jackson",
   "metadata": {},
   "source": [
    "#### General Stats"
   ]
  },
  {
   "cell_type": "code",
   "execution_count": 19,
   "id": "computational-extent",
   "metadata": {},
   "outputs": [
    {
     "data": {
      "text/html": [
       "<div>\n",
       "<style scoped>\n",
       "    .dataframe tbody tr th:only-of-type {\n",
       "        vertical-align: middle;\n",
       "    }\n",
       "\n",
       "    .dataframe tbody tr th {\n",
       "        vertical-align: top;\n",
       "    }\n",
       "\n",
       "    .dataframe thead th {\n",
       "        text-align: right;\n",
       "    }\n",
       "</style>\n",
       "<table border=\"1\" class=\"dataframe\">\n",
       "  <thead>\n",
       "    <tr style=\"text-align: right;\">\n",
       "      <th></th>\n",
       "      <th>SUS1</th>\n",
       "      <th>SUS2</th>\n",
       "      <th>SUS3</th>\n",
       "      <th>SUS4</th>\n",
       "      <th>SUS5</th>\n",
       "      <th>SUS6</th>\n",
       "      <th>SUS7</th>\n",
       "      <th>SUS8</th>\n",
       "      <th>SUS9</th>\n",
       "      <th>SUS10</th>\n",
       "      <th>Score</th>\n",
       "      <th>Score 100</th>\n",
       "    </tr>\n",
       "  </thead>\n",
       "  <tbody>\n",
       "    <tr>\n",
       "      <th>count</th>\n",
       "      <td>27.000000</td>\n",
       "      <td>27.000000</td>\n",
       "      <td>27.000000</td>\n",
       "      <td>27.000000</td>\n",
       "      <td>27.000000</td>\n",
       "      <td>27.000000</td>\n",
       "      <td>27.000000</td>\n",
       "      <td>27.000000</td>\n",
       "      <td>27.000000</td>\n",
       "      <td>27.000000</td>\n",
       "      <td>27.000000</td>\n",
       "      <td>27.000000</td>\n",
       "    </tr>\n",
       "    <tr>\n",
       "      <th>mean</th>\n",
       "      <td>5.296296</td>\n",
       "      <td>5.370370</td>\n",
       "      <td>5.444444</td>\n",
       "      <td>5.555556</td>\n",
       "      <td>5.592593</td>\n",
       "      <td>5.185185</td>\n",
       "      <td>5.222222</td>\n",
       "      <td>5.666667</td>\n",
       "      <td>5.148148</td>\n",
       "      <td>5.444444</td>\n",
       "      <td>53.925926</td>\n",
       "      <td>89.876543</td>\n",
       "    </tr>\n",
       "    <tr>\n",
       "      <th>std</th>\n",
       "      <td>0.992852</td>\n",
       "      <td>0.687702</td>\n",
       "      <td>0.800641</td>\n",
       "      <td>0.577350</td>\n",
       "      <td>0.693889</td>\n",
       "      <td>1.301982</td>\n",
       "      <td>0.891556</td>\n",
       "      <td>0.480384</td>\n",
       "      <td>0.769800</td>\n",
       "      <td>0.847319</td>\n",
       "      <td>5.075779</td>\n",
       "      <td>8.459632</td>\n",
       "    </tr>\n",
       "    <tr>\n",
       "      <th>min</th>\n",
       "      <td>2.000000</td>\n",
       "      <td>3.000000</td>\n",
       "      <td>3.000000</td>\n",
       "      <td>4.000000</td>\n",
       "      <td>3.000000</td>\n",
       "      <td>1.000000</td>\n",
       "      <td>3.000000</td>\n",
       "      <td>5.000000</td>\n",
       "      <td>4.000000</td>\n",
       "      <td>2.000000</td>\n",
       "      <td>44.000000</td>\n",
       "      <td>73.333333</td>\n",
       "    </tr>\n",
       "    <tr>\n",
       "      <th>25%</th>\n",
       "      <td>5.000000</td>\n",
       "      <td>5.000000</td>\n",
       "      <td>5.000000</td>\n",
       "      <td>5.000000</td>\n",
       "      <td>5.000000</td>\n",
       "      <td>5.000000</td>\n",
       "      <td>5.000000</td>\n",
       "      <td>5.000000</td>\n",
       "      <td>5.000000</td>\n",
       "      <td>5.000000</td>\n",
       "      <td>50.000000</td>\n",
       "      <td>83.333333</td>\n",
       "    </tr>\n",
       "    <tr>\n",
       "      <th>50%</th>\n",
       "      <td>6.000000</td>\n",
       "      <td>5.000000</td>\n",
       "      <td>6.000000</td>\n",
       "      <td>6.000000</td>\n",
       "      <td>6.000000</td>\n",
       "      <td>5.000000</td>\n",
       "      <td>5.000000</td>\n",
       "      <td>6.000000</td>\n",
       "      <td>5.000000</td>\n",
       "      <td>6.000000</td>\n",
       "      <td>55.000000</td>\n",
       "      <td>91.666667</td>\n",
       "    </tr>\n",
       "    <tr>\n",
       "      <th>75%</th>\n",
       "      <td>6.000000</td>\n",
       "      <td>6.000000</td>\n",
       "      <td>6.000000</td>\n",
       "      <td>6.000000</td>\n",
       "      <td>6.000000</td>\n",
       "      <td>6.000000</td>\n",
       "      <td>6.000000</td>\n",
       "      <td>6.000000</td>\n",
       "      <td>6.000000</td>\n",
       "      <td>6.000000</td>\n",
       "      <td>58.500000</td>\n",
       "      <td>97.500000</td>\n",
       "    </tr>\n",
       "    <tr>\n",
       "      <th>max</th>\n",
       "      <td>6.000000</td>\n",
       "      <td>6.000000</td>\n",
       "      <td>6.000000</td>\n",
       "      <td>6.000000</td>\n",
       "      <td>6.000000</td>\n",
       "      <td>6.000000</td>\n",
       "      <td>6.000000</td>\n",
       "      <td>6.000000</td>\n",
       "      <td>6.000000</td>\n",
       "      <td>6.000000</td>\n",
       "      <td>60.000000</td>\n",
       "      <td>100.000000</td>\n",
       "    </tr>\n",
       "  </tbody>\n",
       "</table>\n",
       "</div>"
      ],
      "text/plain": [
       "            SUS1       SUS2       SUS3       SUS4       SUS5       SUS6  \\\n",
       "count  27.000000  27.000000  27.000000  27.000000  27.000000  27.000000   \n",
       "mean    5.296296   5.370370   5.444444   5.555556   5.592593   5.185185   \n",
       "std     0.992852   0.687702   0.800641   0.577350   0.693889   1.301982   \n",
       "min     2.000000   3.000000   3.000000   4.000000   3.000000   1.000000   \n",
       "25%     5.000000   5.000000   5.000000   5.000000   5.000000   5.000000   \n",
       "50%     6.000000   5.000000   6.000000   6.000000   6.000000   5.000000   \n",
       "75%     6.000000   6.000000   6.000000   6.000000   6.000000   6.000000   \n",
       "max     6.000000   6.000000   6.000000   6.000000   6.000000   6.000000   \n",
       "\n",
       "            SUS7       SUS8       SUS9      SUS10      Score   Score 100  \n",
       "count  27.000000  27.000000  27.000000  27.000000  27.000000   27.000000  \n",
       "mean    5.222222   5.666667   5.148148   5.444444  53.925926   89.876543  \n",
       "std     0.891556   0.480384   0.769800   0.847319   5.075779    8.459632  \n",
       "min     3.000000   5.000000   4.000000   2.000000  44.000000   73.333333  \n",
       "25%     5.000000   5.000000   5.000000   5.000000  50.000000   83.333333  \n",
       "50%     5.000000   6.000000   5.000000   6.000000  55.000000   91.666667  \n",
       "75%     6.000000   6.000000   6.000000   6.000000  58.500000   97.500000  \n",
       "max     6.000000   6.000000   6.000000   6.000000  60.000000  100.000000  "
      ]
     },
     "execution_count": 19,
     "metadata": {},
     "output_type": "execute_result"
    }
   ],
   "source": [
    "data_sus_multi_device.describe()\n",
    "#print_stats(data_sus_multi_device)"
   ]
  },
  {
   "cell_type": "markdown",
   "id": "metric-province",
   "metadata": {},
   "source": [
    "#### Confidence Interval"
   ]
  },
  {
   "cell_type": "code",
   "execution_count": 20,
   "id": "framed-wrapping",
   "metadata": {},
   "outputs": [
    {
     "data": {
      "text/plain": [
       "(86.53002435903976, 93.22306206071339)"
      ]
     },
     "execution_count": 20,
     "metadata": {},
     "output_type": "execute_result"
    }
   ],
   "source": [
    "confidence_interval_t(data_sus_multi_device['Score 100'])"
   ]
  },
  {
   "cell_type": "markdown",
   "id": "insured-shirt",
   "metadata": {},
   "source": [
    "#### Per-question Stats"
   ]
  },
  {
   "cell_type": "code",
   "execution_count": 21,
   "id": "bound-basic",
   "metadata": {},
   "outputs": [],
   "source": [
    "##Uncomment if you need these stats\n",
    "#for column in data_sus_multi_device:\n",
    "    #print_stats(data_sus_multi_device[column])"
   ]
  },
  {
   "cell_type": "markdown",
   "id": "settled-virgin",
   "metadata": {},
   "source": [
    "## SUS Single Device vs. SUS Multi-Device"
   ]
  },
  {
   "cell_type": "markdown",
   "id": "raising-daisy",
   "metadata": {},
   "source": [
    "### Dependent t-test for paired samples"
   ]
  },
  {
   "cell_type": "code",
   "execution_count": 22,
   "id": "median-female",
   "metadata": {},
   "outputs": [
    {
     "data": {
      "text/plain": [
       "Ttest_relResult(statistic=3.2302166491992086, pvalue=0.003342407697663785)"
      ]
     },
     "execution_count": 22,
     "metadata": {},
     "output_type": "execute_result"
    }
   ],
   "source": [
    "stats.ttest_rel(data_sus_multi_device['Score 100'], data_sus_single_device['Score 100'])"
   ]
  },
  {
   "cell_type": "markdown",
   "id": "disabled-aquarium",
   "metadata": {},
   "source": [
    "### Single Device vs. SUS Multi-Device"
   ]
  },
  {
   "cell_type": "markdown",
   "id": "transsexual-lighting",
   "metadata": {},
   "source": [
    "#### Questions (Portuguese)\n",
    "1. Em que modo de utilização foi mais fácil manipular as colecções de notas na aplicação (por exemplo, seleccioná-las, adicioná-las, partilhá-las, renomeá-las ou removê-las).\n",
    "2. Em que modo de utilização foi mais fácil gerir as notas na aplicação (por exemplo, seleccioná-las, visualizá-las, adicioná-las, renomeá-las ou removê-las).\n",
    "3. Em que modo de utilização foi mais fácil colaborar e mostrar notas aos outros participantes?\n",
    "4. Indique o grau de preferência entre os dois modos de interacção do JuxtBoard caso esteja a utilizar a aplicação para realizar uma tarefa sozinho.\n",
    "5. Indique o grau de preferência entre os dois modos de interacção do JuxtBoard caso se encontre numa situação em que esteja a utilizar a aplicação e haja necessidade de colaborar com outros utilizadores."
   ]
  },
  {
   "cell_type": "code",
   "execution_count": 23,
   "id": "worthy-investing",
   "metadata": {},
   "outputs": [],
   "source": [
    "data_sd_md = data['SD vs. MD'].copy().dropna()\n",
    "data_sd_md.iloc[:,0:5] = data_sd_md.iloc[:,0:5] - 4\n",
    "#data_sd_md"
   ]
  },
  {
   "cell_type": "code",
   "execution_count": 24,
   "id": "associate-license",
   "metadata": {},
   "outputs": [
    {
     "name": "stdout",
     "output_type": "stream",
     "text": [
      "--- Statistics ----\n"
     ]
    },
    {
     "data": {
      "text/html": [
       "<div>\n",
       "<style scoped>\n",
       "    .dataframe tbody tr th:only-of-type {\n",
       "        vertical-align: middle;\n",
       "    }\n",
       "\n",
       "    .dataframe tbody tr th {\n",
       "        vertical-align: top;\n",
       "    }\n",
       "\n",
       "    .dataframe thead th {\n",
       "        text-align: right;\n",
       "    }\n",
       "</style>\n",
       "<table border=\"1\" class=\"dataframe\">\n",
       "  <thead>\n",
       "    <tr style=\"text-align: right;\">\n",
       "      <th></th>\n",
       "      <th>SDMD1</th>\n",
       "      <th>SDMD2</th>\n",
       "      <th>SDMD3</th>\n",
       "      <th>SDMD4</th>\n",
       "      <th>SDMD5</th>\n",
       "    </tr>\n",
       "  </thead>\n",
       "  <tbody>\n",
       "    <tr>\n",
       "      <th>count</th>\n",
       "      <td>27.000000</td>\n",
       "      <td>27.000000</td>\n",
       "      <td>27.000000</td>\n",
       "      <td>27.000000</td>\n",
       "      <td>27.000000</td>\n",
       "    </tr>\n",
       "    <tr>\n",
       "      <th>mean</th>\n",
       "      <td>0.518519</td>\n",
       "      <td>0.629630</td>\n",
       "      <td>2.444444</td>\n",
       "      <td>-0.740741</td>\n",
       "      <td>2.518519</td>\n",
       "    </tr>\n",
       "    <tr>\n",
       "      <th>std</th>\n",
       "      <td>1.014145</td>\n",
       "      <td>1.148516</td>\n",
       "      <td>1.012739</td>\n",
       "      <td>2.176670</td>\n",
       "      <td>1.014145</td>\n",
       "    </tr>\n",
       "    <tr>\n",
       "      <th>min</th>\n",
       "      <td>-2.000000</td>\n",
       "      <td>-2.000000</td>\n",
       "      <td>-1.000000</td>\n",
       "      <td>-3.000000</td>\n",
       "      <td>-1.000000</td>\n",
       "    </tr>\n",
       "    <tr>\n",
       "      <th>25%</th>\n",
       "      <td>0.000000</td>\n",
       "      <td>0.000000</td>\n",
       "      <td>2.000000</td>\n",
       "      <td>-2.000000</td>\n",
       "      <td>2.500000</td>\n",
       "    </tr>\n",
       "    <tr>\n",
       "      <th>50%</th>\n",
       "      <td>0.000000</td>\n",
       "      <td>0.000000</td>\n",
       "      <td>3.000000</td>\n",
       "      <td>-2.000000</td>\n",
       "      <td>3.000000</td>\n",
       "    </tr>\n",
       "    <tr>\n",
       "      <th>75%</th>\n",
       "      <td>1.000000</td>\n",
       "      <td>1.500000</td>\n",
       "      <td>3.000000</td>\n",
       "      <td>0.500000</td>\n",
       "      <td>3.000000</td>\n",
       "    </tr>\n",
       "    <tr>\n",
       "      <th>max</th>\n",
       "      <td>3.000000</td>\n",
       "      <td>3.000000</td>\n",
       "      <td>3.000000</td>\n",
       "      <td>3.000000</td>\n",
       "      <td>3.000000</td>\n",
       "    </tr>\n",
       "  </tbody>\n",
       "</table>\n",
       "</div>"
      ],
      "text/plain": [
       "           SDMD1      SDMD2      SDMD3      SDMD4      SDMD5\n",
       "count  27.000000  27.000000  27.000000  27.000000  27.000000\n",
       "mean    0.518519   0.629630   2.444444  -0.740741   2.518519\n",
       "std     1.014145   1.148516   1.012739   2.176670   1.014145\n",
       "min    -2.000000  -2.000000  -1.000000  -3.000000  -1.000000\n",
       "25%     0.000000   0.000000   2.000000  -2.000000   2.500000\n",
       "50%     0.000000   0.000000   3.000000  -2.000000   3.000000\n",
       "75%     1.000000   1.500000   3.000000   0.500000   3.000000\n",
       "max     3.000000   3.000000   3.000000   3.000000   3.000000"
      ]
     },
     "metadata": {},
     "output_type": "display_data"
    },
    {
     "name": "stdout",
     "output_type": "stream",
     "text": [
      "\n",
      "\n",
      "--- Counting Unique Values ----\n"
     ]
    },
    {
     "data": {
      "text/plain": [
       "SDMD1  SDMD2  SDMD3  SDMD4  SDMD5\n",
       " 0      0      3     -3      3       3\n",
       "        2      3     -3      3       2\n",
       " 2      0      3      0      3       2\n",
       " 0      3      3     -2      3       1\n",
       " 2      2      2      3      3       1\n",
       "        0      3     -2      3       1\n",
       " 1      2      3      3      3       1\n",
       "                     -2      3       1\n",
       "        1      2     -2      2       1\n",
       "        0      3      3      3       1\n",
       "               0     -1      0       1\n",
       " 0      3      3      3      3       1\n",
       "-2     -2      2      1      1       1\n",
       " 0      0      1     -2      2       1\n",
       "        1     -1      0     -1       1\n",
       "        0      3      3      3       1\n",
       "                      0      3       1\n",
       "                     -2      3       1\n",
       "                     -3      2       1\n",
       "               2      1      3       1\n",
       "                     -2      3       1\n",
       "                             2       1\n",
       " 3      1      3     -2      3       1\n",
       "dtype: int64"
      ]
     },
     "metadata": {},
     "output_type": "display_data"
    },
    {
     "name": "stdout",
     "output_type": "stream",
     "text": [
      "\n",
      "\n",
      "--- Basic Histogram ----\n"
     ]
    },
    {
     "data": {
      "image/png": "[encoded data removed]",
      "text/plain": [
       "<Figure size 720x576 with 6 Axes>"
      ]
     },
     "metadata": {
      "needs_background": "light"
     },
     "output_type": "display_data"
    }
   ],
   "source": [
    "print_stats(data_sd_md, hist_size=(10,8))"
   ]
  },
  {
   "cell_type": "markdown",
   "id": "afraid-shaft",
   "metadata": {},
   "source": [
    "#### Confidence Intervals"
   ]
  },
  {
   "cell_type": "code",
   "execution_count": 25,
   "id": "cutting-truth",
   "metadata": {},
   "outputs": [
    {
     "name": "stdout",
     "output_type": "stream",
     "text": [
      "SDMD1 Median: 0.0 Mean: 0.5185185185185185 Standard Deviation: 1.0141449740988853 Confidence Interval: (0.11733612821709671, 0.9197009088199403)\n",
      "SDMD2 Median: 0.0 Mean: 0.6296296296296297 Standard Deviation: 1.1485157025867427 Confidence Interval: (0.1752919494849574, 1.083967309774302)\n",
      "SDMD3 Median: 3.0 Mean: 2.4444444444444446 Standard Deviation: 1.012739367083667 Confidence Interval: (2.043818093759243, 2.8450707951296463)\n",
      "SDMD4 Median: -2.0 Mean: -0.7407407407407407 Standard Deviation: 2.1766698734286143 Confidence Interval: (-1.6018026648459212, 0.12032118336443987)\n",
      "SDMD5 Median: 3.0 Mean: 2.5185185185185186 Standard Deviation: 1.014144974098885 Confidence Interval: (2.117336128217097, 2.9197009088199404)\n"
     ]
    }
   ],
   "source": [
    "for question in data_sd_md:\n",
    "    print(question, \n",
    "          'Median:', data_sd_md[question].median(), \n",
    "          'Mean:', data_sd_md[question].mean(),\n",
    "          'Standard Deviation:', data_sd_md[question].std(),\n",
    "          'Confidence Interval:', confidence_interval_t(data_sd_md[question]))"
   ]
  },
  {
   "cell_type": "markdown",
   "id": "departmental-velvet",
   "metadata": {},
   "source": [
    "### Response Frequency"
   ]
  },
  {
   "cell_type": "code",
   "execution_count": 26,
   "id": "exclusive-wings",
   "metadata": {},
   "outputs": [
    {
     "data": {
      "text/html": [
       "<div>\n",
       "<style scoped>\n",
       "    .dataframe tbody tr th:only-of-type {\n",
       "        vertical-align: middle;\n",
       "    }\n",
       "\n",
       "    .dataframe tbody tr th {\n",
       "        vertical-align: top;\n",
       "    }\n",
       "\n",
       "    .dataframe thead th {\n",
       "        text-align: right;\n",
       "    }\n",
       "</style>\n",
       "<table border=\"1\" class=\"dataframe\">\n",
       "  <thead>\n",
       "    <tr style=\"text-align: right;\">\n",
       "      <th></th>\n",
       "      <th>-3</th>\n",
       "      <th>-2</th>\n",
       "      <th>-1</th>\n",
       "      <th>0</th>\n",
       "      <th>1</th>\n",
       "      <th>2</th>\n",
       "      <th>3</th>\n",
       "    </tr>\n",
       "  </thead>\n",
       "  <tbody>\n",
       "    <tr>\n",
       "      <th>SDMD1</th>\n",
       "      <td>0.000000</td>\n",
       "      <td>3.703704</td>\n",
       "      <td>0.000000</td>\n",
       "      <td>59.259259</td>\n",
       "      <td>18.518519</td>\n",
       "      <td>14.814815</td>\n",
       "      <td>3.703704</td>\n",
       "    </tr>\n",
       "    <tr>\n",
       "      <th>SDMD2</th>\n",
       "      <td>0.000000</td>\n",
       "      <td>3.703704</td>\n",
       "      <td>0.000000</td>\n",
       "      <td>59.259259</td>\n",
       "      <td>11.111111</td>\n",
       "      <td>18.518519</td>\n",
       "      <td>7.407407</td>\n",
       "    </tr>\n",
       "    <tr>\n",
       "      <th>SDMD3</th>\n",
       "      <td>0.000000</td>\n",
       "      <td>0.000000</td>\n",
       "      <td>3.703704</td>\n",
       "      <td>3.703704</td>\n",
       "      <td>3.703704</td>\n",
       "      <td>22.222222</td>\n",
       "      <td>66.666667</td>\n",
       "    </tr>\n",
       "    <tr>\n",
       "      <th>SDMD4</th>\n",
       "      <td>22.222222</td>\n",
       "      <td>33.333333</td>\n",
       "      <td>3.703704</td>\n",
       "      <td>14.814815</td>\n",
       "      <td>7.407407</td>\n",
       "      <td>0.000000</td>\n",
       "      <td>18.518519</td>\n",
       "    </tr>\n",
       "    <tr>\n",
       "      <th>SDMD5</th>\n",
       "      <td>0.000000</td>\n",
       "      <td>0.000000</td>\n",
       "      <td>3.703704</td>\n",
       "      <td>3.703704</td>\n",
       "      <td>3.703704</td>\n",
       "      <td>14.814815</td>\n",
       "      <td>74.074074</td>\n",
       "    </tr>\n",
       "  </tbody>\n",
       "</table>\n",
       "</div>"
      ],
      "text/plain": [
       "              -3         -2        -1          0          1          2  \\\n",
       "SDMD1   0.000000   3.703704  0.000000  59.259259  18.518519  14.814815   \n",
       "SDMD2   0.000000   3.703704  0.000000  59.259259  11.111111  18.518519   \n",
       "SDMD3   0.000000   0.000000  3.703704   3.703704   3.703704  22.222222   \n",
       "SDMD4  22.222222  33.333333  3.703704  14.814815   7.407407   0.000000   \n",
       "SDMD5   0.000000   0.000000  3.703704   3.703704   3.703704  14.814815   \n",
       "\n",
       "               3  \n",
       "SDMD1   3.703704  \n",
       "SDMD2   7.407407  \n",
       "SDMD3  66.666667  \n",
       "SDMD4  18.518519  \n",
       "SDMD5  74.074074  "
      ]
     },
     "execution_count": 26,
     "metadata": {},
     "output_type": "execute_result"
    }
   ],
   "source": [
    "data_sd_md_freq = data['SD vs. MD'].copy().dropna()\n",
    "data_sd_md_freq.iloc[:,0:5] = data_sd_md_freq.iloc[:,0:5] - 4\n",
    "data_sd_md_freq_res = (data_sd_md_freq.apply(pd.value_counts).fillna(0)/data_sd_md_freq.count()*100).transpose()\n",
    "data_sd_md_freq_res"
   ]
  },
  {
   "cell_type": "code",
   "execution_count": 27,
   "id": "incorporated-monster",
   "metadata": {},
   "outputs": [
    {
     "data": {
      "text/html": [
       "<div>\n",
       "<style scoped>\n",
       "    .dataframe tbody tr th:only-of-type {\n",
       "        vertical-align: middle;\n",
       "    }\n",
       "\n",
       "    .dataframe tbody tr th {\n",
       "        vertical-align: top;\n",
       "    }\n",
       "\n",
       "    .dataframe thead th {\n",
       "        text-align: right;\n",
       "    }\n",
       "</style>\n",
       "<table border=\"1\" class=\"dataframe\">\n",
       "  <thead>\n",
       "    <tr style=\"text-align: right;\">\n",
       "      <th></th>\n",
       "      <th>SDMD1</th>\n",
       "      <th>SDMD2</th>\n",
       "      <th>SDMD3</th>\n",
       "      <th>SDMD4</th>\n",
       "      <th>SDMD5</th>\n",
       "    </tr>\n",
       "  </thead>\n",
       "  <tbody>\n",
       "    <tr>\n",
       "      <th>count</th>\n",
       "      <td>27.000000</td>\n",
       "      <td>27.000000</td>\n",
       "      <td>27.000000</td>\n",
       "      <td>27.000000</td>\n",
       "      <td>27.000000</td>\n",
       "    </tr>\n",
       "    <tr>\n",
       "      <th>mean</th>\n",
       "      <td>0.518519</td>\n",
       "      <td>0.629630</td>\n",
       "      <td>2.444444</td>\n",
       "      <td>-0.740741</td>\n",
       "      <td>2.518519</td>\n",
       "    </tr>\n",
       "    <tr>\n",
       "      <th>std</th>\n",
       "      <td>1.014145</td>\n",
       "      <td>1.148516</td>\n",
       "      <td>1.012739</td>\n",
       "      <td>2.176670</td>\n",
       "      <td>1.014145</td>\n",
       "    </tr>\n",
       "    <tr>\n",
       "      <th>min</th>\n",
       "      <td>-2.000000</td>\n",
       "      <td>-2.000000</td>\n",
       "      <td>-1.000000</td>\n",
       "      <td>-3.000000</td>\n",
       "      <td>-1.000000</td>\n",
       "    </tr>\n",
       "    <tr>\n",
       "      <th>25%</th>\n",
       "      <td>0.000000</td>\n",
       "      <td>0.000000</td>\n",
       "      <td>2.000000</td>\n",
       "      <td>-2.000000</td>\n",
       "      <td>2.500000</td>\n",
       "    </tr>\n",
       "    <tr>\n",
       "      <th>50%</th>\n",
       "      <td>0.000000</td>\n",
       "      <td>0.000000</td>\n",
       "      <td>3.000000</td>\n",
       "      <td>-2.000000</td>\n",
       "      <td>3.000000</td>\n",
       "    </tr>\n",
       "    <tr>\n",
       "      <th>75%</th>\n",
       "      <td>1.000000</td>\n",
       "      <td>1.500000</td>\n",
       "      <td>3.000000</td>\n",
       "      <td>0.500000</td>\n",
       "      <td>3.000000</td>\n",
       "    </tr>\n",
       "    <tr>\n",
       "      <th>max</th>\n",
       "      <td>3.000000</td>\n",
       "      <td>3.000000</td>\n",
       "      <td>3.000000</td>\n",
       "      <td>3.000000</td>\n",
       "      <td>3.000000</td>\n",
       "    </tr>\n",
       "  </tbody>\n",
       "</table>\n",
       "</div>"
      ],
      "text/plain": [
       "           SDMD1      SDMD2      SDMD3      SDMD4      SDMD5\n",
       "count  27.000000  27.000000  27.000000  27.000000  27.000000\n",
       "mean    0.518519   0.629630   2.444444  -0.740741   2.518519\n",
       "std     1.014145   1.148516   1.012739   2.176670   1.014145\n",
       "min    -2.000000  -2.000000  -1.000000  -3.000000  -1.000000\n",
       "25%     0.000000   0.000000   2.000000  -2.000000   2.500000\n",
       "50%     0.000000   0.000000   3.000000  -2.000000   3.000000\n",
       "75%     1.000000   1.500000   3.000000   0.500000   3.000000\n",
       "max     3.000000   3.000000   3.000000   3.000000   3.000000"
      ]
     },
     "execution_count": 27,
     "metadata": {},
     "output_type": "execute_result"
    }
   ],
   "source": [
    "data_sd_md_freq_res.to_csv('out/juxtboard-data_sd_md_freq_res.csv')\n",
    "data_sd_md_freq.describe()"
   ]
  },
  {
   "cell_type": "code",
   "execution_count": 28,
   "id": "elect-yemen",
   "metadata": {},
   "outputs": [
    {
     "data": {
      "image/png": "[encoded data removed]",
      "text/plain": [
       "<Figure size 432x288 with 1 Axes>"
      ]
     },
     "metadata": {
      "needs_background": "light"
     },
     "output_type": "display_data"
    }
   ],
   "source": [
    "data_sd_md_freq_res.iloc[::-1].plot.barh(stacked=True).legend(loc='center left',bbox_to_anchor=(1.0, 0.5))\n",
    "plt.show()"
   ]
  },
  {
   "cell_type": "code",
   "execution_count": 29,
   "id": "basic-first",
   "metadata": {},
   "outputs": [],
   "source": [
    "# Multi-Device Preference vs. Neutrality + Single Device Preference\n",
    "data_sd_md_md_pref = (data_sd_md > 0).sum()\n",
    "data_sd_md_neutral_or_sd_pre = (data_sd_md <= 0).sum()\n",
    "data_sd_md_md_pref_relative = data_sd_md_md_pref / (data_sd_md_md_pref + data_sd_md_neutral_or_sd_pre)\n",
    "\n",
    "# Single Device Preference vs. Neutrality + Multi-Device Preference\n",
    "data_sd_md_sd_pref = (data_sd_md < 0).sum()\n",
    "data_sd_md_neutral_or_md_pre = (data_sd_md <= 0).sum()\n",
    "data_sd_md_sd_pref_relative = data_sd_md_sd_pref / (data_sd_md_sd_pref + data_sd_md_neutral_or_md_pre)"
   ]
  },
  {
   "cell_type": "code",
   "execution_count": 30,
   "id": "turned-transsexual",
   "metadata": {},
   "outputs": [
    {
     "name": "stdout",
     "output_type": "stream",
     "text": [
      "Multi-Device Preference vs. Neutrality + Single Device Preference\n",
      "SDMD1 Relative Frequency: 0.37037037037037035 Confidence Interval: (0.215325129609656, 0.5577076558789762)\n",
      "SDMD2 Relative Frequency: 0.37037037037037035 Confidence Interval: (0.215325129609656, 0.5577076558789762)\n",
      "SDMD3 Relative Frequency: 0.9259259259259259 Confidence Interval: (0.7663040731697686, 0.9794453459390113)\n",
      "SDMD4 Relative Frequency: 0.25925925925925924 Confidence Interval: (0.1317037456190719, 0.4467857131455308)\n",
      "SDMD5 Relative Frequency: 0.9259259259259259 Confidence Interval: (0.7663040731697686, 0.9794453459390113)\n",
      "\n",
      "\n",
      "Single Device Preference vs. Neutrality + Multi-Device Preference\n",
      "SDMD1 Relative Frequency: 0.05555555555555555 Confidence Interval: (0.009875190978303083, 0.257573007818726)\n",
      "SDMD2 Relative Frequency: 0.05555555555555555 Confidence Interval: (0.009875190978303083, 0.257573007818726)\n",
      "SDMD3 Relative Frequency: 0.3333333333333333 Confidence Interval: (0.06149194472039626, 0.7923403991979523)\n",
      "SDMD4 Relative Frequency: 0.4444444444444444 Confidence Interval: (0.2954126874008022, 0.6041893824430271)\n",
      "SDMD5 Relative Frequency: 0.3333333333333333 Confidence Interval: (0.06149194472039626, 0.7923403991979523)\n"
     ]
    }
   ],
   "source": [
    "print('Multi-Device Preference vs. Neutrality + Single Device Preference')\n",
    "for question in data_sd_md:\n",
    "    print(question, \n",
    "          'Relative Frequency:',\n",
    "          data_sd_md_md_pref_relative[question], \n",
    "          'Confidence Interval:',\n",
    "          smp.proportion_confint(data_sd_md_md_pref[question], data_sd_md_md_pref[question]+data_sd_md_neutral_or_sd_pre[question], alpha=0.05, method='wilson'))\n",
    "\n",
    "print('\\n')\n",
    "\n",
    "print('Single Device Preference vs. Neutrality + Multi-Device Preference')\n",
    "for question in data_sd_md:\n",
    "    print(question,\n",
    "          'Relative Frequency:',\n",
    "          data_sd_md_sd_pref_relative[question],\n",
    "          'Confidence Interval:',\n",
    "          smp.proportion_confint(data_sd_md_sd_pref[question], data_sd_md_sd_pref[question]+data_sd_md_neutral_or_md_pre[question], alpha=0.05, method='wilson'))"
   ]
  },
  {
   "cell_type": "markdown",
   "id": "connected-institute",
   "metadata": {},
   "source": [
    "## General Use"
   ]
  },
  {
   "cell_type": "markdown",
   "id": "extreme-medication",
   "metadata": {},
   "source": [
    "#### Questions (Portuguese)\n",
    "0. Normalmente, eu utilizo dois ou mais dispositivos em simultâneo no meu quotidiano.\n",
    "1. O tempo que a aplicação demorou a reagir ao meu \"input\" foi adequado. \n",
    "2. A distância é uma boa medida do quão relacionados são dois dispositivos.\n",
    "3. O tempo que o sistema demorou a reagir às alterações nas posições dos dispositivos foi adequado.\n",
    "4. É fácil mudar a distribuição dos componentes da interface de acordo com as minhas necessidades.\n",
    "5. Eu considero que a distribuição automática dos componentes da interface foi adequada.\n"
   ]
  },
  {
   "cell_type": "code",
   "execution_count": 31,
   "id": "strategic-sacramento",
   "metadata": {},
   "outputs": [],
   "source": [
    "data_general_use = data['General Use'].copy().dropna()\n",
    "data_general_use['Score'] = data_general_use.iloc[:,0:5].sum(axis=1)\n",
    "data_general_use['Score 100'] = data_general_use['Score'] * (100/35)\n",
    "#data_general_use"
   ]
  },
  {
   "cell_type": "code",
   "execution_count": 32,
   "id": "spare-following",
   "metadata": {},
   "outputs": [
    {
     "name": "stdout",
     "output_type": "stream",
     "text": [
      "--- Statistics ----\n"
     ]
    },
    {
     "data": {
      "text/html": [
       "<div>\n",
       "<style scoped>\n",
       "    .dataframe tbody tr th:only-of-type {\n",
       "        vertical-align: middle;\n",
       "    }\n",
       "\n",
       "    .dataframe tbody tr th {\n",
       "        vertical-align: top;\n",
       "    }\n",
       "\n",
       "    .dataframe thead th {\n",
       "        text-align: right;\n",
       "    }\n",
       "</style>\n",
       "<table border=\"1\" class=\"dataframe\">\n",
       "  <thead>\n",
       "    <tr style=\"text-align: right;\">\n",
       "      <th></th>\n",
       "      <th>GU1</th>\n",
       "      <th>GU2</th>\n",
       "      <th>GU3</th>\n",
       "      <th>GU4</th>\n",
       "      <th>GU5</th>\n",
       "      <th>Score</th>\n",
       "      <th>Score 100</th>\n",
       "    </tr>\n",
       "  </thead>\n",
       "  <tbody>\n",
       "    <tr>\n",
       "      <th>count</th>\n",
       "      <td>27.000000</td>\n",
       "      <td>27.000000</td>\n",
       "      <td>27.000000</td>\n",
       "      <td>27.000000</td>\n",
       "      <td>27.000000</td>\n",
       "      <td>27.000000</td>\n",
       "      <td>27.000000</td>\n",
       "    </tr>\n",
       "    <tr>\n",
       "      <th>mean</th>\n",
       "      <td>6.444444</td>\n",
       "      <td>6.444444</td>\n",
       "      <td>6.370370</td>\n",
       "      <td>6.074074</td>\n",
       "      <td>6.259259</td>\n",
       "      <td>31.592593</td>\n",
       "      <td>90.264550</td>\n",
       "    </tr>\n",
       "    <tr>\n",
       "      <th>std</th>\n",
       "      <td>0.640513</td>\n",
       "      <td>0.640513</td>\n",
       "      <td>0.741524</td>\n",
       "      <td>1.035000</td>\n",
       "      <td>0.902671</td>\n",
       "      <td>3.201673</td>\n",
       "      <td>9.147638</td>\n",
       "    </tr>\n",
       "    <tr>\n",
       "      <th>min</th>\n",
       "      <td>5.000000</td>\n",
       "      <td>5.000000</td>\n",
       "      <td>4.000000</td>\n",
       "      <td>3.000000</td>\n",
       "      <td>4.000000</td>\n",
       "      <td>23.000000</td>\n",
       "      <td>65.714286</td>\n",
       "    </tr>\n",
       "    <tr>\n",
       "      <th>25%</th>\n",
       "      <td>6.000000</td>\n",
       "      <td>6.000000</td>\n",
       "      <td>6.000000</td>\n",
       "      <td>6.000000</td>\n",
       "      <td>6.000000</td>\n",
       "      <td>30.500000</td>\n",
       "      <td>87.142857</td>\n",
       "    </tr>\n",
       "    <tr>\n",
       "      <th>50%</th>\n",
       "      <td>7.000000</td>\n",
       "      <td>7.000000</td>\n",
       "      <td>6.000000</td>\n",
       "      <td>6.000000</td>\n",
       "      <td>6.000000</td>\n",
       "      <td>32.000000</td>\n",
       "      <td>91.428571</td>\n",
       "    </tr>\n",
       "    <tr>\n",
       "      <th>75%</th>\n",
       "      <td>7.000000</td>\n",
       "      <td>7.000000</td>\n",
       "      <td>7.000000</td>\n",
       "      <td>7.000000</td>\n",
       "      <td>7.000000</td>\n",
       "      <td>34.500000</td>\n",
       "      <td>98.571429</td>\n",
       "    </tr>\n",
       "    <tr>\n",
       "      <th>max</th>\n",
       "      <td>7.000000</td>\n",
       "      <td>7.000000</td>\n",
       "      <td>7.000000</td>\n",
       "      <td>7.000000</td>\n",
       "      <td>7.000000</td>\n",
       "      <td>35.000000</td>\n",
       "      <td>100.000000</td>\n",
       "    </tr>\n",
       "  </tbody>\n",
       "</table>\n",
       "</div>"
      ],
      "text/plain": [
       "             GU1        GU2        GU3        GU4        GU5      Score  \\\n",
       "count  27.000000  27.000000  27.000000  27.000000  27.000000  27.000000   \n",
       "mean    6.444444   6.444444   6.370370   6.074074   6.259259  31.592593   \n",
       "std     0.640513   0.640513   0.741524   1.035000   0.902671   3.201673   \n",
       "min     5.000000   5.000000   4.000000   3.000000   4.000000  23.000000   \n",
       "25%     6.000000   6.000000   6.000000   6.000000   6.000000  30.500000   \n",
       "50%     7.000000   7.000000   6.000000   6.000000   6.000000  32.000000   \n",
       "75%     7.000000   7.000000   7.000000   7.000000   7.000000  34.500000   \n",
       "max     7.000000   7.000000   7.000000   7.000000   7.000000  35.000000   \n",
       "\n",
       "        Score 100  \n",
       "count   27.000000  \n",
       "mean    90.264550  \n",
       "std      9.147638  \n",
       "min     65.714286  \n",
       "25%     87.142857  \n",
       "50%     91.428571  \n",
       "75%     98.571429  \n",
       "max    100.000000  "
      ]
     },
     "metadata": {},
     "output_type": "display_data"
    },
    {
     "name": "stdout",
     "output_type": "stream",
     "text": [
      "\n",
      "\n",
      "--- Counting Unique Values ----\n"
     ]
    },
    {
     "data": {
      "text/plain": [
       "GU1  GU2  GU3  GU4  GU5  Score  Score 100 \n",
       "7    7    7    7    7    35     100.000000    7\n",
       "6    7    6    6    6    31     88.571429     2\n",
       "7    6    6    6    6    31     88.571429     2\n",
       "6    7    6    7    7    33     94.285714     2\n",
       "     6    6    6    6    30     85.714286     2\n",
       "                    7    31     88.571429     1\n",
       "               7    7    32     91.428571     1\n",
       "          7    6    6    31     88.571429     1\n",
       "5    6    4    4    4    23     65.714286     1\n",
       "6    7    7    6    6    32     91.428571     1\n",
       "7    5    7    3    4    26     74.285714     1\n",
       "     6    6    5    6    30     85.714286     1\n",
       "6    6    6    5    5    28     80.000000     1\n",
       "7    6    7    7    6    33     94.285714     1\n",
       "     7    7    5    7    33     94.285714     1\n",
       "               6    7    34     97.142857     1\n",
       "5    5    5    5    5    25     71.428571     1\n",
       "dtype: int64"
      ]
     },
     "metadata": {},
     "output_type": "display_data"
    },
    {
     "name": "stdout",
     "output_type": "stream",
     "text": [
      "\n",
      "\n",
      "--- Basic Histogram ----\n"
     ]
    },
    {
     "data": {
      "image/png": "[encoded data removed]",
      "text/plain": [
       "<Figure size 720x576 with 9 Axes>"
      ]
     },
     "metadata": {
      "needs_background": "light"
     },
     "output_type": "display_data"
    }
   ],
   "source": [
    "print_stats(data_general_use, hist_size=(10,8))"
   ]
  },
  {
   "cell_type": "markdown",
   "id": "congressional-thumbnail",
   "metadata": {},
   "source": [
    "#### Confidence Intervals"
   ]
  },
  {
   "cell_type": "code",
   "execution_count": 33,
   "id": "normal-league",
   "metadata": {},
   "outputs": [
    {
     "name": "stdout",
     "output_type": "stream",
     "text": [
      "GU1 Median 7.0 Mean 6.444444444444445 Standard Deviation 0.6405126152203487 Confidence Interval (6.1910660926751255, 6.697822796213764)\n",
      "GU2 Median 7.0 Mean 6.444444444444445 Standard Deviation 0.6405126152203486 Confidence Interval (6.1910660926751255, 6.697822796213764)\n",
      "GU3 Median 6.0 Mean 6.37037037037037 Standard Deviation 0.7415238026237252 Confidence Interval (6.077033323695839, 6.663707417044901)\n",
      "GU4 Median 6.0 Mean 6.074074074074074 Standard Deviation 1.035000034408247 Confidence Interval (5.664641696681582, 6.483506451466567)\n",
      "GU5 Median 6.0 Mean 6.2592592592592595 Standard Deviation 0.9026709338484404 Confidence Interval (5.9021745306003135, 6.6163439879182055)\n",
      "Score Median 32.0 Mean 31.59259259259259 Standard Deviation 3.2016733516572624 Confidence Interval (30.326052797014032, 32.85913238817115)\n",
      "Score 100 Median 91.42857142857143 Mean 90.26455026455027 Standard Deviation 9.147638147592177 Confidence Interval (86.64586513432582, 93.88323539477472)\n"
     ]
    }
   ],
   "source": [
    "for column in data_general_use:\n",
    "    print(column,\n",
    "          'Median', data_general_use[column].median(),\n",
    "          'Mean', data_general_use[column].mean(),\n",
    "          'Standard Deviation',  data_general_use[column].std(), \n",
    "          'Confidence Interval', confidence_interval_t(data_general_use[column]))"
   ]
  },
  {
   "cell_type": "markdown",
   "id": "inappropriate-majority",
   "metadata": {},
   "source": [
    "### Response Frequency"
   ]
  },
  {
   "cell_type": "code",
   "execution_count": 34,
   "id": "twelve-supply",
   "metadata": {},
   "outputs": [
    {
     "data": {
      "text/html": [
       "<div>\n",
       "<style scoped>\n",
       "    .dataframe tbody tr th:only-of-type {\n",
       "        vertical-align: middle;\n",
       "    }\n",
       "\n",
       "    .dataframe tbody tr th {\n",
       "        vertical-align: top;\n",
       "    }\n",
       "\n",
       "    .dataframe thead th {\n",
       "        text-align: right;\n",
       "    }\n",
       "</style>\n",
       "<table border=\"1\" class=\"dataframe\">\n",
       "  <thead>\n",
       "    <tr style=\"text-align: right;\">\n",
       "      <th></th>\n",
       "      <th>2</th>\n",
       "      <th>3</th>\n",
       "      <th>4</th>\n",
       "      <th>5</th>\n",
       "      <th>6</th>\n",
       "      <th>7</th>\n",
       "    </tr>\n",
       "  </thead>\n",
       "  <tbody>\n",
       "    <tr>\n",
       "      <th>GU0</th>\n",
       "      <td>3.703704</td>\n",
       "      <td>3.703704</td>\n",
       "      <td>0.000000</td>\n",
       "      <td>22.222222</td>\n",
       "      <td>18.518519</td>\n",
       "      <td>51.851852</td>\n",
       "    </tr>\n",
       "    <tr>\n",
       "      <th>GU1</th>\n",
       "      <td>0.000000</td>\n",
       "      <td>0.000000</td>\n",
       "      <td>0.000000</td>\n",
       "      <td>7.407407</td>\n",
       "      <td>40.740741</td>\n",
       "      <td>51.851852</td>\n",
       "    </tr>\n",
       "    <tr>\n",
       "      <th>GU2</th>\n",
       "      <td>0.000000</td>\n",
       "      <td>0.000000</td>\n",
       "      <td>0.000000</td>\n",
       "      <td>7.407407</td>\n",
       "      <td>40.740741</td>\n",
       "      <td>51.851852</td>\n",
       "    </tr>\n",
       "    <tr>\n",
       "      <th>GU3</th>\n",
       "      <td>0.000000</td>\n",
       "      <td>0.000000</td>\n",
       "      <td>3.703704</td>\n",
       "      <td>3.703704</td>\n",
       "      <td>44.444444</td>\n",
       "      <td>48.148148</td>\n",
       "    </tr>\n",
       "    <tr>\n",
       "      <th>GU4</th>\n",
       "      <td>0.000000</td>\n",
       "      <td>3.703704</td>\n",
       "      <td>3.703704</td>\n",
       "      <td>14.814815</td>\n",
       "      <td>37.037037</td>\n",
       "      <td>40.740741</td>\n",
       "    </tr>\n",
       "    <tr>\n",
       "      <th>GU5</th>\n",
       "      <td>0.000000</td>\n",
       "      <td>0.000000</td>\n",
       "      <td>7.407407</td>\n",
       "      <td>7.407407</td>\n",
       "      <td>37.037037</td>\n",
       "      <td>48.148148</td>\n",
       "    </tr>\n",
       "  </tbody>\n",
       "</table>\n",
       "</div>"
      ],
      "text/plain": [
       "            2         3         4          5          6          7\n",
       "GU0  3.703704  3.703704  0.000000  22.222222  18.518519  51.851852\n",
       "GU1  0.000000  0.000000  0.000000   7.407407  40.740741  51.851852\n",
       "GU2  0.000000  0.000000  0.000000   7.407407  40.740741  51.851852\n",
       "GU3  0.000000  0.000000  3.703704   3.703704  44.444444  48.148148\n",
       "GU4  0.000000  3.703704  3.703704  14.814815  37.037037  40.740741\n",
       "GU5  0.000000  0.000000  7.407407   7.407407  37.037037  48.148148"
      ]
     },
     "execution_count": 34,
     "metadata": {},
     "output_type": "execute_result"
    }
   ],
   "source": [
    "data_general_use_freq = pd.concat([data_basic['Usage of Multiple-Devices'], data['General Use']], axis=1)\n",
    "data_general_use_freq = data_general_use_freq.rename(columns={\"Usage of Multiple-Devices\": \"GU0\"})\n",
    "data_general_use_freq_res = (data_general_use_freq.apply(pd.value_counts).fillna(0)/data_general_use_freq.count()*100).transpose()\n",
    "data_general_use_freq_res"
   ]
  },
  {
   "cell_type": "code",
   "execution_count": 35,
   "id": "charming-business",
   "metadata": {},
   "outputs": [
    {
     "data": {
      "text/html": [
       "<div>\n",
       "<style scoped>\n",
       "    .dataframe tbody tr th:only-of-type {\n",
       "        vertical-align: middle;\n",
       "    }\n",
       "\n",
       "    .dataframe tbody tr th {\n",
       "        vertical-align: top;\n",
       "    }\n",
       "\n",
       "    .dataframe thead th {\n",
       "        text-align: right;\n",
       "    }\n",
       "</style>\n",
       "<table border=\"1\" class=\"dataframe\">\n",
       "  <thead>\n",
       "    <tr style=\"text-align: right;\">\n",
       "      <th></th>\n",
       "      <th>GU0</th>\n",
       "      <th>GU1</th>\n",
       "      <th>GU2</th>\n",
       "      <th>GU3</th>\n",
       "      <th>GU4</th>\n",
       "      <th>GU5</th>\n",
       "    </tr>\n",
       "  </thead>\n",
       "  <tbody>\n",
       "    <tr>\n",
       "      <th>count</th>\n",
       "      <td>27.000000</td>\n",
       "      <td>27.000000</td>\n",
       "      <td>27.000000</td>\n",
       "      <td>27.000000</td>\n",
       "      <td>27.000000</td>\n",
       "      <td>27.000000</td>\n",
       "    </tr>\n",
       "    <tr>\n",
       "      <th>mean</th>\n",
       "      <td>6.037037</td>\n",
       "      <td>6.444444</td>\n",
       "      <td>6.444444</td>\n",
       "      <td>6.370370</td>\n",
       "      <td>6.074074</td>\n",
       "      <td>6.259259</td>\n",
       "    </tr>\n",
       "    <tr>\n",
       "      <th>std</th>\n",
       "      <td>1.315046</td>\n",
       "      <td>0.640513</td>\n",
       "      <td>0.640513</td>\n",
       "      <td>0.741524</td>\n",
       "      <td>1.035000</td>\n",
       "      <td>0.902671</td>\n",
       "    </tr>\n",
       "    <tr>\n",
       "      <th>min</th>\n",
       "      <td>2.000000</td>\n",
       "      <td>5.000000</td>\n",
       "      <td>5.000000</td>\n",
       "      <td>4.000000</td>\n",
       "      <td>3.000000</td>\n",
       "      <td>4.000000</td>\n",
       "    </tr>\n",
       "    <tr>\n",
       "      <th>25%</th>\n",
       "      <td>5.000000</td>\n",
       "      <td>6.000000</td>\n",
       "      <td>6.000000</td>\n",
       "      <td>6.000000</td>\n",
       "      <td>6.000000</td>\n",
       "      <td>6.000000</td>\n",
       "    </tr>\n",
       "    <tr>\n",
       "      <th>50%</th>\n",
       "      <td>7.000000</td>\n",
       "      <td>7.000000</td>\n",
       "      <td>7.000000</td>\n",
       "      <td>6.000000</td>\n",
       "      <td>6.000000</td>\n",
       "      <td>6.000000</td>\n",
       "    </tr>\n",
       "    <tr>\n",
       "      <th>75%</th>\n",
       "      <td>7.000000</td>\n",
       "      <td>7.000000</td>\n",
       "      <td>7.000000</td>\n",
       "      <td>7.000000</td>\n",
       "      <td>7.000000</td>\n",
       "      <td>7.000000</td>\n",
       "    </tr>\n",
       "    <tr>\n",
       "      <th>max</th>\n",
       "      <td>7.000000</td>\n",
       "      <td>7.000000</td>\n",
       "      <td>7.000000</td>\n",
       "      <td>7.000000</td>\n",
       "      <td>7.000000</td>\n",
       "      <td>7.000000</td>\n",
       "    </tr>\n",
       "  </tbody>\n",
       "</table>\n",
       "</div>"
      ],
      "text/plain": [
       "             GU0        GU1        GU2        GU3        GU4        GU5\n",
       "count  27.000000  27.000000  27.000000  27.000000  27.000000  27.000000\n",
       "mean    6.037037   6.444444   6.444444   6.370370   6.074074   6.259259\n",
       "std     1.315046   0.640513   0.640513   0.741524   1.035000   0.902671\n",
       "min     2.000000   5.000000   5.000000   4.000000   3.000000   4.000000\n",
       "25%     5.000000   6.000000   6.000000   6.000000   6.000000   6.000000\n",
       "50%     7.000000   7.000000   7.000000   6.000000   6.000000   6.000000\n",
       "75%     7.000000   7.000000   7.000000   7.000000   7.000000   7.000000\n",
       "max     7.000000   7.000000   7.000000   7.000000   7.000000   7.000000"
      ]
     },
     "execution_count": 35,
     "metadata": {},
     "output_type": "execute_result"
    }
   ],
   "source": [
    "data_general_use_freq.to_csv('out/juxtboard-data_general_use_freq.csv')\n",
    "data_general_use_freq.describe()"
   ]
  },
  {
   "cell_type": "code",
   "execution_count": 36,
   "id": "lined-mathematics",
   "metadata": {},
   "outputs": [
    {
     "data": {
      "image/png": "[encoded data removed]",
      "text/plain": [
       "<Figure size 432x288 with 1 Axes>"
      ]
     },
     "metadata": {
      "needs_background": "light"
     },
     "output_type": "display_data"
    }
   ],
   "source": [
    "data_general_use_freq_res.iloc[::-1].plot.barh(stacked=True).legend(loc='center left',bbox_to_anchor=(1.0, 0.5))\n",
    "plt.show()"
   ]
  },
  {
   "cell_type": "markdown",
   "id": "adjusted-server",
   "metadata": {},
   "source": [
    "# Yanux Calculator"
   ]
  },
  {
   "cell_type": "markdown",
   "id": "social-tragedy",
   "metadata": {},
   "source": [
    "## Load Excel"
   ]
  },
  {
   "cell_type": "code",
   "execution_count": 37,
   "id": "terminal-comedy",
   "metadata": {},
   "outputs": [],
   "source": [
    "data_yxc = pd.read_excel('data/juxtboard/yanux-calculator-questionnaire-responses.xlsx', sheet_name=None)  "
   ]
  },
  {
   "cell_type": "code",
   "execution_count": 38,
   "id": "assigned-personality",
   "metadata": {},
   "outputs": [],
   "source": [
    "data_yxc_basic = data['Basic']\n",
    "#display(data_yxc_basic)"
   ]
  },
  {
   "cell_type": "markdown",
   "id": "uniform-artist",
   "metadata": {},
   "source": [
    "### Age"
   ]
  },
  {
   "cell_type": "code",
   "execution_count": 39,
   "id": "civic-answer",
   "metadata": {},
   "outputs": [
    {
     "name": "stdout",
     "output_type": "stream",
     "text": [
      "--- Statistics ----\n"
     ]
    },
    {
     "data": {
      "text/plain": [
       "count    27.000000\n",
       "mean     23.481481\n",
       "std       9.795487\n",
       "min      19.000000\n",
       "25%      19.500000\n",
       "50%      20.000000\n",
       "75%      22.000000\n",
       "max      60.000000\n",
       "Name: Age, dtype: float64"
      ]
     },
     "metadata": {},
     "output_type": "display_data"
    },
    {
     "name": "stdout",
     "output_type": "stream",
     "text": [
      "\n",
      "\n",
      "--- Counting Unique Values ----\n"
     ]
    },
    {
     "data": {
      "text/plain": [
       "20    11\n",
       "19     7\n",
       "22     3\n",
       "34     1\n",
       "51     1\n",
       "21     1\n",
       "23     1\n",
       "26     1\n",
       "60     1\n",
       "Name: Age, dtype: int64"
      ]
     },
     "metadata": {},
     "output_type": "display_data"
    },
    {
     "name": "stdout",
     "output_type": "stream",
     "text": [
      "\n",
      "\n",
      "--- Basic Histogram ----\n"
     ]
    },
    {
     "data": {
      "image/png": "[encoded data removed]",
      "text/plain": [
       "<Figure size 576x288 with 1 Axes>"
      ]
     },
     "metadata": {
      "needs_background": "light"
     },
     "output_type": "display_data"
    },
    {
     "name": "stdout",
     "output_type": "stream",
     "text": [
      "Population Standard Deviation:\n",
      "9.612377708591147\n"
     ]
    }
   ],
   "source": [
    "data_yxc_basic_age = data_yxc_basic['Age']\n",
    "print_stats(data_yxc_basic_age, hist_bins=20)\n",
    "print('Population Standard Deviation:')\n",
    "print(data_yxc_basic_age.std(ddof=0))"
   ]
  },
  {
   "cell_type": "markdown",
   "id": "stone-james",
   "metadata": {},
   "source": [
    "### Genre"
   ]
  },
  {
   "cell_type": "code",
   "execution_count": 40,
   "id": "monetary-jerusalem",
   "metadata": {},
   "outputs": [
    {
     "name": "stdout",
     "output_type": "stream",
     "text": [
      "--- Statistics ----\n"
     ]
    },
    {
     "data": {
      "text/plain": [
       "count       27\n",
       "unique       2\n",
       "top       Male\n",
       "freq        23\n",
       "Name: Genre, dtype: object"
      ]
     },
     "metadata": {},
     "output_type": "display_data"
    },
    {
     "name": "stdout",
     "output_type": "stream",
     "text": [
      "\n",
      "\n",
      "--- Counting Unique Values ----\n"
     ]
    },
    {
     "data": {
      "text/plain": [
       "Male      23\n",
       "Female     4\n",
       "Name: Genre, dtype: int64"
      ]
     },
     "metadata": {},
     "output_type": "display_data"
    },
    {
     "name": "stdout",
     "output_type": "stream",
     "text": [
      "\n",
      "\n",
      "--- Basic Histogram ----\n"
     ]
    },
    {
     "data": {
      "image/png": "[encoded data removed]",
      "text/plain": [
       "<Figure size 576x288 with 1 Axes>"
      ]
     },
     "metadata": {
      "needs_background": "light"
     },
     "output_type": "display_data"
    }
   ],
   "source": [
    "data_yxc_basic_genre = data_yxc_basic['Genre']\n",
    "print_stats(data_yxc_basic_genre)"
   ]
  },
  {
   "cell_type": "markdown",
   "id": "innocent-functionality",
   "metadata": {},
   "source": [
    "### Education"
   ]
  },
  {
   "cell_type": "code",
   "execution_count": 41,
   "id": "respected-token",
   "metadata": {},
   "outputs": [
    {
     "name": "stdout",
     "output_type": "stream",
     "text": [
      "--- Statistics ----\n"
     ]
    },
    {
     "data": {
      "text/plain": [
       "count                      27\n",
       "unique                      4\n",
       "top       Secondary Education\n",
       "freq                       19\n",
       "Name: Education, dtype: object"
      ]
     },
     "metadata": {},
     "output_type": "display_data"
    },
    {
     "name": "stdout",
     "output_type": "stream",
     "text": [
      "\n",
      "\n",
      "--- Counting Unique Values ----\n"
     ]
    },
    {
     "data": {
      "text/plain": [
       "Secondary Education         19\n",
       "Post-Secondary Education     5\n",
       "Bachelor's Degree            2\n",
       "Master's Degree              1\n",
       "Name: Education, dtype: int64"
      ]
     },
     "metadata": {},
     "output_type": "display_data"
    },
    {
     "name": "stdout",
     "output_type": "stream",
     "text": [
      "\n",
      "\n",
      "--- Basic Histogram ----\n"
     ]
    },
    {
     "data": {
      "image/png": "[encoded data removed]",
      "text/plain": [
       "<Figure size 576x288 with 1 Axes>"
      ]
     },
     "metadata": {
      "needs_background": "light"
     },
     "output_type": "display_data"
    }
   ],
   "source": [
    "data_yxc_basic_education = data_yxc_basic['Education']\n",
    "print_stats(data_yxc_basic_education)"
   ]
  },
  {
   "cell_type": "markdown",
   "id": "hollow-chorus",
   "metadata": {},
   "source": [
    "### Type of Devices"
   ]
  },
  {
   "cell_type": "code",
   "execution_count": 42,
   "id": "broke-european",
   "metadata": {},
   "outputs": [
    {
     "name": "stdout",
     "output_type": "stream",
     "text": [
      "--- Statistics ----\n"
     ]
    },
    {
     "data": {
      "text/plain": [
       "count                                          27\n",
       "unique                                         15\n",
       "top       [Desktop, Laptop, Smartphone, Smart TV]\n",
       "freq                                            5\n",
       "Name: Type of Devices, dtype: object"
      ]
     },
     "metadata": {},
     "output_type": "display_data"
    }
   ],
   "source": [
    "data_yxc_basic_type_of_devices = data_yxc_basic['Type of Devices'].map(lambda x: [i.strip() for i in x.split(\",\")])\n",
    "print('--- Statistics ----')\n",
    "display(data_yxc_basic_type_of_devices.describe())\n",
    "#print('--- Basic Histogram ----')\n",
    "#data_yxc_basic_type_of_devices.hist()"
   ]
  },
  {
   "cell_type": "code",
   "execution_count": 43,
   "id": "polish-ghana",
   "metadata": {},
   "outputs": [
    {
     "name": "stdout",
     "output_type": "stream",
     "text": [
      "--- Statistics ----\n"
     ]
    },
    {
     "data": {
      "text/plain": [
       "count    27.000000\n",
       "mean      3.666667\n",
       "std       1.176697\n",
       "min       2.000000\n",
       "25%       3.000000\n",
       "50%       4.000000\n",
       "75%       4.000000\n",
       "max       7.000000\n",
       "Name: Type of Devices, dtype: float64"
      ]
     },
     "metadata": {},
     "output_type": "display_data"
    },
    {
     "name": "stdout",
     "output_type": "stream",
     "text": [
      "\n",
      "\n",
      "--- Counting Unique Values ----\n"
     ]
    },
    {
     "data": {
      "text/plain": [
       "4    11\n",
       "3     8\n",
       "2     4\n",
       "5     2\n",
       "6     1\n",
       "7     1\n",
       "Name: Type of Devices, dtype: int64"
      ]
     },
     "metadata": {},
     "output_type": "display_data"
    },
    {
     "name": "stdout",
     "output_type": "stream",
     "text": [
      "\n",
      "\n",
      "--- Basic Histogram ----\n"
     ]
    },
    {
     "data": {
      "image/png": "[encoded data removed]",
      "text/plain": [
       "<Figure size 576x288 with 1 Axes>"
      ]
     },
     "metadata": {
      "needs_background": "light"
     },
     "output_type": "display_data"
    }
   ],
   "source": [
    "data_yxc_number_of_devices = data_yxc_basic_type_of_devices.apply(len)\n",
    "print_stats(data_yxc_number_of_devices)"
   ]
  },
  {
   "cell_type": "code",
   "execution_count": 44,
   "id": "black-movement",
   "metadata": {},
   "outputs": [
    {
     "name": "stdout",
     "output_type": "stream",
     "text": [
      "--- Statistics ----\n"
     ]
    },
    {
     "data": {
      "text/plain": [
       "count    27.000000\n",
       "mean      3.666667\n",
       "std       1.176697\n",
       "min       2.000000\n",
       "25%       3.000000\n",
       "50%       4.000000\n",
       "75%       4.000000\n",
       "max       7.000000\n",
       "Name: Number of Devices, dtype: float64"
      ]
     },
     "metadata": {},
     "output_type": "display_data"
    },
    {
     "name": "stdout",
     "output_type": "stream",
     "text": [
      "\n",
      "\n",
      "--- Counting Unique Values ----\n"
     ]
    },
    {
     "data": {
      "text/plain": [
       "4    11\n",
       "3     8\n",
       "2     4\n",
       "5     2\n",
       "6     1\n",
       "7     1\n",
       "Name: Number of Devices, dtype: int64"
      ]
     },
     "metadata": {},
     "output_type": "display_data"
    },
    {
     "name": "stdout",
     "output_type": "stream",
     "text": [
      "\n",
      "\n",
      "--- Basic Histogram ----\n"
     ]
    },
    {
     "data": {
      "image/png": "[encoded data removed]",
      "text/plain": [
       "<Figure size 576x288 with 1 Axes>"
      ]
     },
     "metadata": {
      "needs_background": "light"
     },
     "output_type": "display_data"
    },
    {
     "name": "stdout",
     "output_type": "stream",
     "text": [
      "Population Standard Deviation:\n",
      "1.1547005383792517\n"
     ]
    }
   ],
   "source": [
    "data_yxc_basic_multiple_devices = data_yxc_basic['Number of Devices']\n",
    "print_stats(data_yxc_basic_multiple_devices)\n",
    "print('Population Standard Deviation:')\n",
    "print(data_yxc_basic_multiple_devices.std(ddof=0))"
   ]
  },
  {
   "cell_type": "markdown",
   "id": "suitable-oklahoma",
   "metadata": {},
   "source": [
    "## SUS"
   ]
  },
  {
   "cell_type": "markdown",
   "id": "italian-villa",
   "metadata": {},
   "source": [
    "#### Questions\n",
    "\n",
    "1. I think that I would like to use this system frequently.\n",
    "2. I found the system unnecessarily complex.\n",
    "3. I thought the system was easy to use.\n",
    "4. I think that I would need the support of a technical person to be able to use this system.\n",
    "5. I found the various functions in this system were well integrated.\n",
    "6. I thought there was too much inconsistency in this system.\n",
    "7. I would imagine that most people would learn to use this system very quickly.\n",
    "8. I found the system very cumbersome to use.\n",
    "9. I felt very confident using the system.\n",
    "10. I needed to learn a lot of things before I could get going with this system."
   ]
  },
  {
   "cell_type": "code",
   "execution_count": 45,
   "id": "sunset-giving",
   "metadata": {},
   "outputs": [
    {
     "data": {
      "text/html": [
       "<div>\n",
       "<style scoped>\n",
       "    .dataframe tbody tr th:only-of-type {\n",
       "        vertical-align: middle;\n",
       "    }\n",
       "\n",
       "    .dataframe tbody tr th {\n",
       "        vertical-align: top;\n",
       "    }\n",
       "\n",
       "    .dataframe thead th {\n",
       "        text-align: right;\n",
       "    }\n",
       "</style>\n",
       "<table border=\"1\" class=\"dataframe\">\n",
       "  <thead>\n",
       "    <tr style=\"text-align: right;\">\n",
       "      <th></th>\n",
       "      <th>SUS1</th>\n",
       "      <th>SUS2</th>\n",
       "      <th>SUS3</th>\n",
       "      <th>SUS4</th>\n",
       "      <th>SUS5</th>\n",
       "      <th>SUS6</th>\n",
       "      <th>SUS7</th>\n",
       "      <th>SUS8</th>\n",
       "      <th>SUS9</th>\n",
       "      <th>SUS10</th>\n",
       "      <th>Score</th>\n",
       "      <th>Score 100</th>\n",
       "    </tr>\n",
       "  </thead>\n",
       "  <tbody>\n",
       "    <tr>\n",
       "      <th>0</th>\n",
       "      <td>5</td>\n",
       "      <td>6</td>\n",
       "      <td>6</td>\n",
       "      <td>6</td>\n",
       "      <td>6</td>\n",
       "      <td>6</td>\n",
       "      <td>6</td>\n",
       "      <td>6</td>\n",
       "      <td>5</td>\n",
       "      <td>6</td>\n",
       "      <td>58</td>\n",
       "      <td>96.666667</td>\n",
       "    </tr>\n",
       "    <tr>\n",
       "      <th>1</th>\n",
       "      <td>6</td>\n",
       "      <td>6</td>\n",
       "      <td>6</td>\n",
       "      <td>6</td>\n",
       "      <td>6</td>\n",
       "      <td>6</td>\n",
       "      <td>6</td>\n",
       "      <td>6</td>\n",
       "      <td>6</td>\n",
       "      <td>6</td>\n",
       "      <td>60</td>\n",
       "      <td>100.000000</td>\n",
       "    </tr>\n",
       "    <tr>\n",
       "      <th>2</th>\n",
       "      <td>3</td>\n",
       "      <td>5</td>\n",
       "      <td>5</td>\n",
       "      <td>6</td>\n",
       "      <td>5</td>\n",
       "      <td>5</td>\n",
       "      <td>5</td>\n",
       "      <td>6</td>\n",
       "      <td>5</td>\n",
       "      <td>6</td>\n",
       "      <td>51</td>\n",
       "      <td>85.000000</td>\n",
       "    </tr>\n",
       "    <tr>\n",
       "      <th>3</th>\n",
       "      <td>5</td>\n",
       "      <td>6</td>\n",
       "      <td>6</td>\n",
       "      <td>3</td>\n",
       "      <td>5</td>\n",
       "      <td>6</td>\n",
       "      <td>6</td>\n",
       "      <td>6</td>\n",
       "      <td>6</td>\n",
       "      <td>5</td>\n",
       "      <td>54</td>\n",
       "      <td>90.000000</td>\n",
       "    </tr>\n",
       "    <tr>\n",
       "      <th>4</th>\n",
       "      <td>6</td>\n",
       "      <td>5</td>\n",
       "      <td>6</td>\n",
       "      <td>4</td>\n",
       "      <td>6</td>\n",
       "      <td>6</td>\n",
       "      <td>4</td>\n",
       "      <td>6</td>\n",
       "      <td>5</td>\n",
       "      <td>6</td>\n",
       "      <td>54</td>\n",
       "      <td>90.000000</td>\n",
       "    </tr>\n",
       "    <tr>\n",
       "      <th>5</th>\n",
       "      <td>4</td>\n",
       "      <td>4</td>\n",
       "      <td>5</td>\n",
       "      <td>6</td>\n",
       "      <td>5</td>\n",
       "      <td>5</td>\n",
       "      <td>6</td>\n",
       "      <td>6</td>\n",
       "      <td>6</td>\n",
       "      <td>6</td>\n",
       "      <td>53</td>\n",
       "      <td>88.333333</td>\n",
       "    </tr>\n",
       "    <tr>\n",
       "      <th>6</th>\n",
       "      <td>5</td>\n",
       "      <td>5</td>\n",
       "      <td>6</td>\n",
       "      <td>5</td>\n",
       "      <td>5</td>\n",
       "      <td>6</td>\n",
       "      <td>5</td>\n",
       "      <td>6</td>\n",
       "      <td>6</td>\n",
       "      <td>5</td>\n",
       "      <td>54</td>\n",
       "      <td>90.000000</td>\n",
       "    </tr>\n",
       "    <tr>\n",
       "      <th>7</th>\n",
       "      <td>6</td>\n",
       "      <td>6</td>\n",
       "      <td>6</td>\n",
       "      <td>6</td>\n",
       "      <td>6</td>\n",
       "      <td>6</td>\n",
       "      <td>5</td>\n",
       "      <td>6</td>\n",
       "      <td>6</td>\n",
       "      <td>6</td>\n",
       "      <td>59</td>\n",
       "      <td>98.333333</td>\n",
       "    </tr>\n",
       "    <tr>\n",
       "      <th>8</th>\n",
       "      <td>4</td>\n",
       "      <td>4</td>\n",
       "      <td>5</td>\n",
       "      <td>5</td>\n",
       "      <td>4</td>\n",
       "      <td>5</td>\n",
       "      <td>4</td>\n",
       "      <td>5</td>\n",
       "      <td>5</td>\n",
       "      <td>1</td>\n",
       "      <td>42</td>\n",
       "      <td>70.000000</td>\n",
       "    </tr>\n",
       "    <tr>\n",
       "      <th>9</th>\n",
       "      <td>4</td>\n",
       "      <td>6</td>\n",
       "      <td>6</td>\n",
       "      <td>6</td>\n",
       "      <td>5</td>\n",
       "      <td>6</td>\n",
       "      <td>4</td>\n",
       "      <td>5</td>\n",
       "      <td>6</td>\n",
       "      <td>6</td>\n",
       "      <td>54</td>\n",
       "      <td>90.000000</td>\n",
       "    </tr>\n",
       "    <tr>\n",
       "      <th>10</th>\n",
       "      <td>5</td>\n",
       "      <td>6</td>\n",
       "      <td>6</td>\n",
       "      <td>6</td>\n",
       "      <td>6</td>\n",
       "      <td>6</td>\n",
       "      <td>5</td>\n",
       "      <td>6</td>\n",
       "      <td>6</td>\n",
       "      <td>6</td>\n",
       "      <td>58</td>\n",
       "      <td>96.666667</td>\n",
       "    </tr>\n",
       "    <tr>\n",
       "      <th>11</th>\n",
       "      <td>6</td>\n",
       "      <td>5</td>\n",
       "      <td>5</td>\n",
       "      <td>5</td>\n",
       "      <td>5</td>\n",
       "      <td>5</td>\n",
       "      <td>5</td>\n",
       "      <td>5</td>\n",
       "      <td>6</td>\n",
       "      <td>6</td>\n",
       "      <td>53</td>\n",
       "      <td>88.333333</td>\n",
       "    </tr>\n",
       "    <tr>\n",
       "      <th>12</th>\n",
       "      <td>3</td>\n",
       "      <td>3</td>\n",
       "      <td>3</td>\n",
       "      <td>1</td>\n",
       "      <td>5</td>\n",
       "      <td>5</td>\n",
       "      <td>3</td>\n",
       "      <td>5</td>\n",
       "      <td>3</td>\n",
       "      <td>3</td>\n",
       "      <td>34</td>\n",
       "      <td>56.666667</td>\n",
       "    </tr>\n",
       "  </tbody>\n",
       "</table>\n",
       "</div>"
      ],
      "text/plain": [
       "    SUS1  SUS2  SUS3  SUS4  SUS5  SUS6  SUS7  SUS8  SUS9  SUS10  Score  \\\n",
       "0      5     6     6     6     6     6     6     6     5      6     58   \n",
       "1      6     6     6     6     6     6     6     6     6      6     60   \n",
       "2      3     5     5     6     5     5     5     6     5      6     51   \n",
       "3      5     6     6     3     5     6     6     6     6      5     54   \n",
       "4      6     5     6     4     6     6     4     6     5      6     54   \n",
       "5      4     4     5     6     5     5     6     6     6      6     53   \n",
       "6      5     5     6     5     5     6     5     6     6      5     54   \n",
       "7      6     6     6     6     6     6     5     6     6      6     59   \n",
       "8      4     4     5     5     4     5     4     5     5      1     42   \n",
       "9      4     6     6     6     5     6     4     5     6      6     54   \n",
       "10     5     6     6     6     6     6     5     6     6      6     58   \n",
       "11     6     5     5     5     5     5     5     5     6      6     53   \n",
       "12     3     3     3     1     5     5     3     5     3      3     34   \n",
       "\n",
       "     Score 100  \n",
       "0    96.666667  \n",
       "1   100.000000  \n",
       "2    85.000000  \n",
       "3    90.000000  \n",
       "4    90.000000  \n",
       "5    88.333333  \n",
       "6    90.000000  \n",
       "7    98.333333  \n",
       "8    70.000000  \n",
       "9    90.000000  \n",
       "10   96.666667  \n",
       "11   88.333333  \n",
       "12   56.666667  "
      ]
     },
     "execution_count": 45,
     "metadata": {},
     "output_type": "execute_result"
    }
   ],
   "source": [
    "data_yxc_sus = calculate_sus(data_yxc['SUS'].copy().dropna())\n",
    "data_yxc_sus"
   ]
  },
  {
   "cell_type": "markdown",
   "id": "centered-roulette",
   "metadata": {},
   "source": [
    "#### Mean Score 100"
   ]
  },
  {
   "cell_type": "code",
   "execution_count": 46,
   "id": "helpful-runner",
   "metadata": {},
   "outputs": [
    {
     "name": "stdout",
     "output_type": "stream",
     "text": [
      "87.6923076923077\n"
     ]
    }
   ],
   "source": [
    "print(data_yxc_sus['Score 100'].mean())"
   ]
  },
  {
   "cell_type": "markdown",
   "id": "trying-overall",
   "metadata": {},
   "source": [
    "#### General Stats"
   ]
  },
  {
   "cell_type": "code",
   "execution_count": 47,
   "id": "cathedral-arbor",
   "metadata": {},
   "outputs": [
    {
     "data": {
      "text/html": [
       "<div>\n",
       "<style scoped>\n",
       "    .dataframe tbody tr th:only-of-type {\n",
       "        vertical-align: middle;\n",
       "    }\n",
       "\n",
       "    .dataframe tbody tr th {\n",
       "        vertical-align: top;\n",
       "    }\n",
       "\n",
       "    .dataframe thead th {\n",
       "        text-align: right;\n",
       "    }\n",
       "</style>\n",
       "<table border=\"1\" class=\"dataframe\">\n",
       "  <thead>\n",
       "    <tr style=\"text-align: right;\">\n",
       "      <th></th>\n",
       "      <th>SUS1</th>\n",
       "      <th>SUS2</th>\n",
       "      <th>SUS3</th>\n",
       "      <th>SUS4</th>\n",
       "      <th>SUS5</th>\n",
       "      <th>SUS6</th>\n",
       "      <th>SUS7</th>\n",
       "      <th>SUS8</th>\n",
       "      <th>SUS9</th>\n",
       "      <th>SUS10</th>\n",
       "      <th>Score</th>\n",
       "      <th>Score 100</th>\n",
       "    </tr>\n",
       "  </thead>\n",
       "  <tbody>\n",
       "    <tr>\n",
       "      <th>count</th>\n",
       "      <td>13.000000</td>\n",
       "      <td>13.000000</td>\n",
       "      <td>13.000000</td>\n",
       "      <td>13.000000</td>\n",
       "      <td>13.000000</td>\n",
       "      <td>13.000000</td>\n",
       "      <td>13.000000</td>\n",
       "      <td>13.000000</td>\n",
       "      <td>13.000000</td>\n",
       "      <td>13.000000</td>\n",
       "      <td>13.000000</td>\n",
       "      <td>13.000000</td>\n",
       "    </tr>\n",
       "    <tr>\n",
       "      <th>mean</th>\n",
       "      <td>4.769231</td>\n",
       "      <td>5.153846</td>\n",
       "      <td>5.461538</td>\n",
       "      <td>5.000000</td>\n",
       "      <td>5.307692</td>\n",
       "      <td>5.615385</td>\n",
       "      <td>4.923077</td>\n",
       "      <td>5.692308</td>\n",
       "      <td>5.461538</td>\n",
       "      <td>5.230769</td>\n",
       "      <td>52.615385</td>\n",
       "      <td>87.692308</td>\n",
       "    </tr>\n",
       "    <tr>\n",
       "      <th>std</th>\n",
       "      <td>1.091928</td>\n",
       "      <td>0.987096</td>\n",
       "      <td>0.877058</td>\n",
       "      <td>1.527525</td>\n",
       "      <td>0.630425</td>\n",
       "      <td>0.506370</td>\n",
       "      <td>0.954074</td>\n",
       "      <td>0.480384</td>\n",
       "      <td>0.877058</td>\n",
       "      <td>1.535895</td>\n",
       "      <td>7.205767</td>\n",
       "      <td>12.009612</td>\n",
       "    </tr>\n",
       "    <tr>\n",
       "      <th>min</th>\n",
       "      <td>3.000000</td>\n",
       "      <td>3.000000</td>\n",
       "      <td>3.000000</td>\n",
       "      <td>1.000000</td>\n",
       "      <td>4.000000</td>\n",
       "      <td>5.000000</td>\n",
       "      <td>3.000000</td>\n",
       "      <td>5.000000</td>\n",
       "      <td>3.000000</td>\n",
       "      <td>1.000000</td>\n",
       "      <td>34.000000</td>\n",
       "      <td>56.666667</td>\n",
       "    </tr>\n",
       "    <tr>\n",
       "      <th>25%</th>\n",
       "      <td>4.000000</td>\n",
       "      <td>5.000000</td>\n",
       "      <td>5.000000</td>\n",
       "      <td>5.000000</td>\n",
       "      <td>5.000000</td>\n",
       "      <td>5.000000</td>\n",
       "      <td>4.000000</td>\n",
       "      <td>5.000000</td>\n",
       "      <td>5.000000</td>\n",
       "      <td>5.000000</td>\n",
       "      <td>53.000000</td>\n",
       "      <td>88.333333</td>\n",
       "    </tr>\n",
       "    <tr>\n",
       "      <th>50%</th>\n",
       "      <td>5.000000</td>\n",
       "      <td>5.000000</td>\n",
       "      <td>6.000000</td>\n",
       "      <td>6.000000</td>\n",
       "      <td>5.000000</td>\n",
       "      <td>6.000000</td>\n",
       "      <td>5.000000</td>\n",
       "      <td>6.000000</td>\n",
       "      <td>6.000000</td>\n",
       "      <td>6.000000</td>\n",
       "      <td>54.000000</td>\n",
       "      <td>90.000000</td>\n",
       "    </tr>\n",
       "    <tr>\n",
       "      <th>75%</th>\n",
       "      <td>6.000000</td>\n",
       "      <td>6.000000</td>\n",
       "      <td>6.000000</td>\n",
       "      <td>6.000000</td>\n",
       "      <td>6.000000</td>\n",
       "      <td>6.000000</td>\n",
       "      <td>6.000000</td>\n",
       "      <td>6.000000</td>\n",
       "      <td>6.000000</td>\n",
       "      <td>6.000000</td>\n",
       "      <td>58.000000</td>\n",
       "      <td>96.666667</td>\n",
       "    </tr>\n",
       "    <tr>\n",
       "      <th>max</th>\n",
       "      <td>6.000000</td>\n",
       "      <td>6.000000</td>\n",
       "      <td>6.000000</td>\n",
       "      <td>6.000000</td>\n",
       "      <td>6.000000</td>\n",
       "      <td>6.000000</td>\n",
       "      <td>6.000000</td>\n",
       "      <td>6.000000</td>\n",
       "      <td>6.000000</td>\n",
       "      <td>6.000000</td>\n",
       "      <td>60.000000</td>\n",
       "      <td>100.000000</td>\n",
       "    </tr>\n",
       "  </tbody>\n",
       "</table>\n",
       "</div>"
      ],
      "text/plain": [
       "            SUS1       SUS2       SUS3       SUS4       SUS5       SUS6  \\\n",
       "count  13.000000  13.000000  13.000000  13.000000  13.000000  13.000000   \n",
       "mean    4.769231   5.153846   5.461538   5.000000   5.307692   5.615385   \n",
       "std     1.091928   0.987096   0.877058   1.527525   0.630425   0.506370   \n",
       "min     3.000000   3.000000   3.000000   1.000000   4.000000   5.000000   \n",
       "25%     4.000000   5.000000   5.000000   5.000000   5.000000   5.000000   \n",
       "50%     5.000000   5.000000   6.000000   6.000000   5.000000   6.000000   \n",
       "75%     6.000000   6.000000   6.000000   6.000000   6.000000   6.000000   \n",
       "max     6.000000   6.000000   6.000000   6.000000   6.000000   6.000000   \n",
       "\n",
       "            SUS7       SUS8       SUS9      SUS10      Score   Score 100  \n",
       "count  13.000000  13.000000  13.000000  13.000000  13.000000   13.000000  \n",
       "mean    4.923077   5.692308   5.461538   5.230769  52.615385   87.692308  \n",
       "std     0.954074   0.480384   0.877058   1.535895   7.205767   12.009612  \n",
       "min     3.000000   5.000000   3.000000   1.000000  34.000000   56.666667  \n",
       "25%     4.000000   5.000000   5.000000   5.000000  53.000000   88.333333  \n",
       "50%     5.000000   6.000000   6.000000   6.000000  54.000000   90.000000  \n",
       "75%     6.000000   6.000000   6.000000   6.000000  58.000000   96.666667  \n",
       "max     6.000000   6.000000   6.000000   6.000000  60.000000  100.000000  "
      ]
     },
     "execution_count": 47,
     "metadata": {},
     "output_type": "execute_result"
    }
   ],
   "source": [
    "data_yxc_sus.describe()\n",
    "#print_stats(data_yxc_sus)"
   ]
  },
  {
   "cell_type": "markdown",
   "id": "sitting-scanning",
   "metadata": {},
   "source": [
    "#### Confidence Interval"
   ]
  },
  {
   "cell_type": "code",
   "execution_count": 48,
   "id": "greatest-pantyhose",
   "metadata": {},
   "outputs": [
    {
     "data": {
      "text/plain": [
       "(80.4349720746924, 94.94964330992299)"
      ]
     },
     "execution_count": 48,
     "metadata": {},
     "output_type": "execute_result"
    }
   ],
   "source": [
    "confidence_interval_t(data_yxc_sus['Score 100'])"
   ]
  },
  {
   "cell_type": "markdown",
   "id": "unlike-sodium",
   "metadata": {},
   "source": [
    "#### Per-question Stats"
   ]
  },
  {
   "cell_type": "code",
   "execution_count": 49,
   "id": "turkish-marathon",
   "metadata": {},
   "outputs": [],
   "source": [
    "##Uncomment if you need these stats\n",
    "#for column in data_yxc_sus:\n",
    "    #print_stats(data_yxc_sus[column])"
   ]
  },
  {
   "cell_type": "markdown",
   "id": "tender-genome",
   "metadata": {},
   "source": [
    "## Domain Specific Questions"
   ]
  },
  {
   "cell_type": "code",
   "execution_count": 50,
   "id": "sublime-concentration",
   "metadata": {},
   "outputs": [],
   "source": [
    "data_yxc_domain_specific = data_yxc['Domain Specific']\n",
    "#data_yxc_domain_specific"
   ]
  },
  {
   "cell_type": "code",
   "execution_count": 51,
   "id": "dried-overview",
   "metadata": {},
   "outputs": [
    {
     "name": "stdout",
     "output_type": "stream",
     "text": [
      "--- Statistics ----\n"
     ]
    },
    {
     "data": {
      "text/html": [
       "<div>\n",
       "<style scoped>\n",
       "    .dataframe tbody tr th:only-of-type {\n",
       "        vertical-align: middle;\n",
       "    }\n",
       "\n",
       "    .dataframe tbody tr th {\n",
       "        vertical-align: top;\n",
       "    }\n",
       "\n",
       "    .dataframe thead th {\n",
       "        text-align: right;\n",
       "    }\n",
       "</style>\n",
       "<table border=\"1\" class=\"dataframe\">\n",
       "  <thead>\n",
       "    <tr style=\"text-align: right;\">\n",
       "      <th></th>\n",
       "      <th>DS1</th>\n",
       "      <th>DS2</th>\n",
       "      <th>DS3</th>\n",
       "      <th>DS4</th>\n",
       "      <th>DS5</th>\n",
       "      <th>DS6</th>\n",
       "      <th>DS7</th>\n",
       "      <th>DS8</th>\n",
       "      <th>DS9</th>\n",
       "    </tr>\n",
       "  </thead>\n",
       "  <tbody>\n",
       "    <tr>\n",
       "      <th>count</th>\n",
       "      <td>13.000000</td>\n",
       "      <td>13.000000</td>\n",
       "      <td>13.000000</td>\n",
       "      <td>13.000000</td>\n",
       "      <td>13.000000</td>\n",
       "      <td>13.000000</td>\n",
       "      <td>13.000000</td>\n",
       "      <td>13.0</td>\n",
       "      <td>13.000000</td>\n",
       "    </tr>\n",
       "    <tr>\n",
       "      <th>mean</th>\n",
       "      <td>5.692308</td>\n",
       "      <td>6.230769</td>\n",
       "      <td>6.153846</td>\n",
       "      <td>6.153846</td>\n",
       "      <td>6.307692</td>\n",
       "      <td>6.307692</td>\n",
       "      <td>6.153846</td>\n",
       "      <td>7.0</td>\n",
       "      <td>6.769231</td>\n",
       "    </tr>\n",
       "    <tr>\n",
       "      <th>std</th>\n",
       "      <td>1.548366</td>\n",
       "      <td>0.926809</td>\n",
       "      <td>1.143544</td>\n",
       "      <td>0.800641</td>\n",
       "      <td>0.751068</td>\n",
       "      <td>0.854850</td>\n",
       "      <td>1.405119</td>\n",
       "      <td>0.0</td>\n",
       "      <td>0.438529</td>\n",
       "    </tr>\n",
       "    <tr>\n",
       "      <th>min</th>\n",
       "      <td>2.000000</td>\n",
       "      <td>4.000000</td>\n",
       "      <td>4.000000</td>\n",
       "      <td>5.000000</td>\n",
       "      <td>5.000000</td>\n",
       "      <td>5.000000</td>\n",
       "      <td>3.000000</td>\n",
       "      <td>7.0</td>\n",
       "      <td>6.000000</td>\n",
       "    </tr>\n",
       "    <tr>\n",
       "      <th>25%</th>\n",
       "      <td>5.000000</td>\n",
       "      <td>6.000000</td>\n",
       "      <td>6.000000</td>\n",
       "      <td>6.000000</td>\n",
       "      <td>6.000000</td>\n",
       "      <td>6.000000</td>\n",
       "      <td>5.000000</td>\n",
       "      <td>7.0</td>\n",
       "      <td>7.000000</td>\n",
       "    </tr>\n",
       "    <tr>\n",
       "      <th>50%</th>\n",
       "      <td>6.000000</td>\n",
       "      <td>6.000000</td>\n",
       "      <td>7.000000</td>\n",
       "      <td>6.000000</td>\n",
       "      <td>6.000000</td>\n",
       "      <td>7.000000</td>\n",
       "      <td>7.000000</td>\n",
       "      <td>7.0</td>\n",
       "      <td>7.000000</td>\n",
       "    </tr>\n",
       "    <tr>\n",
       "      <th>75%</th>\n",
       "      <td>7.000000</td>\n",
       "      <td>7.000000</td>\n",
       "      <td>7.000000</td>\n",
       "      <td>7.000000</td>\n",
       "      <td>7.000000</td>\n",
       "      <td>7.000000</td>\n",
       "      <td>7.000000</td>\n",
       "      <td>7.0</td>\n",
       "      <td>7.000000</td>\n",
       "    </tr>\n",
       "    <tr>\n",
       "      <th>max</th>\n",
       "      <td>7.000000</td>\n",
       "      <td>7.000000</td>\n",
       "      <td>7.000000</td>\n",
       "      <td>7.000000</td>\n",
       "      <td>7.000000</td>\n",
       "      <td>7.000000</td>\n",
       "      <td>7.000000</td>\n",
       "      <td>7.0</td>\n",
       "      <td>7.000000</td>\n",
       "    </tr>\n",
       "  </tbody>\n",
       "</table>\n",
       "</div>"
      ],
      "text/plain": [
       "             DS1        DS2        DS3        DS4        DS5        DS6  \\\n",
       "count  13.000000  13.000000  13.000000  13.000000  13.000000  13.000000   \n",
       "mean    5.692308   6.230769   6.153846   6.153846   6.307692   6.307692   \n",
       "std     1.548366   0.926809   1.143544   0.800641   0.751068   0.854850   \n",
       "min     2.000000   4.000000   4.000000   5.000000   5.000000   5.000000   \n",
       "25%     5.000000   6.000000   6.000000   6.000000   6.000000   6.000000   \n",
       "50%     6.000000   6.000000   7.000000   6.000000   6.000000   7.000000   \n",
       "75%     7.000000   7.000000   7.000000   7.000000   7.000000   7.000000   \n",
       "max     7.000000   7.000000   7.000000   7.000000   7.000000   7.000000   \n",
       "\n",
       "             DS7   DS8        DS9  \n",
       "count  13.000000  13.0  13.000000  \n",
       "mean    6.153846   7.0   6.769231  \n",
       "std     1.405119   0.0   0.438529  \n",
       "min     3.000000   7.0   6.000000  \n",
       "25%     5.000000   7.0   7.000000  \n",
       "50%     7.000000   7.0   7.000000  \n",
       "75%     7.000000   7.0   7.000000  \n",
       "max     7.000000   7.0   7.000000  "
      ]
     },
     "metadata": {},
     "output_type": "display_data"
    },
    {
     "name": "stdout",
     "output_type": "stream",
     "text": [
      "\n",
      "\n",
      "--- Counting Unique Values ----\n"
     ]
    },
    {
     "data": {
      "text/plain": [
       "DS1  DS2  DS3  DS4  DS5  DS6  DS7  DS8  DS9\n",
       "2    7    7    6    7    5    7    7    7      1\n",
       "4    6    4    6    6    6    3    7    7      1\n",
       "5    5    7    7    7    7    7    7    7      1\n",
       "     6    6    5    5    6    7    7    6      1\n",
       "     7    7    7    5    5    5    7    7      1\n",
       "                    7    7    7    7    7      1\n",
       "6    7    5    7    6    7    7    7    7      1\n",
       "7    4    4    5    6    6    7    7    7      1\n",
       "     6    6    6    7    7    7    7    7      1\n",
       "          7    5    6    7    7    7    6      1\n",
       "               6    7    7    7    7    7      1\n",
       "     7    6    7    7    7    4    7    7      1\n",
       "          7    6    6    5    5    7    6      1\n",
       "dtype: int64"
      ]
     },
     "metadata": {},
     "output_type": "display_data"
    },
    {
     "name": "stdout",
     "output_type": "stream",
     "text": [
      "\n",
      "\n",
      "--- Basic Histogram ----\n"
     ]
    },
    {
     "data": {
      "image/png": "[encoded data removed]",
      "text/plain": [
       "<Figure size 576x288 with 9 Axes>"
      ]
     },
     "metadata": {
      "needs_background": "light"
     },
     "output_type": "display_data"
    }
   ],
   "source": [
    "print_stats(data_yxc_domain_specific)"
   ]
  },
  {
   "cell_type": "markdown",
   "id": "developed-toner",
   "metadata": {},
   "source": [
    "### Response Frequency"
   ]
  },
  {
   "cell_type": "code",
   "execution_count": 52,
   "id": "banned-circulation",
   "metadata": {},
   "outputs": [
    {
     "data": {
      "text/html": [
       "<div>\n",
       "<style scoped>\n",
       "    .dataframe tbody tr th:only-of-type {\n",
       "        vertical-align: middle;\n",
       "    }\n",
       "\n",
       "    .dataframe tbody tr th {\n",
       "        vertical-align: top;\n",
       "    }\n",
       "\n",
       "    .dataframe thead th {\n",
       "        text-align: right;\n",
       "    }\n",
       "</style>\n",
       "<table border=\"1\" class=\"dataframe\">\n",
       "  <thead>\n",
       "    <tr style=\"text-align: right;\">\n",
       "      <th></th>\n",
       "      <th>2</th>\n",
       "      <th>3</th>\n",
       "      <th>4</th>\n",
       "      <th>5</th>\n",
       "      <th>6</th>\n",
       "      <th>7</th>\n",
       "    </tr>\n",
       "  </thead>\n",
       "  <tbody>\n",
       "    <tr>\n",
       "      <th>DS1</th>\n",
       "      <td>7.692308</td>\n",
       "      <td>0.000000</td>\n",
       "      <td>7.692308</td>\n",
       "      <td>30.769231</td>\n",
       "      <td>7.692308</td>\n",
       "      <td>46.153846</td>\n",
       "    </tr>\n",
       "    <tr>\n",
       "      <th>DS2</th>\n",
       "      <td>0.000000</td>\n",
       "      <td>0.000000</td>\n",
       "      <td>7.692308</td>\n",
       "      <td>7.692308</td>\n",
       "      <td>38.461538</td>\n",
       "      <td>46.153846</td>\n",
       "    </tr>\n",
       "    <tr>\n",
       "      <th>DS3</th>\n",
       "      <td>0.000000</td>\n",
       "      <td>0.000000</td>\n",
       "      <td>15.384615</td>\n",
       "      <td>7.692308</td>\n",
       "      <td>23.076923</td>\n",
       "      <td>53.846154</td>\n",
       "    </tr>\n",
       "    <tr>\n",
       "      <th>DS4</th>\n",
       "      <td>0.000000</td>\n",
       "      <td>0.000000</td>\n",
       "      <td>0.000000</td>\n",
       "      <td>23.076923</td>\n",
       "      <td>38.461538</td>\n",
       "      <td>38.461538</td>\n",
       "    </tr>\n",
       "    <tr>\n",
       "      <th>DS5</th>\n",
       "      <td>0.000000</td>\n",
       "      <td>0.000000</td>\n",
       "      <td>0.000000</td>\n",
       "      <td>15.384615</td>\n",
       "      <td>38.461538</td>\n",
       "      <td>46.153846</td>\n",
       "    </tr>\n",
       "    <tr>\n",
       "      <th>DS6</th>\n",
       "      <td>0.000000</td>\n",
       "      <td>0.000000</td>\n",
       "      <td>0.000000</td>\n",
       "      <td>23.076923</td>\n",
       "      <td>23.076923</td>\n",
       "      <td>53.846154</td>\n",
       "    </tr>\n",
       "    <tr>\n",
       "      <th>DS7</th>\n",
       "      <td>0.000000</td>\n",
       "      <td>7.692308</td>\n",
       "      <td>7.692308</td>\n",
       "      <td>15.384615</td>\n",
       "      <td>0.000000</td>\n",
       "      <td>69.230769</td>\n",
       "    </tr>\n",
       "    <tr>\n",
       "      <th>DS8</th>\n",
       "      <td>0.000000</td>\n",
       "      <td>0.000000</td>\n",
       "      <td>0.000000</td>\n",
       "      <td>0.000000</td>\n",
       "      <td>0.000000</td>\n",
       "      <td>100.000000</td>\n",
       "    </tr>\n",
       "    <tr>\n",
       "      <th>DS9</th>\n",
       "      <td>0.000000</td>\n",
       "      <td>0.000000</td>\n",
       "      <td>0.000000</td>\n",
       "      <td>0.000000</td>\n",
       "      <td>23.076923</td>\n",
       "      <td>76.923077</td>\n",
       "    </tr>\n",
       "  </tbody>\n",
       "</table>\n",
       "</div>"
      ],
      "text/plain": [
       "            2         3          4          5          6           7\n",
       "DS1  7.692308  0.000000   7.692308  30.769231   7.692308   46.153846\n",
       "DS2  0.000000  0.000000   7.692308   7.692308  38.461538   46.153846\n",
       "DS3  0.000000  0.000000  15.384615   7.692308  23.076923   53.846154\n",
       "DS4  0.000000  0.000000   0.000000  23.076923  38.461538   38.461538\n",
       "DS5  0.000000  0.000000   0.000000  15.384615  38.461538   46.153846\n",
       "DS6  0.000000  0.000000   0.000000  23.076923  23.076923   53.846154\n",
       "DS7  0.000000  7.692308   7.692308  15.384615   0.000000   69.230769\n",
       "DS8  0.000000  0.000000   0.000000   0.000000   0.000000  100.000000\n",
       "DS9  0.000000  0.000000   0.000000   0.000000  23.076923   76.923077"
      ]
     },
     "execution_count": 52,
     "metadata": {},
     "output_type": "execute_result"
    }
   ],
   "source": [
    "data_yxc_domain_specific_freq_res = (data_yxc_domain_specific.apply(pd.value_counts).fillna(0)/data_yxc_domain_specific.count()*100).transpose()\n",
    "data_yxc_domain_specific_freq_res"
   ]
  },
  {
   "cell_type": "code",
   "execution_count": 53,
   "id": "expected-performer",
   "metadata": {},
   "outputs": [
    {
     "data": {
      "image/png": "[encoded data removed]",
      "text/plain": [
       "<Figure size 432x288 with 1 Axes>"
      ]
     },
     "metadata": {
      "needs_background": "light"
     },
     "output_type": "display_data"
    }
   ],
   "source": [
    "data_yxc_domain_specific_freq_res.iloc[::-1].plot.barh(stacked=True).legend(loc='center left',bbox_to_anchor=(1.0, 0.5))\n",
    "plt.show()"
   ]
  },
  {
   "cell_type": "code",
   "execution_count": 54,
   "id": "dress-duplicate",
   "metadata": {},
   "outputs": [
    {
     "name": "stdout",
     "output_type": "stream",
     "text": [
      "DS1 Median: 6.0 Mean: 5.6923076923076925 Standard Deviation: 1.548365556784281 Confidence Interval: (4.756639750739897, 6.627975633875488)\n",
      "DS2 Median: 6.0 Mean: 6.230769230769231 Standard Deviation: 0.9268086959962983 Confidence Interval: (5.670704341047064, 6.790834120491398)\n",
      "DS3 Median: 7.0 Mean: 6.153846153846154 Standard Deviation: 1.143543749793731 Confidence Interval: (5.462809581911295, 6.844882725781013)\n",
      "DS4 Median: 6.0 Mean: 6.153846153846154 Standard Deviation: 0.8006407690254357 Confidence Interval: (5.670023779338468, 6.63766852835384)\n",
      "DS5 Median: 6.0 Mean: 6.3076923076923075 Standard Deviation: 0.7510676161988107 Confidence Interval: (5.853826689623099, 6.761557925761516)\n",
      "DS6 Median: 7.0 Mean: 6.3076923076923075 Standard Deviation: 0.8548504142651103 Confidence Interval: (5.79111137242209, 6.824273242962525)\n",
      "DS7 Median: 7.0 Mean: 6.153846153846154 Standard Deviation: 1.4051188470584877 Confidence Interval: (5.304741332620466, 7.002950975071842)\n",
      "DS8 Median: 7.0 Mean: 7.0 Standard Deviation: 0.0 Confidence Interval: (nan, nan)\n",
      "DS9 Median: 7.0 Mean: 6.769230769230769 Standard Deviation: 0.4385290096535146 Confidence Interval: (6.504230340887197, 7.034231197574341)\n"
     ]
    },
    {
     "name": "stderr",
     "output_type": "stream",
     "text": [
      "C:\\DevelopmentTools\\Anaconda3\\lib\\site-packages\\scipy\\stats\\_distn_infrastructure.py:2023: RuntimeWarning: invalid value encountered in multiply\n",
      "  lower_bound = _a * scale + loc\n",
      "C:\\DevelopmentTools\\Anaconda3\\lib\\site-packages\\scipy\\stats\\_distn_infrastructure.py:2024: RuntimeWarning: invalid value encountered in multiply\n",
      "  upper_bound = _b * scale + loc\n"
     ]
    }
   ],
   "source": [
    "for question in data_yxc_domain_specific:\n",
    "    print(question,\n",
    "          'Median:', data_yxc_domain_specific[question].median(), \n",
    "          'Mean:', data_yxc_domain_specific[question].mean(), \n",
    "          'Standard Deviation:', data_yxc_domain_specific[question].std(), \n",
    "          'Confidence Interval:', confidence_interval_t(data_yxc_domain_specific[question]))"
   ]
  },
  {
   "cell_type": "code",
   "execution_count": null,
   "id": "official-course",
   "metadata": {},
   "outputs": [],
   "source": []
  }
 ],
 "metadata": {
  "kernelspec": {
   "display_name": "Python 3",
   "language": "python",
   "name": "python3"
  },
  "language_info": {
   "codemirror_mode": {
    "name": "ipython",
    "version": 3
   },
   "file_extension": ".py",
   "mimetype": "text/x-python",
   "name": "python",
   "nbconvert_exporter": "python",
   "pygments_lexer": "ipython3",
   "version": "3.8.5"
  }
 },
 "nbformat": 4,
 "nbformat_minor": 5
}
