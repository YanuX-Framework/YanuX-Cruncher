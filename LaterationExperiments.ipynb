{
 "cells": [
  {
   "cell_type": "markdown",
   "metadata": {},
   "source": [
    "# Lateration Experiments"
   ]
  },
  {
   "cell_type": "markdown",
   "metadata": {},
   "source": [
    "## Imports"
   ]
  },
  {
   "cell_type": "code",
   "execution_count": 64,
   "metadata": {},
   "outputs": [],
   "source": [
    "import math\n",
    "import random\n",
    "import matplotlib.pyplot as plt\n",
    "from scipy.optimize import minimize"
   ]
  },
  {
   "cell_type": "code",
   "execution_count": 65,
   "metadata": {},
   "outputs": [],
   "source": [
    "class Circle:\n",
    "    def __init__(self, center, radius):\n",
    "        self.center = center\n",
    "        self.radius = radius\n",
    "    def __str__(self):\n",
    "        return 'Center: '+str(self.center)+' Radius: '+str(self.radius)"
   ]
  },
  {
   "cell_type": "code",
   "execution_count": 66,
   "metadata": {},
   "outputs": [],
   "source": [
    "true_location = (10,5)\n",
    "\n",
    "circles =[\n",
    "    Circle((5,5), 5+random.uniform(-3, 3)),\n",
    "    Circle((10,10), 5+random.uniform(-3, 3)),\n",
    "    Circle((15,5), 5+random.uniform(-3, 3)),\n",
    "]\n",
    "\n",
    "num_circles = len(circles)\n",
    "sum_distances = sum([1/c.radius if c.radius > 0 else float('inf') for c in circles])\n",
    "num0_distance = sum([1 if c.radius == 0 else 0 for c in circles])"
   ]
  },
  {
   "cell_type": "code",
   "execution_count": 67,
   "metadata": {},
   "outputs": [
    {
     "name": "stdout",
     "output_type": "stream",
     "text": [
      "[0.4163459079810989, 0.34136744484123355, 0.24228664717766762]\n",
      "1.0\n"
     ]
    }
   ],
   "source": [
    "distance_weights = []\n",
    "for c in circles:\n",
    "    if sum_distances == 0:\n",
    "        distance_weights.append(1/num_circles)\n",
    "    elif c.radius == 0:\n",
    "        distance_weights.append(1/num0_distance)\n",
    "    else:\n",
    "        distance_weights.append((1/c.radius)/sum_distances)\n",
    "\n",
    "print(distance_weights)\n",
    "print(sum(distance_weights))"
   ]
  },
  {
   "cell_type": "code",
   "execution_count": 68,
   "metadata": {},
   "outputs": [
    {
     "name": "stdout",
     "output_type": "stream",
     "text": [
      "(9.129703695982844, 6.7068372242061685)\n"
     ]
    }
   ],
   "source": [
    "guess = (0,0)\n",
    "for i, c in enumerate(circles):\n",
    "    guess = (guess[0]+c.center[0]*distance_weights[i], guess[1]+c.center[1]*distance_weights[i])\n",
    "    \n",
    "print(guess)"
   ]
  },
  {
   "cell_type": "code",
   "execution_count": 69,
   "metadata": {},
   "outputs": [],
   "source": [
    "def distance(a, b):\n",
    "    return math.hypot(a[0]-b[0], a[1]-b[1])\n",
    "\n",
    "def error(p, circles):\n",
    "    error = 0\n",
    "    for c in circles:\n",
    "        d = distance(p, c.center)\n",
    "        error += abs(c.radius - d)**2\n",
    "    return error/len(circles)"
   ]
  },
  {
   "cell_type": "code",
   "execution_count": 70,
   "metadata": {},
   "outputs": [
    {
     "name": "stdout",
     "output_type": "stream",
     "text": [
      "(8.546692821039064, 5.43987028788359)\n"
     ]
    }
   ],
   "source": [
    "result = minimize(error, guess, args=(circles), options={\n",
    "    'return_all': True\n",
    "})\n",
    "location = tuple(result.x)\n",
    "print(location)"
   ]
  },
  {
   "cell_type": "code",
   "execution_count": 71,
   "metadata": {},
   "outputs": [
    {
     "data": {
      "image/png": "[encoded data removed]",
      "text/plain": [
       "<Figure size 432x288 with 1 Axes>"
      ]
     },
     "metadata": {
      "needs_background": "light"
     },
     "output_type": "display_data"
    }
   ],
   "source": [
    "fig, ax = plt.subplots()\n",
    "\n",
    "for c in circles:\n",
    "    draw_circle = plt.Circle(c.center, c.radius, fill=False)\n",
    "    ax.scatter(c.center[0], c.center[1], c='black')\n",
    "    ax.add_patch(draw_circle)\n",
    "    ax.set_aspect(1)\n",
    "\n",
    "ax.scatter(guess[0], guess[1], c='blue')\n",
    "ax.scatter(location[0], location[1], c='red')\n",
    "ax.scatter(true_location[0], true_location[1], c='green')\n",
    "\n",
    "plt.show()"
   ]
  },
  {
   "cell_type": "code",
   "execution_count": 72,
   "metadata": {},
   "outputs": [
    {
     "name": "stdout",
     "output_type": "stream",
     "text": [
      "Center: (5, 5) Radius: 3.9912446518887776\n",
      "Center: (10, 10) Radius: 4.867887678446301\n",
      "Center: (15, 5) Radius: 6.858563597798245\n"
     ]
    },
    {
     "data": {
      "text/plain": [
       "1.5184161572448396"
      ]
     },
     "execution_count": 72,
     "metadata": {},
     "output_type": "execute_result"
    }
   ],
   "source": [
    "for c in circles:\n",
    "    print(c)\n",
    "\n",
    "distance(true_location, location)"
   ]
  }
 ],
 "metadata": {
  "kernelspec": {
   "display_name": "Python 3",
   "language": "python",
   "name": "python3"
  },
  "language_info": {
   "codemirror_mode": {
    "name": "ipython",
    "version": 3
   },
   "file_extension": ".py",
   "mimetype": "text/x-python",
   "name": "python",
   "nbconvert_exporter": "python",
   "pygments_lexer": "ipython3",
   "version": "3.8.5"
  }
 },
 "nbformat": 4,
 "nbformat_minor": 4
}
