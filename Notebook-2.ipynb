{
 "cells": [
  {
   "cell_type": "markdown",
   "metadata": {},
   "source": [
    "# YanuX Cruncher Metrics Notebook #"
   ]
  },
  {
   "cell_type": "code",
   "execution_count": 1,
   "metadata": {
    "collapsed": true
   },
   "outputs": [],
   "source": [
    "%matplotlib inline"
   ]
  },
  {
   "cell_type": "markdown",
   "metadata": {},
   "source": [
    "## Imports ##"
   ]
  },
  {
   "cell_type": "code",
   "execution_count": 2,
   "metadata": {
    "collapsed": true
   },
   "outputs": [],
   "source": [
    "#Python Standard Library\n",
    "import sys\n",
    "import math\n",
    "import collections\n",
    "#Pandas\n",
    "import pandas as pd\n",
    "#NumPy\n",
    "import numpy as np                    \n",
    "#SciPy\n",
    "import scipy as sp\n",
    "#Matplotlib\n",
    "import matplotlib.pyplot as plt       \n",
    "#scikit-learn\n",
    "from sklearn.neighbors import KNeighborsRegressor\n",
    "from sklearn import svm\n",
    "import sklearn.metrics\n",
    "#YanuX Cruncher\n",
    "from yanux.cruncher.model.loader import JsonLoader\n",
    "from yanux.cruncher.model.wifi import WifiLogs"
   ]
  },
  {
   "cell_type": "markdown",
   "metadata": {},
   "source": [
    "## Load Data ##"
   ]
  },
  {
   "cell_type": "code",
   "execution_count": 3,
   "metadata": {
    "collapsed": true
   },
   "outputs": [],
   "source": [
    "json_loader = JsonLoader('data')\n",
    "wifi_logs = WifiLogs(json_loader.json_data)\n",
    "# Shuffle data to remove any bias\n",
    "# wifi_logs.shuffle_samples()"
   ]
  },
  {
   "cell_type": "markdown",
   "metadata": {},
   "source": [
    "Load the data as individual Wi-Fi Results, i.e., each line represents a single Access Point (AP) signal strength measurement.\n",
    "\n",
    "(NOTE: Data is being separately loaded as train and test sets)"
   ]
  },
  {
   "cell_type": "code",
   "execution_count": 4,
   "metadata": {
    "collapsed": false
   },
   "outputs": [],
   "source": [
    "wifi_results_columns=[\"filename\", \"x\", \"y\", \"floor\", \"sample_id\", \"mac_address\", \"timestamp\", \"signal_strength\"]\n",
    "wifi_results_all = pd.DataFrame(wifi_logs.wifi_results(), columns=wifi_results_columns)"
   ]
  },
  {
   "cell_type": "markdown",
   "metadata": {},
   "source": [
    "Load the data as aggregated Wi-Fi Sample, i.e., each line represents a point in time at which a scan for Wi-Fi networks was performed. Each column beyond *filename*, *x*, *y*, *floor*, *sample_id* and *timestamp* represents a different AP and the values at each of those columns are the AP's signal strength when each of the samples was taken.\n",
    "\n",
    "Whenever a sample didn't capture an AP's signal, either because it was completely out of range, or because the signal was so weak that it was just ignored by the hardware and software stack, the value was considered to an arbitrarly low value.\n",
    "\n",
    "(NOTE: Data is being separately loaded as train and test sets)"
   ]
  },
  {
   "cell_type": "code",
   "execution_count": 5,
   "metadata": {
    "collapsed": false
   },
   "outputs": [],
   "source": [
    "mac_addresses = wifi_results_all.mac_address.unique()\n",
    "wifi_samples_columns = [\"filename\", \"x\", \"y\", \"floor\", \"sample_id\", \"timestamp\"]\n",
    "wifi_samples_columns.extend(mac_addresses)\n",
    "\n",
    "wifi_samples_all = pd.DataFrame(wifi_logs.wifi_samples(), columns=wifi_samples_columns)\n",
    "# wifi_samples_train = pd.DataFrame(wifi_logs.wifi_samples(0,train_test_data_split_index),\n",
    "#                                   columns=wifi_samples_columns)\n",
    "# wifi_samples_test = pd.DataFrame(wifi_logs.wifi_samples(train_test_data_split_index, num_samples_per_location),\n",
    "#                                 columns=wifi_samples_columns)\n",
    "\n",
    "wifi_samples_train = wifi_samples_all.query(\"(x == 0.0 and y == 0.5)\"\n",
    "                                      + \" or (x == 4.0 and y == 0.5)\"\n",
    "                                      + \" or (x == 8.0 and y == 0.5)\"\n",
    "                                      + \" or (x == 12.0 and y == 0.5)\"\n",
    "                                      + \" or (x == 13.5 and y == 3.0)\"\n",
    "                                      + \" or (x == 13.5 and y == 7.0)\"\n",
    "                                      + \" or (x == 13.5 and y == 11.0)\"\n",
    "                                      + \" or (x == 17.5 and y == 11.0)\"\n",
    "                                      + \" or (x == 21.5 and y == 11.0)\"\n",
    "                                      + \" or (x == 25.5 and y == 11.0)\"\n",
    "                                      + \" or (x == 29.5 and y == 11.0)\"\n",
    "                                      + \" or (x == 33.5 and y == 11.0)\"\n",
    "                                      + \" or (x == 37.5 and y == 11.0)\").reset_index(drop=True)\n",
    "\n",
    "wifi_samples_test = wifi_samples_all.query(\"(x == 2.0 and y == 0.5)\"\n",
    "                                     + \" or (x == 6.0 and y == 0.5)\"\n",
    "                                     + \" or (x == 10.0 and y == 0.5)\"\n",
    "                                     + \" or (x == 13.5 and y == 1.0)\"\n",
    "                                     + \" or (x == 13.5 and y == 5.0)\"\n",
    "                                     + \" or (x == 13.5 and y == 9.0)\"\n",
    "                                     + \" or (x == 15.5 and y == 11.0)\"\n",
    "                                     + \" or (x == 19.5 and y == 11.0)\"\n",
    "                                     + \" or (x == 23.5 and y == 11.0)\"\n",
    "                                     + \" or (x == 27.5 and y == 11.0)\"\n",
    "                                     + \" or (x == 31.5 and y == 11.0)\"\n",
    "                                     + \" or (x == 35.5 and y == 11.0)\").reset_index(drop=True)\n",
    "\n",
    "# not_present_signal_strength = sys.float_info.min\n",
    "not_present_signal_strength = -100\n",
    "\n",
    "wifi_samples_all = wifi_samples_all.fillna(not_present_signal_strength)\n",
    "wifi_samples_train = wifi_samples_train.fillna(not_present_signal_strength)\n",
    "wifi_samples_test = wifi_samples_test.fillna(not_present_signal_strength)\n",
    "\n",
    "wifi_samples_all[\"error\"] = 0\n",
    "wifi_samples_train[\"error\"] = 0\n",
    "wifi_samples_test[\"error\"] = 0"
   ]
  },
  {
   "cell_type": "markdown",
   "metadata": {},
   "source": [
    "### Save everything to CSV ###"
   ]
  },
  {
   "cell_type": "code",
   "execution_count": 6,
   "metadata": {
    "collapsed": false
   },
   "outputs": [],
   "source": [
    "wifi_results_all.to_csv(\"wifi_results_all.csv\")\n",
    "\n",
    "wifi_samples_train.to_csv(\"wifi_samples_train.csv\")\n",
    "wifi_samples_test.to_csv(\"wifi_samples_test.csv\")\n",
    "wifi_samples_all.to_csv(\"wifi_samples_all.csv\")"
   ]
  },
  {
   "cell_type": "markdown",
   "metadata": {},
   "source": [
    "## Plots ##"
   ]
  },
  {
   "cell_type": "markdown",
   "metadata": {},
   "source": [
    "### The coordinates of the points where data was captured ###"
   ]
  },
  {
   "cell_type": "code",
   "execution_count": 7,
   "metadata": {
    "collapsed": false
   },
   "outputs": [
    {
     "data": {
      "text/plain": [
       "(-1.875, 39.375, -0.025000000000000022, 11.525)"
      ]
     },
     "execution_count": 7,
     "metadata": {},
     "output_type": "execute_result"
    },
    {
     "data": {
      "image/png": "[encoded data removed]",
      "text/plain": [
       "<matplotlib.figure.Figure at 0x1c7b92f07b8>"
      ]
     },
     "metadata": {},
     "output_type": "display_data"
    },
    {
     "data": {
      "image/png": "[encoded data removed]",
      "text/plain": [
       "<matplotlib.figure.Figure at 0x1c7b8cea4a8>"
      ]
     },
     "metadata": {},
     "output_type": "display_data"
    },
    {
     "data": {
      "image/png": "[encoded data removed]",
      "text/plain": [
       "<matplotlib.figure.Figure at 0x1c7b92fd748>"
      ]
     },
     "metadata": {},
     "output_type": "display_data"
    }
   ],
   "source": [
    "coords = wifi_samples_train[[\"x\",\"y\"]].drop_duplicates().sort_values(by=[\"x\",\"y\"]).reset_index(drop=True)\n",
    "coords_plot_size = (min(coords[\"x\"].min(),coords[\"y\"].min())-2, max(coords[\"x\"].max(),coords[\"y\"].max())+2)\n",
    "coords.plot(x=\"x\",y=\"y\", style=\"o\", grid=True, legend=False,\n",
    "            xlim=coords_plot_size, ylim=coords_plot_size,\n",
    "            xticks=np.arange(coords_plot_size[0], coords_plot_size[1], 2),\n",
    "            yticks=np.arange(coords_plot_size[0], coords_plot_size[1], 2)).axis('equal')\n",
    "\n",
    "coords = wifi_samples_test[[\"x\",\"y\"]].drop_duplicates().sort_values(by=[\"x\",\"y\"]).reset_index(drop=True)\n",
    "coords_plot_size = (min(coords[\"x\"].min(),coords[\"y\"].min())-2, max(coords[\"x\"].max(),coords[\"y\"].max())+2)\n",
    "coords.plot(x=\"x\",y=\"y\", style=\"o\", grid=True, legend=False,\n",
    "            xlim=coords_plot_size, ylim=coords_plot_size,\n",
    "            xticks=np.arange(coords_plot_size[0], coords_plot_size[1], 2),\n",
    "            yticks=np.arange(coords_plot_size[0], coords_plot_size[1], 2)).axis('equal')\n",
    "\n",
    "coords = wifi_samples_all[[\"x\",\"y\"]].drop_duplicates().sort_values(by=[\"x\",\"y\"]).reset_index(drop=True)\n",
    "coords_plot_size = (min(coords[\"x\"].min(),coords[\"y\"].min())-2, max(coords[\"x\"].max(),coords[\"y\"].max())+2)\n",
    "coords.plot(x=\"x\",y=\"y\", style=\"o\", grid=True, legend=False,\n",
    "            xlim=coords_plot_size, ylim=coords_plot_size,\n",
    "            xticks=np.arange(coords_plot_size[0], coords_plot_size[1], 2),\n",
    "            yticks=np.arange(coords_plot_size[0], coords_plot_size[1], 2)).axis('equal')"
   ]
  },
  {
   "cell_type": "markdown",
   "metadata": {},
   "source": [
    "### Signal Strength Distribution ###"
   ]
  },
  {
   "cell_type": "code",
   "execution_count": 8,
   "metadata": {
    "collapsed": false
   },
   "outputs": [
    {
     "data": {
      "text/plain": [
       "array([[<matplotlib.axes._subplots.AxesSubplot object at 0x000001C7B8C7BE48>]], dtype=object)"
      ]
     },
     "execution_count": 8,
     "metadata": {},
     "output_type": "execute_result"
    },
    {
     "data": {
      "image/png": "[encoded data removed]",
      "text/plain": [
       "<matplotlib.figure.Figure at 0x1c7b92d8d68>"
      ]
     },
     "metadata": {},
     "output_type": "display_data"
    }
   ],
   "source": [
    "wifi_results_all.hist(column=\"signal_strength\")"
   ]
  },
  {
   "cell_type": "markdown",
   "metadata": {},
   "source": [
    "### How often has each Access Point been detected? ###"
   ]
  },
  {
   "cell_type": "code",
   "execution_count": 9,
   "metadata": {
    "collapsed": false
   },
   "outputs": [
    {
     "data": {
      "text/plain": [
       "<matplotlib.axes._subplots.AxesSubplot at 0x1c7b9142160>"
      ]
     },
     "execution_count": 9,
     "metadata": {},
     "output_type": "execute_result"
    },
    {
     "data": {
      "image/png": "[encoded data removed]",
      "text/plain": [
       "<matplotlib.figure.Figure at 0x1c7b923c438>"
      ]
     },
     "metadata": {},
     "output_type": "display_data"
    }
   ],
   "source": [
    "mac_address_group = wifi_results_all.groupby(\"mac_address\")\n",
    "mac_address_group.size().plot(kind=\"bar\")\n",
    "# mac_address_group.size()"
   ]
  },
  {
   "cell_type": "markdown",
   "metadata": {},
   "source": [
    "### How many times were Wi-Fi results collected at each location? ###"
   ]
  },
  {
   "cell_type": "code",
   "execution_count": 10,
   "metadata": {
    "collapsed": false,
    "scrolled": false
   },
   "outputs": [
    {
     "data": {
      "text/plain": [
       "<matplotlib.axes._subplots.AxesSubplot at 0x1c7b93e8240>"
      ]
     },
     "execution_count": 10,
     "metadata": {},
     "output_type": "execute_result"
    },
    {
     "data": {
      "image/png": "[encoded data removed]",
      "text/plain": [
       "<matplotlib.figure.Figure at 0x1c7b93f5780>"
      ]
     },
     "metadata": {},
     "output_type": "display_data"
    }
   ],
   "source": [
    "coord_group = wifi_results_all.groupby([\"x\", \"y\"])\n",
    "coord_group.size().plot(kind=\"bar\")\n",
    "# coord_group.size()"
   ]
  },
  {
   "cell_type": "markdown",
   "metadata": {},
   "source": [
    "## Positioning ##"
   ]
  },
  {
   "cell_type": "markdown",
   "metadata": {},
   "source": [
    "Generalizing regression experiments"
   ]
  },
  {
   "cell_type": "code",
   "execution_count": 11,
   "metadata": {
    "collapsed": false
   },
   "outputs": [],
   "source": [
    "def regression_experiment(regressor, training_data, train_cols, target_cols, test_data, predicted_cols):\n",
    "    regressor.fit(training_data[train_cols], training_data[target_cols])\n",
    "    predictions = pd.DataFrame(regressor.predict(test_data[train_cols]), columns=predicted_cols)\n",
    "    results = pd.concat([test_data[target_cols], predictions], axis=1)\n",
    "    \n",
    "    results[\"euclidean_distance_error\"] = 0\n",
    "    for col in target_cols:\n",
    "        results[\"euclidean_distance_error\"] += (results[col] - results[col+\"_predicted\"])**2\n",
    "    results[\"euclidean_distance_error\"] = results[\"euclidean_distance_error\"].apply(np.sqrt)\n",
    "    \n",
    "    return results"
   ]
  },
  {
   "cell_type": "markdown",
   "metadata": {},
   "source": [
    "Running multiple regressions experiments, with varying parameters and implementations, while collecting the results for further analysis."
   ]
  },
  {
   "cell_type": "code",
   "execution_count": 12,
   "metadata": {
    "collapsed": false
   },
   "outputs": [],
   "source": [
    "regressors = collections.OrderedDict()\n",
    "# SVR is only able to predict one coordinate at a time. I'm not sure if it is a good idea to just predict each coordinate in separate and merge them together later. Maybe is not such a bad idea. I don't know!\n",
    "# regressors[\"svr\"] = svm.SVR()\n",
    "for i in range(1, 6):\n",
    "    regressors[\"knn\"+str(i)] = KNeighborsRegressor(n_neighbors=i,\n",
    "                                                   algorithm=\"brute\",\n",
    "                                                   weights=\"distance\")    \n",
    "results = collections.OrderedDict()\n",
    "for key, regressor in regressors.items():\n",
    "    results[key] = regression_experiment(regressor, wifi_samples_train, mac_addresses, [\"x\",\"y\"], wifi_samples_test, [\"x_predicted\",\"y_predicted\"])"
   ]
  },
  {
   "cell_type": "markdown",
   "metadata": {},
   "source": [
    "Given the collected results compute some performance metrics to compare the available options"
   ]
  },
  {
   "cell_type": "code",
   "execution_count": 13,
   "metadata": {
    "collapsed": false,
    "scrolled": true
   },
   "outputs": [
    {
     "data": {
      "text/html": [
       "<div>\n",
       "<table border=\"1\" class=\"dataframe\">\n",
       "  <thead>\n",
       "    <tr style=\"text-align: right;\">\n",
       "      <th></th>\n",
       "      <th>knn1</th>\n",
       "      <th>knn2</th>\n",
       "      <th>knn3</th>\n",
       "      <th>knn4</th>\n",
       "      <th>knn5</th>\n",
       "    </tr>\n",
       "  </thead>\n",
       "  <tbody>\n",
       "    <tr>\n",
       "      <th>mean_absolute_error</th>\n",
       "      <td>2.367062</td>\n",
       "      <td>2.084783</td>\n",
       "      <td>2.063632</td>\n",
       "      <td>1.992229</td>\n",
       "      <td>1.965854</td>\n",
       "    </tr>\n",
       "    <tr>\n",
       "      <th>mean_squared_error</th>\n",
       "      <td>7.475000</td>\n",
       "      <td>6.273916</td>\n",
       "      <td>5.902786</td>\n",
       "      <td>5.563353</td>\n",
       "      <td>5.288708</td>\n",
       "    </tr>\n",
       "    <tr>\n",
       "      <th>median_absolute_error</th>\n",
       "      <td>2.000000</td>\n",
       "      <td>2.000000</td>\n",
       "      <td>2.000000</td>\n",
       "      <td>2.000000</td>\n",
       "      <td>2.000000</td>\n",
       "    </tr>\n",
       "    <tr>\n",
       "      <th>percentile90</th>\n",
       "      <td>2.000000</td>\n",
       "      <td>3.895113</td>\n",
       "      <td>3.295614</td>\n",
       "      <td>3.036400</td>\n",
       "      <td>3.441824</td>\n",
       "    </tr>\n",
       "    <tr>\n",
       "      <th>percentile95</th>\n",
       "      <td>6.000000</td>\n",
       "      <td>6.000000</td>\n",
       "      <td>4.731724</td>\n",
       "      <td>4.950589</td>\n",
       "      <td>4.427354</td>\n",
       "    </tr>\n",
       "    <tr>\n",
       "      <th>std_dev_distance_error</th>\n",
       "      <td>1.369644</td>\n",
       "      <td>1.389827</td>\n",
       "      <td>1.283604</td>\n",
       "      <td>1.264003</td>\n",
       "      <td>1.194613</td>\n",
       "    </tr>\n",
       "  </tbody>\n",
       "</table>\n",
       "</div>"
      ],
      "text/plain": [
       "                            knn1      knn2      knn3      knn4      knn5\n",
       "mean_absolute_error     2.367062  2.084783  2.063632  1.992229  1.965854\n",
       "mean_squared_error      7.475000  6.273916  5.902786  5.563353  5.288708\n",
       "median_absolute_error   2.000000  2.000000  2.000000  2.000000  2.000000\n",
       "percentile90            2.000000  3.895113  3.295614  3.036400  3.441824\n",
       "percentile95            6.000000  6.000000  4.731724  4.950589  4.427354\n",
       "std_dev_distance_error  1.369644  1.389827  1.283604  1.264003  1.194613"
      ]
     },
     "execution_count": 13,
     "metadata": {},
     "output_type": "execute_result"
    }
   ],
   "source": [
    "metrics = collections.OrderedDict()\n",
    "for key, result in results.items():\n",
    "    metrics[key] = collections.OrderedDict()\n",
    "    \n",
    "    metrics[key][\"mean_absolute_error\"] = sklearn.metrics.mean_absolute_error(wifi_samples_test[\"error\"], result[\"euclidean_distance_error\"])\n",
    "    metrics[key][\"std_dev_distance_error\"] = results[key][\"euclidean_distance_error\"].std()\n",
    "\n",
    "    metrics[key][\"mean_squared_error\"] = sklearn.metrics.mean_squared_error(wifi_samples_test[\"error\"], result[\"euclidean_distance_error\"])\n",
    "    metrics[key][\"median_absolute_error\"] = sklearn.metrics.median_absolute_error(wifi_samples_test[\"error\"], result[\"euclidean_distance_error\"])\n",
    "    \n",
    "    metrics[key][\"percentile90\"] = results[key][\"euclidean_distance_error\"].quantile(q=0.9)\n",
    "    metrics[key][\"percentile95\"] = results[key][\"euclidean_distance_error\"].quantile(q=0.95)\n",
    "\n",
    "metrics_table = pd.DataFrame.from_dict(metrics)\n",
    "metrics_table.to_csv(\"metrics.csv\")\n",
    "metrics_table"
   ]
  }
 ],
 "metadata": {
  "kernelspec": {
   "display_name": "Python 3",
   "language": "python",
   "name": "python3"
  },
  "language_info": {
   "codemirror_mode": {
    "name": "ipython",
    "version": 3
   },
   "file_extension": ".py",
   "mimetype": "text/x-python",
   "name": "python",
   "nbconvert_exporter": "python",
   "pygments_lexer": "ipython3",
   "version": "3.6.0"
  }
 },
 "nbformat": 4,
 "nbformat_minor": 0
}
