{
 "cells": [
  {
   "cell_type": "markdown",
   "metadata": {},
   "source": [
    "# YanuX Cruncher Metrics Notebook #"
   ]
  },
  {
   "cell_type": "markdown",
   "metadata": {},
   "source": [
    "## Imports ##"
   ]
  },
  {
   "cell_type": "code",
   "execution_count": 1,
   "metadata": {
    "collapsed": false
   },
   "outputs": [],
   "source": [
    "%matplotlib inline\n",
    "\n",
    "#Python Standard Library\n",
    "import sys\n",
    "import math\n",
    "import collections\n",
    "#Pandas\n",
    "import pandas as pd\n",
    "#NumPy\n",
    "import numpy as np                    \n",
    "#SciPy\n",
    "import scipy as sp\n",
    "#Matplotlib\n",
    "import matplotlib.pyplot as plt       \n",
    "#scikit-learn\n",
    "from sklearn.neighbors import KNeighborsRegressor\n",
    "from sklearn import svm\n",
    "import sklearn.metrics\n",
    "#YanuX Cruncher\n",
    "from yanux.cruncher.model.loader import JsonLoader\n",
    "from yanux.cruncher.model.wifi import WifiLogs\n",
    "import yanux.cruncher.ml.utilities as mlutils"
   ]
  },
  {
   "cell_type": "markdown",
   "metadata": {},
   "source": [
    "## Load Data ##"
   ]
  },
  {
   "cell_type": "code",
   "execution_count": 2,
   "metadata": {
    "collapsed": true
   },
   "outputs": [],
   "source": [
    "json_loader = JsonLoader(\"data\")\n",
    "wifi_logs = WifiLogs(json_loader.json_data)"
   ]
  },
  {
   "cell_type": "markdown",
   "metadata": {},
   "source": [
    "Load the data as individual Wi-Fi Results, i.e., each line represents a single Access Point (AP) signal strength measurement.\n",
    "\n",
    "(NOTE: Data is being separately loaded as train and test sets)"
   ]
  },
  {
   "cell_type": "code",
   "execution_count": 3,
   "metadata": {
    "collapsed": false
   },
   "outputs": [],
   "source": [
    "wifi_results_columns=[\"filename\", \"x\", \"y\", \"floor\", \"sample_id\", \"mac_address\", \"timestamp\", \"signal_strength\"]\n",
    "wifi_results = pd.DataFrame(wifi_logs.wifi_results(), columns=wifi_results_columns)"
   ]
  },
  {
   "cell_type": "markdown",
   "metadata": {},
   "source": [
    "Load the data as aggregated Wi-Fi Sample, i.e., each line represents a point in time at which a scan for Wi-Fi networks was performed. Each column beyond *filename*, *x*, *y*, *floor*, *sample_id* and *timestamp* represents a different AP and the values at each of those columns are the AP's signal strength when each of the samples was taken.\n",
    "\n",
    "Whenever a sample didn't capture an AP's signal, either because it was completely out of range, or because the signal was so weak that it was just ignored by the hardware and software stack, the value was considered to an arbitrarly low value.\n",
    "\n",
    "(NOTE: Data is being separately loaded as train and test sets)"
   ]
  },
  {
   "cell_type": "code",
   "execution_count": 4,
   "metadata": {
    "collapsed": false
   },
   "outputs": [],
   "source": [
    "mac_addresses = wifi_results.mac_address.unique()\n",
    "wifi_samples_columns = [\"filename\", \"x\", \"y\", \"floor\", \"sample_id\", \"timestamp\"]\n",
    "wifi_samples_columns.extend(mac_addresses)\n",
    "\n",
    "wifi_samples = pd.DataFrame(wifi_logs.wifi_samples(), columns=wifi_samples_columns)\n",
    "wifi_samples = wifi_samples.sort_values([\"filename\", \"x\", \"y\", \"floor\", \"sample_id\"]).reset_index(drop=True)\n",
    "wifi_samples = wifi_samples.fillna(-100)\n",
    "\n",
    "rescaled_data = mlutils.normalize(wifi_samples[mac_addresses], mode=\"rescale\")\n",
    "standardized_data = mlutils.normalize(wifi_samples[mac_addresses], mode=\"standardize\")\n",
    "normalized_data = pd.merge(rescaled_data, standardized_data, left_index=True, right_index=True, suffixes=['_rescale', '_standardize'])\n",
    "wifi_samples = wifi_samples.join(normalized_data)\n",
    "\n",
    "wifi_samples[\"error\"] = 0.0"
   ]
  },
  {
   "cell_type": "markdown",
   "metadata": {},
   "source": [
    "Split the samples into training and test data"
   ]
  },
  {
   "cell_type": "code",
   "execution_count": 5,
   "metadata": {
    "collapsed": false
   },
   "outputs": [],
   "source": [
    "# 30% of the data will be used for training. The rest will be used for testing.\n",
    "train_data_frac = 0.3\n",
    "#wifi_samples_train = wifi_samples.sample(frac=train_data_frac)\n",
    "#wifi_samples_test = wifi_samples.mask(wifi_samples.isin(wifi_samples_train)).dropna().reset_index(drop=True)\n",
    "#wifi_samples_train = wifi_samples_train.reset_index(drop=True)\n",
    "\n",
    "train_ids = []\n",
    "test_ids = []\n",
    "for key, indices in wifi_samples.groupby([\"x\",\"y\",\"floor\"]).indices.items():\n",
    "    #random.shuffle(indices)\n",
    "    slice_index = int(len(indices) * train_data_frac)\n",
    "    train_ids.extend(indices[:slice_index])\n",
    "    test_ids.extend(indices[slice_index:])\n",
    "    \n",
    "wifi_samples_train = wifi_samples.ix[train_ids].reset_index(drop=True)\n",
    "wifi_samples_test = wifi_samples.ix[test_ids].reset_index(drop=True)"
   ]
  },
  {
   "cell_type": "markdown",
   "metadata": {},
   "source": [
    "### Save everything to CSV ###"
   ]
  },
  {
   "cell_type": "code",
   "execution_count": 6,
   "metadata": {
    "collapsed": false
   },
   "outputs": [],
   "source": [
    "wifi_results.to_csv(\"wifi_results.csv\")\n",
    "wifi_samples.to_csv(\"wifi_samples.csv\")\n",
    "wifi_samples_train.to_csv(\"wifi_samples_train.csv\")\n",
    "wifi_samples_test.to_csv(\"wifi_samples_test.csv\")"
   ]
  },
  {
   "cell_type": "markdown",
   "metadata": {},
   "source": [
    "## Plots ##"
   ]
  },
  {
   "cell_type": "markdown",
   "metadata": {},
   "source": [
    "### The coordinates of the points where data was captured ###"
   ]
  },
  {
   "cell_type": "code",
   "execution_count": 7,
   "metadata": {
    "collapsed": false
   },
   "outputs": [
    {
     "data": {
      "text/plain": [
       "(0.0, 37.5, 0.5, 11.0)"
      ]
     },
     "execution_count": 7,
     "metadata": {},
     "output_type": "execute_result"
    },
    {
     "data": {
      "image/png": "[encoded data removed]",
      "text/plain": [
       "<matplotlib.figure.Figure at 0x25670ca5e48>"
      ]
     },
     "metadata": {},
     "output_type": "display_data"
    },
    {
     "data": {
      "image/png": "[encoded data removed]",
      "text/plain": [
       "<matplotlib.figure.Figure at 0x2566fc5d828>"
      ]
     },
     "metadata": {},
     "output_type": "display_data"
    },
    {
     "data": {
      "image/png": "[encoded data removed]",
      "text/plain": [
       "<matplotlib.figure.Figure at 0x25670d29da0>"
      ]
     },
     "metadata": {},
     "output_type": "display_data"
    }
   ],
   "source": [
    "coords = wifi_samples_train[[\"x\",\"y\"]].drop_duplicates().sort_values(by=[\"x\",\"y\"]).reset_index(drop=True)\n",
    "coords_plot_size = (min(coords[\"x\"].min(),coords[\"y\"].min())-2, max(coords[\"x\"].max(),coords[\"y\"].max())+2)\n",
    "coords.plot(x=\"x\",y=\"y\", style=\"o\", grid=True, legend=False,\n",
    "            xlim=coords_plot_size, ylim=coords_plot_size,\n",
    "            xticks=np.arange(coords_plot_size[0], coords_plot_size[1], 2),\n",
    "            yticks=np.arange(coords_plot_size[0], coords_plot_size[1], 2)).axis('equal')\n",
    "\n",
    "coords_train = wifi_samples_test[[\"x\",\"y\"]].drop_duplicates().sort_values(by=[\"x\",\"y\"]).reset_index(drop=True)\n",
    "coords_train.plot(x=\"x\",y=\"y\", style=\"o\", grid=True, legend=False,\n",
    "                  xlim=coords_plot_size, ylim=coords_plot_size,\n",
    "                  xticks=np.arange(coords_plot_size[0], coords_plot_size[1], 2),\n",
    "                  yticks=np.arange(coords_plot_size[0], coords_plot_size[1], 2)).axis('equal')\n",
    "\n",
    "coords_test = wifi_samples[[\"x\",\"y\"]].drop_duplicates().sort_values(by=[\"x\",\"y\"]).reset_index(drop=True)\n",
    "coords_test.plot(x=\"x\",y=\"y\", style=\"o\", grid=True, legend=False,\n",
    "                 xlim=coords_plot_size, ylim=coords_plot_size,\n",
    "                 xticks=np.arange(coords_plot_size[0], coords_plot_size[1], 2),\n",
    "                 yticks=np.arange(coords_plot_size[0], coords_plot_size[1], 2)).axis('equal')"
   ]
  },
  {
   "cell_type": "markdown",
   "metadata": {},
   "source": [
    "### Signal Strength Distribution ###"
   ]
  },
  {
   "cell_type": "code",
   "execution_count": 8,
   "metadata": {
    "collapsed": false,
    "scrolled": true
   },
   "outputs": [
    {
     "data": {
      "text/plain": [
       "array([[<matplotlib.axes._subplots.AxesSubplot object at 0x000002566FBDAEB8>]], dtype=object)"
      ]
     },
     "execution_count": 8,
     "metadata": {},
     "output_type": "execute_result"
    },
    {
     "data": {
      "image/png": "[encoded data removed]",
      "text/plain": [
       "<matplotlib.figure.Figure at 0x2566a66bf98>"
      ]
     },
     "metadata": {},
     "output_type": "display_data"
    }
   ],
   "source": [
    "wifi_results.hist(column=\"signal_strength\")"
   ]
  },
  {
   "cell_type": "markdown",
   "metadata": {},
   "source": [
    "### How often has each Access Point been detected? ###"
   ]
  },
  {
   "cell_type": "code",
   "execution_count": 9,
   "metadata": {
    "collapsed": false
   },
   "outputs": [
    {
     "data": {
      "text/plain": [
       "<matplotlib.axes._subplots.AxesSubplot at 0x25670d3df28>"
      ]
     },
     "execution_count": 9,
     "metadata": {},
     "output_type": "execute_result"
    },
    {
     "data": {
      "image/png": "[encoded data removed]",
      "text/plain": [
       "<matplotlib.figure.Figure at 0x25670d7c320>"
      ]
     },
     "metadata": {},
     "output_type": "display_data"
    }
   ],
   "source": [
    "mac_address_group = wifi_results.groupby(\"mac_address\")\n",
    "mac_address_group.size().plot(kind=\"bar\")\n",
    "# mac_address_group.size()"
   ]
  },
  {
   "cell_type": "markdown",
   "metadata": {},
   "source": [
    "### How many times were Wi-Fi results collected at each location? ###"
   ]
  },
  {
   "cell_type": "code",
   "execution_count": 10,
   "metadata": {
    "collapsed": false,
    "scrolled": false
   },
   "outputs": [
    {
     "data": {
      "text/plain": [
       "<matplotlib.axes._subplots.AxesSubplot at 0x25670d83e10>"
      ]
     },
     "execution_count": 10,
     "metadata": {},
     "output_type": "execute_result"
    },
    {
     "data": {
      "image/png": "[encoded data removed]",
      "text/plain": [
       "<matplotlib.figure.Figure at 0x25670d751d0>"
      ]
     },
     "metadata": {},
     "output_type": "display_data"
    }
   ],
   "source": [
    "coord_group = wifi_results.groupby([\"x\", \"y\"])\n",
    "coord_group.size().plot(kind=\"bar\")\n",
    "# coord_group.size()"
   ]
  },
  {
   "cell_type": "markdown",
   "metadata": {},
   "source": [
    "## Positioning ##"
   ]
  },
  {
   "cell_type": "markdown",
   "metadata": {},
   "source": [
    "Generalizing regression experiments"
   ]
  },
  {
   "cell_type": "code",
   "execution_count": 11,
   "metadata": {
    "collapsed": false
   },
   "outputs": [],
   "source": [
    "def regression_experiment(regressor, training_data, train_cols, target_cols, test_data, predicted_cols):\n",
    "    regressor.fit(training_data[train_cols], training_data[target_cols])\n",
    "    predictions = pd.DataFrame(regressor.predict(test_data[train_cols]), columns=predicted_cols)\n",
    "    results = pd.concat([test_data[target_cols], predictions], axis=1)\n",
    "    \n",
    "    results[\"euclidean_distance_error\"] = 0\n",
    "    for col in target_cols:\n",
    "        results[\"euclidean_distance_error\"] += (results[col] - results[col+\"_predicted\"])**2\n",
    "    results[\"euclidean_distance_error\"] = results[\"euclidean_distance_error\"].apply(np.sqrt)\n",
    "    \n",
    "    return results"
   ]
  },
  {
   "cell_type": "markdown",
   "metadata": {},
   "source": [
    "Running multiple regressions experiments, with varying parameters and implementations, while collecting the results for further analysis."
   ]
  },
  {
   "cell_type": "code",
   "execution_count": 12,
   "metadata": {
    "collapsed": false,
    "scrolled": true
   },
   "outputs": [],
   "source": [
    "regressors = collections.OrderedDict()\n",
    "for i in range(1, 6):\n",
    "    regressors[\"knn\"+str(i)] = KNeighborsRegressor(n_neighbors=i,\n",
    "                                                   algorithm=\"brute\",\n",
    "                                                   weights=\"distance\")    \n",
    "results = collections.OrderedDict()\n",
    "for key, regressor in regressors.items():\n",
    "    results[key] = regression_experiment(regressor, wifi_samples_train,\n",
    "                                         mac_addresses, [\"x\",\"y\"],\n",
    "                                         wifi_samples_test, [\"x_predicted\",\"y_predicted\"])\n",
    "    #results[key+\"_rescale\"] = regression_experiment(regressor, wifi_samples_train,\n",
    "    #                                                [col+\"_rescale\" for col in mac_addresses], [\"x\",\"y\"],\n",
    "    #                                                wifi_samples_test, [\"x_predicted\",\"y_predicted\"])\n",
    "    #results[key+\"_standardize\"] = regression_experiment(regressor, wifi_samples_train,\n",
    "    #                                                    [col+\"_standardize\" for col in mac_addresses], [\"x\",\"y\"], \n",
    "    #                                                    wifi_samples_test, [\"x_predicted\",\"y_predicted\"])"
   ]
  },
  {
   "cell_type": "markdown",
   "metadata": {},
   "source": [
    "Given the collected results compute some performance metrics to compare the available options"
   ]
  },
  {
   "cell_type": "code",
   "execution_count": 13,
   "metadata": {
    "collapsed": false,
    "scrolled": true
   },
   "outputs": [
    {
     "data": {
      "text/html": [
       "<div>\n",
       "<table border=\"1\" class=\"dataframe\">\n",
       "  <thead>\n",
       "    <tr style=\"text-align: right;\">\n",
       "      <th></th>\n",
       "      <th>knn1</th>\n",
       "      <th>knn2</th>\n",
       "      <th>knn3</th>\n",
       "      <th>knn4</th>\n",
       "      <th>knn5</th>\n",
       "    </tr>\n",
       "  </thead>\n",
       "  <tbody>\n",
       "    <tr>\n",
       "      <th>mean_absolute_error</th>\n",
       "      <td>1.286359e+00</td>\n",
       "      <td>1.278785</td>\n",
       "      <td>1.290761</td>\n",
       "      <td>1.296185</td>\n",
       "      <td>1.298466</td>\n",
       "    </tr>\n",
       "    <tr>\n",
       "      <th>mean_squared_error</th>\n",
       "      <td>4.397143e+00</td>\n",
       "      <td>3.885239</td>\n",
       "      <td>3.896175</td>\n",
       "      <td>3.860632</td>\n",
       "      <td>3.871534</td>\n",
       "    </tr>\n",
       "    <tr>\n",
       "      <th>median_absolute_error</th>\n",
       "      <td>1.776357e-15</td>\n",
       "      <td>0.978713</td>\n",
       "      <td>0.675815</td>\n",
       "      <td>0.941422</td>\n",
       "      <td>0.823400</td>\n",
       "    </tr>\n",
       "    <tr>\n",
       "      <th>percentile_90</th>\n",
       "      <td>4.000000e+00</td>\n",
       "      <td>4.000000</td>\n",
       "      <td>3.989101</td>\n",
       "      <td>3.571196</td>\n",
       "      <td>3.621239</td>\n",
       "    </tr>\n",
       "    <tr>\n",
       "      <th>percentile_95</th>\n",
       "      <td>4.000000e+00</td>\n",
       "      <td>4.000000</td>\n",
       "      <td>4.000000</td>\n",
       "      <td>4.000000</td>\n",
       "      <td>4.340494</td>\n",
       "    </tr>\n",
       "    <tr>\n",
       "      <th>std_dev_distance_error</th>\n",
       "      <td>1.657211e+00</td>\n",
       "      <td>1.501055</td>\n",
       "      <td>1.494424</td>\n",
       "      <td>1.477720</td>\n",
       "      <td>1.479408</td>\n",
       "    </tr>\n",
       "  </tbody>\n",
       "</table>\n",
       "</div>"
      ],
      "text/plain": [
       "                                knn1      knn2      knn3      knn4      knn5\n",
       "mean_absolute_error     1.286359e+00  1.278785  1.290761  1.296185  1.298466\n",
       "mean_squared_error      4.397143e+00  3.885239  3.896175  3.860632  3.871534\n",
       "median_absolute_error   1.776357e-15  0.978713  0.675815  0.941422  0.823400\n",
       "percentile_90           4.000000e+00  4.000000  3.989101  3.571196  3.621239\n",
       "percentile_95           4.000000e+00  4.000000  4.000000  4.000000  4.340494\n",
       "std_dev_distance_error  1.657211e+00  1.501055  1.494424  1.477720  1.479408"
      ]
     },
     "execution_count": 13,
     "metadata": {},
     "output_type": "execute_result"
    }
   ],
   "source": [
    "metrics = collections.OrderedDict()\n",
    "for key, result in results.items():\n",
    "    metrics[key] = collections.OrderedDict()\n",
    "    \n",
    "    metrics[key][\"mean_absolute_error\"] = sklearn.metrics.mean_absolute_error(wifi_samples_test[\"error\"], result[\"euclidean_distance_error\"])\n",
    "    metrics[key][\"std_dev_distance_error\"] = results[key][\"euclidean_distance_error\"].std()\n",
    "\n",
    "    metrics[key][\"mean_squared_error\"] = sklearn.metrics.mean_squared_error(wifi_samples_test[\"error\"], result[\"euclidean_distance_error\"])\n",
    "    metrics[key][\"median_absolute_error\"] = sklearn.metrics.median_absolute_error(wifi_samples_test[\"error\"], result[\"euclidean_distance_error\"])\n",
    "    \n",
    "    metrics[key][\"percentile_90\"] = results[key][\"euclidean_distance_error\"].quantile(q=0.9)\n",
    "    metrics[key][\"percentile_95\"] = results[key][\"euclidean_distance_error\"].quantile(q=0.95)\n",
    "\n",
    "metrics_table = pd.DataFrame.from_dict(metrics)\n",
    "metrics_table.to_csv(\"metrics.csv\")\n",
    "\n",
    "metrics_table"
   ]
  }
 ],
 "metadata": {
  "kernelspec": {
   "display_name": "Python 3",
   "language": "python",
   "name": "python3"
  },
  "language_info": {
   "codemirror_mode": {
    "name": "ipython",
    "version": 3
   },
   "file_extension": ".py",
   "mimetype": "text/x-python",
   "name": "python",
   "nbconvert_exporter": "python",
   "pygments_lexer": "ipython3",
   "version": "3.5.1"
  }
 },
 "nbformat": 4,
 "nbformat_minor": 0
}
