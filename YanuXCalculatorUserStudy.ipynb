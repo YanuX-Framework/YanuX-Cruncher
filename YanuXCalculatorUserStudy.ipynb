{
 "cells": [
  {
   "cell_type": "markdown",
   "id": "d830d8aa-dd76-4d3f-9ba8-7b0b1e6a0989",
   "metadata": {},
   "source": [
    "# Yanux Calculator"
   ]
  },
  {
   "cell_type": "markdown",
   "id": "1a68b6d1-a867-43e8-b0cb-a8ba27bf98b8",
   "metadata": {},
   "source": [
    "## Imports"
   ]
  },
  {
   "cell_type": "code",
   "execution_count": 13,
   "id": "fa4157cb-71ba-4bbb-ac86-009c60d6c556",
   "metadata": {},
   "outputs": [],
   "source": [
    "import numpy as np\n",
    "from scipy import stats\n",
    "import statsmodels.stats.proportion as smp\n",
    "import pandas as pd\n",
    "import matplotlib.pyplot as plt"
   ]
  },
  {
   "cell_type": "markdown",
   "id": "2f0a8b2c-17f3-4410-8327-c25ed70bf82d",
   "metadata": {},
   "source": [
    "## Helper Functions"
   ]
  },
  {
   "cell_type": "code",
   "execution_count": 25,
   "id": "15df8f4f-3996-4dbc-a667-ef54ec5a25bd",
   "metadata": {},
   "outputs": [],
   "source": [
    "def print_stats(data, hist_bins=10, hist_size=(8,4)):\n",
    "    print('--- Statistics ----')\n",
    "    display(data.describe())\n",
    "    print('\\n')\n",
    "    print('--- Counting Unique Values ----')\n",
    "    display(data.value_counts())\n",
    "    print('\\n')\n",
    "    print('--- Basic Histogram ----')\n",
    "    data.hist(bins=hist_bins, figsize=hist_size)\n",
    "    plt.show()\n",
    "    \n",
    "def calculate_sus(data):\n",
    "    for i in range(len(data.columns)):\n",
    "        if i % 2:\n",
    "            data.iloc[:,i] = 7 - data.iloc[:,i]\n",
    "        else:\n",
    "            data.iloc[:,i] = data.iloc[:,i] - 1\n",
    "\n",
    "    data['Score'] = data.iloc[:,0:10].sum(axis=1)\n",
    "    data['Score 100'] = data['Score'] * (100/60)\n",
    "    return data\n",
    "\n",
    "def confidence_interval_t(data, confidence_level=0.95):\n",
    "    return stats.t.interval(confidence_level, data.count()-1, data.mean(), data.sem())\n",
    "    "
   ]
  },
  {
   "cell_type": "markdown",
   "id": "126af098-6873-4b8b-9b49-406de2451eaf",
   "metadata": {},
   "source": [
    "## Load Excel"
   ]
  },
  {
   "cell_type": "code",
   "execution_count": 26,
   "id": "49cac732-e40f-473c-b8a6-44644f6e6b49",
   "metadata": {},
   "outputs": [],
   "source": [
    "data = pd.read_excel('data/userstudies/yanux-calculator-questionnaire-responses.xlsx', sheet_name=None)  "
   ]
  },
  {
   "cell_type": "code",
   "execution_count": 27,
   "id": "0261dc60-6f7a-46b8-bf29-aaefa0d7ad79",
   "metadata": {},
   "outputs": [],
   "source": [
    "data_basic = data['Basic']\n",
    "#display(data_basic)"
   ]
  },
  {
   "cell_type": "markdown",
   "id": "b189a1a1-cfad-4f88-b4d7-fb5aee3be21b",
   "metadata": {},
   "source": [
    "### Age"
   ]
  },
  {
   "cell_type": "code",
   "execution_count": 28,
   "id": "b1af5c6d-588d-454c-946c-c353c099a381",
   "metadata": {},
   "outputs": [
    {
     "name": "stdout",
     "output_type": "stream",
     "text": [
      "--- Statistics ----\n"
     ]
    },
    {
     "data": {
      "text/plain": [
       "count    13.000000\n",
       "mean     31.846154\n",
       "std      13.309434\n",
       "min      20.000000\n",
       "25%      22.000000\n",
       "50%      24.000000\n",
       "75%      37.000000\n",
       "max      60.000000\n",
       "Name: Age, dtype: float64"
      ]
     },
     "metadata": {},
     "output_type": "display_data"
    },
    {
     "name": "stdout",
     "output_type": "stream",
     "text": [
      "\n",
      "\n",
      "--- Counting Unique Values ----\n"
     ]
    },
    {
     "data": {
      "text/plain": [
       "22    2\n",
       "23    2\n",
       "34    1\n",
       "60    1\n",
       "49    1\n",
       "20    1\n",
       "29    1\n",
       "37    1\n",
       "21    1\n",
       "50    1\n",
       "24    1\n",
       "Name: Age, dtype: int64"
      ]
     },
     "metadata": {},
     "output_type": "display_data"
    },
    {
     "name": "stdout",
     "output_type": "stream",
     "text": [
      "\n",
      "\n",
      "--- Basic Histogram ----\n"
     ]
    },
    {
     "data": {
      "image/png": "[encoded data removed]",
      "text/plain": [
       "<Figure size 576x288 with 1 Axes>"
      ]
     },
     "metadata": {
      "needs_background": "light"
     },
     "output_type": "display_data"
    },
    {
     "name": "stdout",
     "output_type": "stream",
     "text": [
      "Population Standard Deviation:\n",
      "12.787290287602307\n"
     ]
    }
   ],
   "source": [
    "data_basic_age = data_basic['Age']\n",
    "print_stats(data_basic_age, hist_bins=20)\n",
    "print('Population Standard Deviation:')\n",
    "print(data_basic_age.std(ddof=0))"
   ]
  },
  {
   "cell_type": "markdown",
   "id": "a0956afc-faa8-4b8f-bb6e-4d28d62a35ae",
   "metadata": {},
   "source": [
    "### Gender"
   ]
  },
  {
   "cell_type": "code",
   "execution_count": 29,
   "id": "93393124-7716-4555-a20a-844893fd5fd0",
   "metadata": {},
   "outputs": [
    {
     "name": "stdout",
     "output_type": "stream",
     "text": [
      "--- Statistics ----\n"
     ]
    },
    {
     "data": {
      "text/plain": [
       "count       13\n",
       "unique       2\n",
       "top       Male\n",
       "freq         8\n",
       "Name: Genre, dtype: object"
      ]
     },
     "metadata": {},
     "output_type": "display_data"
    },
    {
     "name": "stdout",
     "output_type": "stream",
     "text": [
      "\n",
      "\n",
      "--- Counting Unique Values ----\n"
     ]
    },
    {
     "data": {
      "text/plain": [
       "Male      8\n",
       "Female    5\n",
       "Name: Genre, dtype: int64"
      ]
     },
     "metadata": {},
     "output_type": "display_data"
    },
    {
     "name": "stdout",
     "output_type": "stream",
     "text": [
      "\n",
      "\n",
      "--- Basic Histogram ----\n"
     ]
    },
    {
     "data": {
      "image/png": "[encoded data removed]",
      "text/plain": [
       "<Figure size 576x288 with 1 Axes>"
      ]
     },
     "metadata": {
      "needs_background": "light"
     },
     "output_type": "display_data"
    }
   ],
   "source": [
    "#TODO: This should be Gender. I don't know why I called \"Genre\"\n",
    "data_basic_genre = data_basic['Genre']\n",
    "print_stats(data_basic_genre)"
   ]
  },
  {
   "cell_type": "markdown",
   "id": "3fce2ec1-ab72-4b3f-b9eb-e425ef4e10fa",
   "metadata": {},
   "source": [
    "### Education"
   ]
  },
  {
   "cell_type": "code",
   "execution_count": 30,
   "id": "127d6248-0111-4798-b693-54a10eaf0e82",
   "metadata": {},
   "outputs": [
    {
     "name": "stdout",
     "output_type": "stream",
     "text": [
      "--- Statistics ----\n"
     ]
    },
    {
     "data": {
      "text/plain": [
       "count                      13\n",
       "unique                      5\n",
       "top       Secondary Education\n",
       "freq                        4\n",
       "Name: Education, dtype: object"
      ]
     },
     "metadata": {},
     "output_type": "display_data"
    },
    {
     "name": "stdout",
     "output_type": "stream",
     "text": [
      "\n",
      "\n",
      "--- Counting Unique Values ----\n"
     ]
    },
    {
     "data": {
      "text/plain": [
       "Secondary Education         4\n",
       "Bachelor's Degree           4\n",
       "Doctoral Degree             3\n",
       "Master's Degree             1\n",
       "Post-Secondary Education    1\n",
       "Name: Education, dtype: int64"
      ]
     },
     "metadata": {},
     "output_type": "display_data"
    },
    {
     "name": "stdout",
     "output_type": "stream",
     "text": [
      "\n",
      "\n",
      "--- Basic Histogram ----\n"
     ]
    },
    {
     "data": {
      "image/png": "[encoded data removed]",
      "text/plain": [
       "<Figure size 576x288 with 1 Axes>"
      ]
     },
     "metadata": {
      "needs_background": "light"
     },
     "output_type": "display_data"
    }
   ],
   "source": [
    "data_basic_education = data_basic['Education']\n",
    "print_stats(data_basic_education)"
   ]
  },
  {
   "cell_type": "markdown",
   "id": "330a0905-c64c-4486-9a95-0299aeb80d7e",
   "metadata": {},
   "source": [
    "### Type of Devices"
   ]
  },
  {
   "cell_type": "code",
   "execution_count": 31,
   "id": "62fe8978-64fe-415c-9b99-a210a35f6809",
   "metadata": {},
   "outputs": [
    {
     "name": "stdout",
     "output_type": "stream",
     "text": [
      "--- Statistics ----\n"
     ]
    },
    {
     "data": {
      "text/plain": [
       "count                                                  13\n",
       "unique                                                 11\n",
       "top       [Desktop computer, Laptop computer, Smartphone]\n",
       "freq                                                    2\n",
       "Name: Type of Devices, dtype: object"
      ]
     },
     "metadata": {},
     "output_type": "display_data"
    }
   ],
   "source": [
    "data_basic_type_of_devices = data_basic['Type of Devices'].map(lambda x: [i.strip() for i in x.split(\",\")])\n",
    "print('--- Statistics ----')\n",
    "display(data_basic_type_of_devices.describe())\n",
    "#print('--- Basic Histogram ----')\n",
    "#data_basic_type_of_devices.hist()"
   ]
  },
  {
   "cell_type": "code",
   "execution_count": 32,
   "id": "f8e80bb0-db5f-4f47-8a63-700d06cf59a9",
   "metadata": {},
   "outputs": [
    {
     "name": "stdout",
     "output_type": "stream",
     "text": [
      "--- Statistics ----\n"
     ]
    },
    {
     "data": {
      "text/plain": [
       "count    13.000000\n",
       "mean      4.076923\n",
       "std       1.382120\n",
       "min       2.000000\n",
       "25%       3.000000\n",
       "50%       4.000000\n",
       "75%       5.000000\n",
       "max       7.000000\n",
       "Name: Type of Devices, dtype: float64"
      ]
     },
     "metadata": {},
     "output_type": "display_data"
    },
    {
     "name": "stdout",
     "output_type": "stream",
     "text": [
      "\n",
      "\n",
      "--- Counting Unique Values ----\n"
     ]
    },
    {
     "data": {
      "text/plain": [
       "3    4\n",
       "4    4\n",
       "5    2\n",
       "6    1\n",
       "7    1\n",
       "2    1\n",
       "Name: Type of Devices, dtype: int64"
      ]
     },
     "metadata": {},
     "output_type": "display_data"
    },
    {
     "name": "stdout",
     "output_type": "stream",
     "text": [
      "\n",
      "\n",
      "--- Basic Histogram ----\n"
     ]
    },
    {
     "data": {
      "image/png": "[encoded data removed]",
      "text/plain": [
       "<Figure size 576x288 with 1 Axes>"
      ]
     },
     "metadata": {
      "needs_background": "light"
     },
     "output_type": "display_data"
    }
   ],
   "source": [
    "data_number_of_devices = data_basic_type_of_devices.apply(len)\n",
    "print_stats(data_number_of_devices)"
   ]
  },
  {
   "cell_type": "code",
   "execution_count": 33,
   "id": "721987fe-1a3e-49c3-a035-f0f81427b4a7",
   "metadata": {},
   "outputs": [
    {
     "name": "stdout",
     "output_type": "stream",
     "text": [
      "--- Statistics ----\n"
     ]
    },
    {
     "data": {
      "text/plain": [
       "count    13.000000\n",
       "mean      4.076923\n",
       "std       1.382120\n",
       "min       2.000000\n",
       "25%       3.000000\n",
       "50%       4.000000\n",
       "75%       5.000000\n",
       "max       7.000000\n",
       "Name: Number of Devices, dtype: float64"
      ]
     },
     "metadata": {},
     "output_type": "display_data"
    },
    {
     "name": "stdout",
     "output_type": "stream",
     "text": [
      "\n",
      "\n",
      "--- Counting Unique Values ----\n"
     ]
    },
    {
     "data": {
      "text/plain": [
       "3    4\n",
       "4    4\n",
       "5    2\n",
       "6    1\n",
       "7    1\n",
       "2    1\n",
       "Name: Number of Devices, dtype: int64"
      ]
     },
     "metadata": {},
     "output_type": "display_data"
    },
    {
     "name": "stdout",
     "output_type": "stream",
     "text": [
      "\n",
      "\n",
      "--- Basic Histogram ----\n"
     ]
    },
    {
     "data": {
      "image/png": "[encoded data removed]",
      "text/plain": [
       "<Figure size 576x288 with 1 Axes>"
      ]
     },
     "metadata": {
      "needs_background": "light"
     },
     "output_type": "display_data"
    },
    {
     "name": "stdout",
     "output_type": "stream",
     "text": [
      "Population Standard Deviation:\n",
      "1.3278981924332363\n"
     ]
    }
   ],
   "source": [
    "data_basic_multiple_devices = data_basic['Number of Devices']\n",
    "print_stats(data_basic_multiple_devices)\n",
    "print('Population Standard Deviation:')\n",
    "print(data_basic_multiple_devices.std(ddof=0))"
   ]
  },
  {
   "cell_type": "markdown",
   "id": "31c8a356-e540-4b71-b4b0-4240883e3861",
   "metadata": {},
   "source": [
    "## SUS"
   ]
  },
  {
   "cell_type": "markdown",
   "id": "f76207ce-2d79-4e44-b8d5-a01122ff4fc6",
   "metadata": {},
   "source": [
    "#### Questions\n",
    "\n",
    "1. I think that I would like to use this system frequently.\n",
    "2. I found the system unnecessarily complex.\n",
    "3. I thought the system was easy to use.\n",
    "4. I think that I would need the support of a technical person to be able to use this system.\n",
    "5. I found the various functions in this system were well integrated.\n",
    "6. I thought there was too much inconsistency in this system.\n",
    "7. I would imagine that most people would learn to use this system very quickly.\n",
    "8. I found the system very cumbersome to use.\n",
    "9. I felt very confident using the system.\n",
    "10. I needed to learn a lot of things before I could get going with this system."
   ]
  },
  {
   "cell_type": "code",
   "execution_count": 34,
   "id": "7ff66db4-3c79-44b9-9e36-4e4280c81244",
   "metadata": {},
   "outputs": [
    {
     "data": {
      "text/html": [
       "<div>\n",
       "<style scoped>\n",
       "    .dataframe tbody tr th:only-of-type {\n",
       "        vertical-align: middle;\n",
       "    }\n",
       "\n",
       "    .dataframe tbody tr th {\n",
       "        vertical-align: top;\n",
       "    }\n",
       "\n",
       "    .dataframe thead th {\n",
       "        text-align: right;\n",
       "    }\n",
       "</style>\n",
       "<table border=\"1\" class=\"dataframe\">\n",
       "  <thead>\n",
       "    <tr style=\"text-align: right;\">\n",
       "      <th></th>\n",
       "      <th>SUS1</th>\n",
       "      <th>SUS2</th>\n",
       "      <th>SUS3</th>\n",
       "      <th>SUS4</th>\n",
       "      <th>SUS5</th>\n",
       "      <th>SUS6</th>\n",
       "      <th>SUS7</th>\n",
       "      <th>SUS8</th>\n",
       "      <th>SUS9</th>\n",
       "      <th>SUS10</th>\n",
       "      <th>Score</th>\n",
       "      <th>Score 100</th>\n",
       "    </tr>\n",
       "  </thead>\n",
       "  <tbody>\n",
       "    <tr>\n",
       "      <th>0</th>\n",
       "      <td>5</td>\n",
       "      <td>6</td>\n",
       "      <td>6</td>\n",
       "      <td>6</td>\n",
       "      <td>6</td>\n",
       "      <td>6</td>\n",
       "      <td>6</td>\n",
       "      <td>6</td>\n",
       "      <td>5</td>\n",
       "      <td>6</td>\n",
       "      <td>58</td>\n",
       "      <td>96.666667</td>\n",
       "    </tr>\n",
       "    <tr>\n",
       "      <th>1</th>\n",
       "      <td>6</td>\n",
       "      <td>6</td>\n",
       "      <td>6</td>\n",
       "      <td>6</td>\n",
       "      <td>6</td>\n",
       "      <td>6</td>\n",
       "      <td>6</td>\n",
       "      <td>6</td>\n",
       "      <td>6</td>\n",
       "      <td>6</td>\n",
       "      <td>60</td>\n",
       "      <td>100.000000</td>\n",
       "    </tr>\n",
       "    <tr>\n",
       "      <th>2</th>\n",
       "      <td>3</td>\n",
       "      <td>5</td>\n",
       "      <td>5</td>\n",
       "      <td>6</td>\n",
       "      <td>5</td>\n",
       "      <td>5</td>\n",
       "      <td>5</td>\n",
       "      <td>6</td>\n",
       "      <td>5</td>\n",
       "      <td>6</td>\n",
       "      <td>51</td>\n",
       "      <td>85.000000</td>\n",
       "    </tr>\n",
       "    <tr>\n",
       "      <th>3</th>\n",
       "      <td>5</td>\n",
       "      <td>6</td>\n",
       "      <td>6</td>\n",
       "      <td>3</td>\n",
       "      <td>5</td>\n",
       "      <td>6</td>\n",
       "      <td>6</td>\n",
       "      <td>6</td>\n",
       "      <td>6</td>\n",
       "      <td>5</td>\n",
       "      <td>54</td>\n",
       "      <td>90.000000</td>\n",
       "    </tr>\n",
       "    <tr>\n",
       "      <th>4</th>\n",
       "      <td>6</td>\n",
       "      <td>5</td>\n",
       "      <td>6</td>\n",
       "      <td>4</td>\n",
       "      <td>6</td>\n",
       "      <td>6</td>\n",
       "      <td>4</td>\n",
       "      <td>6</td>\n",
       "      <td>5</td>\n",
       "      <td>6</td>\n",
       "      <td>54</td>\n",
       "      <td>90.000000</td>\n",
       "    </tr>\n",
       "    <tr>\n",
       "      <th>5</th>\n",
       "      <td>4</td>\n",
       "      <td>4</td>\n",
       "      <td>5</td>\n",
       "      <td>6</td>\n",
       "      <td>5</td>\n",
       "      <td>5</td>\n",
       "      <td>6</td>\n",
       "      <td>6</td>\n",
       "      <td>6</td>\n",
       "      <td>6</td>\n",
       "      <td>53</td>\n",
       "      <td>88.333333</td>\n",
       "    </tr>\n",
       "    <tr>\n",
       "      <th>6</th>\n",
       "      <td>5</td>\n",
       "      <td>5</td>\n",
       "      <td>6</td>\n",
       "      <td>5</td>\n",
       "      <td>5</td>\n",
       "      <td>6</td>\n",
       "      <td>5</td>\n",
       "      <td>6</td>\n",
       "      <td>6</td>\n",
       "      <td>5</td>\n",
       "      <td>54</td>\n",
       "      <td>90.000000</td>\n",
       "    </tr>\n",
       "    <tr>\n",
       "      <th>7</th>\n",
       "      <td>6</td>\n",
       "      <td>6</td>\n",
       "      <td>6</td>\n",
       "      <td>6</td>\n",
       "      <td>6</td>\n",
       "      <td>6</td>\n",
       "      <td>5</td>\n",
       "      <td>6</td>\n",
       "      <td>6</td>\n",
       "      <td>6</td>\n",
       "      <td>59</td>\n",
       "      <td>98.333333</td>\n",
       "    </tr>\n",
       "    <tr>\n",
       "      <th>8</th>\n",
       "      <td>4</td>\n",
       "      <td>4</td>\n",
       "      <td>5</td>\n",
       "      <td>5</td>\n",
       "      <td>4</td>\n",
       "      <td>5</td>\n",
       "      <td>4</td>\n",
       "      <td>5</td>\n",
       "      <td>5</td>\n",
       "      <td>1</td>\n",
       "      <td>42</td>\n",
       "      <td>70.000000</td>\n",
       "    </tr>\n",
       "    <tr>\n",
       "      <th>9</th>\n",
       "      <td>4</td>\n",
       "      <td>6</td>\n",
       "      <td>6</td>\n",
       "      <td>6</td>\n",
       "      <td>5</td>\n",
       "      <td>6</td>\n",
       "      <td>4</td>\n",
       "      <td>5</td>\n",
       "      <td>6</td>\n",
       "      <td>6</td>\n",
       "      <td>54</td>\n",
       "      <td>90.000000</td>\n",
       "    </tr>\n",
       "    <tr>\n",
       "      <th>10</th>\n",
       "      <td>5</td>\n",
       "      <td>6</td>\n",
       "      <td>6</td>\n",
       "      <td>6</td>\n",
       "      <td>6</td>\n",
       "      <td>6</td>\n",
       "      <td>5</td>\n",
       "      <td>6</td>\n",
       "      <td>6</td>\n",
       "      <td>6</td>\n",
       "      <td>58</td>\n",
       "      <td>96.666667</td>\n",
       "    </tr>\n",
       "    <tr>\n",
       "      <th>11</th>\n",
       "      <td>6</td>\n",
       "      <td>5</td>\n",
       "      <td>5</td>\n",
       "      <td>5</td>\n",
       "      <td>5</td>\n",
       "      <td>5</td>\n",
       "      <td>5</td>\n",
       "      <td>5</td>\n",
       "      <td>6</td>\n",
       "      <td>6</td>\n",
       "      <td>53</td>\n",
       "      <td>88.333333</td>\n",
       "    </tr>\n",
       "    <tr>\n",
       "      <th>12</th>\n",
       "      <td>3</td>\n",
       "      <td>3</td>\n",
       "      <td>3</td>\n",
       "      <td>1</td>\n",
       "      <td>5</td>\n",
       "      <td>5</td>\n",
       "      <td>3</td>\n",
       "      <td>5</td>\n",
       "      <td>3</td>\n",
       "      <td>3</td>\n",
       "      <td>34</td>\n",
       "      <td>56.666667</td>\n",
       "    </tr>\n",
       "  </tbody>\n",
       "</table>\n",
       "</div>"
      ],
      "text/plain": [
       "    SUS1  SUS2  SUS3  SUS4  SUS5  SUS6  SUS7  SUS8  SUS9  SUS10  Score  \\\n",
       "0      5     6     6     6     6     6     6     6     5      6     58   \n",
       "1      6     6     6     6     6     6     6     6     6      6     60   \n",
       "2      3     5     5     6     5     5     5     6     5      6     51   \n",
       "3      5     6     6     3     5     6     6     6     6      5     54   \n",
       "4      6     5     6     4     6     6     4     6     5      6     54   \n",
       "5      4     4     5     6     5     5     6     6     6      6     53   \n",
       "6      5     5     6     5     5     6     5     6     6      5     54   \n",
       "7      6     6     6     6     6     6     5     6     6      6     59   \n",
       "8      4     4     5     5     4     5     4     5     5      1     42   \n",
       "9      4     6     6     6     5     6     4     5     6      6     54   \n",
       "10     5     6     6     6     6     6     5     6     6      6     58   \n",
       "11     6     5     5     5     5     5     5     5     6      6     53   \n",
       "12     3     3     3     1     5     5     3     5     3      3     34   \n",
       "\n",
       "     Score 100  \n",
       "0    96.666667  \n",
       "1   100.000000  \n",
       "2    85.000000  \n",
       "3    90.000000  \n",
       "4    90.000000  \n",
       "5    88.333333  \n",
       "6    90.000000  \n",
       "7    98.333333  \n",
       "8    70.000000  \n",
       "9    90.000000  \n",
       "10   96.666667  \n",
       "11   88.333333  \n",
       "12   56.666667  "
      ]
     },
     "execution_count": 34,
     "metadata": {},
     "output_type": "execute_result"
    }
   ],
   "source": [
    "data_sus = calculate_sus(data['SUS'].copy().dropna())\n",
    "data_sus"
   ]
  },
  {
   "cell_type": "markdown",
   "id": "3e9ebef8-ba29-42be-8b12-549580f77a96",
   "metadata": {},
   "source": [
    "#### Mean Score 100"
   ]
  },
  {
   "cell_type": "code",
   "execution_count": 35,
   "id": "caac3f05-2f6a-4743-aca7-17687afbfa47",
   "metadata": {},
   "outputs": [
    {
     "name": "stdout",
     "output_type": "stream",
     "text": [
      "87.6923076923077\n"
     ]
    }
   ],
   "source": [
    "print(data_sus['Score 100'].mean())"
   ]
  },
  {
   "cell_type": "markdown",
   "id": "f5128ece-ebce-4f95-a376-7c3e14aae620",
   "metadata": {},
   "source": [
    "#### General Stats"
   ]
  },
  {
   "cell_type": "code",
   "execution_count": 36,
   "id": "85f3c518-08fe-440a-9daf-1a294388340b",
   "metadata": {},
   "outputs": [
    {
     "data": {
      "text/html": [
       "<div>\n",
       "<style scoped>\n",
       "    .dataframe tbody tr th:only-of-type {\n",
       "        vertical-align: middle;\n",
       "    }\n",
       "\n",
       "    .dataframe tbody tr th {\n",
       "        vertical-align: top;\n",
       "    }\n",
       "\n",
       "    .dataframe thead th {\n",
       "        text-align: right;\n",
       "    }\n",
       "</style>\n",
       "<table border=\"1\" class=\"dataframe\">\n",
       "  <thead>\n",
       "    <tr style=\"text-align: right;\">\n",
       "      <th></th>\n",
       "      <th>SUS1</th>\n",
       "      <th>SUS2</th>\n",
       "      <th>SUS3</th>\n",
       "      <th>SUS4</th>\n",
       "      <th>SUS5</th>\n",
       "      <th>SUS6</th>\n",
       "      <th>SUS7</th>\n",
       "      <th>SUS8</th>\n",
       "      <th>SUS9</th>\n",
       "      <th>SUS10</th>\n",
       "      <th>Score</th>\n",
       "      <th>Score 100</th>\n",
       "    </tr>\n",
       "  </thead>\n",
       "  <tbody>\n",
       "    <tr>\n",
       "      <th>count</th>\n",
       "      <td>13.000000</td>\n",
       "      <td>13.000000</td>\n",
       "      <td>13.000000</td>\n",
       "      <td>13.000000</td>\n",
       "      <td>13.000000</td>\n",
       "      <td>13.000000</td>\n",
       "      <td>13.000000</td>\n",
       "      <td>13.000000</td>\n",
       "      <td>13.000000</td>\n",
       "      <td>13.000000</td>\n",
       "      <td>13.000000</td>\n",
       "      <td>13.000000</td>\n",
       "    </tr>\n",
       "    <tr>\n",
       "      <th>mean</th>\n",
       "      <td>4.769231</td>\n",
       "      <td>5.153846</td>\n",
       "      <td>5.461538</td>\n",
       "      <td>5.000000</td>\n",
       "      <td>5.307692</td>\n",
       "      <td>5.615385</td>\n",
       "      <td>4.923077</td>\n",
       "      <td>5.692308</td>\n",
       "      <td>5.461538</td>\n",
       "      <td>5.230769</td>\n",
       "      <td>52.615385</td>\n",
       "      <td>87.692308</td>\n",
       "    </tr>\n",
       "    <tr>\n",
       "      <th>std</th>\n",
       "      <td>1.091928</td>\n",
       "      <td>0.987096</td>\n",
       "      <td>0.877058</td>\n",
       "      <td>1.527525</td>\n",
       "      <td>0.630425</td>\n",
       "      <td>0.506370</td>\n",
       "      <td>0.954074</td>\n",
       "      <td>0.480384</td>\n",
       "      <td>0.877058</td>\n",
       "      <td>1.535895</td>\n",
       "      <td>7.205767</td>\n",
       "      <td>12.009612</td>\n",
       "    </tr>\n",
       "    <tr>\n",
       "      <th>min</th>\n",
       "      <td>3.000000</td>\n",
       "      <td>3.000000</td>\n",
       "      <td>3.000000</td>\n",
       "      <td>1.000000</td>\n",
       "      <td>4.000000</td>\n",
       "      <td>5.000000</td>\n",
       "      <td>3.000000</td>\n",
       "      <td>5.000000</td>\n",
       "      <td>3.000000</td>\n",
       "      <td>1.000000</td>\n",
       "      <td>34.000000</td>\n",
       "      <td>56.666667</td>\n",
       "    </tr>\n",
       "    <tr>\n",
       "      <th>25%</th>\n",
       "      <td>4.000000</td>\n",
       "      <td>5.000000</td>\n",
       "      <td>5.000000</td>\n",
       "      <td>5.000000</td>\n",
       "      <td>5.000000</td>\n",
       "      <td>5.000000</td>\n",
       "      <td>4.000000</td>\n",
       "      <td>5.000000</td>\n",
       "      <td>5.000000</td>\n",
       "      <td>5.000000</td>\n",
       "      <td>53.000000</td>\n",
       "      <td>88.333333</td>\n",
       "    </tr>\n",
       "    <tr>\n",
       "      <th>50%</th>\n",
       "      <td>5.000000</td>\n",
       "      <td>5.000000</td>\n",
       "      <td>6.000000</td>\n",
       "      <td>6.000000</td>\n",
       "      <td>5.000000</td>\n",
       "      <td>6.000000</td>\n",
       "      <td>5.000000</td>\n",
       "      <td>6.000000</td>\n",
       "      <td>6.000000</td>\n",
       "      <td>6.000000</td>\n",
       "      <td>54.000000</td>\n",
       "      <td>90.000000</td>\n",
       "    </tr>\n",
       "    <tr>\n",
       "      <th>75%</th>\n",
       "      <td>6.000000</td>\n",
       "      <td>6.000000</td>\n",
       "      <td>6.000000</td>\n",
       "      <td>6.000000</td>\n",
       "      <td>6.000000</td>\n",
       "      <td>6.000000</td>\n",
       "      <td>6.000000</td>\n",
       "      <td>6.000000</td>\n",
       "      <td>6.000000</td>\n",
       "      <td>6.000000</td>\n",
       "      <td>58.000000</td>\n",
       "      <td>96.666667</td>\n",
       "    </tr>\n",
       "    <tr>\n",
       "      <th>max</th>\n",
       "      <td>6.000000</td>\n",
       "      <td>6.000000</td>\n",
       "      <td>6.000000</td>\n",
       "      <td>6.000000</td>\n",
       "      <td>6.000000</td>\n",
       "      <td>6.000000</td>\n",
       "      <td>6.000000</td>\n",
       "      <td>6.000000</td>\n",
       "      <td>6.000000</td>\n",
       "      <td>6.000000</td>\n",
       "      <td>60.000000</td>\n",
       "      <td>100.000000</td>\n",
       "    </tr>\n",
       "  </tbody>\n",
       "</table>\n",
       "</div>"
      ],
      "text/plain": [
       "            SUS1       SUS2       SUS3       SUS4       SUS5       SUS6  \\\n",
       "count  13.000000  13.000000  13.000000  13.000000  13.000000  13.000000   \n",
       "mean    4.769231   5.153846   5.461538   5.000000   5.307692   5.615385   \n",
       "std     1.091928   0.987096   0.877058   1.527525   0.630425   0.506370   \n",
       "min     3.000000   3.000000   3.000000   1.000000   4.000000   5.000000   \n",
       "25%     4.000000   5.000000   5.000000   5.000000   5.000000   5.000000   \n",
       "50%     5.000000   5.000000   6.000000   6.000000   5.000000   6.000000   \n",
       "75%     6.000000   6.000000   6.000000   6.000000   6.000000   6.000000   \n",
       "max     6.000000   6.000000   6.000000   6.000000   6.000000   6.000000   \n",
       "\n",
       "            SUS7       SUS8       SUS9      SUS10      Score   Score 100  \n",
       "count  13.000000  13.000000  13.000000  13.000000  13.000000   13.000000  \n",
       "mean    4.923077   5.692308   5.461538   5.230769  52.615385   87.692308  \n",
       "std     0.954074   0.480384   0.877058   1.535895   7.205767   12.009612  \n",
       "min     3.000000   5.000000   3.000000   1.000000  34.000000   56.666667  \n",
       "25%     4.000000   5.000000   5.000000   5.000000  53.000000   88.333333  \n",
       "50%     5.000000   6.000000   6.000000   6.000000  54.000000   90.000000  \n",
       "75%     6.000000   6.000000   6.000000   6.000000  58.000000   96.666667  \n",
       "max     6.000000   6.000000   6.000000   6.000000  60.000000  100.000000  "
      ]
     },
     "execution_count": 36,
     "metadata": {},
     "output_type": "execute_result"
    }
   ],
   "source": [
    "data_sus.describe()\n",
    "#print_stats(data_sus)"
   ]
  },
  {
   "cell_type": "markdown",
   "id": "e4e9cceb-c5aa-4405-9991-a25e28981b24",
   "metadata": {},
   "source": [
    "#### Confidence Interval"
   ]
  },
  {
   "cell_type": "code",
   "execution_count": 37,
   "id": "dd18a08a-84c6-4519-9858-9caa92b99623",
   "metadata": {},
   "outputs": [
    {
     "data": {
      "text/plain": [
       "(80.4349720746924, 94.94964330992299)"
      ]
     },
     "execution_count": 37,
     "metadata": {},
     "output_type": "execute_result"
    }
   ],
   "source": [
    "confidence_interval_t(data_sus['Score 100'])"
   ]
  },
  {
   "cell_type": "markdown",
   "id": "c529171e-0c3f-4f75-900a-8190e6aa270c",
   "metadata": {},
   "source": [
    "#### Per-question Stats"
   ]
  },
  {
   "cell_type": "code",
   "execution_count": 38,
   "id": "bcb8f09c-e013-49fd-9c34-14f0f4ac59c2",
   "metadata": {},
   "outputs": [],
   "source": [
    "##Uncomment if you need these stats\n",
    "#for column in data_sus:\n",
    "    #print_stats(data_sus[column])"
   ]
  },
  {
   "cell_type": "markdown",
   "id": "268d9de1-d9cb-49fe-a59a-63184760b6f7",
   "metadata": {},
   "source": [
    "## Domain Specific Questions"
   ]
  },
  {
   "cell_type": "code",
   "execution_count": 39,
   "id": "4ad39445-6119-4180-aa90-0cb9c25ad1c4",
   "metadata": {},
   "outputs": [],
   "source": [
    "data_domain_specific = data['Domain Specific']\n",
    "#data_domain_specific"
   ]
  },
  {
   "cell_type": "code",
   "execution_count": 40,
   "id": "7b48b462-a3df-425f-ac62-bdea2c17ac9a",
   "metadata": {},
   "outputs": [
    {
     "name": "stdout",
     "output_type": "stream",
     "text": [
      "--- Statistics ----\n"
     ]
    },
    {
     "data": {
      "text/html": [
       "<div>\n",
       "<style scoped>\n",
       "    .dataframe tbody tr th:only-of-type {\n",
       "        vertical-align: middle;\n",
       "    }\n",
       "\n",
       "    .dataframe tbody tr th {\n",
       "        vertical-align: top;\n",
       "    }\n",
       "\n",
       "    .dataframe thead th {\n",
       "        text-align: right;\n",
       "    }\n",
       "</style>\n",
       "<table border=\"1\" class=\"dataframe\">\n",
       "  <thead>\n",
       "    <tr style=\"text-align: right;\">\n",
       "      <th></th>\n",
       "      <th>DS1</th>\n",
       "      <th>DS2</th>\n",
       "      <th>DS3</th>\n",
       "      <th>DS4</th>\n",
       "      <th>DS5</th>\n",
       "      <th>DS6</th>\n",
       "      <th>DS7</th>\n",
       "      <th>DS8</th>\n",
       "      <th>DS9</th>\n",
       "    </tr>\n",
       "  </thead>\n",
       "  <tbody>\n",
       "    <tr>\n",
       "      <th>count</th>\n",
       "      <td>13.000000</td>\n",
       "      <td>13.000000</td>\n",
       "      <td>13.000000</td>\n",
       "      <td>13.000000</td>\n",
       "      <td>13.000000</td>\n",
       "      <td>13.000000</td>\n",
       "      <td>13.000000</td>\n",
       "      <td>13.0</td>\n",
       "      <td>13.000000</td>\n",
       "    </tr>\n",
       "    <tr>\n",
       "      <th>mean</th>\n",
       "      <td>5.692308</td>\n",
       "      <td>6.230769</td>\n",
       "      <td>6.153846</td>\n",
       "      <td>6.153846</td>\n",
       "      <td>6.307692</td>\n",
       "      <td>6.307692</td>\n",
       "      <td>6.153846</td>\n",
       "      <td>7.0</td>\n",
       "      <td>6.769231</td>\n",
       "    </tr>\n",
       "    <tr>\n",
       "      <th>std</th>\n",
       "      <td>1.548366</td>\n",
       "      <td>0.926809</td>\n",
       "      <td>1.143544</td>\n",
       "      <td>0.800641</td>\n",
       "      <td>0.751068</td>\n",
       "      <td>0.854850</td>\n",
       "      <td>1.405119</td>\n",
       "      <td>0.0</td>\n",
       "      <td>0.438529</td>\n",
       "    </tr>\n",
       "    <tr>\n",
       "      <th>min</th>\n",
       "      <td>2.000000</td>\n",
       "      <td>4.000000</td>\n",
       "      <td>4.000000</td>\n",
       "      <td>5.000000</td>\n",
       "      <td>5.000000</td>\n",
       "      <td>5.000000</td>\n",
       "      <td>3.000000</td>\n",
       "      <td>7.0</td>\n",
       "      <td>6.000000</td>\n",
       "    </tr>\n",
       "    <tr>\n",
       "      <th>25%</th>\n",
       "      <td>5.000000</td>\n",
       "      <td>6.000000</td>\n",
       "      <td>6.000000</td>\n",
       "      <td>6.000000</td>\n",
       "      <td>6.000000</td>\n",
       "      <td>6.000000</td>\n",
       "      <td>5.000000</td>\n",
       "      <td>7.0</td>\n",
       "      <td>7.000000</td>\n",
       "    </tr>\n",
       "    <tr>\n",
       "      <th>50%</th>\n",
       "      <td>6.000000</td>\n",
       "      <td>6.000000</td>\n",
       "      <td>7.000000</td>\n",
       "      <td>6.000000</td>\n",
       "      <td>6.000000</td>\n",
       "      <td>7.000000</td>\n",
       "      <td>7.000000</td>\n",
       "      <td>7.0</td>\n",
       "      <td>7.000000</td>\n",
       "    </tr>\n",
       "    <tr>\n",
       "      <th>75%</th>\n",
       "      <td>7.000000</td>\n",
       "      <td>7.000000</td>\n",
       "      <td>7.000000</td>\n",
       "      <td>7.000000</td>\n",
       "      <td>7.000000</td>\n",
       "      <td>7.000000</td>\n",
       "      <td>7.000000</td>\n",
       "      <td>7.0</td>\n",
       "      <td>7.000000</td>\n",
       "    </tr>\n",
       "    <tr>\n",
       "      <th>max</th>\n",
       "      <td>7.000000</td>\n",
       "      <td>7.000000</td>\n",
       "      <td>7.000000</td>\n",
       "      <td>7.000000</td>\n",
       "      <td>7.000000</td>\n",
       "      <td>7.000000</td>\n",
       "      <td>7.000000</td>\n",
       "      <td>7.0</td>\n",
       "      <td>7.000000</td>\n",
       "    </tr>\n",
       "  </tbody>\n",
       "</table>\n",
       "</div>"
      ],
      "text/plain": [
       "             DS1        DS2        DS3        DS4        DS5        DS6  \\\n",
       "count  13.000000  13.000000  13.000000  13.000000  13.000000  13.000000   \n",
       "mean    5.692308   6.230769   6.153846   6.153846   6.307692   6.307692   \n",
       "std     1.548366   0.926809   1.143544   0.800641   0.751068   0.854850   \n",
       "min     2.000000   4.000000   4.000000   5.000000   5.000000   5.000000   \n",
       "25%     5.000000   6.000000   6.000000   6.000000   6.000000   6.000000   \n",
       "50%     6.000000   6.000000   7.000000   6.000000   6.000000   7.000000   \n",
       "75%     7.000000   7.000000   7.000000   7.000000   7.000000   7.000000   \n",
       "max     7.000000   7.000000   7.000000   7.000000   7.000000   7.000000   \n",
       "\n",
       "             DS7   DS8        DS9  \n",
       "count  13.000000  13.0  13.000000  \n",
       "mean    6.153846   7.0   6.769231  \n",
       "std     1.405119   0.0   0.438529  \n",
       "min     3.000000   7.0   6.000000  \n",
       "25%     5.000000   7.0   7.000000  \n",
       "50%     7.000000   7.0   7.000000  \n",
       "75%     7.000000   7.0   7.000000  \n",
       "max     7.000000   7.0   7.000000  "
      ]
     },
     "metadata": {},
     "output_type": "display_data"
    },
    {
     "name": "stdout",
     "output_type": "stream",
     "text": [
      "\n",
      "\n",
      "--- Counting Unique Values ----\n"
     ]
    },
    {
     "data": {
      "text/plain": [
       "DS1  DS2  DS3  DS4  DS5  DS6  DS7  DS8  DS9\n",
       "2    7    7    6    7    5    7    7    7      1\n",
       "4    6    4    6    6    6    3    7    7      1\n",
       "5    5    7    7    7    7    7    7    7      1\n",
       "     6    6    5    5    6    7    7    6      1\n",
       "     7    7    7    5    5    5    7    7      1\n",
       "                    7    7    7    7    7      1\n",
       "6    7    5    7    6    7    7    7    7      1\n",
       "7    4    4    5    6    6    7    7    7      1\n",
       "     6    6    6    7    7    7    7    7      1\n",
       "          7    5    6    7    7    7    6      1\n",
       "               6    7    7    7    7    7      1\n",
       "     7    6    7    7    7    4    7    7      1\n",
       "          7    6    6    5    5    7    6      1\n",
       "dtype: int64"
      ]
     },
     "metadata": {},
     "output_type": "display_data"
    },
    {
     "name": "stdout",
     "output_type": "stream",
     "text": [
      "\n",
      "\n",
      "--- Basic Histogram ----\n"
     ]
    },
    {
     "data": {
      "image/png": "[encoded data removed]",
      "text/plain": [
       "<Figure size 576x288 with 9 Axes>"
      ]
     },
     "metadata": {
      "needs_background": "light"
     },
     "output_type": "display_data"
    }
   ],
   "source": [
    "print_stats(data_domain_specific)"
   ]
  },
  {
   "cell_type": "markdown",
   "id": "759e60e6-ad20-42ce-88f8-89dd9f6a799f",
   "metadata": {},
   "source": [
    "### Response Frequency"
   ]
  },
  {
   "cell_type": "code",
   "execution_count": 41,
   "id": "a67314ea-7483-4c2d-8604-450e9a175997",
   "metadata": {},
   "outputs": [
    {
     "data": {
      "text/html": [
       "<div>\n",
       "<style scoped>\n",
       "    .dataframe tbody tr th:only-of-type {\n",
       "        vertical-align: middle;\n",
       "    }\n",
       "\n",
       "    .dataframe tbody tr th {\n",
       "        vertical-align: top;\n",
       "    }\n",
       "\n",
       "    .dataframe thead th {\n",
       "        text-align: right;\n",
       "    }\n",
       "</style>\n",
       "<table border=\"1\" class=\"dataframe\">\n",
       "  <thead>\n",
       "    <tr style=\"text-align: right;\">\n",
       "      <th></th>\n",
       "      <th>2</th>\n",
       "      <th>3</th>\n",
       "      <th>4</th>\n",
       "      <th>5</th>\n",
       "      <th>6</th>\n",
       "      <th>7</th>\n",
       "    </tr>\n",
       "  </thead>\n",
       "  <tbody>\n",
       "    <tr>\n",
       "      <th>DS1</th>\n",
       "      <td>7.692308</td>\n",
       "      <td>0.000000</td>\n",
       "      <td>7.692308</td>\n",
       "      <td>30.769231</td>\n",
       "      <td>7.692308</td>\n",
       "      <td>46.153846</td>\n",
       "    </tr>\n",
       "    <tr>\n",
       "      <th>DS2</th>\n",
       "      <td>0.000000</td>\n",
       "      <td>0.000000</td>\n",
       "      <td>7.692308</td>\n",
       "      <td>7.692308</td>\n",
       "      <td>38.461538</td>\n",
       "      <td>46.153846</td>\n",
       "    </tr>\n",
       "    <tr>\n",
       "      <th>DS3</th>\n",
       "      <td>0.000000</td>\n",
       "      <td>0.000000</td>\n",
       "      <td>15.384615</td>\n",
       "      <td>7.692308</td>\n",
       "      <td>23.076923</td>\n",
       "      <td>53.846154</td>\n",
       "    </tr>\n",
       "    <tr>\n",
       "      <th>DS4</th>\n",
       "      <td>0.000000</td>\n",
       "      <td>0.000000</td>\n",
       "      <td>0.000000</td>\n",
       "      <td>23.076923</td>\n",
       "      <td>38.461538</td>\n",
       "      <td>38.461538</td>\n",
       "    </tr>\n",
       "    <tr>\n",
       "      <th>DS5</th>\n",
       "      <td>0.000000</td>\n",
       "      <td>0.000000</td>\n",
       "      <td>0.000000</td>\n",
       "      <td>15.384615</td>\n",
       "      <td>38.461538</td>\n",
       "      <td>46.153846</td>\n",
       "    </tr>\n",
       "    <tr>\n",
       "      <th>DS6</th>\n",
       "      <td>0.000000</td>\n",
       "      <td>0.000000</td>\n",
       "      <td>0.000000</td>\n",
       "      <td>23.076923</td>\n",
       "      <td>23.076923</td>\n",
       "      <td>53.846154</td>\n",
       "    </tr>\n",
       "    <tr>\n",
       "      <th>DS7</th>\n",
       "      <td>0.000000</td>\n",
       "      <td>7.692308</td>\n",
       "      <td>7.692308</td>\n",
       "      <td>15.384615</td>\n",
       "      <td>0.000000</td>\n",
       "      <td>69.230769</td>\n",
       "    </tr>\n",
       "    <tr>\n",
       "      <th>DS8</th>\n",
       "      <td>0.000000</td>\n",
       "      <td>0.000000</td>\n",
       "      <td>0.000000</td>\n",
       "      <td>0.000000</td>\n",
       "      <td>0.000000</td>\n",
       "      <td>100.000000</td>\n",
       "    </tr>\n",
       "    <tr>\n",
       "      <th>DS9</th>\n",
       "      <td>0.000000</td>\n",
       "      <td>0.000000</td>\n",
       "      <td>0.000000</td>\n",
       "      <td>0.000000</td>\n",
       "      <td>23.076923</td>\n",
       "      <td>76.923077</td>\n",
       "    </tr>\n",
       "  </tbody>\n",
       "</table>\n",
       "</div>"
      ],
      "text/plain": [
       "            2         3          4          5          6           7\n",
       "DS1  7.692308  0.000000   7.692308  30.769231   7.692308   46.153846\n",
       "DS2  0.000000  0.000000   7.692308   7.692308  38.461538   46.153846\n",
       "DS3  0.000000  0.000000  15.384615   7.692308  23.076923   53.846154\n",
       "DS4  0.000000  0.000000   0.000000  23.076923  38.461538   38.461538\n",
       "DS5  0.000000  0.000000   0.000000  15.384615  38.461538   46.153846\n",
       "DS6  0.000000  0.000000   0.000000  23.076923  23.076923   53.846154\n",
       "DS7  0.000000  7.692308   7.692308  15.384615   0.000000   69.230769\n",
       "DS8  0.000000  0.000000   0.000000   0.000000   0.000000  100.000000\n",
       "DS9  0.000000  0.000000   0.000000   0.000000  23.076923   76.923077"
      ]
     },
     "execution_count": 41,
     "metadata": {},
     "output_type": "execute_result"
    }
   ],
   "source": [
    "data_domain_specific_freq_res = (data_domain_specific.apply(pd.value_counts).fillna(0)/data_domain_specific.count()*100).transpose()\n",
    "data_domain_specific_freq_res"
   ]
  },
  {
   "cell_type": "code",
   "execution_count": 42,
   "id": "49fdadee-bc72-496d-85db-84cfbbf1e060",
   "metadata": {},
   "outputs": [
    {
     "data": {
      "image/png": "[encoded data removed]",
      "text/plain": [
       "<Figure size 432x288 with 1 Axes>"
      ]
     },
     "metadata": {
      "needs_background": "light"
     },
     "output_type": "display_data"
    }
   ],
   "source": [
    "data_domain_specific_freq_res.iloc[::-1].plot.barh(stacked=True).legend(loc='center left',bbox_to_anchor=(1.0, 0.5))\n",
    "plt.show()"
   ]
  },
  {
   "cell_type": "code",
   "execution_count": 43,
   "id": "87301f85-0abb-4335-8992-8490faf9d530",
   "metadata": {},
   "outputs": [
    {
     "name": "stdout",
     "output_type": "stream",
     "text": [
      "DS1 Median: 6.0 Mean: 5.6923076923076925 Standard Deviation: 1.548365556784281 Confidence Interval: (4.756639750739897, 6.627975633875488)\n",
      "DS2 Median: 6.0 Mean: 6.230769230769231 Standard Deviation: 0.9268086959962983 Confidence Interval: (5.670704341047064, 6.790834120491398)\n",
      "DS3 Median: 7.0 Mean: 6.153846153846154 Standard Deviation: 1.143543749793731 Confidence Interval: (5.462809581911295, 6.844882725781013)\n",
      "DS4 Median: 6.0 Mean: 6.153846153846154 Standard Deviation: 0.8006407690254357 Confidence Interval: (5.670023779338468, 6.63766852835384)\n",
      "DS5 Median: 6.0 Mean: 6.3076923076923075 Standard Deviation: 0.7510676161988107 Confidence Interval: (5.853826689623099, 6.761557925761516)\n",
      "DS6 Median: 7.0 Mean: 6.3076923076923075 Standard Deviation: 0.8548504142651103 Confidence Interval: (5.79111137242209, 6.824273242962525)\n",
      "DS7 Median: 7.0 Mean: 6.153846153846154 Standard Deviation: 1.4051188470584877 Confidence Interval: (5.304741332620466, 7.002950975071842)\n",
      "DS8 Median: 7.0 Mean: 7.0 Standard Deviation: 0.0 Confidence Interval: (nan, nan)\n",
      "DS9 Median: 7.0 Mean: 6.769230769230769 Standard Deviation: 0.4385290096535146 Confidence Interval: (6.504230340887197, 7.034231197574341)\n"
     ]
    },
    {
     "name": "stderr",
     "output_type": "stream",
     "text": [
      "C:\\DevelopmentTools\\Anaconda3\\lib\\site-packages\\scipy\\stats\\_distn_infrastructure.py:2098: RuntimeWarning: invalid value encountered in multiply\n",
      "  lower_bound = _a * scale + loc\n",
      "C:\\DevelopmentTools\\Anaconda3\\lib\\site-packages\\scipy\\stats\\_distn_infrastructure.py:2099: RuntimeWarning: invalid value encountered in multiply\n",
      "  upper_bound = _b * scale + loc\n"
     ]
    }
   ],
   "source": [
    "for question in data_domain_specific:\n",
    "    print(question,\n",
    "          'Median:', data_domain_specific[question].median(), \n",
    "          'Mean:', data_domain_specific[question].mean(), \n",
    "          'Standard Deviation:', data_domain_specific[question].std(), \n",
    "          'Confidence Interval:', confidence_interval_t(data_domain_specific[question]))"
   ]
  },
  {
   "cell_type": "markdown",
   "id": "a913fc0c-5899-4f31-a3ff-959fba186f17",
   "metadata": {},
   "source": [
    "#### Percentage of Users that User Multiple Devices Sometimes or More Often"
   ]
  },
  {
   "cell_type": "code",
   "execution_count": 44,
   "id": "ffeec3da-fa78-486a-b92e-fb25f1bd57c4",
   "metadata": {},
   "outputs": [
    {
     "data": {
      "text/plain": [
       "84.61538461538461"
      ]
     },
     "execution_count": 44,
     "metadata": {},
     "output_type": "execute_result"
    }
   ],
   "source": [
    "data_basic_usage_multiple_devices = data_domain_specific['DS1']\n",
    "(data_basic_usage_multiple_devices[data_basic_usage_multiple_devices >= 5].count()/data_basic_usage_multiple_devices.count())*100"
   ]
  },
  {
   "cell_type": "markdown",
   "id": "89e9e727-ea3a-4e46-b874-8c754a823642",
   "metadata": {},
   "source": [
    "## Auxiliary Calculations for JuxtBoard"
   ]
  },
  {
   "cell_type": "code",
   "execution_count": 14,
   "id": "0064fcca-aa52-4e96-a3f3-5383ca6648fb",
   "metadata": {},
   "outputs": [],
   "source": [
    "res = np.array([7,7,7,7,7,7,7,7,7,7,7,7,7,7,7,7,7,7,7,7,7,6,6,6,6,6,6])"
   ]
  },
  {
   "cell_type": "code",
   "execution_count": 18,
   "id": "6de10e9c-2fe4-40a0-9962-a263bbbf8e34",
   "metadata": {},
   "outputs": [
    {
     "data": {
      "text/plain": [
       "27"
      ]
     },
     "execution_count": 18,
     "metadata": {},
     "output_type": "execute_result"
    }
   ],
   "source": [
    "res.size"
   ]
  },
  {
   "cell_type": "code",
   "execution_count": 21,
   "id": "ff0790f5-58d6-4252-8cc6-ca34c53cf865",
   "metadata": {},
   "outputs": [
    {
     "data": {
      "text/plain": [
       "7.0"
      ]
     },
     "execution_count": 21,
     "metadata": {},
     "output_type": "execute_result"
    }
   ],
   "source": [
    "np.median(res)"
   ]
  },
  {
   "cell_type": "code",
   "execution_count": 22,
   "id": "7084bfca-58a6-489f-914d-d3622cfca259",
   "metadata": {},
   "outputs": [
    {
     "data": {
      "text/plain": [
       "6.777777777777778"
      ]
     },
     "execution_count": 22,
     "metadata": {},
     "output_type": "execute_result"
    }
   ],
   "source": [
    "res.mean()"
   ]
  },
  {
   "cell_type": "code",
   "execution_count": 25,
   "id": "ef475b95-269d-49dd-a0e7-35665f36c2b9",
   "metadata": {},
   "outputs": [
    {
     "data": {
      "text/plain": [
       "0.41573970964154905"
      ]
     },
     "execution_count": 25,
     "metadata": {},
     "output_type": "execute_result"
    }
   ],
   "source": [
    "res.std()"
   ]
  }
 ],
 "metadata": {
  "kernelspec": {
   "display_name": "Python 3 (ipykernel)",
   "language": "python",
   "name": "python3"
  },
  "language_info": {
   "codemirror_mode": {
    "name": "ipython",
    "version": 3
   },
   "file_extension": ".py",
   "mimetype": "text/x-python",
   "name": "python",
   "nbconvert_exporter": "python",
   "pygments_lexer": "ipython3",
   "version": "3.8.11"
  }
 },
 "nbformat": 4,
 "nbformat_minor": 5
}
