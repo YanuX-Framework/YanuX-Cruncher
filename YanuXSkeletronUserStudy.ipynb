{
 "cells": [
  {
   "cell_type": "markdown",
   "id": "da02daee-da73-4dc0-8bf9-5272252ad11e",
   "metadata": {},
   "source": [
    "# YanuX Skeletron User Study"
   ]
  },
  {
   "cell_type": "markdown",
   "id": "53aa2eba-86c2-47cf-93af-0fdf8987a086",
   "metadata": {
    "tags": []
   },
   "source": [
    "## Imports"
   ]
  },
  {
   "cell_type": "code",
   "execution_count": 1,
   "id": "2789a2ca-3104-407e-9740-fe8239e8db44",
   "metadata": {},
   "outputs": [],
   "source": [
    "import numpy as np\n",
    "from scipy import stats\n",
    "import pandas as pd\n",
    "import matplotlib.pyplot as plt\n",
    "from sklearn.preprocessing import MultiLabelBinarizer\n",
    "from datetime import datetime, date, time"
   ]
  },
  {
   "cell_type": "markdown",
   "id": "cf1f4ac0-daee-4995-8178-e391d2b84fa8",
   "metadata": {
    "tags": []
   },
   "source": [
    "## Helper Functions"
   ]
  },
  {
   "cell_type": "code",
   "execution_count": 2,
   "id": "25cda2cf-b71b-44ff-b0cb-b64097ae9298",
   "metadata": {},
   "outputs": [],
   "source": [
    "def print_stats(data, hist_bins=None, plt_size=(8,4)):\n",
    "    print('--- Statistics ----')\n",
    "    display(data.describe())\n",
    "    print('\\n')\n",
    "    print('--- Counting Unique Values ----')\n",
    "    value_counts = data.value_counts()\n",
    "    display(value_counts)\n",
    "    print('\\n')\n",
    "    if hist_bins is None:\n",
    "        print('--- Basic Bar Chart ----')\n",
    "        value_counts.sort_index().plot(kind='bar', figsize=plt_size)\n",
    "    else:\n",
    "        print('--- Basic Histogram ----')\n",
    "        data.hist(bins=hist_bins, figsize=plt_size)\n",
    "    plt.show()\n",
    "    \n",
    "def calculate_sus(data):\n",
    "    for i in range(len(data.columns)):\n",
    "        if i % 2:\n",
    "            data.iloc[:,i] = 7 - data.iloc[:,i]\n",
    "        else:\n",
    "            data.iloc[:,i] = data.iloc[:,i] - 1\n",
    "\n",
    "    data['Score'] = data.iloc[:,0:10].sum(axis=1)\n",
    "    data['Score 100'] = data['Score'] * (100/60)\n",
    "    return data\n",
    "\n",
    "def confidence_interval_t(data, confidence_level=0.95):\n",
    "    return stats.t.interval(confidence_level, data.count()-1, data.mean(), data.sem())\n",
    "\n",
    "def convert_time_to_timedelta(value):\n",
    "    return datetime.combine(date.min, value) - datetime.min"
   ]
  },
  {
   "cell_type": "markdown",
   "id": "adf46034-9a04-4165-b20c-5d4f359f7c09",
   "metadata": {},
   "source": [
    "## Load Excel"
   ]
  },
  {
   "cell_type": "code",
   "execution_count": 3,
   "id": "a4513c21-5c21-4d43-962a-de2c89f82e81",
   "metadata": {},
   "outputs": [],
   "source": [
    "data = pd.read_excel('data/userstudies/yanux-skeletron-data.xlsx', sheet_name=None)  "
   ]
  },
  {
   "cell_type": "markdown",
   "id": "a687852e-2b9b-45d1-8b25-396925dc21ee",
   "metadata": {},
   "source": [
    "## Demographics"
   ]
  },
  {
   "cell_type": "code",
   "execution_count": 4,
   "id": "fea98538-e0c7-4125-a78c-9093a51d15db",
   "metadata": {},
   "outputs": [
    {
     "data": {
      "text/html": [
       "<div>\n",
       "<style scoped>\n",
       "    .dataframe tbody tr th:only-of-type {\n",
       "        vertical-align: middle;\n",
       "    }\n",
       "\n",
       "    .dataframe tbody tr th {\n",
       "        vertical-align: top;\n",
       "    }\n",
       "\n",
       "    .dataframe thead th {\n",
       "        text-align: right;\n",
       "    }\n",
       "</style>\n",
       "<table border=\"1\" class=\"dataframe\">\n",
       "  <thead>\n",
       "    <tr style=\"text-align: right;\">\n",
       "      <th></th>\n",
       "      <th>Age</th>\n",
       "      <th>Gender</th>\n",
       "      <th>Education</th>\n",
       "      <th>Education Area</th>\n",
       "      <th>Devices Owned</th>\n",
       "      <th>Usage of Multiple Devices</th>\n",
       "    </tr>\n",
       "  </thead>\n",
       "  <tbody>\n",
       "    <tr>\n",
       "      <th>0</th>\n",
       "      <td>52</td>\n",
       "      <td>Male</td>\n",
       "      <td>Master's Degree</td>\n",
       "      <td>Computer Science</td>\n",
       "      <td>Desktop computer, Laptop computer, Smartphone</td>\n",
       "      <td>7</td>\n",
       "    </tr>\n",
       "    <tr>\n",
       "      <th>1</th>\n",
       "      <td>23</td>\n",
       "      <td>Female</td>\n",
       "      <td>Bachelor's Degree</td>\n",
       "      <td>Computer Science</td>\n",
       "      <td>Laptop computer, Smartphone</td>\n",
       "      <td>5</td>\n",
       "    </tr>\n",
       "    <tr>\n",
       "      <th>2</th>\n",
       "      <td>24</td>\n",
       "      <td>Female</td>\n",
       "      <td>Bachelor's Degree</td>\n",
       "      <td>Computer Science</td>\n",
       "      <td>Desktop computer, Laptop computer, Smartphone,...</td>\n",
       "      <td>6</td>\n",
       "    </tr>\n",
       "    <tr>\n",
       "      <th>3</th>\n",
       "      <td>22</td>\n",
       "      <td>Male</td>\n",
       "      <td>Bachelor's Degree</td>\n",
       "      <td>Computer Science</td>\n",
       "      <td>Laptop computer, Smartphone, Smart TV</td>\n",
       "      <td>3</td>\n",
       "    </tr>\n",
       "    <tr>\n",
       "      <th>4</th>\n",
       "      <td>22</td>\n",
       "      <td>Male</td>\n",
       "      <td>Post-Secondary Education</td>\n",
       "      <td>Computer Science</td>\n",
       "      <td>Desktop computer, Laptop computer, Smartphone</td>\n",
       "      <td>6</td>\n",
       "    </tr>\n",
       "    <tr>\n",
       "      <th>5</th>\n",
       "      <td>24</td>\n",
       "      <td>Female</td>\n",
       "      <td>Bachelor's Degree</td>\n",
       "      <td>Computer Science</td>\n",
       "      <td>Laptop computer, Smartphone, Tablet, Smartwatc...</td>\n",
       "      <td>5</td>\n",
       "    </tr>\n",
       "    <tr>\n",
       "      <th>6</th>\n",
       "      <td>35</td>\n",
       "      <td>Male</td>\n",
       "      <td>Master's Degree</td>\n",
       "      <td>Computer Science</td>\n",
       "      <td>Desktop computer, Laptop computer, Smartphone,...</td>\n",
       "      <td>7</td>\n",
       "    </tr>\n",
       "    <tr>\n",
       "      <th>7</th>\n",
       "      <td>25</td>\n",
       "      <td>Male</td>\n",
       "      <td>Bachelor's Degree</td>\n",
       "      <td>Computer Science</td>\n",
       "      <td>Laptop computer, Smartphone, Tablet, Smart TV,...</td>\n",
       "      <td>5</td>\n",
       "    </tr>\n",
       "    <tr>\n",
       "      <th>8</th>\n",
       "      <td>29</td>\n",
       "      <td>Female</td>\n",
       "      <td>Secondary Education</td>\n",
       "      <td>Computer Science</td>\n",
       "      <td>Desktop computer, Laptop computer, Smartphone,...</td>\n",
       "      <td>7</td>\n",
       "    </tr>\n",
       "  </tbody>\n",
       "</table>\n",
       "</div>"
      ],
      "text/plain": [
       "   Age  Gender                 Education    Education Area  \\\n",
       "0   52    Male           Master's Degree  Computer Science   \n",
       "1   23  Female         Bachelor's Degree  Computer Science   \n",
       "2   24  Female         Bachelor's Degree  Computer Science   \n",
       "3   22    Male         Bachelor's Degree  Computer Science   \n",
       "4   22    Male  Post-Secondary Education  Computer Science   \n",
       "5   24  Female         Bachelor's Degree  Computer Science   \n",
       "6   35    Male           Master's Degree  Computer Science   \n",
       "7   25    Male         Bachelor's Degree  Computer Science   \n",
       "8   29  Female       Secondary Education  Computer Science   \n",
       "\n",
       "                                       Devices Owned  \\\n",
       "0      Desktop computer, Laptop computer, Smartphone   \n",
       "1                        Laptop computer, Smartphone   \n",
       "2  Desktop computer, Laptop computer, Smartphone,...   \n",
       "3              Laptop computer, Smartphone, Smart TV   \n",
       "4      Desktop computer, Laptop computer, Smartphone   \n",
       "5  Laptop computer, Smartphone, Tablet, Smartwatc...   \n",
       "6  Desktop computer, Laptop computer, Smartphone,...   \n",
       "7  Laptop computer, Smartphone, Tablet, Smart TV,...   \n",
       "8  Desktop computer, Laptop computer, Smartphone,...   \n",
       "\n",
       "   Usage of Multiple Devices  \n",
       "0                          7  \n",
       "1                          5  \n",
       "2                          6  \n",
       "3                          3  \n",
       "4                          6  \n",
       "5                          5  \n",
       "6                          7  \n",
       "7                          5  \n",
       "8                          7  "
      ]
     },
     "execution_count": 4,
     "metadata": {},
     "output_type": "execute_result"
    }
   ],
   "source": [
    "data_demographics = data['Demographics']\n",
    "data_demographics"
   ]
  },
  {
   "cell_type": "markdown",
   "id": "7721c3d2-cee0-4776-9e80-e391113170e6",
   "metadata": {},
   "source": [
    "### Age"
   ]
  },
  {
   "cell_type": "code",
   "execution_count": 5,
   "id": "07817416-fd90-4c21-a5b5-8b60e2b293c3",
   "metadata": {},
   "outputs": [
    {
     "name": "stdout",
     "output_type": "stream",
     "text": [
      "--- Statistics ----\n"
     ]
    },
    {
     "data": {
      "text/plain": [
       "count     9.000000\n",
       "mean     28.444444\n",
       "std       9.761034\n",
       "min      22.000000\n",
       "25%      23.000000\n",
       "50%      24.000000\n",
       "75%      29.000000\n",
       "max      52.000000\n",
       "Name: Age, dtype: float64"
      ]
     },
     "metadata": {},
     "output_type": "display_data"
    },
    {
     "name": "stdout",
     "output_type": "stream",
     "text": [
      "\n",
      "\n",
      "--- Counting Unique Values ----\n"
     ]
    },
    {
     "data": {
      "text/plain": [
       "24    2\n",
       "22    2\n",
       "52    1\n",
       "23    1\n",
       "35    1\n",
       "25    1\n",
       "29    1\n",
       "Name: Age, dtype: int64"
      ]
     },
     "metadata": {},
     "output_type": "display_data"
    },
    {
     "name": "stdout",
     "output_type": "stream",
     "text": [
      "\n",
      "\n",
      "--- Basic Histogram ----\n"
     ]
    },
    {
     "data": {
      "image/png": "[encoded data removed]",
      "text/plain": [
       "<Figure size 576x288 with 1 Axes>"
      ]
     },
     "metadata": {
      "needs_background": "light"
     },
     "output_type": "display_data"
    },
    {
     "name": "stdout",
     "output_type": "stream",
     "text": [
      "Population Standard Deviation:\n",
      "9.202790773710515\n"
     ]
    }
   ],
   "source": [
    "data_demographics_age = data_demographics['Age']\n",
    "print_stats(data_demographics_age, hist_bins=20)\n",
    "print('Population Standard Deviation:')\n",
    "print(data_demographics_age.std(ddof=0))"
   ]
  },
  {
   "cell_type": "markdown",
   "id": "bb995f50-04e7-442f-9644-cd96900cb20e",
   "metadata": {},
   "source": [
    "### Gender"
   ]
  },
  {
   "cell_type": "code",
   "execution_count": 6,
   "id": "55a6d9cc-e3c6-4e19-9da9-1a8767059f47",
   "metadata": {},
   "outputs": [
    {
     "name": "stdout",
     "output_type": "stream",
     "text": [
      "--- Statistics ----\n"
     ]
    },
    {
     "data": {
      "text/plain": [
       "count        9\n",
       "unique       2\n",
       "top       Male\n",
       "freq         5\n",
       "Name: Gender, dtype: object"
      ]
     },
     "metadata": {},
     "output_type": "display_data"
    },
    {
     "name": "stdout",
     "output_type": "stream",
     "text": [
      "\n",
      "\n",
      "--- Counting Unique Values ----\n"
     ]
    },
    {
     "data": {
      "text/plain": [
       "Male      5\n",
       "Female    4\n",
       "Name: Gender, dtype: int64"
      ]
     },
     "metadata": {},
     "output_type": "display_data"
    },
    {
     "name": "stdout",
     "output_type": "stream",
     "text": [
      "\n",
      "\n",
      "--- Basic Bar Chart ----\n"
     ]
    },
    {
     "data": {
      "image/png": "[encoded data removed]",
      "text/plain": [
       "<Figure size 576x288 with 1 Axes>"
      ]
     },
     "metadata": {
      "needs_background": "light"
     },
     "output_type": "display_data"
    }
   ],
   "source": [
    "data_demographics_genre = data_demographics['Gender']\n",
    "print_stats(data_demographics_genre)"
   ]
  },
  {
   "cell_type": "markdown",
   "id": "65904193-c8cc-4bef-9e0c-3f69059fefd6",
   "metadata": {},
   "source": [
    "### Education"
   ]
  },
  {
   "cell_type": "code",
   "execution_count": 7,
   "id": "0260b128-ff7f-46d1-87a4-933fa8358f28",
   "metadata": {},
   "outputs": [
    {
     "name": "stdout",
     "output_type": "stream",
     "text": [
      "--- Statistics ----\n"
     ]
    },
    {
     "data": {
      "text/plain": [
       "count                     9\n",
       "unique                    4\n",
       "top       Bachelor's Degree\n",
       "freq                      5\n",
       "Name: Education, dtype: object"
      ]
     },
     "metadata": {},
     "output_type": "display_data"
    },
    {
     "name": "stdout",
     "output_type": "stream",
     "text": [
      "\n",
      "\n",
      "--- Counting Unique Values ----\n"
     ]
    },
    {
     "data": {
      "text/plain": [
       "Bachelor's Degree           5\n",
       "Master's Degree             2\n",
       "Post-Secondary Education    1\n",
       "Secondary Education         1\n",
       "Name: Education, dtype: int64"
      ]
     },
     "metadata": {},
     "output_type": "display_data"
    },
    {
     "name": "stdout",
     "output_type": "stream",
     "text": [
      "\n",
      "\n",
      "--- Basic Bar Chart ----\n"
     ]
    },
    {
     "data": {
      "image/png": "[encoded data removed]",
      "text/plain": [
       "<Figure size 576x288 with 1 Axes>"
      ]
     },
     "metadata": {
      "needs_background": "light"
     },
     "output_type": "display_data"
    }
   ],
   "source": [
    "data_demographics_education = data_demographics['Education']\n",
    "print_stats(data_demographics_education)"
   ]
  },
  {
   "cell_type": "markdown",
   "id": "85b74fbd-6e31-4657-b350-dc682c5f44ac",
   "metadata": {},
   "source": [
    "### Education Area"
   ]
  },
  {
   "cell_type": "code",
   "execution_count": 8,
   "id": "3672a61c-d4d3-447d-ae4d-d3938fed17f8",
   "metadata": {},
   "outputs": [
    {
     "name": "stdout",
     "output_type": "stream",
     "text": [
      "--- Statistics ----\n"
     ]
    },
    {
     "data": {
      "text/plain": [
       "count                    9\n",
       "unique                   1\n",
       "top       Computer Science\n",
       "freq                     9\n",
       "Name: Education Area, dtype: object"
      ]
     },
     "metadata": {},
     "output_type": "display_data"
    },
    {
     "name": "stdout",
     "output_type": "stream",
     "text": [
      "\n",
      "\n",
      "--- Counting Unique Values ----\n"
     ]
    },
    {
     "data": {
      "text/plain": [
       "Computer Science    9\n",
       "Name: Education Area, dtype: int64"
      ]
     },
     "metadata": {},
     "output_type": "display_data"
    },
    {
     "name": "stdout",
     "output_type": "stream",
     "text": [
      "\n",
      "\n",
      "--- Basic Bar Chart ----\n"
     ]
    },
    {
     "data": {
      "image/png": "[encoded data removed]",
      "text/plain": [
       "<Figure size 576x288 with 1 Axes>"
      ]
     },
     "metadata": {
      "needs_background": "light"
     },
     "output_type": "display_data"
    }
   ],
   "source": [
    "data_demographics_education_area = data_demographics['Education Area']\n",
    "print_stats(data_demographics_education_area)"
   ]
  },
  {
   "cell_type": "markdown",
   "id": "43dbd15c-cd86-4f01-9f89-87b8281bda8d",
   "metadata": {},
   "source": [
    "### Devices Owned"
   ]
  },
  {
   "cell_type": "code",
   "execution_count": 9,
   "id": "2b3a2051-c5f2-4ce8-9a2c-999bd6fe9389",
   "metadata": {},
   "outputs": [
    {
     "name": "stdout",
     "output_type": "stream",
     "text": [
      "--- Statistics ----\n"
     ]
    },
    {
     "data": {
      "text/plain": [
       "count                                                   9\n",
       "unique                                                  8\n",
       "top       [Desktop computer, Laptop computer, Smartphone]\n",
       "freq                                                    2\n",
       "Name: Devices Owned, dtype: object"
      ]
     },
     "metadata": {},
     "output_type": "display_data"
    },
    {
     "name": "stdout",
     "output_type": "stream",
     "text": [
      "--- Counting Unique Values ----\n"
     ]
    },
    {
     "data": {
      "text/plain": [
       "Desktop computer, Laptop computer, Smartphone                                                   2\n",
       "Laptop computer, Smartphone                                                                     1\n",
       "Desktop computer, Laptop computer, Smartphone, Tablet, Smart TV, Smartwatch                     1\n",
       "Laptop computer, Smartphone, Smart TV                                                           1\n",
       "Laptop computer, Smartphone, Tablet, Smartwatch, Smart speaker                                  1\n",
       "Desktop computer, Laptop computer, Smartphone, Tablet, Smart TV, Smartwatch, Fitness tracker    1\n",
       "Laptop computer, Smartphone, Tablet, Smart TV, Fitness tracker                                  1\n",
       "Desktop computer, Laptop computer, Smartphone, Tablet, Fitness tracker                          1\n",
       "Name: Devices Owned, dtype: int64"
      ]
     },
     "metadata": {},
     "output_type": "display_data"
    }
   ],
   "source": [
    "data_demographics_devices_owned = data_demographics['Devices Owned']\n",
    "data_demographics_devices_owned_list = data_demographics_devices_owned.map(lambda x: [i.strip() for i in x.split(\",\")])\n",
    "\n",
    "print('--- Statistics ----')\n",
    "display(data_demographics_devices_owned_list.describe())\n",
    "print('--- Counting Unique Values ----')\n",
    "display(data_demographics_devices_owned.value_counts())"
   ]
  },
  {
   "cell_type": "markdown",
   "id": "7bd8e777-e7b4-4e19-8358-e6a40f819724",
   "metadata": {},
   "source": [
    "#### Number of Devices Owned"
   ]
  },
  {
   "cell_type": "code",
   "execution_count": 10,
   "id": "fbc11d1c-06a0-42be-b0e2-b4bc9e3a1bf5",
   "metadata": {},
   "outputs": [
    {
     "data": {
      "text/html": [
       "<div>\n",
       "<style scoped>\n",
       "    .dataframe tbody tr th:only-of-type {\n",
       "        vertical-align: middle;\n",
       "    }\n",
       "\n",
       "    .dataframe tbody tr th {\n",
       "        vertical-align: top;\n",
       "    }\n",
       "\n",
       "    .dataframe thead th {\n",
       "        text-align: right;\n",
       "    }\n",
       "</style>\n",
       "<table border=\"1\" class=\"dataframe\">\n",
       "  <thead>\n",
       "    <tr style=\"text-align: right;\">\n",
       "      <th></th>\n",
       "      <th>Desktop computer</th>\n",
       "      <th>Fitness tracker</th>\n",
       "      <th>Laptop computer</th>\n",
       "      <th>Smart TV</th>\n",
       "      <th>Smart speaker</th>\n",
       "      <th>Smartphone</th>\n",
       "      <th>Smartwatch</th>\n",
       "      <th>Tablet</th>\n",
       "    </tr>\n",
       "  </thead>\n",
       "  <tbody>\n",
       "    <tr>\n",
       "      <th>0</th>\n",
       "      <td>1</td>\n",
       "      <td>0</td>\n",
       "      <td>1</td>\n",
       "      <td>0</td>\n",
       "      <td>0</td>\n",
       "      <td>1</td>\n",
       "      <td>0</td>\n",
       "      <td>0</td>\n",
       "    </tr>\n",
       "    <tr>\n",
       "      <th>1</th>\n",
       "      <td>0</td>\n",
       "      <td>0</td>\n",
       "      <td>1</td>\n",
       "      <td>0</td>\n",
       "      <td>0</td>\n",
       "      <td>1</td>\n",
       "      <td>0</td>\n",
       "      <td>0</td>\n",
       "    </tr>\n",
       "    <tr>\n",
       "      <th>2</th>\n",
       "      <td>1</td>\n",
       "      <td>0</td>\n",
       "      <td>1</td>\n",
       "      <td>1</td>\n",
       "      <td>0</td>\n",
       "      <td>1</td>\n",
       "      <td>1</td>\n",
       "      <td>1</td>\n",
       "    </tr>\n",
       "    <tr>\n",
       "      <th>3</th>\n",
       "      <td>0</td>\n",
       "      <td>0</td>\n",
       "      <td>1</td>\n",
       "      <td>1</td>\n",
       "      <td>0</td>\n",
       "      <td>1</td>\n",
       "      <td>0</td>\n",
       "      <td>0</td>\n",
       "    </tr>\n",
       "    <tr>\n",
       "      <th>4</th>\n",
       "      <td>1</td>\n",
       "      <td>0</td>\n",
       "      <td>1</td>\n",
       "      <td>0</td>\n",
       "      <td>0</td>\n",
       "      <td>1</td>\n",
       "      <td>0</td>\n",
       "      <td>0</td>\n",
       "    </tr>\n",
       "    <tr>\n",
       "      <th>5</th>\n",
       "      <td>0</td>\n",
       "      <td>0</td>\n",
       "      <td>1</td>\n",
       "      <td>0</td>\n",
       "      <td>1</td>\n",
       "      <td>1</td>\n",
       "      <td>1</td>\n",
       "      <td>1</td>\n",
       "    </tr>\n",
       "    <tr>\n",
       "      <th>6</th>\n",
       "      <td>1</td>\n",
       "      <td>1</td>\n",
       "      <td>1</td>\n",
       "      <td>1</td>\n",
       "      <td>0</td>\n",
       "      <td>1</td>\n",
       "      <td>1</td>\n",
       "      <td>1</td>\n",
       "    </tr>\n",
       "    <tr>\n",
       "      <th>7</th>\n",
       "      <td>0</td>\n",
       "      <td>1</td>\n",
       "      <td>1</td>\n",
       "      <td>1</td>\n",
       "      <td>0</td>\n",
       "      <td>1</td>\n",
       "      <td>0</td>\n",
       "      <td>1</td>\n",
       "    </tr>\n",
       "    <tr>\n",
       "      <th>8</th>\n",
       "      <td>1</td>\n",
       "      <td>1</td>\n",
       "      <td>1</td>\n",
       "      <td>0</td>\n",
       "      <td>0</td>\n",
       "      <td>1</td>\n",
       "      <td>0</td>\n",
       "      <td>1</td>\n",
       "    </tr>\n",
       "  </tbody>\n",
       "</table>\n",
       "</div>"
      ],
      "text/plain": [
       "   Desktop computer  Fitness tracker  Laptop computer  Smart TV  \\\n",
       "0                 1                0                1         0   \n",
       "1                 0                0                1         0   \n",
       "2                 1                0                1         1   \n",
       "3                 0                0                1         1   \n",
       "4                 1                0                1         0   \n",
       "5                 0                0                1         0   \n",
       "6                 1                1                1         1   \n",
       "7                 0                1                1         1   \n",
       "8                 1                1                1         0   \n",
       "\n",
       "   Smart speaker  Smartphone  Smartwatch  Tablet  \n",
       "0              0           1           0       0  \n",
       "1              0           1           0       0  \n",
       "2              0           1           1       1  \n",
       "3              0           1           0       0  \n",
       "4              0           1           0       0  \n",
       "5              1           1           1       1  \n",
       "6              0           1           1       1  \n",
       "7              0           1           0       1  \n",
       "8              0           1           0       1  "
      ]
     },
     "execution_count": 10,
     "metadata": {},
     "output_type": "execute_result"
    }
   ],
   "source": [
    "mlb_devices_owned = MultiLabelBinarizer()\n",
    "devices_owned_one_hot = pd.DataFrame(mlb_devices_owned.fit_transform(data_demographics_devices_owned_list),\n",
    "                                     columns=mlb_devices_owned.classes_,index=data_demographics_devices_owned_list.index)\n",
    "devices_owned_one_hot"
   ]
  },
  {
   "cell_type": "code",
   "execution_count": 11,
   "id": "5845fa6e-b211-4364-82e7-81e0b8c5870d",
   "metadata": {},
   "outputs": [
    {
     "data": {
      "text/plain": [
       "count    9.000000\n",
       "mean     4.333333\n",
       "std      1.658312\n",
       "min      2.000000\n",
       "25%      3.000000\n",
       "50%      5.000000\n",
       "75%      5.000000\n",
       "max      7.000000\n",
       "dtype: float64"
      ]
     },
     "execution_count": 11,
     "metadata": {},
     "output_type": "execute_result"
    }
   ],
   "source": [
    "devices_owned_one_hot.sum(axis=1).describe()"
   ]
  },
  {
   "cell_type": "markdown",
   "id": "10aa159f-acbb-4966-b4ec-4bc9b174bd4c",
   "metadata": {},
   "source": [
    "##### Device Types Owned"
   ]
  },
  {
   "cell_type": "code",
   "execution_count": 12,
   "id": "98342670-f892-4103-b757-8b655c5ab09c",
   "metadata": {},
   "outputs": [
    {
     "data": {
      "text/plain": [
       "Laptop computer     9\n",
       "Smartphone          9\n",
       "Desktop computer    5\n",
       "Tablet              5\n",
       "Smart TV            4\n",
       "Fitness tracker     3\n",
       "Smartwatch          3\n",
       "Smart speaker       1\n",
       "dtype: int64"
      ]
     },
     "execution_count": 12,
     "metadata": {},
     "output_type": "execute_result"
    }
   ],
   "source": [
    "devices_owned_one_hot.sum().sort_values(ascending=False)"
   ]
  },
  {
   "cell_type": "markdown",
   "id": "82609e58-f355-443b-90bf-2a83e729551a",
   "metadata": {},
   "source": [
    "##### Percentage of Participants that Own Each Type of Device"
   ]
  },
  {
   "cell_type": "code",
   "execution_count": 13,
   "id": "5d35bfb2-da01-4517-9e0a-75eb5f2b30e6",
   "metadata": {},
   "outputs": [
    {
     "data": {
      "text/plain": [
       "Laptop computer     100.000000\n",
       "Smartphone          100.000000\n",
       "Desktop computer     55.555556\n",
       "Tablet               55.555556\n",
       "Smart TV             44.444444\n",
       "Fitness tracker      33.333333\n",
       "Smartwatch           33.333333\n",
       "Smart speaker        11.111111\n",
       "dtype: float64"
      ]
     },
     "execution_count": 13,
     "metadata": {},
     "output_type": "execute_result"
    }
   ],
   "source": [
    "(devices_owned_one_hot.sum()/devices_owned_one_hot.count()*100).sort_values(ascending=False)"
   ]
  },
  {
   "cell_type": "markdown",
   "id": "e50cd406-f77c-46e9-901b-eca7c23e381d",
   "metadata": {},
   "source": [
    "### Usage of Multiple Devices"
   ]
  },
  {
   "cell_type": "code",
   "execution_count": 14,
   "id": "a10fe03e-e4af-4116-bd6e-27175a0b4221",
   "metadata": {},
   "outputs": [
    {
     "name": "stdout",
     "output_type": "stream",
     "text": [
      "--- Statistics ----\n"
     ]
    },
    {
     "data": {
      "text/plain": [
       "count    9.000000\n",
       "mean     5.666667\n",
       "std      1.322876\n",
       "min      3.000000\n",
       "25%      5.000000\n",
       "50%      6.000000\n",
       "75%      7.000000\n",
       "max      7.000000\n",
       "Name: Usage of Multiple Devices, dtype: float64"
      ]
     },
     "metadata": {},
     "output_type": "display_data"
    },
    {
     "name": "stdout",
     "output_type": "stream",
     "text": [
      "\n",
      "\n",
      "--- Counting Unique Values ----\n"
     ]
    },
    {
     "data": {
      "text/plain": [
       "7    3\n",
       "5    3\n",
       "6    2\n",
       "3    1\n",
       "Name: Usage of Multiple Devices, dtype: int64"
      ]
     },
     "metadata": {},
     "output_type": "display_data"
    },
    {
     "name": "stdout",
     "output_type": "stream",
     "text": [
      "\n",
      "\n",
      "--- Basic Bar Chart ----\n"
     ]
    },
    {
     "data": {
      "image/png": "[encoded data removed]",
      "text/plain": [
       "<Figure size 576x288 with 1 Axes>"
      ]
     },
     "metadata": {
      "needs_background": "light"
     },
     "output_type": "display_data"
    },
    {
     "name": "stdout",
     "output_type": "stream",
     "text": [
      "Population Standard Deviation:\n",
      "1.247219128924647\n"
     ]
    }
   ],
   "source": [
    "data_demographics_usage_multiple_devices = data_demographics['Usage of Multiple Devices']\n",
    "print_stats(data_demographics_usage_multiple_devices)\n",
    "\n",
    "print('Population Standard Deviation:')\n",
    "print(data_demographics_usage_multiple_devices.std(ddof=0))"
   ]
  },
  {
   "cell_type": "markdown",
   "id": "608f5660-0a18-412a-87b5-387a362c81a7",
   "metadata": {},
   "source": [
    "#### Percentage of Users that User Multiple Devices Sometimes or More Often"
   ]
  },
  {
   "cell_type": "code",
   "execution_count": 15,
   "id": "7c15ff85-9104-4d19-a3d3-a156cdfd55d5",
   "metadata": {},
   "outputs": [
    {
     "data": {
      "text/plain": [
       "88.88888888888889"
      ]
     },
     "execution_count": 15,
     "metadata": {},
     "output_type": "execute_result"
    }
   ],
   "source": [
    "(data_demographics_usage_multiple_devices[data_demographics_usage_multiple_devices >= 5].count()/data_demographics_usage_multiple_devices.count())*100"
   ]
  },
  {
   "cell_type": "markdown",
   "id": "2d226d76-0eaa-4015-95d6-1b6da873a986",
   "metadata": {},
   "source": [
    "## Programming Experience"
   ]
  },
  {
   "cell_type": "code",
   "execution_count": 16,
   "id": "4d61e2d4-685b-4a88-97a4-f3ac523651fe",
   "metadata": {},
   "outputs": [
    {
     "data": {
      "text/html": [
       "<div>\n",
       "<style scoped>\n",
       "    .dataframe tbody tr th:only-of-type {\n",
       "        vertical-align: middle;\n",
       "    }\n",
       "\n",
       "    .dataframe tbody tr th {\n",
       "        vertical-align: top;\n",
       "    }\n",
       "\n",
       "    .dataframe thead th {\n",
       "        text-align: right;\n",
       "    }\n",
       "</style>\n",
       "<table border=\"1\" class=\"dataframe\">\n",
       "  <thead>\n",
       "    <tr style=\"text-align: right;\">\n",
       "      <th></th>\n",
       "      <th>Years of Programming Experience</th>\n",
       "      <th>Programming Experience (Self Assessment)</th>\n",
       "      <th>JavaScript Experience (Self Assessment)</th>\n",
       "      <th>Experience with Programming Languages</th>\n",
       "    </tr>\n",
       "  </thead>\n",
       "  <tbody>\n",
       "    <tr>\n",
       "      <th>0</th>\n",
       "      <td>30</td>\n",
       "      <td>6</td>\n",
       "      <td>6</td>\n",
       "      <td>C, C++, C#, Delphi/Pascal, Java, Perl, PHP, Py...</td>\n",
       "    </tr>\n",
       "    <tr>\n",
       "      <th>1</th>\n",
       "      <td>5</td>\n",
       "      <td>6</td>\n",
       "      <td>6</td>\n",
       "      <td>C#, Dart, Java, Kotlin, Matlab, PHP, TypeScript</td>\n",
       "    </tr>\n",
       "    <tr>\n",
       "      <th>2</th>\n",
       "      <td>6</td>\n",
       "      <td>4</td>\n",
       "      <td>4</td>\n",
       "      <td>C++, C#, Java, Kotlin</td>\n",
       "    </tr>\n",
       "    <tr>\n",
       "      <th>3</th>\n",
       "      <td>5</td>\n",
       "      <td>6</td>\n",
       "      <td>5</td>\n",
       "      <td>C, C++, Java, Python, Ruby</td>\n",
       "    </tr>\n",
       "    <tr>\n",
       "      <th>4</th>\n",
       "      <td>7</td>\n",
       "      <td>5</td>\n",
       "      <td>5</td>\n",
       "      <td>C, C#, Dart, Java, Matlab, PHP, Python, R, Vis...</td>\n",
       "    </tr>\n",
       "    <tr>\n",
       "      <th>5</th>\n",
       "      <td>5</td>\n",
       "      <td>4</td>\n",
       "      <td>4</td>\n",
       "      <td>C, C#, Java, Python</td>\n",
       "    </tr>\n",
       "    <tr>\n",
       "      <th>6</th>\n",
       "      <td>20</td>\n",
       "      <td>7</td>\n",
       "      <td>7</td>\n",
       "      <td>C, C#, Java, PHP, Python, Visual Basic/Visual ...</td>\n",
       "    </tr>\n",
       "    <tr>\n",
       "      <th>7</th>\n",
       "      <td>6</td>\n",
       "      <td>5</td>\n",
       "      <td>5</td>\n",
       "      <td>C, C#, Dart, Java, Python, TypeScript</td>\n",
       "    </tr>\n",
       "    <tr>\n",
       "      <th>8</th>\n",
       "      <td>4</td>\n",
       "      <td>3</td>\n",
       "      <td>3</td>\n",
       "      <td>C, C++, C#, Java, Python, Visual Basic/Visual ...</td>\n",
       "    </tr>\n",
       "  </tbody>\n",
       "</table>\n",
       "</div>"
      ],
      "text/plain": [
       "   Years of Programming Experience  Programming Experience (Self Assessment)  \\\n",
       "0                               30                                         6   \n",
       "1                                5                                         6   \n",
       "2                                6                                         4   \n",
       "3                                5                                         6   \n",
       "4                                7                                         5   \n",
       "5                                5                                         4   \n",
       "6                               20                                         7   \n",
       "7                                6                                         5   \n",
       "8                                4                                         3   \n",
       "\n",
       "   JavaScript Experience (Self Assessment)  \\\n",
       "0                                        6   \n",
       "1                                        6   \n",
       "2                                        4   \n",
       "3                                        5   \n",
       "4                                        5   \n",
       "5                                        4   \n",
       "6                                        7   \n",
       "7                                        5   \n",
       "8                                        3   \n",
       "\n",
       "               Experience with Programming Languages  \n",
       "0  C, C++, C#, Delphi/Pascal, Java, Perl, PHP, Py...  \n",
       "1    C#, Dart, Java, Kotlin, Matlab, PHP, TypeScript  \n",
       "2                              C++, C#, Java, Kotlin  \n",
       "3                         C, C++, Java, Python, Ruby  \n",
       "4  C, C#, Dart, Java, Matlab, PHP, Python, R, Vis...  \n",
       "5                                C, C#, Java, Python  \n",
       "6  C, C#, Java, PHP, Python, Visual Basic/Visual ...  \n",
       "7              C, C#, Dart, Java, Python, TypeScript  \n",
       "8  C, C++, C#, Java, Python, Visual Basic/Visual ...  "
      ]
     },
     "execution_count": 16,
     "metadata": {},
     "output_type": "execute_result"
    }
   ],
   "source": [
    "data_programming_experience = data['Programming Experience']\n",
    "data_programming_experience"
   ]
  },
  {
   "cell_type": "markdown",
   "id": "a7aafbbc-7a9e-4f18-8565-12b38e48f6da",
   "metadata": {
    "tags": []
   },
   "source": [
    "### Years of Programming Experience"
   ]
  },
  {
   "cell_type": "code",
   "execution_count": 17,
   "id": "ae22bc8e-65dd-46a6-94aa-0fb04c227c37",
   "metadata": {},
   "outputs": [
    {
     "name": "stdout",
     "output_type": "stream",
     "text": [
      "--- Statistics ----\n"
     ]
    },
    {
     "data": {
      "text/plain": [
       "count     9.000000\n",
       "mean      9.777778\n",
       "std       9.024658\n",
       "min       4.000000\n",
       "25%       5.000000\n",
       "50%       6.000000\n",
       "75%       7.000000\n",
       "max      30.000000\n",
       "Name: Years of Programming Experience, dtype: float64"
      ]
     },
     "metadata": {},
     "output_type": "display_data"
    },
    {
     "name": "stdout",
     "output_type": "stream",
     "text": [
      "\n",
      "\n",
      "--- Counting Unique Values ----\n"
     ]
    },
    {
     "data": {
      "text/plain": [
       "5     3\n",
       "6     2\n",
       "30    1\n",
       "7     1\n",
       "20    1\n",
       "4     1\n",
       "Name: Years of Programming Experience, dtype: int64"
      ]
     },
     "metadata": {},
     "output_type": "display_data"
    },
    {
     "name": "stdout",
     "output_type": "stream",
     "text": [
      "\n",
      "\n",
      "--- Basic Histogram ----\n"
     ]
    },
    {
     "data": {
      "image/png": "[encoded data removed]",
      "text/plain": [
       "<Figure size 576x288 with 1 Axes>"
      ]
     },
     "metadata": {
      "needs_background": "light"
     },
     "output_type": "display_data"
    },
    {
     "name": "stdout",
     "output_type": "stream",
     "text": [
      "Population Standard Deviation:\n",
      "8.508528764034066\n"
     ]
    }
   ],
   "source": [
    "data_programming_experience_years = data_programming_experience['Years of Programming Experience']\n",
    "print_stats(data_programming_experience_years, hist_bins=20)\n",
    "print('Population Standard Deviation:')\n",
    "print(data_programming_experience_years.std(ddof=0))"
   ]
  },
  {
   "cell_type": "markdown",
   "id": "a54236e9-9127-41aa-af76-9fcd2b0ff4c3",
   "metadata": {
    "tags": []
   },
   "source": [
    "### Programming Experience (Self Assessment)"
   ]
  },
  {
   "cell_type": "code",
   "execution_count": 18,
   "id": "eeac5520-ff97-475e-8839-c2a84cc36ed2",
   "metadata": {},
   "outputs": [
    {
     "name": "stdout",
     "output_type": "stream",
     "text": [
      "--- Statistics ----\n"
     ]
    },
    {
     "data": {
      "text/plain": [
       "count    9.000000\n",
       "mean     5.111111\n",
       "std      1.269296\n",
       "min      3.000000\n",
       "25%      4.000000\n",
       "50%      5.000000\n",
       "75%      6.000000\n",
       "max      7.000000\n",
       "Name: Programming Experience (Self Assessment), dtype: float64"
      ]
     },
     "metadata": {},
     "output_type": "display_data"
    },
    {
     "name": "stdout",
     "output_type": "stream",
     "text": [
      "\n",
      "\n",
      "--- Counting Unique Values ----\n"
     ]
    },
    {
     "data": {
      "text/plain": [
       "6    3\n",
       "4    2\n",
       "5    2\n",
       "7    1\n",
       "3    1\n",
       "Name: Programming Experience (Self Assessment), dtype: int64"
      ]
     },
     "metadata": {},
     "output_type": "display_data"
    },
    {
     "name": "stdout",
     "output_type": "stream",
     "text": [
      "\n",
      "\n",
      "--- Basic Bar Chart ----\n"
     ]
    },
    {
     "data": {
      "image/png": "[encoded data removed]",
      "text/plain": [
       "<Figure size 576x288 with 1 Axes>"
      ]
     },
     "metadata": {
      "needs_background": "light"
     },
     "output_type": "display_data"
    },
    {
     "name": "stdout",
     "output_type": "stream",
     "text": [
      "Population Standard Deviation:\n",
      "1.1967032904743342\n"
     ]
    }
   ],
   "source": [
    "data_programming_experience_self = data_programming_experience['Programming Experience (Self Assessment)']\n",
    "print_stats(data_programming_experience_self)\n",
    "print('Population Standard Deviation:')\n",
    "print(data_programming_experience_self.std(ddof=0))"
   ]
  },
  {
   "cell_type": "markdown",
   "id": "b8ff0b6f-0796-4c7a-89c2-f5947a6f6471",
   "metadata": {
    "tags": []
   },
   "source": [
    "### JavaScript Experience (Self Assessment)"
   ]
  },
  {
   "cell_type": "code",
   "execution_count": 19,
   "id": "88364baa-c3d3-49c5-a45c-60b7cdabf73a",
   "metadata": {},
   "outputs": [
    {
     "name": "stdout",
     "output_type": "stream",
     "text": [
      "--- Statistics ----\n"
     ]
    },
    {
     "data": {
      "text/plain": [
       "count    9.000000\n",
       "mean     5.000000\n",
       "std      1.224745\n",
       "min      3.000000\n",
       "25%      4.000000\n",
       "50%      5.000000\n",
       "75%      6.000000\n",
       "max      7.000000\n",
       "Name: JavaScript Experience (Self Assessment), dtype: float64"
      ]
     },
     "metadata": {},
     "output_type": "display_data"
    },
    {
     "name": "stdout",
     "output_type": "stream",
     "text": [
      "\n",
      "\n",
      "--- Counting Unique Values ----\n"
     ]
    },
    {
     "data": {
      "text/plain": [
       "5    3\n",
       "6    2\n",
       "4    2\n",
       "7    1\n",
       "3    1\n",
       "Name: JavaScript Experience (Self Assessment), dtype: int64"
      ]
     },
     "metadata": {},
     "output_type": "display_data"
    },
    {
     "name": "stdout",
     "output_type": "stream",
     "text": [
      "\n",
      "\n",
      "--- Basic Bar Chart ----\n"
     ]
    },
    {
     "data": {
      "image/png": "[encoded data removed]",
      "text/plain": [
       "<Figure size 576x288 with 1 Axes>"
      ]
     },
     "metadata": {
      "needs_background": "light"
     },
     "output_type": "display_data"
    },
    {
     "name": "stdout",
     "output_type": "stream",
     "text": [
      "Population Standard Deviation:\n",
      "1.1547005383792515\n"
     ]
    }
   ],
   "source": [
    "data_programming_experience_javascript = data_programming_experience['JavaScript Experience (Self Assessment)']\n",
    "print_stats(data_programming_experience_javascript)\n",
    "print('Population Standard Deviation:')\n",
    "print(data_programming_experience_javascript.std(ddof=0))"
   ]
  },
  {
   "cell_type": "markdown",
   "id": "5c353339-e445-4dff-b801-447c0b75a040",
   "metadata": {},
   "source": [
    "### Experience with Programming Languages"
   ]
  },
  {
   "cell_type": "code",
   "execution_count": 20,
   "id": "07cb0d74-6c53-4d27-b409-05b8a08fe7d3",
   "metadata": {},
   "outputs": [
    {
     "name": "stdout",
     "output_type": "stream",
     "text": [
      "--- Statistics ----\n"
     ]
    },
    {
     "data": {
      "text/plain": [
       "count                                                     9\n",
       "unique                                                    9\n",
       "top       [C, C++, C#, Delphi/Pascal, Java, Perl, PHP, P...\n",
       "freq                                                      1\n",
       "Name: Experience with Programming Languages, dtype: object"
      ]
     },
     "metadata": {},
     "output_type": "display_data"
    },
    {
     "name": "stdout",
     "output_type": "stream",
     "text": [
      "--- Counting Unique Values ----\n"
     ]
    },
    {
     "data": {
      "text/plain": [
       "C, C++, C#, Delphi/Pascal, Java, Perl, PHP, Python, Visual Basic/Visual Basic for Applications    1\n",
       "C#, Dart, Java, Kotlin, Matlab, PHP, TypeScript                                                   1\n",
       "C++, C#, Java, Kotlin                                                                             1\n",
       "C, C++, Java, Python, Ruby                                                                        1\n",
       "C, C#, Dart, Java, Matlab, PHP, Python, R, Visual Basic/Visual Basic for Applications             1\n",
       "C, C#, Java, Python                                                                               1\n",
       "C, C#, Java, PHP, Python, Visual Basic/Visual Basic for Applications                              1\n",
       "C, C#, Dart, Java, Python, TypeScript                                                             1\n",
       "C, C++, C#, Java, Python, Visual Basic/Visual Basic for Applications                              1\n",
       "Name: Experience with Programming Languages, dtype: int64"
      ]
     },
     "metadata": {},
     "output_type": "display_data"
    }
   ],
   "source": [
    "data_programming_experience_languages = data_programming_experience['Experience with Programming Languages']\n",
    "data_programming_experience_languages_list = data_programming_experience_languages.map(lambda x: [i.strip() for i in x.split(\",\")])\n",
    "\n",
    "print('--- Statistics ----')\n",
    "display(data_programming_experience_languages_list.describe())\n",
    "print('--- Counting Unique Values ----')\n",
    "display(data_programming_experience_languages.value_counts())"
   ]
  },
  {
   "cell_type": "markdown",
   "id": "64bbc724-9541-45ec-8a43-10ab1722f34b",
   "metadata": {},
   "source": [
    "#### Programming Languages"
   ]
  },
  {
   "cell_type": "code",
   "execution_count": 21,
   "id": "4f0cfd9d-1f8e-464f-b01f-684813c37b14",
   "metadata": {},
   "outputs": [
    {
     "data": {
      "text/html": [
       "<div>\n",
       "<style scoped>\n",
       "    .dataframe tbody tr th:only-of-type {\n",
       "        vertical-align: middle;\n",
       "    }\n",
       "\n",
       "    .dataframe tbody tr th {\n",
       "        vertical-align: top;\n",
       "    }\n",
       "\n",
       "    .dataframe thead th {\n",
       "        text-align: right;\n",
       "    }\n",
       "</style>\n",
       "<table border=\"1\" class=\"dataframe\">\n",
       "  <thead>\n",
       "    <tr style=\"text-align: right;\">\n",
       "      <th></th>\n",
       "      <th>C</th>\n",
       "      <th>C#</th>\n",
       "      <th>C++</th>\n",
       "      <th>Dart</th>\n",
       "      <th>Delphi/Pascal</th>\n",
       "      <th>Java</th>\n",
       "      <th>Kotlin</th>\n",
       "      <th>Matlab</th>\n",
       "      <th>PHP</th>\n",
       "      <th>Perl</th>\n",
       "      <th>Python</th>\n",
       "      <th>R</th>\n",
       "      <th>Ruby</th>\n",
       "      <th>TypeScript</th>\n",
       "      <th>Visual Basic/Visual Basic for Applications</th>\n",
       "    </tr>\n",
       "  </thead>\n",
       "  <tbody>\n",
       "    <tr>\n",
       "      <th>0</th>\n",
       "      <td>1</td>\n",
       "      <td>1</td>\n",
       "      <td>1</td>\n",
       "      <td>0</td>\n",
       "      <td>1</td>\n",
       "      <td>1</td>\n",
       "      <td>0</td>\n",
       "      <td>0</td>\n",
       "      <td>1</td>\n",
       "      <td>1</td>\n",
       "      <td>1</td>\n",
       "      <td>0</td>\n",
       "      <td>0</td>\n",
       "      <td>0</td>\n",
       "      <td>1</td>\n",
       "    </tr>\n",
       "    <tr>\n",
       "      <th>1</th>\n",
       "      <td>0</td>\n",
       "      <td>1</td>\n",
       "      <td>0</td>\n",
       "      <td>1</td>\n",
       "      <td>0</td>\n",
       "      <td>1</td>\n",
       "      <td>1</td>\n",
       "      <td>1</td>\n",
       "      <td>1</td>\n",
       "      <td>0</td>\n",
       "      <td>0</td>\n",
       "      <td>0</td>\n",
       "      <td>0</td>\n",
       "      <td>1</td>\n",
       "      <td>0</td>\n",
       "    </tr>\n",
       "    <tr>\n",
       "      <th>2</th>\n",
       "      <td>0</td>\n",
       "      <td>1</td>\n",
       "      <td>1</td>\n",
       "      <td>0</td>\n",
       "      <td>0</td>\n",
       "      <td>1</td>\n",
       "      <td>1</td>\n",
       "      <td>0</td>\n",
       "      <td>0</td>\n",
       "      <td>0</td>\n",
       "      <td>0</td>\n",
       "      <td>0</td>\n",
       "      <td>0</td>\n",
       "      <td>0</td>\n",
       "      <td>0</td>\n",
       "    </tr>\n",
       "    <tr>\n",
       "      <th>3</th>\n",
       "      <td>1</td>\n",
       "      <td>0</td>\n",
       "      <td>1</td>\n",
       "      <td>0</td>\n",
       "      <td>0</td>\n",
       "      <td>1</td>\n",
       "      <td>0</td>\n",
       "      <td>0</td>\n",
       "      <td>0</td>\n",
       "      <td>0</td>\n",
       "      <td>1</td>\n",
       "      <td>0</td>\n",
       "      <td>1</td>\n",
       "      <td>0</td>\n",
       "      <td>0</td>\n",
       "    </tr>\n",
       "    <tr>\n",
       "      <th>4</th>\n",
       "      <td>1</td>\n",
       "      <td>1</td>\n",
       "      <td>0</td>\n",
       "      <td>1</td>\n",
       "      <td>0</td>\n",
       "      <td>1</td>\n",
       "      <td>0</td>\n",
       "      <td>1</td>\n",
       "      <td>1</td>\n",
       "      <td>0</td>\n",
       "      <td>1</td>\n",
       "      <td>1</td>\n",
       "      <td>0</td>\n",
       "      <td>0</td>\n",
       "      <td>1</td>\n",
       "    </tr>\n",
       "    <tr>\n",
       "      <th>5</th>\n",
       "      <td>1</td>\n",
       "      <td>1</td>\n",
       "      <td>0</td>\n",
       "      <td>0</td>\n",
       "      <td>0</td>\n",
       "      <td>1</td>\n",
       "      <td>0</td>\n",
       "      <td>0</td>\n",
       "      <td>0</td>\n",
       "      <td>0</td>\n",
       "      <td>1</td>\n",
       "      <td>0</td>\n",
       "      <td>0</td>\n",
       "      <td>0</td>\n",
       "      <td>0</td>\n",
       "    </tr>\n",
       "    <tr>\n",
       "      <th>6</th>\n",
       "      <td>1</td>\n",
       "      <td>1</td>\n",
       "      <td>0</td>\n",
       "      <td>0</td>\n",
       "      <td>0</td>\n",
       "      <td>1</td>\n",
       "      <td>0</td>\n",
       "      <td>0</td>\n",
       "      <td>1</td>\n",
       "      <td>0</td>\n",
       "      <td>1</td>\n",
       "      <td>0</td>\n",
       "      <td>0</td>\n",
       "      <td>0</td>\n",
       "      <td>1</td>\n",
       "    </tr>\n",
       "    <tr>\n",
       "      <th>7</th>\n",
       "      <td>1</td>\n",
       "      <td>1</td>\n",
       "      <td>0</td>\n",
       "      <td>1</td>\n",
       "      <td>0</td>\n",
       "      <td>1</td>\n",
       "      <td>0</td>\n",
       "      <td>0</td>\n",
       "      <td>0</td>\n",
       "      <td>0</td>\n",
       "      <td>1</td>\n",
       "      <td>0</td>\n",
       "      <td>0</td>\n",
       "      <td>1</td>\n",
       "      <td>0</td>\n",
       "    </tr>\n",
       "    <tr>\n",
       "      <th>8</th>\n",
       "      <td>1</td>\n",
       "      <td>1</td>\n",
       "      <td>1</td>\n",
       "      <td>0</td>\n",
       "      <td>0</td>\n",
       "      <td>1</td>\n",
       "      <td>0</td>\n",
       "      <td>0</td>\n",
       "      <td>0</td>\n",
       "      <td>0</td>\n",
       "      <td>1</td>\n",
       "      <td>0</td>\n",
       "      <td>0</td>\n",
       "      <td>0</td>\n",
       "      <td>1</td>\n",
       "    </tr>\n",
       "  </tbody>\n",
       "</table>\n",
       "</div>"
      ],
      "text/plain": [
       "   C  C#  C++  Dart  Delphi/Pascal  Java  Kotlin  Matlab  PHP  Perl  Python  \\\n",
       "0  1   1    1     0              1     1       0       0    1     1       1   \n",
       "1  0   1    0     1              0     1       1       1    1     0       0   \n",
       "2  0   1    1     0              0     1       1       0    0     0       0   \n",
       "3  1   0    1     0              0     1       0       0    0     0       1   \n",
       "4  1   1    0     1              0     1       0       1    1     0       1   \n",
       "5  1   1    0     0              0     1       0       0    0     0       1   \n",
       "6  1   1    0     0              0     1       0       0    1     0       1   \n",
       "7  1   1    0     1              0     1       0       0    0     0       1   \n",
       "8  1   1    1     0              0     1       0       0    0     0       1   \n",
       "\n",
       "   R  Ruby  TypeScript  Visual Basic/Visual Basic for Applications  \n",
       "0  0     0           0                                           1  \n",
       "1  0     0           1                                           0  \n",
       "2  0     0           0                                           0  \n",
       "3  0     1           0                                           0  \n",
       "4  1     0           0                                           1  \n",
       "5  0     0           0                                           0  \n",
       "6  0     0           0                                           1  \n",
       "7  0     0           1                                           0  \n",
       "8  0     0           0                                           1  "
      ]
     },
     "execution_count": 21,
     "metadata": {},
     "output_type": "execute_result"
    }
   ],
   "source": [
    "mlb_programming_languages = MultiLabelBinarizer()\n",
    "programming_languages_one_hot = pd.DataFrame(mlb_programming_languages.fit_transform(data_programming_experience_languages_list),\n",
    "                                             columns=mlb_programming_languages.classes_,index=data_programming_experience_languages_list.index)\n",
    "programming_languages_one_hot"
   ]
  },
  {
   "cell_type": "code",
   "execution_count": 22,
   "id": "fe4cdeb6-2d52-49c6-b52d-37896e65b0f7",
   "metadata": {},
   "outputs": [
    {
     "data": {
      "text/plain": [
       "count    9.000000\n",
       "mean     6.222222\n",
       "std      1.855921\n",
       "min      4.000000\n",
       "25%      5.000000\n",
       "50%      6.000000\n",
       "75%      7.000000\n",
       "max      9.000000\n",
       "dtype: float64"
      ]
     },
     "execution_count": 22,
     "metadata": {},
     "output_type": "execute_result"
    }
   ],
   "source": [
    "programming_languages_one_hot.sum(axis=1).describe()"
   ]
  },
  {
   "cell_type": "markdown",
   "id": "d69ddc55-a82f-47bd-8518-e1364e0deb7e",
   "metadata": {},
   "source": [
    "##### Number of Programming Languages per Participant"
   ]
  },
  {
   "cell_type": "code",
   "execution_count": 23,
   "id": "df82c7ca-b759-4c48-a556-92e0aa74337c",
   "metadata": {},
   "outputs": [
    {
     "data": {
      "text/plain": [
       "Java                                          9\n",
       "C#                                            8\n",
       "C                                             7\n",
       "Python                                        7\n",
       "C++                                           4\n",
       "PHP                                           4\n",
       "Visual Basic/Visual Basic for Applications    4\n",
       "Dart                                          3\n",
       "Kotlin                                        2\n",
       "Matlab                                        2\n",
       "TypeScript                                    2\n",
       "Delphi/Pascal                                 1\n",
       "Perl                                          1\n",
       "R                                             1\n",
       "Ruby                                          1\n",
       "dtype: int64"
      ]
     },
     "execution_count": 23,
     "metadata": {},
     "output_type": "execute_result"
    }
   ],
   "source": [
    "programming_languages_one_hot.sum().sort_values(ascending=False)"
   ]
  },
  {
   "cell_type": "markdown",
   "id": "ff44ed72-1ef9-436d-b13e-d66b3029b836",
   "metadata": {},
   "source": [
    "##### Percentage of Participants that Own Each Type of Device"
   ]
  },
  {
   "cell_type": "code",
   "execution_count": 24,
   "id": "75b99e05-5edd-4657-baae-c7613a2cfa4e",
   "metadata": {},
   "outputs": [
    {
     "data": {
      "text/plain": [
       "Java                                          100.000000\n",
       "C#                                             88.888889\n",
       "C                                              77.777778\n",
       "Python                                         77.777778\n",
       "C++                                            44.444444\n",
       "PHP                                            44.444444\n",
       "Visual Basic/Visual Basic for Applications     44.444444\n",
       "Dart                                           33.333333\n",
       "Kotlin                                         22.222222\n",
       "Matlab                                         22.222222\n",
       "TypeScript                                     22.222222\n",
       "Delphi/Pascal                                  11.111111\n",
       "Perl                                           11.111111\n",
       "R                                              11.111111\n",
       "Ruby                                           11.111111\n",
       "dtype: float64"
      ]
     },
     "execution_count": 24,
     "metadata": {},
     "output_type": "execute_result"
    }
   ],
   "source": [
    "(programming_languages_one_hot.sum()/programming_languages_one_hot.count()*100).sort_values(ascending=False)"
   ]
  },
  {
   "cell_type": "markdown",
   "id": "30db9d59-699f-41d1-adcf-13825d183027",
   "metadata": {},
   "source": [
    "## Domain Specific Questions\n",
    "\n",
    "- **DS1:** It makes sense that the UI state of an application is represented by an object.\n",
    "- **DS2:** I understood how to save the UI state of an application every time it changes.\n",
    "- **DS3:** I understood how to use the \"Coordinator\" API to perform various tasks that make my multi-device application behave properly?\n",
    "- **DS4:** I understood how the DSL (Domain Specific Language) for the automatic distribution of UI components works.\n",
    "- **DS5:** I understood how to use the \"ComponentsRuleEngine\" to determine the appropriate distribution of UI components based on the restrictions placed on them and the proxemics relationships between devices currently running application instances.\n",
    "- **DS6:** I understood how the custom \"YanuX Resource Management Element\" can be used to manage multiple application states of an application.\n",
    "- **DS7:** I understood how the custom \"YanuX Components Distribution Element\" can be used to manage the distribution of UI components of an application.\t\n",
    "- **DS8:** It makes sense to distribute the UI components of an application depending on how closely related the surrounding devices are."
   ]
  },
  {
   "cell_type": "code",
   "execution_count": 25,
   "id": "7a002847-aaf1-4913-8733-182eb40a17dd",
   "metadata": {},
   "outputs": [
    {
     "data": {
      "text/html": [
       "<div>\n",
       "<style scoped>\n",
       "    .dataframe tbody tr th:only-of-type {\n",
       "        vertical-align: middle;\n",
       "    }\n",
       "\n",
       "    .dataframe tbody tr th {\n",
       "        vertical-align: top;\n",
       "    }\n",
       "\n",
       "    .dataframe thead th {\n",
       "        text-align: right;\n",
       "    }\n",
       "</style>\n",
       "<table border=\"1\" class=\"dataframe\">\n",
       "  <thead>\n",
       "    <tr style=\"text-align: right;\">\n",
       "      <th></th>\n",
       "      <th>DS1</th>\n",
       "      <th>DS2</th>\n",
       "      <th>DS3</th>\n",
       "      <th>DS4</th>\n",
       "      <th>DS5</th>\n",
       "      <th>DS6</th>\n",
       "      <th>DS7</th>\n",
       "      <th>DS8</th>\n",
       "    </tr>\n",
       "  </thead>\n",
       "  <tbody>\n",
       "    <tr>\n",
       "      <th>0</th>\n",
       "      <td>7</td>\n",
       "      <td>7</td>\n",
       "      <td>7</td>\n",
       "      <td>7</td>\n",
       "      <td>7</td>\n",
       "      <td>7</td>\n",
       "      <td>7</td>\n",
       "      <td>7</td>\n",
       "    </tr>\n",
       "    <tr>\n",
       "      <th>1</th>\n",
       "      <td>7</td>\n",
       "      <td>6</td>\n",
       "      <td>6</td>\n",
       "      <td>6</td>\n",
       "      <td>5</td>\n",
       "      <td>6</td>\n",
       "      <td>6</td>\n",
       "      <td>5</td>\n",
       "    </tr>\n",
       "    <tr>\n",
       "      <th>2</th>\n",
       "      <td>5</td>\n",
       "      <td>7</td>\n",
       "      <td>6</td>\n",
       "      <td>6</td>\n",
       "      <td>6</td>\n",
       "      <td>6</td>\n",
       "      <td>6</td>\n",
       "      <td>7</td>\n",
       "    </tr>\n",
       "    <tr>\n",
       "      <th>3</th>\n",
       "      <td>7</td>\n",
       "      <td>6</td>\n",
       "      <td>6</td>\n",
       "      <td>6</td>\n",
       "      <td>6</td>\n",
       "      <td>6</td>\n",
       "      <td>6</td>\n",
       "      <td>7</td>\n",
       "    </tr>\n",
       "    <tr>\n",
       "      <th>4</th>\n",
       "      <td>6</td>\n",
       "      <td>6</td>\n",
       "      <td>6</td>\n",
       "      <td>6</td>\n",
       "      <td>6</td>\n",
       "      <td>6</td>\n",
       "      <td>6</td>\n",
       "      <td>6</td>\n",
       "    </tr>\n",
       "    <tr>\n",
       "      <th>5</th>\n",
       "      <td>7</td>\n",
       "      <td>6</td>\n",
       "      <td>6</td>\n",
       "      <td>5</td>\n",
       "      <td>5</td>\n",
       "      <td>6</td>\n",
       "      <td>5</td>\n",
       "      <td>6</td>\n",
       "    </tr>\n",
       "    <tr>\n",
       "      <th>6</th>\n",
       "      <td>7</td>\n",
       "      <td>6</td>\n",
       "      <td>7</td>\n",
       "      <td>7</td>\n",
       "      <td>7</td>\n",
       "      <td>7</td>\n",
       "      <td>6</td>\n",
       "      <td>7</td>\n",
       "    </tr>\n",
       "    <tr>\n",
       "      <th>7</th>\n",
       "      <td>7</td>\n",
       "      <td>7</td>\n",
       "      <td>7</td>\n",
       "      <td>7</td>\n",
       "      <td>6</td>\n",
       "      <td>6</td>\n",
       "      <td>7</td>\n",
       "      <td>6</td>\n",
       "    </tr>\n",
       "    <tr>\n",
       "      <th>8</th>\n",
       "      <td>7</td>\n",
       "      <td>6</td>\n",
       "      <td>6</td>\n",
       "      <td>5</td>\n",
       "      <td>7</td>\n",
       "      <td>7</td>\n",
       "      <td>6</td>\n",
       "      <td>7</td>\n",
       "    </tr>\n",
       "  </tbody>\n",
       "</table>\n",
       "</div>"
      ],
      "text/plain": [
       "   DS1  DS2  DS3  DS4  DS5  DS6  DS7  DS8\n",
       "0    7    7    7    7    7    7    7    7\n",
       "1    7    6    6    6    5    6    6    5\n",
       "2    5    7    6    6    6    6    6    7\n",
       "3    7    6    6    6    6    6    6    7\n",
       "4    6    6    6    6    6    6    6    6\n",
       "5    7    6    6    5    5    6    5    6\n",
       "6    7    6    7    7    7    7    6    7\n",
       "7    7    7    7    7    6    6    7    6\n",
       "8    7    6    6    5    7    7    6    7"
      ]
     },
     "execution_count": 25,
     "metadata": {},
     "output_type": "execute_result"
    }
   ],
   "source": [
    "data_domain_specific = data['Domain Specific']\n",
    "data_domain_specific"
   ]
  },
  {
   "cell_type": "code",
   "execution_count": 26,
   "id": "45158171-ca81-459d-a1e5-ffe4e54551ab",
   "metadata": {},
   "outputs": [
    {
     "name": "stdout",
     "output_type": "stream",
     "text": [
      "--- Statistics ----\n"
     ]
    },
    {
     "data": {
      "text/html": [
       "<div>\n",
       "<style scoped>\n",
       "    .dataframe tbody tr th:only-of-type {\n",
       "        vertical-align: middle;\n",
       "    }\n",
       "\n",
       "    .dataframe tbody tr th {\n",
       "        vertical-align: top;\n",
       "    }\n",
       "\n",
       "    .dataframe thead th {\n",
       "        text-align: right;\n",
       "    }\n",
       "</style>\n",
       "<table border=\"1\" class=\"dataframe\">\n",
       "  <thead>\n",
       "    <tr style=\"text-align: right;\">\n",
       "      <th></th>\n",
       "      <th>DS1</th>\n",
       "      <th>DS2</th>\n",
       "      <th>DS3</th>\n",
       "      <th>DS4</th>\n",
       "      <th>DS5</th>\n",
       "      <th>DS6</th>\n",
       "      <th>DS7</th>\n",
       "      <th>DS8</th>\n",
       "    </tr>\n",
       "  </thead>\n",
       "  <tbody>\n",
       "    <tr>\n",
       "      <th>count</th>\n",
       "      <td>9.000000</td>\n",
       "      <td>9.000000</td>\n",
       "      <td>9.000000</td>\n",
       "      <td>9.000000</td>\n",
       "      <td>9.000000</td>\n",
       "      <td>9.000000</td>\n",
       "      <td>9.000000</td>\n",
       "      <td>9.000000</td>\n",
       "    </tr>\n",
       "    <tr>\n",
       "      <th>mean</th>\n",
       "      <td>6.666667</td>\n",
       "      <td>6.333333</td>\n",
       "      <td>6.333333</td>\n",
       "      <td>6.111111</td>\n",
       "      <td>6.111111</td>\n",
       "      <td>6.333333</td>\n",
       "      <td>6.111111</td>\n",
       "      <td>6.444444</td>\n",
       "    </tr>\n",
       "    <tr>\n",
       "      <th>std</th>\n",
       "      <td>0.707107</td>\n",
       "      <td>0.500000</td>\n",
       "      <td>0.500000</td>\n",
       "      <td>0.781736</td>\n",
       "      <td>0.781736</td>\n",
       "      <td>0.500000</td>\n",
       "      <td>0.600925</td>\n",
       "      <td>0.726483</td>\n",
       "    </tr>\n",
       "    <tr>\n",
       "      <th>min</th>\n",
       "      <td>5.000000</td>\n",
       "      <td>6.000000</td>\n",
       "      <td>6.000000</td>\n",
       "      <td>5.000000</td>\n",
       "      <td>5.000000</td>\n",
       "      <td>6.000000</td>\n",
       "      <td>5.000000</td>\n",
       "      <td>5.000000</td>\n",
       "    </tr>\n",
       "    <tr>\n",
       "      <th>25%</th>\n",
       "      <td>7.000000</td>\n",
       "      <td>6.000000</td>\n",
       "      <td>6.000000</td>\n",
       "      <td>6.000000</td>\n",
       "      <td>6.000000</td>\n",
       "      <td>6.000000</td>\n",
       "      <td>6.000000</td>\n",
       "      <td>6.000000</td>\n",
       "    </tr>\n",
       "    <tr>\n",
       "      <th>50%</th>\n",
       "      <td>7.000000</td>\n",
       "      <td>6.000000</td>\n",
       "      <td>6.000000</td>\n",
       "      <td>6.000000</td>\n",
       "      <td>6.000000</td>\n",
       "      <td>6.000000</td>\n",
       "      <td>6.000000</td>\n",
       "      <td>7.000000</td>\n",
       "    </tr>\n",
       "    <tr>\n",
       "      <th>75%</th>\n",
       "      <td>7.000000</td>\n",
       "      <td>7.000000</td>\n",
       "      <td>7.000000</td>\n",
       "      <td>7.000000</td>\n",
       "      <td>7.000000</td>\n",
       "      <td>7.000000</td>\n",
       "      <td>6.000000</td>\n",
       "      <td>7.000000</td>\n",
       "    </tr>\n",
       "    <tr>\n",
       "      <th>max</th>\n",
       "      <td>7.000000</td>\n",
       "      <td>7.000000</td>\n",
       "      <td>7.000000</td>\n",
       "      <td>7.000000</td>\n",
       "      <td>7.000000</td>\n",
       "      <td>7.000000</td>\n",
       "      <td>7.000000</td>\n",
       "      <td>7.000000</td>\n",
       "    </tr>\n",
       "  </tbody>\n",
       "</table>\n",
       "</div>"
      ],
      "text/plain": [
       "            DS1       DS2       DS3       DS4       DS5       DS6       DS7  \\\n",
       "count  9.000000  9.000000  9.000000  9.000000  9.000000  9.000000  9.000000   \n",
       "mean   6.666667  6.333333  6.333333  6.111111  6.111111  6.333333  6.111111   \n",
       "std    0.707107  0.500000  0.500000  0.781736  0.781736  0.500000  0.600925   \n",
       "min    5.000000  6.000000  6.000000  5.000000  5.000000  6.000000  5.000000   \n",
       "25%    7.000000  6.000000  6.000000  6.000000  6.000000  6.000000  6.000000   \n",
       "50%    7.000000  6.000000  6.000000  6.000000  6.000000  6.000000  6.000000   \n",
       "75%    7.000000  7.000000  7.000000  7.000000  7.000000  7.000000  6.000000   \n",
       "max    7.000000  7.000000  7.000000  7.000000  7.000000  7.000000  7.000000   \n",
       "\n",
       "            DS8  \n",
       "count  9.000000  \n",
       "mean   6.444444  \n",
       "std    0.726483  \n",
       "min    5.000000  \n",
       "25%    6.000000  \n",
       "50%    7.000000  \n",
       "75%    7.000000  \n",
       "max    7.000000  "
      ]
     },
     "metadata": {},
     "output_type": "display_data"
    },
    {
     "name": "stdout",
     "output_type": "stream",
     "text": [
      "\n",
      "\n",
      "--- Counting Unique Values ----\n"
     ]
    },
    {
     "data": {
      "text/plain": [
       "DS1  DS2  DS3  DS4  DS5  DS6  DS7  DS8\n",
       "5    7    6    6    6    6    6    7      1\n",
       "6    6    6    6    6    6    6    6      1\n",
       "7    6    6    5    5    6    5    6      1\n",
       "                    7    7    6    7      1\n",
       "               6    5    6    6    5      1\n",
       "                    6    6    6    7      1\n",
       "          7    7    7    7    6    7      1\n",
       "     7    7    7    6    6    7    6      1\n",
       "                    7    7    7    7      1\n",
       "dtype: int64"
      ]
     },
     "metadata": {},
     "output_type": "display_data"
    },
    {
     "name": "stdout",
     "output_type": "stream",
     "text": [
      "\n",
      "\n",
      "--- Basic Histogram ----\n"
     ]
    },
    {
     "data": {
      "image/png": "[encoded data removed]",
      "text/plain": [
       "<Figure size 576x288 with 9 Axes>"
      ]
     },
     "metadata": {
      "needs_background": "light"
     },
     "output_type": "display_data"
    }
   ],
   "source": [
    "print_stats(data_domain_specific, hist_bins=10)"
   ]
  },
  {
   "cell_type": "markdown",
   "id": "118a743f-3cfe-4edc-9d49-0aa61a37115e",
   "metadata": {},
   "source": [
    "### Response Frequency"
   ]
  },
  {
   "cell_type": "code",
   "execution_count": 27,
   "id": "39ade793-c66d-4a9a-9094-f70c9164fd70",
   "metadata": {},
   "outputs": [
    {
     "data": {
      "text/html": [
       "<div>\n",
       "<style scoped>\n",
       "    .dataframe tbody tr th:only-of-type {\n",
       "        vertical-align: middle;\n",
       "    }\n",
       "\n",
       "    .dataframe tbody tr th {\n",
       "        vertical-align: top;\n",
       "    }\n",
       "\n",
       "    .dataframe thead th {\n",
       "        text-align: right;\n",
       "    }\n",
       "</style>\n",
       "<table border=\"1\" class=\"dataframe\">\n",
       "  <thead>\n",
       "    <tr style=\"text-align: right;\">\n",
       "      <th></th>\n",
       "      <th>5</th>\n",
       "      <th>6</th>\n",
       "      <th>7</th>\n",
       "    </tr>\n",
       "  </thead>\n",
       "  <tbody>\n",
       "    <tr>\n",
       "      <th>DS1</th>\n",
       "      <td>11.111111</td>\n",
       "      <td>11.111111</td>\n",
       "      <td>77.777778</td>\n",
       "    </tr>\n",
       "    <tr>\n",
       "      <th>DS2</th>\n",
       "      <td>0.000000</td>\n",
       "      <td>66.666667</td>\n",
       "      <td>33.333333</td>\n",
       "    </tr>\n",
       "    <tr>\n",
       "      <th>DS3</th>\n",
       "      <td>0.000000</td>\n",
       "      <td>66.666667</td>\n",
       "      <td>33.333333</td>\n",
       "    </tr>\n",
       "    <tr>\n",
       "      <th>DS4</th>\n",
       "      <td>22.222222</td>\n",
       "      <td>44.444444</td>\n",
       "      <td>33.333333</td>\n",
       "    </tr>\n",
       "    <tr>\n",
       "      <th>DS5</th>\n",
       "      <td>22.222222</td>\n",
       "      <td>44.444444</td>\n",
       "      <td>33.333333</td>\n",
       "    </tr>\n",
       "    <tr>\n",
       "      <th>DS6</th>\n",
       "      <td>0.000000</td>\n",
       "      <td>66.666667</td>\n",
       "      <td>33.333333</td>\n",
       "    </tr>\n",
       "    <tr>\n",
       "      <th>DS7</th>\n",
       "      <td>11.111111</td>\n",
       "      <td>66.666667</td>\n",
       "      <td>22.222222</td>\n",
       "    </tr>\n",
       "    <tr>\n",
       "      <th>DS8</th>\n",
       "      <td>11.111111</td>\n",
       "      <td>33.333333</td>\n",
       "      <td>55.555556</td>\n",
       "    </tr>\n",
       "  </tbody>\n",
       "</table>\n",
       "</div>"
      ],
      "text/plain": [
       "             5          6          7\n",
       "DS1  11.111111  11.111111  77.777778\n",
       "DS2   0.000000  66.666667  33.333333\n",
       "DS3   0.000000  66.666667  33.333333\n",
       "DS4  22.222222  44.444444  33.333333\n",
       "DS5  22.222222  44.444444  33.333333\n",
       "DS6   0.000000  66.666667  33.333333\n",
       "DS7  11.111111  66.666667  22.222222\n",
       "DS8  11.111111  33.333333  55.555556"
      ]
     },
     "execution_count": 27,
     "metadata": {},
     "output_type": "execute_result"
    }
   ],
   "source": [
    "data_domain_specific_freq = (data_domain_specific.apply(pd.value_counts).fillna(0)/data_domain_specific.count()*100).transpose()\n",
    "data_domain_specific_freq"
   ]
  },
  {
   "cell_type": "code",
   "execution_count": 28,
   "id": "c98c281f-1db1-4e03-9548-cf553f59f1db",
   "metadata": {},
   "outputs": [
    {
     "data": {
      "image/png": "[encoded data removed]",
      "text/plain": [
       "<Figure size 432x288 with 1 Axes>"
      ]
     },
     "metadata": {
      "needs_background": "light"
     },
     "output_type": "display_data"
    }
   ],
   "source": [
    "data_domain_specific_freq.iloc[::-1].plot.barh(stacked=True).legend(loc='center left',bbox_to_anchor=(1.0, 0.5))\n",
    "plt.show()"
   ]
  },
  {
   "cell_type": "markdown",
   "id": "907a8440-8592-4d20-bbab-b93a8aeda17f",
   "metadata": {},
   "source": [
    "## UMUX-Lite\n",
    "- **ULI1:** The YanuX Framework's capabilities meet my requirements.\n",
    "- **ULI2:** The YanuX Framework is easy to use."
   ]
  },
  {
   "cell_type": "code",
   "execution_count": 29,
   "id": "fc536202-e153-4a6b-8a7e-56977a892859",
   "metadata": {},
   "outputs": [
    {
     "data": {
      "text/html": [
       "<div>\n",
       "<style scoped>\n",
       "    .dataframe tbody tr th:only-of-type {\n",
       "        vertical-align: middle;\n",
       "    }\n",
       "\n",
       "    .dataframe tbody tr th {\n",
       "        vertical-align: top;\n",
       "    }\n",
       "\n",
       "    .dataframe thead th {\n",
       "        text-align: right;\n",
       "    }\n",
       "</style>\n",
       "<table border=\"1\" class=\"dataframe\">\n",
       "  <thead>\n",
       "    <tr style=\"text-align: right;\">\n",
       "      <th></th>\n",
       "      <th>ULI1</th>\n",
       "      <th>ULI2</th>\n",
       "    </tr>\n",
       "  </thead>\n",
       "  <tbody>\n",
       "    <tr>\n",
       "      <th>0</th>\n",
       "      <td>7</td>\n",
       "      <td>7</td>\n",
       "    </tr>\n",
       "    <tr>\n",
       "      <th>1</th>\n",
       "      <td>4</td>\n",
       "      <td>6</td>\n",
       "    </tr>\n",
       "    <tr>\n",
       "      <th>2</th>\n",
       "      <td>6</td>\n",
       "      <td>6</td>\n",
       "    </tr>\n",
       "    <tr>\n",
       "      <th>3</th>\n",
       "      <td>7</td>\n",
       "      <td>7</td>\n",
       "    </tr>\n",
       "    <tr>\n",
       "      <th>4</th>\n",
       "      <td>7</td>\n",
       "      <td>6</td>\n",
       "    </tr>\n",
       "    <tr>\n",
       "      <th>5</th>\n",
       "      <td>6</td>\n",
       "      <td>7</td>\n",
       "    </tr>\n",
       "    <tr>\n",
       "      <th>6</th>\n",
       "      <td>6</td>\n",
       "      <td>7</td>\n",
       "    </tr>\n",
       "    <tr>\n",
       "      <th>7</th>\n",
       "      <td>6</td>\n",
       "      <td>7</td>\n",
       "    </tr>\n",
       "    <tr>\n",
       "      <th>8</th>\n",
       "      <td>7</td>\n",
       "      <td>5</td>\n",
       "    </tr>\n",
       "  </tbody>\n",
       "</table>\n",
       "</div>"
      ],
      "text/plain": [
       "   ULI1  ULI2\n",
       "0     7     7\n",
       "1     4     6\n",
       "2     6     6\n",
       "3     7     7\n",
       "4     7     6\n",
       "5     6     7\n",
       "6     6     7\n",
       "7     6     7\n",
       "8     7     5"
      ]
     },
     "execution_count": 29,
     "metadata": {},
     "output_type": "execute_result"
    }
   ],
   "source": [
    "data_umux_lite = data['UMUX-Lite']\n",
    "data_umux_lite"
   ]
  },
  {
   "cell_type": "code",
   "execution_count": 30,
   "id": "db8a50f8-fda1-4c6a-a4d0-dd09a060f819",
   "metadata": {},
   "outputs": [
    {
     "name": "stdout",
     "output_type": "stream",
     "text": [
      "--- Statistics ----\n"
     ]
    },
    {
     "data": {
      "text/html": [
       "<div>\n",
       "<style scoped>\n",
       "    .dataframe tbody tr th:only-of-type {\n",
       "        vertical-align: middle;\n",
       "    }\n",
       "\n",
       "    .dataframe tbody tr th {\n",
       "        vertical-align: top;\n",
       "    }\n",
       "\n",
       "    .dataframe thead th {\n",
       "        text-align: right;\n",
       "    }\n",
       "</style>\n",
       "<table border=\"1\" class=\"dataframe\">\n",
       "  <thead>\n",
       "    <tr style=\"text-align: right;\">\n",
       "      <th></th>\n",
       "      <th>ULI1</th>\n",
       "      <th>ULI2</th>\n",
       "    </tr>\n",
       "  </thead>\n",
       "  <tbody>\n",
       "    <tr>\n",
       "      <th>count</th>\n",
       "      <td>9.000000</td>\n",
       "      <td>9.000000</td>\n",
       "    </tr>\n",
       "    <tr>\n",
       "      <th>mean</th>\n",
       "      <td>6.222222</td>\n",
       "      <td>6.444444</td>\n",
       "    </tr>\n",
       "    <tr>\n",
       "      <th>std</th>\n",
       "      <td>0.971825</td>\n",
       "      <td>0.726483</td>\n",
       "    </tr>\n",
       "    <tr>\n",
       "      <th>min</th>\n",
       "      <td>4.000000</td>\n",
       "      <td>5.000000</td>\n",
       "    </tr>\n",
       "    <tr>\n",
       "      <th>25%</th>\n",
       "      <td>6.000000</td>\n",
       "      <td>6.000000</td>\n",
       "    </tr>\n",
       "    <tr>\n",
       "      <th>50%</th>\n",
       "      <td>6.000000</td>\n",
       "      <td>7.000000</td>\n",
       "    </tr>\n",
       "    <tr>\n",
       "      <th>75%</th>\n",
       "      <td>7.000000</td>\n",
       "      <td>7.000000</td>\n",
       "    </tr>\n",
       "    <tr>\n",
       "      <th>max</th>\n",
       "      <td>7.000000</td>\n",
       "      <td>7.000000</td>\n",
       "    </tr>\n",
       "  </tbody>\n",
       "</table>\n",
       "</div>"
      ],
      "text/plain": [
       "           ULI1      ULI2\n",
       "count  9.000000  9.000000\n",
       "mean   6.222222  6.444444\n",
       "std    0.971825  0.726483\n",
       "min    4.000000  5.000000\n",
       "25%    6.000000  6.000000\n",
       "50%    6.000000  7.000000\n",
       "75%    7.000000  7.000000\n",
       "max    7.000000  7.000000"
      ]
     },
     "metadata": {},
     "output_type": "display_data"
    },
    {
     "name": "stdout",
     "output_type": "stream",
     "text": [
      "\n",
      "\n",
      "--- Counting Unique Values ----\n"
     ]
    },
    {
     "data": {
      "text/plain": [
       "ULI1  ULI2\n",
       "6     7       3\n",
       "7     7       2\n",
       "4     6       1\n",
       "6     6       1\n",
       "7     5       1\n",
       "      6       1\n",
       "dtype: int64"
      ]
     },
     "metadata": {},
     "output_type": "display_data"
    },
    {
     "name": "stdout",
     "output_type": "stream",
     "text": [
      "\n",
      "\n",
      "--- Basic Histogram ----\n"
     ]
    },
    {
     "data": {
      "image/png": "[encoded data removed]",
      "text/plain": [
       "<Figure size 576x288 with 2 Axes>"
      ]
     },
     "metadata": {
      "needs_background": "light"
     },
     "output_type": "display_data"
    }
   ],
   "source": [
    "print_stats(data_umux_lite, hist_bins=10)"
   ]
  },
  {
   "cell_type": "markdown",
   "id": "4a6914ac-ff7e-467c-a1b1-dd15cb89db86",
   "metadata": {},
   "source": [
    "### Response Frequency"
   ]
  },
  {
   "cell_type": "code",
   "execution_count": 31,
   "id": "e3a767d4-2ae8-463a-8981-76d52af422c5",
   "metadata": {},
   "outputs": [
    {
     "data": {
      "text/html": [
       "<div>\n",
       "<style scoped>\n",
       "    .dataframe tbody tr th:only-of-type {\n",
       "        vertical-align: middle;\n",
       "    }\n",
       "\n",
       "    .dataframe tbody tr th {\n",
       "        vertical-align: top;\n",
       "    }\n",
       "\n",
       "    .dataframe thead th {\n",
       "        text-align: right;\n",
       "    }\n",
       "</style>\n",
       "<table border=\"1\" class=\"dataframe\">\n",
       "  <thead>\n",
       "    <tr style=\"text-align: right;\">\n",
       "      <th></th>\n",
       "      <th>4</th>\n",
       "      <th>5</th>\n",
       "      <th>6</th>\n",
       "      <th>7</th>\n",
       "    </tr>\n",
       "  </thead>\n",
       "  <tbody>\n",
       "    <tr>\n",
       "      <th>ULI1</th>\n",
       "      <td>11.111111</td>\n",
       "      <td>0.000000</td>\n",
       "      <td>44.444444</td>\n",
       "      <td>44.444444</td>\n",
       "    </tr>\n",
       "    <tr>\n",
       "      <th>ULI2</th>\n",
       "      <td>0.000000</td>\n",
       "      <td>11.111111</td>\n",
       "      <td>33.333333</td>\n",
       "      <td>55.555556</td>\n",
       "    </tr>\n",
       "  </tbody>\n",
       "</table>\n",
       "</div>"
      ],
      "text/plain": [
       "              4          5          6          7\n",
       "ULI1  11.111111   0.000000  44.444444  44.444444\n",
       "ULI2   0.000000  11.111111  33.333333  55.555556"
      ]
     },
     "execution_count": 31,
     "metadata": {},
     "output_type": "execute_result"
    }
   ],
   "source": [
    "data_umux_lite_freq = (data_umux_lite.apply(pd.value_counts).fillna(0)/data_umux_lite.count()*100).transpose()\n",
    "data_umux_lite_freq"
   ]
  },
  {
   "cell_type": "code",
   "execution_count": 32,
   "id": "6cd576f0-bb04-431e-aecd-c55b51cbd792",
   "metadata": {},
   "outputs": [
    {
     "data": {
      "image/png": "[encoded data removed]",
      "text/plain": [
       "<Figure size 432x288 with 1 Axes>"
      ]
     },
     "metadata": {
      "needs_background": "light"
     },
     "output_type": "display_data"
    }
   ],
   "source": [
    "data_umux_lite_freq.iloc[::-1].plot.barh(stacked=True).legend(loc='center left',bbox_to_anchor=(1.0, 0.5))\n",
    "plt.show()"
   ]
  },
  {
   "cell_type": "markdown",
   "id": "2fec1bf5-07d2-4249-804a-98a332ba1b2b",
   "metadata": {},
   "source": [
    "### SUS Conversion"
   ]
  },
  {
   "cell_type": "code",
   "execution_count": 33,
   "id": "7e49cfdc-bd39-41d7-b8fb-3f952e2fa922",
   "metadata": {},
   "outputs": [
    {
     "data": {
      "text/html": [
       "<div>\n",
       "<style scoped>\n",
       "    .dataframe tbody tr th:only-of-type {\n",
       "        vertical-align: middle;\n",
       "    }\n",
       "\n",
       "    .dataframe tbody tr th {\n",
       "        vertical-align: top;\n",
       "    }\n",
       "\n",
       "    .dataframe thead th {\n",
       "        text-align: right;\n",
       "    }\n",
       "</style>\n",
       "<table border=\"1\" class=\"dataframe\">\n",
       "  <thead>\n",
       "    <tr style=\"text-align: right;\">\n",
       "      <th></th>\n",
       "      <th>ULI1</th>\n",
       "      <th>ULI2</th>\n",
       "      <th>SUS</th>\n",
       "    </tr>\n",
       "  </thead>\n",
       "  <tbody>\n",
       "    <tr>\n",
       "      <th>0</th>\n",
       "      <td>7</td>\n",
       "      <td>7</td>\n",
       "      <td>87.900000</td>\n",
       "    </tr>\n",
       "    <tr>\n",
       "      <th>1</th>\n",
       "      <td>4</td>\n",
       "      <td>6</td>\n",
       "      <td>66.233333</td>\n",
       "    </tr>\n",
       "    <tr>\n",
       "      <th>2</th>\n",
       "      <td>6</td>\n",
       "      <td>6</td>\n",
       "      <td>77.066667</td>\n",
       "    </tr>\n",
       "    <tr>\n",
       "      <th>3</th>\n",
       "      <td>7</td>\n",
       "      <td>7</td>\n",
       "      <td>87.900000</td>\n",
       "    </tr>\n",
       "    <tr>\n",
       "      <th>4</th>\n",
       "      <td>7</td>\n",
       "      <td>6</td>\n",
       "      <td>82.483333</td>\n",
       "    </tr>\n",
       "    <tr>\n",
       "      <th>5</th>\n",
       "      <td>6</td>\n",
       "      <td>7</td>\n",
       "      <td>82.483333</td>\n",
       "    </tr>\n",
       "    <tr>\n",
       "      <th>6</th>\n",
       "      <td>6</td>\n",
       "      <td>7</td>\n",
       "      <td>82.483333</td>\n",
       "    </tr>\n",
       "    <tr>\n",
       "      <th>7</th>\n",
       "      <td>6</td>\n",
       "      <td>7</td>\n",
       "      <td>82.483333</td>\n",
       "    </tr>\n",
       "    <tr>\n",
       "      <th>8</th>\n",
       "      <td>7</td>\n",
       "      <td>5</td>\n",
       "      <td>77.066667</td>\n",
       "    </tr>\n",
       "  </tbody>\n",
       "</table>\n",
       "</div>"
      ],
      "text/plain": [
       "   ULI1  ULI2        SUS\n",
       "0     7     7  87.900000\n",
       "1     4     6  66.233333\n",
       "2     6     6  77.066667\n",
       "3     7     7  87.900000\n",
       "4     7     6  82.483333\n",
       "5     6     7  82.483333\n",
       "6     6     7  82.483333\n",
       "7     6     7  82.483333\n",
       "8     7     5  77.066667"
      ]
     },
     "execution_count": 33,
     "metadata": {},
     "output_type": "execute_result"
    }
   ],
   "source": [
    "data_umux_lite['SUS'] = 0.65 * ((data_umux_lite['ULI1'] + data_umux_lite['ULI2'] - 2) * (100/12))+22.9\n",
    "data_umux_lite"
   ]
  },
  {
   "cell_type": "code",
   "execution_count": 34,
   "id": "f7dec815-b45d-48d1-88ea-c398c155388e",
   "metadata": {},
   "outputs": [
    {
     "data": {
      "text/plain": [
       "count     9.000000\n",
       "mean     80.677778\n",
       "std       6.634035\n",
       "min      66.233333\n",
       "25%      77.066667\n",
       "50%      82.483333\n",
       "75%      82.483333\n",
       "max      87.900000\n",
       "Name: SUS, dtype: float64"
      ]
     },
     "execution_count": 34,
     "metadata": {},
     "output_type": "execute_result"
    }
   ],
   "source": [
    "data_umux_lite['SUS'].describe()"
   ]
  },
  {
   "cell_type": "markdown",
   "id": "d0bb5291-1932-4966-bd6a-cbda402c494b",
   "metadata": {
    "tags": []
   },
   "source": [
    "## Semantic Differential Scales\n",
    "- **SDS1:** Uninteresting/Interesting\n",
    "- **SDS2:** Complex/Simple\n",
    "- **SDS3:** Inappropriate/Appropriate\n",
    "- **SDS4:** Hard to Understand/Easy to Understand\n",
    "- **SDS5:** Hard to Learn/Easy to Learn\n",
    "- **SDS6:** Hard to Develop/Easy to Develop"
   ]
  },
  {
   "cell_type": "code",
   "execution_count": 35,
   "id": "87bf01ba-220b-463a-9af7-0e98d4b05b0c",
   "metadata": {},
   "outputs": [
    {
     "data": {
      "text/html": [
       "<div>\n",
       "<style scoped>\n",
       "    .dataframe tbody tr th:only-of-type {\n",
       "        vertical-align: middle;\n",
       "    }\n",
       "\n",
       "    .dataframe tbody tr th {\n",
       "        vertical-align: top;\n",
       "    }\n",
       "\n",
       "    .dataframe thead th {\n",
       "        text-align: right;\n",
       "    }\n",
       "</style>\n",
       "<table border=\"1\" class=\"dataframe\">\n",
       "  <thead>\n",
       "    <tr style=\"text-align: right;\">\n",
       "      <th></th>\n",
       "      <th>SDS1</th>\n",
       "      <th>SDS2</th>\n",
       "      <th>SDS3</th>\n",
       "      <th>SDS4</th>\n",
       "      <th>SDS5</th>\n",
       "      <th>SDS6</th>\n",
       "    </tr>\n",
       "  </thead>\n",
       "  <tbody>\n",
       "    <tr>\n",
       "      <th>0</th>\n",
       "      <td>7</td>\n",
       "      <td>5</td>\n",
       "      <td>7</td>\n",
       "      <td>7</td>\n",
       "      <td>7</td>\n",
       "      <td>7</td>\n",
       "    </tr>\n",
       "    <tr>\n",
       "      <th>1</th>\n",
       "      <td>5</td>\n",
       "      <td>6</td>\n",
       "      <td>6</td>\n",
       "      <td>7</td>\n",
       "      <td>7</td>\n",
       "      <td>7</td>\n",
       "    </tr>\n",
       "    <tr>\n",
       "      <th>2</th>\n",
       "      <td>7</td>\n",
       "      <td>2</td>\n",
       "      <td>6</td>\n",
       "      <td>3</td>\n",
       "      <td>6</td>\n",
       "      <td>2</td>\n",
       "    </tr>\n",
       "    <tr>\n",
       "      <th>3</th>\n",
       "      <td>7</td>\n",
       "      <td>6</td>\n",
       "      <td>7</td>\n",
       "      <td>6</td>\n",
       "      <td>7</td>\n",
       "      <td>7</td>\n",
       "    </tr>\n",
       "    <tr>\n",
       "      <th>4</th>\n",
       "      <td>7</td>\n",
       "      <td>6</td>\n",
       "      <td>7</td>\n",
       "      <td>6</td>\n",
       "      <td>6</td>\n",
       "      <td>6</td>\n",
       "    </tr>\n",
       "    <tr>\n",
       "      <th>5</th>\n",
       "      <td>7</td>\n",
       "      <td>7</td>\n",
       "      <td>7</td>\n",
       "      <td>7</td>\n",
       "      <td>7</td>\n",
       "      <td>5</td>\n",
       "    </tr>\n",
       "    <tr>\n",
       "      <th>6</th>\n",
       "      <td>7</td>\n",
       "      <td>7</td>\n",
       "      <td>7</td>\n",
       "      <td>7</td>\n",
       "      <td>7</td>\n",
       "      <td>7</td>\n",
       "    </tr>\n",
       "    <tr>\n",
       "      <th>7</th>\n",
       "      <td>7</td>\n",
       "      <td>6</td>\n",
       "      <td>6</td>\n",
       "      <td>6</td>\n",
       "      <td>6</td>\n",
       "      <td>6</td>\n",
       "    </tr>\n",
       "    <tr>\n",
       "      <th>8</th>\n",
       "      <td>7</td>\n",
       "      <td>5</td>\n",
       "      <td>6</td>\n",
       "      <td>5</td>\n",
       "      <td>5</td>\n",
       "      <td>5</td>\n",
       "    </tr>\n",
       "  </tbody>\n",
       "</table>\n",
       "</div>"
      ],
      "text/plain": [
       "   SDS1  SDS2  SDS3  SDS4  SDS5  SDS6\n",
       "0     7     5     7     7     7     7\n",
       "1     5     6     6     7     7     7\n",
       "2     7     2     6     3     6     2\n",
       "3     7     6     7     6     7     7\n",
       "4     7     6     7     6     6     6\n",
       "5     7     7     7     7     7     5\n",
       "6     7     7     7     7     7     7\n",
       "7     7     6     6     6     6     6\n",
       "8     7     5     6     5     5     5"
      ]
     },
     "execution_count": 35,
     "metadata": {},
     "output_type": "execute_result"
    }
   ],
   "source": [
    "data_sds = data['Semantic Differential Scales']\n",
    "data_sds"
   ]
  },
  {
   "cell_type": "code",
   "execution_count": 36,
   "id": "ae415502-0616-403a-9681-87b453a9ba27",
   "metadata": {},
   "outputs": [
    {
     "name": "stdout",
     "output_type": "stream",
     "text": [
      "--- Statistics ----\n"
     ]
    },
    {
     "data": {
      "text/html": [
       "<div>\n",
       "<style scoped>\n",
       "    .dataframe tbody tr th:only-of-type {\n",
       "        vertical-align: middle;\n",
       "    }\n",
       "\n",
       "    .dataframe tbody tr th {\n",
       "        vertical-align: top;\n",
       "    }\n",
       "\n",
       "    .dataframe thead th {\n",
       "        text-align: right;\n",
       "    }\n",
       "</style>\n",
       "<table border=\"1\" class=\"dataframe\">\n",
       "  <thead>\n",
       "    <tr style=\"text-align: right;\">\n",
       "      <th></th>\n",
       "      <th>SDS1</th>\n",
       "      <th>SDS2</th>\n",
       "      <th>SDS3</th>\n",
       "      <th>SDS4</th>\n",
       "      <th>SDS5</th>\n",
       "      <th>SDS6</th>\n",
       "    </tr>\n",
       "  </thead>\n",
       "  <tbody>\n",
       "    <tr>\n",
       "      <th>count</th>\n",
       "      <td>9.000000</td>\n",
       "      <td>9.000000</td>\n",
       "      <td>9.000000</td>\n",
       "      <td>9.000000</td>\n",
       "      <td>9.000000</td>\n",
       "      <td>9.000000</td>\n",
       "    </tr>\n",
       "    <tr>\n",
       "      <th>mean</th>\n",
       "      <td>6.777778</td>\n",
       "      <td>5.555556</td>\n",
       "      <td>6.555556</td>\n",
       "      <td>6.000000</td>\n",
       "      <td>6.444444</td>\n",
       "      <td>5.777778</td>\n",
       "    </tr>\n",
       "    <tr>\n",
       "      <th>std</th>\n",
       "      <td>0.666667</td>\n",
       "      <td>1.509231</td>\n",
       "      <td>0.527046</td>\n",
       "      <td>1.322876</td>\n",
       "      <td>0.726483</td>\n",
       "      <td>1.641476</td>\n",
       "    </tr>\n",
       "    <tr>\n",
       "      <th>min</th>\n",
       "      <td>5.000000</td>\n",
       "      <td>2.000000</td>\n",
       "      <td>6.000000</td>\n",
       "      <td>3.000000</td>\n",
       "      <td>5.000000</td>\n",
       "      <td>2.000000</td>\n",
       "    </tr>\n",
       "    <tr>\n",
       "      <th>25%</th>\n",
       "      <td>7.000000</td>\n",
       "      <td>5.000000</td>\n",
       "      <td>6.000000</td>\n",
       "      <td>6.000000</td>\n",
       "      <td>6.000000</td>\n",
       "      <td>5.000000</td>\n",
       "    </tr>\n",
       "    <tr>\n",
       "      <th>50%</th>\n",
       "      <td>7.000000</td>\n",
       "      <td>6.000000</td>\n",
       "      <td>7.000000</td>\n",
       "      <td>6.000000</td>\n",
       "      <td>7.000000</td>\n",
       "      <td>6.000000</td>\n",
       "    </tr>\n",
       "    <tr>\n",
       "      <th>75%</th>\n",
       "      <td>7.000000</td>\n",
       "      <td>6.000000</td>\n",
       "      <td>7.000000</td>\n",
       "      <td>7.000000</td>\n",
       "      <td>7.000000</td>\n",
       "      <td>7.000000</td>\n",
       "    </tr>\n",
       "    <tr>\n",
       "      <th>max</th>\n",
       "      <td>7.000000</td>\n",
       "      <td>7.000000</td>\n",
       "      <td>7.000000</td>\n",
       "      <td>7.000000</td>\n",
       "      <td>7.000000</td>\n",
       "      <td>7.000000</td>\n",
       "    </tr>\n",
       "  </tbody>\n",
       "</table>\n",
       "</div>"
      ],
      "text/plain": [
       "           SDS1      SDS2      SDS3      SDS4      SDS5      SDS6\n",
       "count  9.000000  9.000000  9.000000  9.000000  9.000000  9.000000\n",
       "mean   6.777778  5.555556  6.555556  6.000000  6.444444  5.777778\n",
       "std    0.666667  1.509231  0.527046  1.322876  0.726483  1.641476\n",
       "min    5.000000  2.000000  6.000000  3.000000  5.000000  2.000000\n",
       "25%    7.000000  5.000000  6.000000  6.000000  6.000000  5.000000\n",
       "50%    7.000000  6.000000  7.000000  6.000000  7.000000  6.000000\n",
       "75%    7.000000  6.000000  7.000000  7.000000  7.000000  7.000000\n",
       "max    7.000000  7.000000  7.000000  7.000000  7.000000  7.000000"
      ]
     },
     "metadata": {},
     "output_type": "display_data"
    },
    {
     "name": "stdout",
     "output_type": "stream",
     "text": [
      "\n",
      "\n",
      "--- Counting Unique Values ----\n"
     ]
    },
    {
     "data": {
      "text/plain": [
       "SDS1  SDS2  SDS3  SDS4  SDS5  SDS6\n",
       "5     6     6     7     7     7       1\n",
       "7     2     6     3     6     2       1\n",
       "      5     6     5     5     5       1\n",
       "            7     7     7     7       1\n",
       "      6     6     6     6     6       1\n",
       "            7     6     6     6       1\n",
       "                        7     7       1\n",
       "      7     7     7     7     5       1\n",
       "                              7       1\n",
       "dtype: int64"
      ]
     },
     "metadata": {},
     "output_type": "display_data"
    },
    {
     "name": "stdout",
     "output_type": "stream",
     "text": [
      "\n",
      "\n",
      "--- Basic Histogram ----\n"
     ]
    },
    {
     "data": {
      "image/png": "[encoded data removed]",
      "text/plain": [
       "<Figure size 576x288 with 6 Axes>"
      ]
     },
     "metadata": {
      "needs_background": "light"
     },
     "output_type": "display_data"
    }
   ],
   "source": [
    "print_stats(data_sds, hist_bins=10)"
   ]
  },
  {
   "cell_type": "markdown",
   "id": "c108cef8-4422-4d15-aa43-88f494710587",
   "metadata": {},
   "source": [
    "### Response Frequency"
   ]
  },
  {
   "cell_type": "code",
   "execution_count": 37,
   "id": "258c91f3-0a2f-4827-8a8d-7a358a12b9aa",
   "metadata": {},
   "outputs": [
    {
     "data": {
      "text/html": [
       "<div>\n",
       "<style scoped>\n",
       "    .dataframe tbody tr th:only-of-type {\n",
       "        vertical-align: middle;\n",
       "    }\n",
       "\n",
       "    .dataframe tbody tr th {\n",
       "        vertical-align: top;\n",
       "    }\n",
       "\n",
       "    .dataframe thead th {\n",
       "        text-align: right;\n",
       "    }\n",
       "</style>\n",
       "<table border=\"1\" class=\"dataframe\">\n",
       "  <thead>\n",
       "    <tr style=\"text-align: right;\">\n",
       "      <th></th>\n",
       "      <th>2</th>\n",
       "      <th>3</th>\n",
       "      <th>5</th>\n",
       "      <th>6</th>\n",
       "      <th>7</th>\n",
       "    </tr>\n",
       "  </thead>\n",
       "  <tbody>\n",
       "    <tr>\n",
       "      <th>SDS1</th>\n",
       "      <td>0.000000</td>\n",
       "      <td>0.000000</td>\n",
       "      <td>11.111111</td>\n",
       "      <td>0.000000</td>\n",
       "      <td>88.888889</td>\n",
       "    </tr>\n",
       "    <tr>\n",
       "      <th>SDS2</th>\n",
       "      <td>11.111111</td>\n",
       "      <td>0.000000</td>\n",
       "      <td>22.222222</td>\n",
       "      <td>44.444444</td>\n",
       "      <td>22.222222</td>\n",
       "    </tr>\n",
       "    <tr>\n",
       "      <th>SDS3</th>\n",
       "      <td>0.000000</td>\n",
       "      <td>0.000000</td>\n",
       "      <td>0.000000</td>\n",
       "      <td>44.444444</td>\n",
       "      <td>55.555556</td>\n",
       "    </tr>\n",
       "    <tr>\n",
       "      <th>SDS4</th>\n",
       "      <td>0.000000</td>\n",
       "      <td>11.111111</td>\n",
       "      <td>11.111111</td>\n",
       "      <td>33.333333</td>\n",
       "      <td>44.444444</td>\n",
       "    </tr>\n",
       "    <tr>\n",
       "      <th>SDS5</th>\n",
       "      <td>0.000000</td>\n",
       "      <td>0.000000</td>\n",
       "      <td>11.111111</td>\n",
       "      <td>33.333333</td>\n",
       "      <td>55.555556</td>\n",
       "    </tr>\n",
       "    <tr>\n",
       "      <th>SDS6</th>\n",
       "      <td>11.111111</td>\n",
       "      <td>0.000000</td>\n",
       "      <td>22.222222</td>\n",
       "      <td>22.222222</td>\n",
       "      <td>44.444444</td>\n",
       "    </tr>\n",
       "  </tbody>\n",
       "</table>\n",
       "</div>"
      ],
      "text/plain": [
       "              2          3          5          6          7\n",
       "SDS1   0.000000   0.000000  11.111111   0.000000  88.888889\n",
       "SDS2  11.111111   0.000000  22.222222  44.444444  22.222222\n",
       "SDS3   0.000000   0.000000   0.000000  44.444444  55.555556\n",
       "SDS4   0.000000  11.111111  11.111111  33.333333  44.444444\n",
       "SDS5   0.000000   0.000000  11.111111  33.333333  55.555556\n",
       "SDS6  11.111111   0.000000  22.222222  22.222222  44.444444"
      ]
     },
     "execution_count": 37,
     "metadata": {},
     "output_type": "execute_result"
    }
   ],
   "source": [
    "data_sds_freq = (data_sds.apply(pd.value_counts).fillna(0)/data_sds.count()*100).transpose()\n",
    "data_sds_freq"
   ]
  },
  {
   "cell_type": "code",
   "execution_count": 38,
   "id": "9595a74b-37c0-431c-a123-aeff38e58c3d",
   "metadata": {},
   "outputs": [
    {
     "data": {
      "image/png": "[encoded data removed]",
      "text/plain": [
       "<Figure size 432x288 with 1 Axes>"
      ]
     },
     "metadata": {
      "needs_background": "light"
     },
     "output_type": "display_data"
    }
   ],
   "source": [
    "data_sds_freq.iloc[::-1].plot.barh(stacked=True).legend(loc='center left',bbox_to_anchor=(1.0, 0.5))\n",
    "plt.show()"
   ]
  },
  {
   "cell_type": "markdown",
   "id": "19f00ddb-7257-465a-9317-6436b05b7604",
   "metadata": {
    "tags": []
   },
   "source": [
    "### Overall Pseudo-Semantic Differential Scale Score"
   ]
  },
  {
   "cell_type": "code",
   "execution_count": 39,
   "id": "8cf74fa9-f070-48b9-b591-8d40d37f7819",
   "metadata": {},
   "outputs": [
    {
     "data": {
      "text/plain": [
       "0    6.666667\n",
       "1    6.333333\n",
       "2    4.333333\n",
       "3    6.666667\n",
       "4    6.333333\n",
       "5    6.666667\n",
       "6    7.000000\n",
       "7    6.166667\n",
       "8    5.500000\n",
       "dtype: float64"
      ]
     },
     "execution_count": 39,
     "metadata": {},
     "output_type": "execute_result"
    }
   ],
   "source": [
    "data_sds_score = data_sds.mean(axis=1)\n",
    "data_sds_score"
   ]
  },
  {
   "cell_type": "code",
   "execution_count": 40,
   "id": "63b2c96f-2a24-44c8-b06a-488cf2801b96",
   "metadata": {},
   "outputs": [
    {
     "data": {
      "text/plain": [
       "count    9.000000\n",
       "mean     6.185185\n",
       "std      0.814131\n",
       "min      4.333333\n",
       "25%      6.166667\n",
       "50%      6.333333\n",
       "75%      6.666667\n",
       "max      7.000000\n",
       "dtype: float64"
      ]
     },
     "execution_count": 40,
     "metadata": {},
     "output_type": "execute_result"
    }
   ],
   "source": [
    "data_sds_score.describe()"
   ]
  },
  {
   "cell_type": "markdown",
   "id": "2903f209-31dd-4ee4-9755-2db35eb67f36",
   "metadata": {},
   "source": [
    "## NPS"
   ]
  },
  {
   "cell_type": "code",
   "execution_count": 41,
   "id": "510da815-8a7d-4e41-8247-a7f8d144519c",
   "metadata": {},
   "outputs": [
    {
     "data": {
      "text/html": [
       "<div>\n",
       "<style scoped>\n",
       "    .dataframe tbody tr th:only-of-type {\n",
       "        vertical-align: middle;\n",
       "    }\n",
       "\n",
       "    .dataframe tbody tr th {\n",
       "        vertical-align: top;\n",
       "    }\n",
       "\n",
       "    .dataframe thead th {\n",
       "        text-align: right;\n",
       "    }\n",
       "</style>\n",
       "<table border=\"1\" class=\"dataframe\">\n",
       "  <thead>\n",
       "    <tr style=\"text-align: right;\">\n",
       "      <th></th>\n",
       "      <th>NPS</th>\n",
       "    </tr>\n",
       "  </thead>\n",
       "  <tbody>\n",
       "    <tr>\n",
       "      <th>0</th>\n",
       "      <td>9</td>\n",
       "    </tr>\n",
       "    <tr>\n",
       "      <th>1</th>\n",
       "      <td>8</td>\n",
       "    </tr>\n",
       "    <tr>\n",
       "      <th>2</th>\n",
       "      <td>9</td>\n",
       "    </tr>\n",
       "    <tr>\n",
       "      <th>3</th>\n",
       "      <td>9</td>\n",
       "    </tr>\n",
       "    <tr>\n",
       "      <th>4</th>\n",
       "      <td>8</td>\n",
       "    </tr>\n",
       "    <tr>\n",
       "      <th>5</th>\n",
       "      <td>7</td>\n",
       "    </tr>\n",
       "    <tr>\n",
       "      <th>6</th>\n",
       "      <td>10</td>\n",
       "    </tr>\n",
       "    <tr>\n",
       "      <th>7</th>\n",
       "      <td>10</td>\n",
       "    </tr>\n",
       "    <tr>\n",
       "      <th>8</th>\n",
       "      <td>10</td>\n",
       "    </tr>\n",
       "  </tbody>\n",
       "</table>\n",
       "</div>"
      ],
      "text/plain": [
       "   NPS\n",
       "0    9\n",
       "1    8\n",
       "2    9\n",
       "3    9\n",
       "4    8\n",
       "5    7\n",
       "6   10\n",
       "7   10\n",
       "8   10"
      ]
     },
     "execution_count": 41,
     "metadata": {},
     "output_type": "execute_result"
    }
   ],
   "source": [
    "data_nps = data['NPS']\n",
    "data_nps"
   ]
  },
  {
   "cell_type": "markdown",
   "id": "c0e8fdaf-46a7-4bea-ad87-60a1070486fa",
   "metadata": {},
   "source": [
    "### Calculate NPS"
   ]
  },
  {
   "cell_type": "code",
   "execution_count": 42,
   "id": "c7fa56a3-4202-4b05-b613-3e449996ff8c",
   "metadata": {},
   "outputs": [
    {
     "name": "stdout",
     "output_type": "stream",
     "text": [
      "NPS Count 9\n",
      "NPS Promoters 6\n",
      "NPS Detractors 0\n",
      "NPS Promoters (Percentage) 66.66666666666666\n",
      "NPS Detractors (Percentage) 0.0\n"
     ]
    }
   ],
   "source": [
    "nps_count = data_nps['NPS'].count()\n",
    "nps_promoters = data_nps['NPS'][data_nps['NPS'] >= 9].count()\n",
    "nps_detractors = data_nps['NPS'][data_nps['NPS'] <= 6].count()\n",
    "\n",
    "nps_promoters_per = nps_promoters/nps_count*100\n",
    "nps_detractors_per = nps_detractors/nps_count*100\n",
    "\n",
    "nps_score = nps_promoters_per - nps_detractors_per\n",
    "print('NPS Count', nps_count)\n",
    "print('NPS Promoters', nps_promoters)\n",
    "print('NPS Detractors', nps_detractors)\n",
    "print('NPS Promoters (Percentage)', nps_promoters_per)\n",
    "print('NPS Detractors (Percentage)', nps_detractors_per)"
   ]
  },
  {
   "cell_type": "markdown",
   "id": "1d4efa00-a47e-4fc1-991e-573f793c100b",
   "metadata": {},
   "source": [
    "### General Stats"
   ]
  },
  {
   "cell_type": "code",
   "execution_count": 43,
   "id": "8b0ea824-8cd5-4a69-bb59-7eb262011121",
   "metadata": {},
   "outputs": [
    {
     "name": "stdout",
     "output_type": "stream",
     "text": [
      "--- Statistics ----\n"
     ]
    },
    {
     "data": {
      "text/html": [
       "<div>\n",
       "<style scoped>\n",
       "    .dataframe tbody tr th:only-of-type {\n",
       "        vertical-align: middle;\n",
       "    }\n",
       "\n",
       "    .dataframe tbody tr th {\n",
       "        vertical-align: top;\n",
       "    }\n",
       "\n",
       "    .dataframe thead th {\n",
       "        text-align: right;\n",
       "    }\n",
       "</style>\n",
       "<table border=\"1\" class=\"dataframe\">\n",
       "  <thead>\n",
       "    <tr style=\"text-align: right;\">\n",
       "      <th></th>\n",
       "      <th>NPS</th>\n",
       "    </tr>\n",
       "  </thead>\n",
       "  <tbody>\n",
       "    <tr>\n",
       "      <th>count</th>\n",
       "      <td>9.000000</td>\n",
       "    </tr>\n",
       "    <tr>\n",
       "      <th>mean</th>\n",
       "      <td>8.888889</td>\n",
       "    </tr>\n",
       "    <tr>\n",
       "      <th>std</th>\n",
       "      <td>1.054093</td>\n",
       "    </tr>\n",
       "    <tr>\n",
       "      <th>min</th>\n",
       "      <td>7.000000</td>\n",
       "    </tr>\n",
       "    <tr>\n",
       "      <th>25%</th>\n",
       "      <td>8.000000</td>\n",
       "    </tr>\n",
       "    <tr>\n",
       "      <th>50%</th>\n",
       "      <td>9.000000</td>\n",
       "    </tr>\n",
       "    <tr>\n",
       "      <th>75%</th>\n",
       "      <td>10.000000</td>\n",
       "    </tr>\n",
       "    <tr>\n",
       "      <th>max</th>\n",
       "      <td>10.000000</td>\n",
       "    </tr>\n",
       "  </tbody>\n",
       "</table>\n",
       "</div>"
      ],
      "text/plain": [
       "             NPS\n",
       "count   9.000000\n",
       "mean    8.888889\n",
       "std     1.054093\n",
       "min     7.000000\n",
       "25%     8.000000\n",
       "50%     9.000000\n",
       "75%    10.000000\n",
       "max    10.000000"
      ]
     },
     "metadata": {},
     "output_type": "display_data"
    },
    {
     "name": "stdout",
     "output_type": "stream",
     "text": [
      "\n",
      "\n",
      "--- Counting Unique Values ----\n"
     ]
    },
    {
     "data": {
      "text/plain": [
       "NPS\n",
       "9      3\n",
       "10     3\n",
       "8      2\n",
       "7      1\n",
       "dtype: int64"
      ]
     },
     "metadata": {},
     "output_type": "display_data"
    },
    {
     "name": "stdout",
     "output_type": "stream",
     "text": [
      "\n",
      "\n",
      "--- Basic Bar Chart ----\n"
     ]
    },
    {
     "data": {
      "image/png": "[encoded data removed]",
      "text/plain": [
       "<Figure size 576x288 with 1 Axes>"
      ]
     },
     "metadata": {
      "needs_background": "light"
     },
     "output_type": "display_data"
    }
   ],
   "source": [
    "print_stats(data_nps)"
   ]
  },
  {
   "cell_type": "markdown",
   "id": "f987b13b-c325-43de-b572-6ee258019a32",
   "metadata": {},
   "source": [
    "## NASA TLX"
   ]
  },
  {
   "cell_type": "code",
   "execution_count": 44,
   "id": "eeac7a55-2366-4a62-8095-d444f397b6f5",
   "metadata": {},
   "outputs": [
    {
     "data": {
      "text/html": [
       "<div>\n",
       "<style scoped>\n",
       "    .dataframe tbody tr th:only-of-type {\n",
       "        vertical-align: middle;\n",
       "    }\n",
       "\n",
       "    .dataframe tbody tr th {\n",
       "        vertical-align: top;\n",
       "    }\n",
       "\n",
       "    .dataframe thead th {\n",
       "        text-align: right;\n",
       "    }\n",
       "</style>\n",
       "<table border=\"1\" class=\"dataframe\">\n",
       "  <thead>\n",
       "    <tr style=\"text-align: right;\">\n",
       "      <th></th>\n",
       "      <th>Mental Demand</th>\n",
       "      <th>Physical Demand</th>\n",
       "      <th>Temporal Demand</th>\n",
       "      <th>Performance</th>\n",
       "      <th>Effort</th>\n",
       "      <th>Frustration</th>\n",
       "      <th>Score</th>\n",
       "    </tr>\n",
       "  </thead>\n",
       "  <tbody>\n",
       "    <tr>\n",
       "      <th>0</th>\n",
       "      <td>60</td>\n",
       "      <td>20</td>\n",
       "      <td>35</td>\n",
       "      <td>10</td>\n",
       "      <td>30</td>\n",
       "      <td>15</td>\n",
       "      <td>28.333333</td>\n",
       "    </tr>\n",
       "    <tr>\n",
       "      <th>1</th>\n",
       "      <td>45</td>\n",
       "      <td>0</td>\n",
       "      <td>45</td>\n",
       "      <td>15</td>\n",
       "      <td>25</td>\n",
       "      <td>5</td>\n",
       "      <td>22.500000</td>\n",
       "    </tr>\n",
       "    <tr>\n",
       "      <th>2</th>\n",
       "      <td>75</td>\n",
       "      <td>35</td>\n",
       "      <td>50</td>\n",
       "      <td>30</td>\n",
       "      <td>70</td>\n",
       "      <td>35</td>\n",
       "      <td>49.166667</td>\n",
       "    </tr>\n",
       "    <tr>\n",
       "      <th>3</th>\n",
       "      <td>65</td>\n",
       "      <td>0</td>\n",
       "      <td>85</td>\n",
       "      <td>10</td>\n",
       "      <td>40</td>\n",
       "      <td>15</td>\n",
       "      <td>35.833333</td>\n",
       "    </tr>\n",
       "    <tr>\n",
       "      <th>4</th>\n",
       "      <td>15</td>\n",
       "      <td>5</td>\n",
       "      <td>5</td>\n",
       "      <td>10</td>\n",
       "      <td>90</td>\n",
       "      <td>0</td>\n",
       "      <td>20.833333</td>\n",
       "    </tr>\n",
       "    <tr>\n",
       "      <th>5</th>\n",
       "      <td>45</td>\n",
       "      <td>0</td>\n",
       "      <td>75</td>\n",
       "      <td>60</td>\n",
       "      <td>85</td>\n",
       "      <td>10</td>\n",
       "      <td>45.833333</td>\n",
       "    </tr>\n",
       "    <tr>\n",
       "      <th>6</th>\n",
       "      <td>10</td>\n",
       "      <td>0</td>\n",
       "      <td>10</td>\n",
       "      <td>15</td>\n",
       "      <td>35</td>\n",
       "      <td>5</td>\n",
       "      <td>12.500000</td>\n",
       "    </tr>\n",
       "    <tr>\n",
       "      <th>7</th>\n",
       "      <td>10</td>\n",
       "      <td>0</td>\n",
       "      <td>0</td>\n",
       "      <td>5</td>\n",
       "      <td>5</td>\n",
       "      <td>0</td>\n",
       "      <td>3.333333</td>\n",
       "    </tr>\n",
       "    <tr>\n",
       "      <th>8</th>\n",
       "      <td>30</td>\n",
       "      <td>0</td>\n",
       "      <td>5</td>\n",
       "      <td>25</td>\n",
       "      <td>10</td>\n",
       "      <td>10</td>\n",
       "      <td>13.333333</td>\n",
       "    </tr>\n",
       "  </tbody>\n",
       "</table>\n",
       "</div>"
      ],
      "text/plain": [
       "   Mental Demand  Physical Demand  Temporal Demand  Performance  Effort  \\\n",
       "0             60               20               35           10      30   \n",
       "1             45                0               45           15      25   \n",
       "2             75               35               50           30      70   \n",
       "3             65                0               85           10      40   \n",
       "4             15                5                5           10      90   \n",
       "5             45                0               75           60      85   \n",
       "6             10                0               10           15      35   \n",
       "7             10                0                0            5       5   \n",
       "8             30                0                5           25      10   \n",
       "\n",
       "   Frustration      Score  \n",
       "0           15  28.333333  \n",
       "1            5  22.500000  \n",
       "2           35  49.166667  \n",
       "3           15  35.833333  \n",
       "4            0  20.833333  \n",
       "5           10  45.833333  \n",
       "6            5  12.500000  \n",
       "7            0   3.333333  \n",
       "8           10  13.333333  "
      ]
     },
     "execution_count": 44,
     "metadata": {},
     "output_type": "execute_result"
    }
   ],
   "source": [
    "data_nasa_tlx = data['NASA TLX']\n",
    "data_nasa_tlx['Score'] = data_nasa_tlx.mean(axis=1)\n",
    "data_nasa_tlx"
   ]
  },
  {
   "cell_type": "code",
   "execution_count": 45,
   "id": "713be2e6-150e-44e1-94fd-85ff9855b894",
   "metadata": {},
   "outputs": [
    {
     "name": "stdout",
     "output_type": "stream",
     "text": [
      "--- Statistics ----\n"
     ]
    },
    {
     "data": {
      "text/html": [
       "<div>\n",
       "<style scoped>\n",
       "    .dataframe tbody tr th:only-of-type {\n",
       "        vertical-align: middle;\n",
       "    }\n",
       "\n",
       "    .dataframe tbody tr th {\n",
       "        vertical-align: top;\n",
       "    }\n",
       "\n",
       "    .dataframe thead th {\n",
       "        text-align: right;\n",
       "    }\n",
       "</style>\n",
       "<table border=\"1\" class=\"dataframe\">\n",
       "  <thead>\n",
       "    <tr style=\"text-align: right;\">\n",
       "      <th></th>\n",
       "      <th>Mental Demand</th>\n",
       "      <th>Physical Demand</th>\n",
       "      <th>Temporal Demand</th>\n",
       "      <th>Performance</th>\n",
       "      <th>Effort</th>\n",
       "      <th>Frustration</th>\n",
       "      <th>Score</th>\n",
       "    </tr>\n",
       "  </thead>\n",
       "  <tbody>\n",
       "    <tr>\n",
       "      <th>count</th>\n",
       "      <td>9.000000</td>\n",
       "      <td>9.000000</td>\n",
       "      <td>9.000000</td>\n",
       "      <td>9.000000</td>\n",
       "      <td>9.000000</td>\n",
       "      <td>9.000000</td>\n",
       "      <td>9.000000</td>\n",
       "    </tr>\n",
       "    <tr>\n",
       "      <th>mean</th>\n",
       "      <td>39.444444</td>\n",
       "      <td>6.666667</td>\n",
       "      <td>34.444444</td>\n",
       "      <td>20.000000</td>\n",
       "      <td>43.333333</td>\n",
       "      <td>10.555556</td>\n",
       "      <td>25.740741</td>\n",
       "    </tr>\n",
       "    <tr>\n",
       "      <th>std</th>\n",
       "      <td>24.551533</td>\n",
       "      <td>12.500000</td>\n",
       "      <td>31.765198</td>\n",
       "      <td>16.955825</td>\n",
       "      <td>31.224990</td>\n",
       "      <td>10.736749</td>\n",
       "      <td>15.520173</td>\n",
       "    </tr>\n",
       "    <tr>\n",
       "      <th>min</th>\n",
       "      <td>10.000000</td>\n",
       "      <td>0.000000</td>\n",
       "      <td>0.000000</td>\n",
       "      <td>5.000000</td>\n",
       "      <td>5.000000</td>\n",
       "      <td>0.000000</td>\n",
       "      <td>3.333333</td>\n",
       "    </tr>\n",
       "    <tr>\n",
       "      <th>25%</th>\n",
       "      <td>15.000000</td>\n",
       "      <td>0.000000</td>\n",
       "      <td>5.000000</td>\n",
       "      <td>10.000000</td>\n",
       "      <td>25.000000</td>\n",
       "      <td>5.000000</td>\n",
       "      <td>13.333333</td>\n",
       "    </tr>\n",
       "    <tr>\n",
       "      <th>50%</th>\n",
       "      <td>45.000000</td>\n",
       "      <td>0.000000</td>\n",
       "      <td>35.000000</td>\n",
       "      <td>15.000000</td>\n",
       "      <td>35.000000</td>\n",
       "      <td>10.000000</td>\n",
       "      <td>22.500000</td>\n",
       "    </tr>\n",
       "    <tr>\n",
       "      <th>75%</th>\n",
       "      <td>60.000000</td>\n",
       "      <td>5.000000</td>\n",
       "      <td>50.000000</td>\n",
       "      <td>25.000000</td>\n",
       "      <td>70.000000</td>\n",
       "      <td>15.000000</td>\n",
       "      <td>35.833333</td>\n",
       "    </tr>\n",
       "    <tr>\n",
       "      <th>max</th>\n",
       "      <td>75.000000</td>\n",
       "      <td>35.000000</td>\n",
       "      <td>85.000000</td>\n",
       "      <td>60.000000</td>\n",
       "      <td>90.000000</td>\n",
       "      <td>35.000000</td>\n",
       "      <td>49.166667</td>\n",
       "    </tr>\n",
       "  </tbody>\n",
       "</table>\n",
       "</div>"
      ],
      "text/plain": [
       "       Mental Demand  Physical Demand  Temporal Demand  Performance  \\\n",
       "count       9.000000         9.000000         9.000000     9.000000   \n",
       "mean       39.444444         6.666667        34.444444    20.000000   \n",
       "std        24.551533        12.500000        31.765198    16.955825   \n",
       "min        10.000000         0.000000         0.000000     5.000000   \n",
       "25%        15.000000         0.000000         5.000000    10.000000   \n",
       "50%        45.000000         0.000000        35.000000    15.000000   \n",
       "75%        60.000000         5.000000        50.000000    25.000000   \n",
       "max        75.000000        35.000000        85.000000    60.000000   \n",
       "\n",
       "          Effort  Frustration      Score  \n",
       "count   9.000000     9.000000   9.000000  \n",
       "mean   43.333333    10.555556  25.740741  \n",
       "std    31.224990    10.736749  15.520173  \n",
       "min     5.000000     0.000000   3.333333  \n",
       "25%    25.000000     5.000000  13.333333  \n",
       "50%    35.000000    10.000000  22.500000  \n",
       "75%    70.000000    15.000000  35.833333  \n",
       "max    90.000000    35.000000  49.166667  "
      ]
     },
     "metadata": {},
     "output_type": "display_data"
    },
    {
     "name": "stdout",
     "output_type": "stream",
     "text": [
      "\n",
      "\n",
      "--- Counting Unique Values ----\n"
     ]
    },
    {
     "data": {
      "text/plain": [
       "Mental Demand  Physical Demand  Temporal Demand  Performance  Effort  Frustration  Score    \n",
       "10             0                0                5            5       0            3.333333     1\n",
       "                                10               15           35      5            12.500000    1\n",
       "15             5                5                10           90      0            20.833333    1\n",
       "30             0                5                25           10      10           13.333333    1\n",
       "45             0                45               15           25      5            22.500000    1\n",
       "                                75               60           85      10           45.833333    1\n",
       "60             20               35               10           30      15           28.333333    1\n",
       "65             0                85               10           40      15           35.833333    1\n",
       "75             35               50               30           70      35           49.166667    1\n",
       "dtype: int64"
      ]
     },
     "metadata": {},
     "output_type": "display_data"
    },
    {
     "name": "stdout",
     "output_type": "stream",
     "text": [
      "\n",
      "\n",
      "--- Basic Histogram ----\n"
     ]
    },
    {
     "data": {
      "image/png": "[encoded data removed]",
      "text/plain": [
       "<Figure size 576x288 with 9 Axes>"
      ]
     },
     "metadata": {
      "needs_background": "light"
     },
     "output_type": "display_data"
    }
   ],
   "source": [
    "print_stats(data_nasa_tlx, hist_bins=20)"
   ]
  },
  {
   "cell_type": "markdown",
   "id": "065886cb-1c26-45e3-bc56-aa6ae6808b74",
   "metadata": {},
   "source": [
    "## SEQ Exercises"
   ]
  },
  {
   "cell_type": "code",
   "execution_count": 46,
   "id": "9623140e-8852-4816-9bd8-314cad20fcdf",
   "metadata": {},
   "outputs": [
    {
     "data": {
      "text/html": [
       "<div>\n",
       "<style scoped>\n",
       "    .dataframe tbody tr th:only-of-type {\n",
       "        vertical-align: middle;\n",
       "    }\n",
       "\n",
       "    .dataframe tbody tr th {\n",
       "        vertical-align: top;\n",
       "    }\n",
       "\n",
       "    .dataframe thead th {\n",
       "        text-align: right;\n",
       "    }\n",
       "</style>\n",
       "<table border=\"1\" class=\"dataframe\">\n",
       "  <thead>\n",
       "    <tr style=\"text-align: right;\">\n",
       "      <th></th>\n",
       "      <th>Exercise 1</th>\n",
       "      <th>Exercise 2</th>\n",
       "      <th>Exercise 3</th>\n",
       "      <th>Exercise 4</th>\n",
       "      <th>Exercise 5</th>\n",
       "      <th>Exercise 6</th>\n",
       "      <th>Exercise 7</th>\n",
       "      <th>Exercise 8</th>\n",
       "      <th>Exercise 9</th>\n",
       "      <th>Exercise 10</th>\n",
       "      <th>Exercise 11</th>\n",
       "    </tr>\n",
       "  </thead>\n",
       "  <tbody>\n",
       "    <tr>\n",
       "      <th>0</th>\n",
       "      <td>6</td>\n",
       "      <td>6</td>\n",
       "      <td>7</td>\n",
       "      <td>7</td>\n",
       "      <td>7</td>\n",
       "      <td>7</td>\n",
       "      <td>6</td>\n",
       "      <td>7</td>\n",
       "      <td>6</td>\n",
       "      <td>7</td>\n",
       "      <td>7</td>\n",
       "    </tr>\n",
       "    <tr>\n",
       "      <th>1</th>\n",
       "      <td>6</td>\n",
       "      <td>6</td>\n",
       "      <td>7</td>\n",
       "      <td>7</td>\n",
       "      <td>7</td>\n",
       "      <td>7</td>\n",
       "      <td>7</td>\n",
       "      <td>7</td>\n",
       "      <td>7</td>\n",
       "      <td>7</td>\n",
       "      <td>7</td>\n",
       "    </tr>\n",
       "    <tr>\n",
       "      <th>2</th>\n",
       "      <td>6</td>\n",
       "      <td>5</td>\n",
       "      <td>7</td>\n",
       "      <td>7</td>\n",
       "      <td>7</td>\n",
       "      <td>7</td>\n",
       "      <td>7</td>\n",
       "      <td>7</td>\n",
       "      <td>6</td>\n",
       "      <td>7</td>\n",
       "      <td>7</td>\n",
       "    </tr>\n",
       "    <tr>\n",
       "      <th>3</th>\n",
       "      <td>6</td>\n",
       "      <td>5</td>\n",
       "      <td>6</td>\n",
       "      <td>7</td>\n",
       "      <td>6</td>\n",
       "      <td>7</td>\n",
       "      <td>5</td>\n",
       "      <td>7</td>\n",
       "      <td>4</td>\n",
       "      <td>6</td>\n",
       "      <td>7</td>\n",
       "    </tr>\n",
       "    <tr>\n",
       "      <th>4</th>\n",
       "      <td>6</td>\n",
       "      <td>5</td>\n",
       "      <td>7</td>\n",
       "      <td>7</td>\n",
       "      <td>7</td>\n",
       "      <td>7</td>\n",
       "      <td>6</td>\n",
       "      <td>7</td>\n",
       "      <td>5</td>\n",
       "      <td>7</td>\n",
       "      <td>7</td>\n",
       "    </tr>\n",
       "    <tr>\n",
       "      <th>5</th>\n",
       "      <td>3</td>\n",
       "      <td>2</td>\n",
       "      <td>3</td>\n",
       "      <td>7</td>\n",
       "      <td>6</td>\n",
       "      <td>7</td>\n",
       "      <td>4</td>\n",
       "      <td>7</td>\n",
       "      <td>1</td>\n",
       "      <td>7</td>\n",
       "      <td>6</td>\n",
       "    </tr>\n",
       "    <tr>\n",
       "      <th>6</th>\n",
       "      <td>7</td>\n",
       "      <td>6</td>\n",
       "      <td>7</td>\n",
       "      <td>7</td>\n",
       "      <td>7</td>\n",
       "      <td>6</td>\n",
       "      <td>7</td>\n",
       "      <td>7</td>\n",
       "      <td>6</td>\n",
       "      <td>7</td>\n",
       "      <td>7</td>\n",
       "    </tr>\n",
       "    <tr>\n",
       "      <th>7</th>\n",
       "      <td>6</td>\n",
       "      <td>6</td>\n",
       "      <td>6</td>\n",
       "      <td>7</td>\n",
       "      <td>7</td>\n",
       "      <td>7</td>\n",
       "      <td>6</td>\n",
       "      <td>7</td>\n",
       "      <td>6</td>\n",
       "      <td>7</td>\n",
       "      <td>7</td>\n",
       "    </tr>\n",
       "    <tr>\n",
       "      <th>8</th>\n",
       "      <td>5</td>\n",
       "      <td>5</td>\n",
       "      <td>6</td>\n",
       "      <td>7</td>\n",
       "      <td>7</td>\n",
       "      <td>7</td>\n",
       "      <td>6</td>\n",
       "      <td>7</td>\n",
       "      <td>6</td>\n",
       "      <td>7</td>\n",
       "      <td>7</td>\n",
       "    </tr>\n",
       "  </tbody>\n",
       "</table>\n",
       "</div>"
      ],
      "text/plain": [
       "   Exercise 1  Exercise 2  Exercise 3  Exercise 4  Exercise 5  Exercise 6  \\\n",
       "0           6           6           7           7           7           7   \n",
       "1           6           6           7           7           7           7   \n",
       "2           6           5           7           7           7           7   \n",
       "3           6           5           6           7           6           7   \n",
       "4           6           5           7           7           7           7   \n",
       "5           3           2           3           7           6           7   \n",
       "6           7           6           7           7           7           6   \n",
       "7           6           6           6           7           7           7   \n",
       "8           5           5           6           7           7           7   \n",
       "\n",
       "   Exercise 7  Exercise 8  Exercise 9  Exercise 10  Exercise 11  \n",
       "0           6           7           6            7            7  \n",
       "1           7           7           7            7            7  \n",
       "2           7           7           6            7            7  \n",
       "3           5           7           4            6            7  \n",
       "4           6           7           5            7            7  \n",
       "5           4           7           1            7            6  \n",
       "6           7           7           6            7            7  \n",
       "7           6           7           6            7            7  \n",
       "8           6           7           6            7            7  "
      ]
     },
     "execution_count": 46,
     "metadata": {},
     "output_type": "execute_result"
    }
   ],
   "source": [
    "data_seq = data['SEQ']\n",
    "data_seq"
   ]
  },
  {
   "cell_type": "code",
   "execution_count": 47,
   "id": "66ef0dd8-af75-4ad0-9da4-d5b5942f20f9",
   "metadata": {},
   "outputs": [
    {
     "name": "stdout",
     "output_type": "stream",
     "text": [
      "--- Statistics ----\n"
     ]
    },
    {
     "data": {
      "text/html": [
       "<div>\n",
       "<style scoped>\n",
       "    .dataframe tbody tr th:only-of-type {\n",
       "        vertical-align: middle;\n",
       "    }\n",
       "\n",
       "    .dataframe tbody tr th {\n",
       "        vertical-align: top;\n",
       "    }\n",
       "\n",
       "    .dataframe thead th {\n",
       "        text-align: right;\n",
       "    }\n",
       "</style>\n",
       "<table border=\"1\" class=\"dataframe\">\n",
       "  <thead>\n",
       "    <tr style=\"text-align: right;\">\n",
       "      <th></th>\n",
       "      <th>Exercise 1</th>\n",
       "      <th>Exercise 2</th>\n",
       "      <th>Exercise 3</th>\n",
       "      <th>Exercise 4</th>\n",
       "      <th>Exercise 5</th>\n",
       "      <th>Exercise 6</th>\n",
       "      <th>Exercise 7</th>\n",
       "      <th>Exercise 8</th>\n",
       "      <th>Exercise 9</th>\n",
       "      <th>Exercise 10</th>\n",
       "      <th>Exercise 11</th>\n",
       "    </tr>\n",
       "  </thead>\n",
       "  <tbody>\n",
       "    <tr>\n",
       "      <th>count</th>\n",
       "      <td>9.000000</td>\n",
       "      <td>9.000000</td>\n",
       "      <td>9.000000</td>\n",
       "      <td>9.0</td>\n",
       "      <td>9.000000</td>\n",
       "      <td>9.000000</td>\n",
       "      <td>9.0</td>\n",
       "      <td>9.0</td>\n",
       "      <td>9.000000</td>\n",
       "      <td>9.000000</td>\n",
       "      <td>9.000000</td>\n",
       "    </tr>\n",
       "    <tr>\n",
       "      <th>mean</th>\n",
       "      <td>5.666667</td>\n",
       "      <td>5.111111</td>\n",
       "      <td>6.222222</td>\n",
       "      <td>7.0</td>\n",
       "      <td>6.777778</td>\n",
       "      <td>6.888889</td>\n",
       "      <td>6.0</td>\n",
       "      <td>7.0</td>\n",
       "      <td>5.222222</td>\n",
       "      <td>6.888889</td>\n",
       "      <td>6.888889</td>\n",
       "    </tr>\n",
       "    <tr>\n",
       "      <th>std</th>\n",
       "      <td>1.118034</td>\n",
       "      <td>1.269296</td>\n",
       "      <td>1.301708</td>\n",
       "      <td>0.0</td>\n",
       "      <td>0.440959</td>\n",
       "      <td>0.333333</td>\n",
       "      <td>1.0</td>\n",
       "      <td>0.0</td>\n",
       "      <td>1.787301</td>\n",
       "      <td>0.333333</td>\n",
       "      <td>0.333333</td>\n",
       "    </tr>\n",
       "    <tr>\n",
       "      <th>min</th>\n",
       "      <td>3.000000</td>\n",
       "      <td>2.000000</td>\n",
       "      <td>3.000000</td>\n",
       "      <td>7.0</td>\n",
       "      <td>6.000000</td>\n",
       "      <td>6.000000</td>\n",
       "      <td>4.0</td>\n",
       "      <td>7.0</td>\n",
       "      <td>1.000000</td>\n",
       "      <td>6.000000</td>\n",
       "      <td>6.000000</td>\n",
       "    </tr>\n",
       "    <tr>\n",
       "      <th>25%</th>\n",
       "      <td>6.000000</td>\n",
       "      <td>5.000000</td>\n",
       "      <td>6.000000</td>\n",
       "      <td>7.0</td>\n",
       "      <td>7.000000</td>\n",
       "      <td>7.000000</td>\n",
       "      <td>6.0</td>\n",
       "      <td>7.0</td>\n",
       "      <td>5.000000</td>\n",
       "      <td>7.000000</td>\n",
       "      <td>7.000000</td>\n",
       "    </tr>\n",
       "    <tr>\n",
       "      <th>50%</th>\n",
       "      <td>6.000000</td>\n",
       "      <td>5.000000</td>\n",
       "      <td>7.000000</td>\n",
       "      <td>7.0</td>\n",
       "      <td>7.000000</td>\n",
       "      <td>7.000000</td>\n",
       "      <td>6.0</td>\n",
       "      <td>7.0</td>\n",
       "      <td>6.000000</td>\n",
       "      <td>7.000000</td>\n",
       "      <td>7.000000</td>\n",
       "    </tr>\n",
       "    <tr>\n",
       "      <th>75%</th>\n",
       "      <td>6.000000</td>\n",
       "      <td>6.000000</td>\n",
       "      <td>7.000000</td>\n",
       "      <td>7.0</td>\n",
       "      <td>7.000000</td>\n",
       "      <td>7.000000</td>\n",
       "      <td>7.0</td>\n",
       "      <td>7.0</td>\n",
       "      <td>6.000000</td>\n",
       "      <td>7.000000</td>\n",
       "      <td>7.000000</td>\n",
       "    </tr>\n",
       "    <tr>\n",
       "      <th>max</th>\n",
       "      <td>7.000000</td>\n",
       "      <td>6.000000</td>\n",
       "      <td>7.000000</td>\n",
       "      <td>7.0</td>\n",
       "      <td>7.000000</td>\n",
       "      <td>7.000000</td>\n",
       "      <td>7.0</td>\n",
       "      <td>7.0</td>\n",
       "      <td>7.000000</td>\n",
       "      <td>7.000000</td>\n",
       "      <td>7.000000</td>\n",
       "    </tr>\n",
       "  </tbody>\n",
       "</table>\n",
       "</div>"
      ],
      "text/plain": [
       "       Exercise 1  Exercise 2  Exercise 3  Exercise 4  Exercise 5  Exercise 6  \\\n",
       "count    9.000000    9.000000    9.000000         9.0    9.000000    9.000000   \n",
       "mean     5.666667    5.111111    6.222222         7.0    6.777778    6.888889   \n",
       "std      1.118034    1.269296    1.301708         0.0    0.440959    0.333333   \n",
       "min      3.000000    2.000000    3.000000         7.0    6.000000    6.000000   \n",
       "25%      6.000000    5.000000    6.000000         7.0    7.000000    7.000000   \n",
       "50%      6.000000    5.000000    7.000000         7.0    7.000000    7.000000   \n",
       "75%      6.000000    6.000000    7.000000         7.0    7.000000    7.000000   \n",
       "max      7.000000    6.000000    7.000000         7.0    7.000000    7.000000   \n",
       "\n",
       "       Exercise 7  Exercise 8  Exercise 9  Exercise 10  Exercise 11  \n",
       "count         9.0         9.0    9.000000     9.000000     9.000000  \n",
       "mean          6.0         7.0    5.222222     6.888889     6.888889  \n",
       "std           1.0         0.0    1.787301     0.333333     0.333333  \n",
       "min           4.0         7.0    1.000000     6.000000     6.000000  \n",
       "25%           6.0         7.0    5.000000     7.000000     7.000000  \n",
       "50%           6.0         7.0    6.000000     7.000000     7.000000  \n",
       "75%           7.0         7.0    6.000000     7.000000     7.000000  \n",
       "max           7.0         7.0    7.000000     7.000000     7.000000  "
      ]
     },
     "metadata": {},
     "output_type": "display_data"
    },
    {
     "name": "stdout",
     "output_type": "stream",
     "text": [
      "\n",
      "\n",
      "--- Counting Unique Values ----\n"
     ]
    },
    {
     "data": {
      "text/plain": [
       "Exercise 1  Exercise 2  Exercise 3  Exercise 4  Exercise 5  Exercise 6  Exercise 7  Exercise 8  Exercise 9  Exercise 10  Exercise 11\n",
       "3           2           3           7           6           7           4           7           1           7            6              1\n",
       "5           5           6           7           7           7           6           7           6           7            7              1\n",
       "6           5           6           7           6           7           5           7           4           6            7              1\n",
       "                        7           7           7           7           6           7           5           7            7              1\n",
       "                                                                        7           7           6           7            7              1\n",
       "            6           6           7           7           7           6           7           6           7            7              1\n",
       "                        7           7           7           7           6           7           6           7            7              1\n",
       "                                                                        7           7           7           7            7              1\n",
       "7           6           7           7           7           6           7           7           6           7            7              1\n",
       "dtype: int64"
      ]
     },
     "metadata": {},
     "output_type": "display_data"
    },
    {
     "name": "stdout",
     "output_type": "stream",
     "text": [
      "\n",
      "\n",
      "--- Basic Histogram ----\n"
     ]
    },
    {
     "data": {
      "image/png": "[encoded data removed]",
      "text/plain": [
       "<Figure size 576x288 with 12 Axes>"
      ]
     },
     "metadata": {
      "needs_background": "light"
     },
     "output_type": "display_data"
    }
   ],
   "source": [
    "print_stats(data_seq, hist_bins=10)"
   ]
  },
  {
   "cell_type": "markdown",
   "id": "c3c17e52-a9e5-4e3c-bf1a-ad743f9a10dc",
   "metadata": {},
   "source": [
    "### Response Frequency"
   ]
  },
  {
   "cell_type": "code",
   "execution_count": 48,
   "id": "3a9235c4-5267-4304-8fd6-22a0be2fb810",
   "metadata": {},
   "outputs": [
    {
     "data": {
      "text/html": [
       "<div>\n",
       "<style scoped>\n",
       "    .dataframe tbody tr th:only-of-type {\n",
       "        vertical-align: middle;\n",
       "    }\n",
       "\n",
       "    .dataframe tbody tr th {\n",
       "        vertical-align: top;\n",
       "    }\n",
       "\n",
       "    .dataframe thead th {\n",
       "        text-align: right;\n",
       "    }\n",
       "</style>\n",
       "<table border=\"1\" class=\"dataframe\">\n",
       "  <thead>\n",
       "    <tr style=\"text-align: right;\">\n",
       "      <th></th>\n",
       "      <th>1</th>\n",
       "      <th>2</th>\n",
       "      <th>3</th>\n",
       "      <th>4</th>\n",
       "      <th>5</th>\n",
       "      <th>6</th>\n",
       "      <th>7</th>\n",
       "    </tr>\n",
       "  </thead>\n",
       "  <tbody>\n",
       "    <tr>\n",
       "      <th>Exercise 1</th>\n",
       "      <td>0.000000</td>\n",
       "      <td>0.000000</td>\n",
       "      <td>11.111111</td>\n",
       "      <td>0.000000</td>\n",
       "      <td>11.111111</td>\n",
       "      <td>66.666667</td>\n",
       "      <td>11.111111</td>\n",
       "    </tr>\n",
       "    <tr>\n",
       "      <th>Exercise 2</th>\n",
       "      <td>0.000000</td>\n",
       "      <td>11.111111</td>\n",
       "      <td>0.000000</td>\n",
       "      <td>0.000000</td>\n",
       "      <td>44.444444</td>\n",
       "      <td>44.444444</td>\n",
       "      <td>0.000000</td>\n",
       "    </tr>\n",
       "    <tr>\n",
       "      <th>Exercise 3</th>\n",
       "      <td>0.000000</td>\n",
       "      <td>0.000000</td>\n",
       "      <td>11.111111</td>\n",
       "      <td>0.000000</td>\n",
       "      <td>0.000000</td>\n",
       "      <td>33.333333</td>\n",
       "      <td>55.555556</td>\n",
       "    </tr>\n",
       "    <tr>\n",
       "      <th>Exercise 4</th>\n",
       "      <td>0.000000</td>\n",
       "      <td>0.000000</td>\n",
       "      <td>0.000000</td>\n",
       "      <td>0.000000</td>\n",
       "      <td>0.000000</td>\n",
       "      <td>0.000000</td>\n",
       "      <td>100.000000</td>\n",
       "    </tr>\n",
       "    <tr>\n",
       "      <th>Exercise 5</th>\n",
       "      <td>0.000000</td>\n",
       "      <td>0.000000</td>\n",
       "      <td>0.000000</td>\n",
       "      <td>0.000000</td>\n",
       "      <td>0.000000</td>\n",
       "      <td>22.222222</td>\n",
       "      <td>77.777778</td>\n",
       "    </tr>\n",
       "    <tr>\n",
       "      <th>Exercise 6</th>\n",
       "      <td>0.000000</td>\n",
       "      <td>0.000000</td>\n",
       "      <td>0.000000</td>\n",
       "      <td>0.000000</td>\n",
       "      <td>0.000000</td>\n",
       "      <td>11.111111</td>\n",
       "      <td>88.888889</td>\n",
       "    </tr>\n",
       "    <tr>\n",
       "      <th>Exercise 7</th>\n",
       "      <td>0.000000</td>\n",
       "      <td>0.000000</td>\n",
       "      <td>0.000000</td>\n",
       "      <td>11.111111</td>\n",
       "      <td>11.111111</td>\n",
       "      <td>44.444444</td>\n",
       "      <td>33.333333</td>\n",
       "    </tr>\n",
       "    <tr>\n",
       "      <th>Exercise 8</th>\n",
       "      <td>0.000000</td>\n",
       "      <td>0.000000</td>\n",
       "      <td>0.000000</td>\n",
       "      <td>0.000000</td>\n",
       "      <td>0.000000</td>\n",
       "      <td>0.000000</td>\n",
       "      <td>100.000000</td>\n",
       "    </tr>\n",
       "    <tr>\n",
       "      <th>Exercise 9</th>\n",
       "      <td>11.111111</td>\n",
       "      <td>0.000000</td>\n",
       "      <td>0.000000</td>\n",
       "      <td>11.111111</td>\n",
       "      <td>11.111111</td>\n",
       "      <td>55.555556</td>\n",
       "      <td>11.111111</td>\n",
       "    </tr>\n",
       "    <tr>\n",
       "      <th>Exercise 10</th>\n",
       "      <td>0.000000</td>\n",
       "      <td>0.000000</td>\n",
       "      <td>0.000000</td>\n",
       "      <td>0.000000</td>\n",
       "      <td>0.000000</td>\n",
       "      <td>11.111111</td>\n",
       "      <td>88.888889</td>\n",
       "    </tr>\n",
       "    <tr>\n",
       "      <th>Exercise 11</th>\n",
       "      <td>0.000000</td>\n",
       "      <td>0.000000</td>\n",
       "      <td>0.000000</td>\n",
       "      <td>0.000000</td>\n",
       "      <td>0.000000</td>\n",
       "      <td>11.111111</td>\n",
       "      <td>88.888889</td>\n",
       "    </tr>\n",
       "  </tbody>\n",
       "</table>\n",
       "</div>"
      ],
      "text/plain": [
       "                     1          2          3          4          5          6  \\\n",
       "Exercise 1    0.000000   0.000000  11.111111   0.000000  11.111111  66.666667   \n",
       "Exercise 2    0.000000  11.111111   0.000000   0.000000  44.444444  44.444444   \n",
       "Exercise 3    0.000000   0.000000  11.111111   0.000000   0.000000  33.333333   \n",
       "Exercise 4    0.000000   0.000000   0.000000   0.000000   0.000000   0.000000   \n",
       "Exercise 5    0.000000   0.000000   0.000000   0.000000   0.000000  22.222222   \n",
       "Exercise 6    0.000000   0.000000   0.000000   0.000000   0.000000  11.111111   \n",
       "Exercise 7    0.000000   0.000000   0.000000  11.111111  11.111111  44.444444   \n",
       "Exercise 8    0.000000   0.000000   0.000000   0.000000   0.000000   0.000000   \n",
       "Exercise 9   11.111111   0.000000   0.000000  11.111111  11.111111  55.555556   \n",
       "Exercise 10   0.000000   0.000000   0.000000   0.000000   0.000000  11.111111   \n",
       "Exercise 11   0.000000   0.000000   0.000000   0.000000   0.000000  11.111111   \n",
       "\n",
       "                      7  \n",
       "Exercise 1    11.111111  \n",
       "Exercise 2     0.000000  \n",
       "Exercise 3    55.555556  \n",
       "Exercise 4   100.000000  \n",
       "Exercise 5    77.777778  \n",
       "Exercise 6    88.888889  \n",
       "Exercise 7    33.333333  \n",
       "Exercise 8   100.000000  \n",
       "Exercise 9    11.111111  \n",
       "Exercise 10   88.888889  \n",
       "Exercise 11   88.888889  "
      ]
     },
     "execution_count": 48,
     "metadata": {},
     "output_type": "execute_result"
    }
   ],
   "source": [
    "data_seq_freq = (data_seq.apply(pd.value_counts).fillna(0)/data_seq.count()*100).transpose()\n",
    "data_seq_freq"
   ]
  },
  {
   "cell_type": "code",
   "execution_count": 49,
   "id": "366f4bcd-c3ff-4ccf-85c3-3ae2e563738a",
   "metadata": {},
   "outputs": [
    {
     "data": {
      "image/png": "[encoded data removed]",
      "text/plain": [
       "<Figure size 432x288 with 1 Axes>"
      ]
     },
     "metadata": {
      "needs_background": "light"
     },
     "output_type": "display_data"
    }
   ],
   "source": [
    "data_seq_freq.iloc[::-1].plot.barh(stacked=True).legend(loc='center left',bbox_to_anchor=(1.0, 0.5))\n",
    "plt.show()"
   ]
  },
  {
   "cell_type": "markdown",
   "id": "b8801caf-6917-4764-b6bc-d3dfb143705b",
   "metadata": {},
   "source": [
    "### Overall Pseudo-SEQ Score"
   ]
  },
  {
   "cell_type": "code",
   "execution_count": 50,
   "id": "dee8bde2-01e2-4596-b412-0a2f6aeffa48",
   "metadata": {},
   "outputs": [
    {
     "data": {
      "text/plain": [
       "0    6.636364\n",
       "1    6.818182\n",
       "2    6.636364\n",
       "3    6.000000\n",
       "4    6.454545\n",
       "5    4.818182\n",
       "6    6.727273\n",
       "7    6.545455\n",
       "8    6.363636\n",
       "dtype: float64"
      ]
     },
     "execution_count": 50,
     "metadata": {},
     "output_type": "execute_result"
    }
   ],
   "source": [
    "data_seq_score = data_seq.mean(axis=1)\n",
    "data_seq_score"
   ]
  },
  {
   "cell_type": "code",
   "execution_count": 51,
   "id": "dad527d1-750d-4ca1-a723-af423563524d",
   "metadata": {},
   "outputs": [
    {
     "data": {
      "text/plain": [
       "count    9.000000\n",
       "mean     6.333333\n",
       "std      0.616575\n",
       "min      4.818182\n",
       "25%      6.363636\n",
       "50%      6.545455\n",
       "75%      6.636364\n",
       "max      6.818182\n",
       "dtype: float64"
      ]
     },
     "execution_count": 51,
     "metadata": {},
     "output_type": "execute_result"
    }
   ],
   "source": [
    "data_seq_score.describe()"
   ]
  },
  {
   "cell_type": "markdown",
   "id": "a9538b77-7022-4994-8971-210ac61cb10c",
   "metadata": {},
   "source": [
    "## Exercises"
   ]
  },
  {
   "cell_type": "code",
   "execution_count": 55,
   "id": "bd4b220d-65fd-419d-9fea-96f81987b36b",
   "metadata": {},
   "outputs": [
    {
     "data": {
      "text/html": [
       "<div>\n",
       "<style scoped>\n",
       "    .dataframe tbody tr th:only-of-type {\n",
       "        vertical-align: middle;\n",
       "    }\n",
       "\n",
       "    .dataframe tbody tr th {\n",
       "        vertical-align: top;\n",
       "    }\n",
       "\n",
       "    .dataframe thead th {\n",
       "        text-align: right;\n",
       "    }\n",
       "</style>\n",
       "<table border=\"1\" class=\"dataframe\">\n",
       "  <thead>\n",
       "    <tr style=\"text-align: right;\">\n",
       "      <th></th>\n",
       "      <th>Exercise 1 Total Time</th>\n",
       "      <th>Exercise 1 Time First Needed Help</th>\n",
       "      <th>Exercise 1 Times Needed Help</th>\n",
       "      <th>Exercise 1 Number of Errors</th>\n",
       "      <th>Exercise 2 Total Time</th>\n",
       "      <th>Exercise 2 Time First Needed Help</th>\n",
       "      <th>Exercise 2 Times Needed Help</th>\n",
       "      <th>Exercise 2 Number of Errors</th>\n",
       "      <th>Exercise 3 Total Time</th>\n",
       "      <th>Exercise 3 Time First Needed Help</th>\n",
       "      <th>...</th>\n",
       "      <th>Exercise 9 Times Needed Help</th>\n",
       "      <th>Exercise 9 Number of Errors</th>\n",
       "      <th>Exercise 10 Total Time</th>\n",
       "      <th>Exercise 10 Time First Needed Help</th>\n",
       "      <th>Exercise 10 Times Needed Help</th>\n",
       "      <th>Exercise 10 Number of Errors</th>\n",
       "      <th>Exercise 11 Total Time</th>\n",
       "      <th>Exercise 11 Time First Needed Help</th>\n",
       "      <th>Exercise 11 Times Needed Help</th>\n",
       "      <th>Exercise 11 Number of Errors</th>\n",
       "    </tr>\n",
       "  </thead>\n",
       "  <tbody>\n",
       "    <tr>\n",
       "      <th>0</th>\n",
       "      <td>0 days 00:01:26</td>\n",
       "      <td>NaT</td>\n",
       "      <td>0</td>\n",
       "      <td>0</td>\n",
       "      <td>0 days 00:05:36</td>\n",
       "      <td>0 days 00:02:34</td>\n",
       "      <td>5</td>\n",
       "      <td>1</td>\n",
       "      <td>0 days 00:00:48</td>\n",
       "      <td>0 days 00:00:32</td>\n",
       "      <td>...</td>\n",
       "      <td>2</td>\n",
       "      <td>1</td>\n",
       "      <td>0 days 00:00:39</td>\n",
       "      <td>NaT</td>\n",
       "      <td>0</td>\n",
       "      <td>0</td>\n",
       "      <td>0 days 00:00:11</td>\n",
       "      <td>NaT</td>\n",
       "      <td>0.0</td>\n",
       "      <td>0.0</td>\n",
       "    </tr>\n",
       "    <tr>\n",
       "      <th>1</th>\n",
       "      <td>0 days 00:03:21</td>\n",
       "      <td>0 days 00:02:24</td>\n",
       "      <td>1</td>\n",
       "      <td>2</td>\n",
       "      <td>0 days 00:04:15</td>\n",
       "      <td>0 days 00:00:40</td>\n",
       "      <td>3</td>\n",
       "      <td>3</td>\n",
       "      <td>0 days 00:00:30</td>\n",
       "      <td>NaT</td>\n",
       "      <td>...</td>\n",
       "      <td>2</td>\n",
       "      <td>2</td>\n",
       "      <td>0 days 00:00:31</td>\n",
       "      <td>NaT</td>\n",
       "      <td>0</td>\n",
       "      <td>0</td>\n",
       "      <td>0 days 00:00:20</td>\n",
       "      <td>NaT</td>\n",
       "      <td>0.0</td>\n",
       "      <td>0.0</td>\n",
       "    </tr>\n",
       "    <tr>\n",
       "      <th>2</th>\n",
       "      <td>0 days 00:02:56</td>\n",
       "      <td>0 days 00:01:33</td>\n",
       "      <td>2</td>\n",
       "      <td>0</td>\n",
       "      <td>0 days 00:04:40</td>\n",
       "      <td>0 days 00:00:13</td>\n",
       "      <td>7</td>\n",
       "      <td>5</td>\n",
       "      <td>0 days 00:01:28</td>\n",
       "      <td>0 days 00:00:17</td>\n",
       "      <td>...</td>\n",
       "      <td>1</td>\n",
       "      <td>0</td>\n",
       "      <td>0 days 00:00:46</td>\n",
       "      <td>0 days 00:00:12</td>\n",
       "      <td>1</td>\n",
       "      <td>1</td>\n",
       "      <td>0 days 00:00:30</td>\n",
       "      <td>0 days 00:00:16</td>\n",
       "      <td>1.0</td>\n",
       "      <td>1.0</td>\n",
       "    </tr>\n",
       "    <tr>\n",
       "      <th>3</th>\n",
       "      <td>0 days 00:01:44</td>\n",
       "      <td>NaT</td>\n",
       "      <td>3</td>\n",
       "      <td>0</td>\n",
       "      <td>0 days 00:05:58</td>\n",
       "      <td>0 days 00:00:33</td>\n",
       "      <td>8</td>\n",
       "      <td>3</td>\n",
       "      <td>0 days 00:00:12</td>\n",
       "      <td>0 days 00:00:30</td>\n",
       "      <td>...</td>\n",
       "      <td>3</td>\n",
       "      <td>1</td>\n",
       "      <td>0 days 00:01:04</td>\n",
       "      <td>0 days 00:00:37</td>\n",
       "      <td>1</td>\n",
       "      <td>1</td>\n",
       "      <td>0 days 00:00:25</td>\n",
       "      <td>NaT</td>\n",
       "      <td>0.0</td>\n",
       "      <td>0.0</td>\n",
       "    </tr>\n",
       "    <tr>\n",
       "      <th>4</th>\n",
       "      <td>0 days 00:02:13</td>\n",
       "      <td>0 days 00:00:49</td>\n",
       "      <td>3</td>\n",
       "      <td>1</td>\n",
       "      <td>0 days 00:04:44</td>\n",
       "      <td>0 days 00:00:43</td>\n",
       "      <td>5</td>\n",
       "      <td>3</td>\n",
       "      <td>0 days 00:01:32</td>\n",
       "      <td>0 days 00:00:39</td>\n",
       "      <td>...</td>\n",
       "      <td>1</td>\n",
       "      <td>0</td>\n",
       "      <td>0 days 00:00:38</td>\n",
       "      <td>NaT</td>\n",
       "      <td>0</td>\n",
       "      <td>0</td>\n",
       "      <td>0 days 00:00:24</td>\n",
       "      <td>NaT</td>\n",
       "      <td>NaN</td>\n",
       "      <td>NaN</td>\n",
       "    </tr>\n",
       "    <tr>\n",
       "      <th>5</th>\n",
       "      <td>0 days 00:04:10</td>\n",
       "      <td>0 days 00:00:51</td>\n",
       "      <td>4</td>\n",
       "      <td>0</td>\n",
       "      <td>0 days 00:04:45</td>\n",
       "      <td>0 days 00:01:14</td>\n",
       "      <td>5</td>\n",
       "      <td>2</td>\n",
       "      <td>0 days 00:01:50</td>\n",
       "      <td>0 days 00:00:33</td>\n",
       "      <td>...</td>\n",
       "      <td>4</td>\n",
       "      <td>2</td>\n",
       "      <td>0 days 00:01:23</td>\n",
       "      <td>0 days 00:00:21</td>\n",
       "      <td>2</td>\n",
       "      <td>1</td>\n",
       "      <td>0 days 00:00:32</td>\n",
       "      <td>0 days 00:00:21</td>\n",
       "      <td>1.0</td>\n",
       "      <td>1.0</td>\n",
       "    </tr>\n",
       "    <tr>\n",
       "      <th>6</th>\n",
       "      <td>0 days 00:02:49</td>\n",
       "      <td>0 days 00:01:02</td>\n",
       "      <td>2</td>\n",
       "      <td>1</td>\n",
       "      <td>0 days 00:03:16</td>\n",
       "      <td>0 days 00:00:21</td>\n",
       "      <td>3</td>\n",
       "      <td>2</td>\n",
       "      <td>0 days 00:01:22</td>\n",
       "      <td>0 days 00:00:39</td>\n",
       "      <td>...</td>\n",
       "      <td>4</td>\n",
       "      <td>0</td>\n",
       "      <td>0 days 00:00:31</td>\n",
       "      <td>0 days 00:00:31</td>\n",
       "      <td>1</td>\n",
       "      <td>1</td>\n",
       "      <td>0 days 00:00:25</td>\n",
       "      <td>NaT</td>\n",
       "      <td>0.0</td>\n",
       "      <td>0.0</td>\n",
       "    </tr>\n",
       "    <tr>\n",
       "      <th>7</th>\n",
       "      <td>0 days 00:02:10</td>\n",
       "      <td>0 days 00:01:02</td>\n",
       "      <td>1</td>\n",
       "      <td>0</td>\n",
       "      <td>0 days 00:04:03</td>\n",
       "      <td>0 days 00:01:45</td>\n",
       "      <td>5</td>\n",
       "      <td>2</td>\n",
       "      <td>0 days 00:03:10</td>\n",
       "      <td>0 days 00:00:40</td>\n",
       "      <td>...</td>\n",
       "      <td>2</td>\n",
       "      <td>1</td>\n",
       "      <td>0 days 00:00:58</td>\n",
       "      <td>NaT</td>\n",
       "      <td>0</td>\n",
       "      <td>0</td>\n",
       "      <td>0 days 00:00:32</td>\n",
       "      <td>0 days 00:00:32</td>\n",
       "      <td>1.0</td>\n",
       "      <td>0.0</td>\n",
       "    </tr>\n",
       "    <tr>\n",
       "      <th>8</th>\n",
       "      <td>0 days 00:01:47</td>\n",
       "      <td>0 days 00:03:37</td>\n",
       "      <td>3</td>\n",
       "      <td>0</td>\n",
       "      <td>0 days 00:04:19</td>\n",
       "      <td>0 days 00:00:14</td>\n",
       "      <td>4</td>\n",
       "      <td>3</td>\n",
       "      <td>0 days 00:02:13</td>\n",
       "      <td>0 days 00:01:37</td>\n",
       "      <td>...</td>\n",
       "      <td>3</td>\n",
       "      <td>0</td>\n",
       "      <td>0 days 00:01:18</td>\n",
       "      <td>0 days 00:00:55</td>\n",
       "      <td>1</td>\n",
       "      <td>1</td>\n",
       "      <td>0 days 00:00:34</td>\n",
       "      <td>NaT</td>\n",
       "      <td>0.0</td>\n",
       "      <td>0.0</td>\n",
       "    </tr>\n",
       "  </tbody>\n",
       "</table>\n",
       "<p>9 rows × 44 columns</p>\n",
       "</div>"
      ],
      "text/plain": [
       "  Exercise 1 Total Time Exercise 1 Time First Needed Help  \\\n",
       "0       0 days 00:01:26                               NaT   \n",
       "1       0 days 00:03:21                   0 days 00:02:24   \n",
       "2       0 days 00:02:56                   0 days 00:01:33   \n",
       "3       0 days 00:01:44                               NaT   \n",
       "4       0 days 00:02:13                   0 days 00:00:49   \n",
       "5       0 days 00:04:10                   0 days 00:00:51   \n",
       "6       0 days 00:02:49                   0 days 00:01:02   \n",
       "7       0 days 00:02:10                   0 days 00:01:02   \n",
       "8       0 days 00:01:47                   0 days 00:03:37   \n",
       "\n",
       "   Exercise 1 Times Needed Help  Exercise 1 Number of Errors  \\\n",
       "0                             0                            0   \n",
       "1                             1                            2   \n",
       "2                             2                            0   \n",
       "3                             3                            0   \n",
       "4                             3                            1   \n",
       "5                             4                            0   \n",
       "6                             2                            1   \n",
       "7                             1                            0   \n",
       "8                             3                            0   \n",
       "\n",
       "  Exercise 2 Total Time Exercise 2 Time First Needed Help  \\\n",
       "0       0 days 00:05:36                   0 days 00:02:34   \n",
       "1       0 days 00:04:15                   0 days 00:00:40   \n",
       "2       0 days 00:04:40                   0 days 00:00:13   \n",
       "3       0 days 00:05:58                   0 days 00:00:33   \n",
       "4       0 days 00:04:44                   0 days 00:00:43   \n",
       "5       0 days 00:04:45                   0 days 00:01:14   \n",
       "6       0 days 00:03:16                   0 days 00:00:21   \n",
       "7       0 days 00:04:03                   0 days 00:01:45   \n",
       "8       0 days 00:04:19                   0 days 00:00:14   \n",
       "\n",
       "   Exercise 2 Times Needed Help  Exercise 2 Number of Errors  \\\n",
       "0                             5                            1   \n",
       "1                             3                            3   \n",
       "2                             7                            5   \n",
       "3                             8                            3   \n",
       "4                             5                            3   \n",
       "5                             5                            2   \n",
       "6                             3                            2   \n",
       "7                             5                            2   \n",
       "8                             4                            3   \n",
       "\n",
       "  Exercise 3 Total Time Exercise 3 Time First Needed Help  ...  \\\n",
       "0       0 days 00:00:48                   0 days 00:00:32  ...   \n",
       "1       0 days 00:00:30                               NaT  ...   \n",
       "2       0 days 00:01:28                   0 days 00:00:17  ...   \n",
       "3       0 days 00:00:12                   0 days 00:00:30  ...   \n",
       "4       0 days 00:01:32                   0 days 00:00:39  ...   \n",
       "5       0 days 00:01:50                   0 days 00:00:33  ...   \n",
       "6       0 days 00:01:22                   0 days 00:00:39  ...   \n",
       "7       0 days 00:03:10                   0 days 00:00:40  ...   \n",
       "8       0 days 00:02:13                   0 days 00:01:37  ...   \n",
       "\n",
       "   Exercise 9 Times Needed Help  Exercise 9 Number of Errors  \\\n",
       "0                             2                            1   \n",
       "1                             2                            2   \n",
       "2                             1                            0   \n",
       "3                             3                            1   \n",
       "4                             1                            0   \n",
       "5                             4                            2   \n",
       "6                             4                            0   \n",
       "7                             2                            1   \n",
       "8                             3                            0   \n",
       "\n",
       "  Exercise 10 Total Time  Exercise 10 Time First Needed Help  \\\n",
       "0        0 days 00:00:39                                 NaT   \n",
       "1        0 days 00:00:31                                 NaT   \n",
       "2        0 days 00:00:46                     0 days 00:00:12   \n",
       "3        0 days 00:01:04                     0 days 00:00:37   \n",
       "4        0 days 00:00:38                                 NaT   \n",
       "5        0 days 00:01:23                     0 days 00:00:21   \n",
       "6        0 days 00:00:31                     0 days 00:00:31   \n",
       "7        0 days 00:00:58                                 NaT   \n",
       "8        0 days 00:01:18                     0 days 00:00:55   \n",
       "\n",
       "   Exercise 10 Times Needed Help  Exercise 10 Number of Errors  \\\n",
       "0                              0                             0   \n",
       "1                              0                             0   \n",
       "2                              1                             1   \n",
       "3                              1                             1   \n",
       "4                              0                             0   \n",
       "5                              2                             1   \n",
       "6                              1                             1   \n",
       "7                              0                             0   \n",
       "8                              1                             1   \n",
       "\n",
       "  Exercise 11 Total Time Exercise 11 Time First Needed Help  \\\n",
       "0        0 days 00:00:11                                NaT   \n",
       "1        0 days 00:00:20                                NaT   \n",
       "2        0 days 00:00:30                    0 days 00:00:16   \n",
       "3        0 days 00:00:25                                NaT   \n",
       "4        0 days 00:00:24                                NaT   \n",
       "5        0 days 00:00:32                    0 days 00:00:21   \n",
       "6        0 days 00:00:25                                NaT   \n",
       "7        0 days 00:00:32                    0 days 00:00:32   \n",
       "8        0 days 00:00:34                                NaT   \n",
       "\n",
       "   Exercise 11 Times Needed Help  Exercise 11 Number of Errors  \n",
       "0                            0.0                           0.0  \n",
       "1                            0.0                           0.0  \n",
       "2                            1.0                           1.0  \n",
       "3                            0.0                           0.0  \n",
       "4                            NaN                           NaN  \n",
       "5                            1.0                           1.0  \n",
       "6                            0.0                           0.0  \n",
       "7                            1.0                           0.0  \n",
       "8                            0.0                           0.0  \n",
       "\n",
       "[9 rows x 44 columns]"
      ]
     },
     "execution_count": 55,
     "metadata": {},
     "output_type": "execute_result"
    }
   ],
   "source": [
    "data_exercises = data['Exercises'].copy()\n",
    "\n",
    "data_exercises_times = data_exercises.select_dtypes(include='object')\n",
    "data_exercises_times = data_exercises_times.applymap(convert_time_to_timedelta, na_action='ignore')\n",
    "\n",
    "data_exercises[data_exercises_times.columns] = data_exercises_times[data_exercises_times.columns]\n",
    "\n",
    "data_exercises                                                              "
   ]
  },
  {
   "cell_type": "code",
   "execution_count": null,
   "id": "0fa0760e-5b53-4996-850e-11250464860f",
   "metadata": {},
   "outputs": [],
   "source": []
  }
 ],
 "metadata": {
  "kernelspec": {
   "display_name": "Python 3 (ipykernel)",
   "language": "python",
   "name": "python3"
  },
  "language_info": {
   "codemirror_mode": {
    "name": "ipython",
    "version": 3
   },
   "file_extension": ".py",
   "mimetype": "text/x-python",
   "name": "python",
   "nbconvert_exporter": "python",
   "pygments_lexer": "ipython3",
   "version": "3.8.11"
  }
 },
 "nbformat": 4,
 "nbformat_minor": 5
}
