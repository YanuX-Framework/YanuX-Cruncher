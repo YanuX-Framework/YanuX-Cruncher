{
 "cells": [
  {
   "cell_type": "markdown",
   "id": "783defa6-7254-4758-b583-d59936599759",
   "metadata": {},
   "source": [
    "# Yanux YouTube Viewer"
   ]
  },
  {
   "cell_type": "markdown",
   "id": "c8bc3869-f994-421a-a6f3-f41a8f9d2ff5",
   "metadata": {},
   "source": [
    "## Imports"
   ]
  },
  {
   "cell_type": "code",
   "execution_count": 1,
   "id": "d07a06eb-a099-41f5-ad1f-86e4767594c8",
   "metadata": {},
   "outputs": [],
   "source": [
    "import numpy as np\n",
    "from scipy import stats\n",
    "import statsmodels.stats.proportion as smp\n",
    "import pandas as pd\n",
    "import matplotlib.pyplot as plt\n",
    "import plot_likert"
   ]
  },
  {
   "cell_type": "markdown",
   "id": "7dae334a-ffd6-4b8b-acea-df1a7bf497a8",
   "metadata": {},
   "source": [
    "## Helper Functions"
   ]
  },
  {
   "cell_type": "code",
   "execution_count": 2,
   "id": "e029087c-8362-4093-a27e-4e424309612f",
   "metadata": {},
   "outputs": [],
   "source": [
    "def print_stats(data, hist_bins=10, hist_size=(8,4)):\n",
    "    print('--- Statistics ----')\n",
    "    display(data.describe())\n",
    "    print('\\n')\n",
    "    print('--- Counting Unique Values ----')\n",
    "    display(data.value_counts())\n",
    "    print('\\n')\n",
    "    print('--- Basic Histogram ----')\n",
    "    data.hist(bins=hist_bins, figsize=hist_size)\n",
    "    plt.show()\n",
    "    \n",
    "def calculate_sus(data):\n",
    "    for i in range(len(data.columns)):\n",
    "        if i % 2:\n",
    "            data.iloc[:,i] = 7 - data.iloc[:,i]\n",
    "        else:\n",
    "            data.iloc[:,i] = data.iloc[:,i] - 1\n",
    "\n",
    "    data['Score'] = data.iloc[:,0:10].sum(axis=1)\n",
    "    data['Score 100'] = data['Score'] * (100/60)\n",
    "    return data\n",
    "\n",
    "def confidence_interval_t(data, confidence_level=0.95):\n",
    "    return stats.t.interval(confidence_level, data.count()-1, data.mean(), data.sem())\n",
    "    \n",
    "def boxplot(data, labels=None, show_means=True, show_grid=True, x_ticks_rotation=0, y_major_locator=None, plt_size=None):  \n",
    "    if hasattr(data, 'columns'):\n",
    "        labels = data.columns\n",
    "        \n",
    "    fig, ax = plt.subplots(figsize=plt_size)\n",
    "    ax.boxplot(data, labels=labels, showmeans=show_means)\n",
    "    ax.grid(show_grid)\n",
    "    plt.xticks(rotation=x_ticks_rotation)\n",
    "    if y_major_locator is not None:\n",
    "        ax.yaxis.set_major_locator(y_major_locator)\n",
    "    \n",
    "    plt.show()\n",
    "    print('IQR:\\n', data.quantile(0.75) - data.quantile(0.25))\n",
    "    return ax"
   ]
  },
  {
   "cell_type": "markdown",
   "id": "aa62272c-096c-45f0-aa8b-7ea2d37e655f",
   "metadata": {},
   "source": [
    "## Load Excel"
   ]
  },
  {
   "cell_type": "code",
   "execution_count": 3,
   "id": "2a0b9129-7b01-45e7-866f-49be17ccd942",
   "metadata": {},
   "outputs": [],
   "source": [
    "data = pd.read_excel('data/userstudies/yanux-youtube-viewer-questionnaire-responses.xlsx', sheet_name=None)  "
   ]
  },
  {
   "cell_type": "code",
   "execution_count": 4,
   "id": "e9a3bb60-4b90-417a-bfd3-80f15f953012",
   "metadata": {},
   "outputs": [],
   "source": [
    "data_basic = data['Basic']\n",
    "#display(data_basic)"
   ]
  },
  {
   "cell_type": "markdown",
   "id": "4275b2b8-08f2-4aac-a641-8db004ab3090",
   "metadata": {},
   "source": [
    "### Age"
   ]
  },
  {
   "cell_type": "code",
   "execution_count": 5,
   "id": "3c8a6c6e-1568-415d-8558-183ae0924c9a",
   "metadata": {},
   "outputs": [
    {
     "name": "stdout",
     "output_type": "stream",
     "text": [
      "--- Statistics ----\n"
     ]
    },
    {
     "data": {
      "text/plain": [
       "count    15.000000\n",
       "mean     28.466667\n",
       "std       9.203002\n",
       "min      22.000000\n",
       "25%      24.000000\n",
       "50%      26.000000\n",
       "75%      29.500000\n",
       "max      59.000000\n",
       "Name: Age, dtype: float64"
      ]
     },
     "metadata": {},
     "output_type": "display_data"
    },
    {
     "name": "stdout",
     "output_type": "stream",
     "text": [
      "\n",
      "\n",
      "--- Counting Unique Values ----\n"
     ]
    },
    {
     "data": {
      "text/plain": [
       "22    3\n",
       "24    3\n",
       "33    2\n",
       "26    2\n",
       "25    1\n",
       "59    1\n",
       "28    1\n",
       "29    1\n",
       "30    1\n",
       "Name: Age, dtype: int64"
      ]
     },
     "metadata": {},
     "output_type": "display_data"
    },
    {
     "name": "stdout",
     "output_type": "stream",
     "text": [
      "\n",
      "\n",
      "--- Basic Histogram ----\n"
     ]
    },
    {
     "data": {
      "image/png": "[encoded data removed]",
      "text/plain": [
       "<Figure size 576x288 with 1 Axes>"
      ]
     },
     "metadata": {
      "needs_background": "light"
     },
     "output_type": "display_data"
    },
    {
     "name": "stdout",
     "output_type": "stream",
     "text": [
      "Population Standard Deviation:\n",
      "8.89094420682578\n"
     ]
    }
   ],
   "source": [
    "data_basic_age = data_basic['Age']\n",
    "print_stats(data_basic_age, hist_bins=20)\n",
    "print('Population Standard Deviation:')\n",
    "print(data_basic_age.std(ddof=0))"
   ]
  },
  {
   "cell_type": "markdown",
   "id": "e3aee2bd-052a-4b77-bc35-3b89a948a6b9",
   "metadata": {},
   "source": [
    "### Gender"
   ]
  },
  {
   "cell_type": "code",
   "execution_count": 6,
   "id": "c111c8a4-a336-46f9-9625-c345097683e3",
   "metadata": {},
   "outputs": [
    {
     "name": "stdout",
     "output_type": "stream",
     "text": [
      "--- Statistics ----\n"
     ]
    },
    {
     "data": {
      "text/plain": [
       "count       15\n",
       "unique       2\n",
       "top       Male\n",
       "freq         9\n",
       "Name: Genre, dtype: object"
      ]
     },
     "metadata": {},
     "output_type": "display_data"
    },
    {
     "name": "stdout",
     "output_type": "stream",
     "text": [
      "\n",
      "\n",
      "--- Counting Unique Values ----\n"
     ]
    },
    {
     "data": {
      "text/plain": [
       "Male      9\n",
       "Female    6\n",
       "Name: Genre, dtype: int64"
      ]
     },
     "metadata": {},
     "output_type": "display_data"
    },
    {
     "name": "stdout",
     "output_type": "stream",
     "text": [
      "\n",
      "\n",
      "--- Basic Histogram ----\n"
     ]
    },
    {
     "data": {
      "image/png": "[encoded data removed]",
      "text/plain": [
       "<Figure size 576x288 with 1 Axes>"
      ]
     },
     "metadata": {
      "needs_background": "light"
     },
     "output_type": "display_data"
    }
   ],
   "source": [
    "#TODO: This should be Gender. I don't know why I called \"Genre\"\n",
    "data_basic_genre = data_basic['Genre']\n",
    "print_stats(data_basic_genre)"
   ]
  },
  {
   "cell_type": "markdown",
   "id": "ad1008c3-6bd5-4fa6-8c3f-ba870ccec224",
   "metadata": {},
   "source": [
    "### Education"
   ]
  },
  {
   "cell_type": "code",
   "execution_count": 7,
   "id": "47d5da41-b90e-457c-b9fb-83cebaed6941",
   "metadata": {},
   "outputs": [
    {
     "name": "stdout",
     "output_type": "stream",
     "text": [
      "--- Statistics ----\n"
     ]
    },
    {
     "data": {
      "text/plain": [
       "count                    15\n",
       "unique                    4\n",
       "top       Bachelor's Degree\n",
       "freq                      8\n",
       "Name: Education, dtype: object"
      ]
     },
     "metadata": {},
     "output_type": "display_data"
    },
    {
     "name": "stdout",
     "output_type": "stream",
     "text": [
      "\n",
      "\n",
      "--- Counting Unique Values ----\n"
     ]
    },
    {
     "data": {
      "text/plain": [
       "Bachelor's Degree      8\n",
       "Master's Degree        5\n",
       "Doctoral Degree        1\n",
       "Secondary Education    1\n",
       "Name: Education, dtype: int64"
      ]
     },
     "metadata": {},
     "output_type": "display_data"
    },
    {
     "name": "stdout",
     "output_type": "stream",
     "text": [
      "\n",
      "\n",
      "--- Basic Histogram ----\n"
     ]
    },
    {
     "data": {
      "image/png": "[encoded data removed]",
      "text/plain": [
       "<Figure size 576x288 with 1 Axes>"
      ]
     },
     "metadata": {
      "needs_background": "light"
     },
     "output_type": "display_data"
    }
   ],
   "source": [
    "data_basic_education = data_basic['Education']\n",
    "print_stats(data_basic_education)"
   ]
  },
  {
   "cell_type": "markdown",
   "id": "850e2993-4921-456a-9570-f267e3077d3f",
   "metadata": {},
   "source": [
    "### Type of Devices"
   ]
  },
  {
   "cell_type": "code",
   "execution_count": 8,
   "id": "b621d09d-77e3-4126-b8da-0c03a76f2e0e",
   "metadata": {},
   "outputs": [
    {
     "name": "stdout",
     "output_type": "stream",
     "text": [
      "--- Statistics ----\n"
     ]
    },
    {
     "data": {
      "text/plain": [
       "count                                                    15\n",
       "unique                                                   10\n",
       "top       [Desktop computer, Laptop computer, Smartphone...\n",
       "freq                                                      4\n",
       "Name: Type of Devices, dtype: object"
      ]
     },
     "metadata": {},
     "output_type": "display_data"
    }
   ],
   "source": [
    "data_basic_type_of_devices = data_basic['Type of Devices'].map(lambda x: [i.strip() for i in x.split(\",\")])\n",
    "print('--- Statistics ----')\n",
    "display(data_basic_type_of_devices.describe())\n",
    "#print('--- Basic Histogram ----')\n",
    "#data_basic_type_of_devices.hist()"
   ]
  },
  {
   "cell_type": "code",
   "execution_count": 9,
   "id": "01365828-d88e-43ea-b963-25b42f4c98a6",
   "metadata": {},
   "outputs": [
    {
     "name": "stdout",
     "output_type": "stream",
     "text": [
      "--- Statistics ----\n"
     ]
    },
    {
     "data": {
      "text/plain": [
       "count    15.000000\n",
       "mean      4.266667\n",
       "std       1.486447\n",
       "min       2.000000\n",
       "25%       3.500000\n",
       "50%       5.000000\n",
       "75%       5.000000\n",
       "max       7.000000\n",
       "Name: Type of Devices, dtype: float64"
      ]
     },
     "metadata": {},
     "output_type": "display_data"
    },
    {
     "name": "stdout",
     "output_type": "stream",
     "text": [
      "\n",
      "\n",
      "--- Counting Unique Values ----\n"
     ]
    },
    {
     "data": {
      "text/plain": [
       "5    6\n",
       "2    3\n",
       "4    3\n",
       "3    1\n",
       "6    1\n",
       "7    1\n",
       "Name: Type of Devices, dtype: int64"
      ]
     },
     "metadata": {},
     "output_type": "display_data"
    },
    {
     "name": "stdout",
     "output_type": "stream",
     "text": [
      "\n",
      "\n",
      "--- Basic Histogram ----\n"
     ]
    },
    {
     "data": {
      "image/png": "[encoded data removed]",
      "text/plain": [
       "<Figure size 576x288 with 1 Axes>"
      ]
     },
     "metadata": {
      "needs_background": "light"
     },
     "output_type": "display_data"
    }
   ],
   "source": [
    "data_number_of_devices = data_basic_type_of_devices.apply(len)\n",
    "print_stats(data_number_of_devices)"
   ]
  },
  {
   "cell_type": "code",
   "execution_count": 10,
   "id": "4cdb9674-a75e-415e-b8ab-6433a5a689c5",
   "metadata": {},
   "outputs": [
    {
     "name": "stdout",
     "output_type": "stream",
     "text": [
      "--- Statistics ----\n"
     ]
    },
    {
     "data": {
      "text/plain": [
       "count    15.000000\n",
       "mean      5.933333\n",
       "std       1.334523\n",
       "min       2.000000\n",
       "25%       5.500000\n",
       "50%       6.000000\n",
       "75%       7.000000\n",
       "max       7.000000\n",
       "Name: Number of Devices, dtype: float64"
      ]
     },
     "metadata": {},
     "output_type": "display_data"
    },
    {
     "name": "stdout",
     "output_type": "stream",
     "text": [
      "\n",
      "\n",
      "--- Counting Unique Values ----\n"
     ]
    },
    {
     "data": {
      "text/plain": [
       "7    6\n",
       "6    5\n",
       "5    3\n",
       "2    1\n",
       "Name: Number of Devices, dtype: int64"
      ]
     },
     "metadata": {},
     "output_type": "display_data"
    },
    {
     "name": "stdout",
     "output_type": "stream",
     "text": [
      "\n",
      "\n",
      "--- Basic Histogram ----\n"
     ]
    },
    {
     "data": {
      "image/png": "[encoded data removed]",
      "text/plain": [
       "<Figure size 576x288 with 1 Axes>"
      ]
     },
     "metadata": {
      "needs_background": "light"
     },
     "output_type": "display_data"
    },
    {
     "name": "stdout",
     "output_type": "stream",
     "text": [
      "Population Standard Deviation:\n",
      "1.2892719737209146\n"
     ]
    }
   ],
   "source": [
    "data_basic_multiple_devices = data_basic['Number of Devices']\n",
    "print_stats(data_basic_multiple_devices)\n",
    "print('Population Standard Deviation:')\n",
    "print(data_basic_multiple_devices.std(ddof=0))"
   ]
  },
  {
   "cell_type": "markdown",
   "id": "0917d73a-21fe-4419-90e2-7739ae2f8431",
   "metadata": {},
   "source": [
    "## SUS"
   ]
  },
  {
   "cell_type": "markdown",
   "id": "e3161558-3f47-448b-b241-3f36bf3695ae",
   "metadata": {},
   "source": [
    "#### Questions\n",
    "\n",
    "1. I think that I would like to use this system frequently.\n",
    "2. I found the system unnecessarily complex.\n",
    "3. I thought the system was easy to use.\n",
    "4. I think that I would need the support of a technical person to be able to use this system.\n",
    "5. I found the various functions in this system were well integrated.\n",
    "6. I thought there was too much inconsistency in this system.\n",
    "7. I would imagine that most people would learn to use this system very quickly.\n",
    "8. I found the system very cumbersome to use.\n",
    "9. I felt very confident using the system.\n",
    "10. I needed to learn a lot of things before I could get going with this system."
   ]
  },
  {
   "cell_type": "code",
   "execution_count": 11,
   "id": "9c551255-d309-424e-bb5f-728ca7fcad25",
   "metadata": {},
   "outputs": [
    {
     "data": {
      "text/html": [
       "<div>\n",
       "<style scoped>\n",
       "    .dataframe tbody tr th:only-of-type {\n",
       "        vertical-align: middle;\n",
       "    }\n",
       "\n",
       "    .dataframe tbody tr th {\n",
       "        vertical-align: top;\n",
       "    }\n",
       "\n",
       "    .dataframe thead th {\n",
       "        text-align: right;\n",
       "    }\n",
       "</style>\n",
       "<table border=\"1\" class=\"dataframe\">\n",
       "  <thead>\n",
       "    <tr style=\"text-align: right;\">\n",
       "      <th></th>\n",
       "      <th>SUS1</th>\n",
       "      <th>SUS2</th>\n",
       "      <th>SUS3</th>\n",
       "      <th>SUS4</th>\n",
       "      <th>SUS5</th>\n",
       "      <th>SUS6</th>\n",
       "      <th>SUS7</th>\n",
       "      <th>SUS8</th>\n",
       "      <th>SUS9</th>\n",
       "      <th>SUS10</th>\n",
       "      <th>Score</th>\n",
       "      <th>Score 100</th>\n",
       "    </tr>\n",
       "  </thead>\n",
       "  <tbody>\n",
       "    <tr>\n",
       "      <th>0</th>\n",
       "      <td>6</td>\n",
       "      <td>6</td>\n",
       "      <td>6</td>\n",
       "      <td>6</td>\n",
       "      <td>5</td>\n",
       "      <td>6</td>\n",
       "      <td>6</td>\n",
       "      <td>6</td>\n",
       "      <td>6</td>\n",
       "      <td>6</td>\n",
       "      <td>59</td>\n",
       "      <td>98.333333</td>\n",
       "    </tr>\n",
       "    <tr>\n",
       "      <th>1</th>\n",
       "      <td>5</td>\n",
       "      <td>6</td>\n",
       "      <td>6</td>\n",
       "      <td>6</td>\n",
       "      <td>6</td>\n",
       "      <td>6</td>\n",
       "      <td>6</td>\n",
       "      <td>6</td>\n",
       "      <td>6</td>\n",
       "      <td>6</td>\n",
       "      <td>59</td>\n",
       "      <td>98.333333</td>\n",
       "    </tr>\n",
       "    <tr>\n",
       "      <th>2</th>\n",
       "      <td>6</td>\n",
       "      <td>6</td>\n",
       "      <td>6</td>\n",
       "      <td>6</td>\n",
       "      <td>5</td>\n",
       "      <td>6</td>\n",
       "      <td>6</td>\n",
       "      <td>6</td>\n",
       "      <td>6</td>\n",
       "      <td>5</td>\n",
       "      <td>58</td>\n",
       "      <td>96.666667</td>\n",
       "    </tr>\n",
       "    <tr>\n",
       "      <th>3</th>\n",
       "      <td>5</td>\n",
       "      <td>6</td>\n",
       "      <td>6</td>\n",
       "      <td>6</td>\n",
       "      <td>5</td>\n",
       "      <td>6</td>\n",
       "      <td>6</td>\n",
       "      <td>6</td>\n",
       "      <td>6</td>\n",
       "      <td>6</td>\n",
       "      <td>58</td>\n",
       "      <td>96.666667</td>\n",
       "    </tr>\n",
       "    <tr>\n",
       "      <th>4</th>\n",
       "      <td>5</td>\n",
       "      <td>5</td>\n",
       "      <td>6</td>\n",
       "      <td>6</td>\n",
       "      <td>5</td>\n",
       "      <td>5</td>\n",
       "      <td>6</td>\n",
       "      <td>6</td>\n",
       "      <td>5</td>\n",
       "      <td>6</td>\n",
       "      <td>55</td>\n",
       "      <td>91.666667</td>\n",
       "    </tr>\n",
       "    <tr>\n",
       "      <th>5</th>\n",
       "      <td>5</td>\n",
       "      <td>6</td>\n",
       "      <td>6</td>\n",
       "      <td>6</td>\n",
       "      <td>5</td>\n",
       "      <td>6</td>\n",
       "      <td>6</td>\n",
       "      <td>6</td>\n",
       "      <td>5</td>\n",
       "      <td>6</td>\n",
       "      <td>57</td>\n",
       "      <td>95.000000</td>\n",
       "    </tr>\n",
       "    <tr>\n",
       "      <th>6</th>\n",
       "      <td>6</td>\n",
       "      <td>6</td>\n",
       "      <td>6</td>\n",
       "      <td>5</td>\n",
       "      <td>6</td>\n",
       "      <td>1</td>\n",
       "      <td>6</td>\n",
       "      <td>4</td>\n",
       "      <td>3</td>\n",
       "      <td>6</td>\n",
       "      <td>49</td>\n",
       "      <td>81.666667</td>\n",
       "    </tr>\n",
       "    <tr>\n",
       "      <th>7</th>\n",
       "      <td>5</td>\n",
       "      <td>6</td>\n",
       "      <td>5</td>\n",
       "      <td>6</td>\n",
       "      <td>5</td>\n",
       "      <td>5</td>\n",
       "      <td>5</td>\n",
       "      <td>5</td>\n",
       "      <td>5</td>\n",
       "      <td>6</td>\n",
       "      <td>53</td>\n",
       "      <td>88.333333</td>\n",
       "    </tr>\n",
       "    <tr>\n",
       "      <th>8</th>\n",
       "      <td>4</td>\n",
       "      <td>5</td>\n",
       "      <td>4</td>\n",
       "      <td>5</td>\n",
       "      <td>4</td>\n",
       "      <td>5</td>\n",
       "      <td>5</td>\n",
       "      <td>6</td>\n",
       "      <td>4</td>\n",
       "      <td>5</td>\n",
       "      <td>47</td>\n",
       "      <td>78.333333</td>\n",
       "    </tr>\n",
       "    <tr>\n",
       "      <th>9</th>\n",
       "      <td>6</td>\n",
       "      <td>6</td>\n",
       "      <td>6</td>\n",
       "      <td>6</td>\n",
       "      <td>6</td>\n",
       "      <td>6</td>\n",
       "      <td>6</td>\n",
       "      <td>6</td>\n",
       "      <td>6</td>\n",
       "      <td>6</td>\n",
       "      <td>60</td>\n",
       "      <td>100.000000</td>\n",
       "    </tr>\n",
       "    <tr>\n",
       "      <th>10</th>\n",
       "      <td>6</td>\n",
       "      <td>6</td>\n",
       "      <td>5</td>\n",
       "      <td>6</td>\n",
       "      <td>5</td>\n",
       "      <td>5</td>\n",
       "      <td>5</td>\n",
       "      <td>5</td>\n",
       "      <td>4</td>\n",
       "      <td>6</td>\n",
       "      <td>53</td>\n",
       "      <td>88.333333</td>\n",
       "    </tr>\n",
       "    <tr>\n",
       "      <th>11</th>\n",
       "      <td>6</td>\n",
       "      <td>6</td>\n",
       "      <td>5</td>\n",
       "      <td>6</td>\n",
       "      <td>5</td>\n",
       "      <td>6</td>\n",
       "      <td>6</td>\n",
       "      <td>6</td>\n",
       "      <td>5</td>\n",
       "      <td>6</td>\n",
       "      <td>57</td>\n",
       "      <td>95.000000</td>\n",
       "    </tr>\n",
       "    <tr>\n",
       "      <th>12</th>\n",
       "      <td>5</td>\n",
       "      <td>5</td>\n",
       "      <td>5</td>\n",
       "      <td>6</td>\n",
       "      <td>3</td>\n",
       "      <td>5</td>\n",
       "      <td>5</td>\n",
       "      <td>6</td>\n",
       "      <td>6</td>\n",
       "      <td>6</td>\n",
       "      <td>52</td>\n",
       "      <td>86.666667</td>\n",
       "    </tr>\n",
       "    <tr>\n",
       "      <th>13</th>\n",
       "      <td>6</td>\n",
       "      <td>6</td>\n",
       "      <td>6</td>\n",
       "      <td>6</td>\n",
       "      <td>5</td>\n",
       "      <td>6</td>\n",
       "      <td>5</td>\n",
       "      <td>6</td>\n",
       "      <td>5</td>\n",
       "      <td>6</td>\n",
       "      <td>57</td>\n",
       "      <td>95.000000</td>\n",
       "    </tr>\n",
       "    <tr>\n",
       "      <th>14</th>\n",
       "      <td>4</td>\n",
       "      <td>6</td>\n",
       "      <td>5</td>\n",
       "      <td>6</td>\n",
       "      <td>5</td>\n",
       "      <td>6</td>\n",
       "      <td>4</td>\n",
       "      <td>5</td>\n",
       "      <td>6</td>\n",
       "      <td>6</td>\n",
       "      <td>53</td>\n",
       "      <td>88.333333</td>\n",
       "    </tr>\n",
       "  </tbody>\n",
       "</table>\n",
       "</div>"
      ],
      "text/plain": [
       "    SUS1  SUS2  SUS3  SUS4  SUS5  SUS6  SUS7  SUS8  SUS9  SUS10  Score  \\\n",
       "0      6     6     6     6     5     6     6     6     6      6     59   \n",
       "1      5     6     6     6     6     6     6     6     6      6     59   \n",
       "2      6     6     6     6     5     6     6     6     6      5     58   \n",
       "3      5     6     6     6     5     6     6     6     6      6     58   \n",
       "4      5     5     6     6     5     5     6     6     5      6     55   \n",
       "5      5     6     6     6     5     6     6     6     5      6     57   \n",
       "6      6     6     6     5     6     1     6     4     3      6     49   \n",
       "7      5     6     5     6     5     5     5     5     5      6     53   \n",
       "8      4     5     4     5     4     5     5     6     4      5     47   \n",
       "9      6     6     6     6     6     6     6     6     6      6     60   \n",
       "10     6     6     5     6     5     5     5     5     4      6     53   \n",
       "11     6     6     5     6     5     6     6     6     5      6     57   \n",
       "12     5     5     5     6     3     5     5     6     6      6     52   \n",
       "13     6     6     6     6     5     6     5     6     5      6     57   \n",
       "14     4     6     5     6     5     6     4     5     6      6     53   \n",
       "\n",
       "     Score 100  \n",
       "0    98.333333  \n",
       "1    98.333333  \n",
       "2    96.666667  \n",
       "3    96.666667  \n",
       "4    91.666667  \n",
       "5    95.000000  \n",
       "6    81.666667  \n",
       "7    88.333333  \n",
       "8    78.333333  \n",
       "9   100.000000  \n",
       "10   88.333333  \n",
       "11   95.000000  \n",
       "12   86.666667  \n",
       "13   95.000000  \n",
       "14   88.333333  "
      ]
     },
     "execution_count": 11,
     "metadata": {},
     "output_type": "execute_result"
    }
   ],
   "source": [
    "data_sus = calculate_sus(data['SUS'].copy().dropna())\n",
    "data_sus"
   ]
  },
  {
   "cell_type": "markdown",
   "id": "1ad025bf-32c1-41a0-aecc-8ea7e7a90453",
   "metadata": {},
   "source": [
    "#### Mean Score 100"
   ]
  },
  {
   "cell_type": "code",
   "execution_count": 12,
   "id": "a67d2fb3-1c61-46a8-a696-31a1670bb128",
   "metadata": {},
   "outputs": [
    {
     "name": "stdout",
     "output_type": "stream",
     "text": [
      "91.8888888888889\n"
     ]
    }
   ],
   "source": [
    "print(data_sus['Score 100'].mean())"
   ]
  },
  {
   "cell_type": "markdown",
   "id": "db2df121-c68c-40a3-b961-392a116d0730",
   "metadata": {},
   "source": [
    "#### General Stats"
   ]
  },
  {
   "cell_type": "code",
   "execution_count": 13,
   "id": "0deb0c14-70ec-4b52-a8e8-6500113b8630",
   "metadata": {},
   "outputs": [
    {
     "data": {
      "text/html": [
       "<div>\n",
       "<style scoped>\n",
       "    .dataframe tbody tr th:only-of-type {\n",
       "        vertical-align: middle;\n",
       "    }\n",
       "\n",
       "    .dataframe tbody tr th {\n",
       "        vertical-align: top;\n",
       "    }\n",
       "\n",
       "    .dataframe thead th {\n",
       "        text-align: right;\n",
       "    }\n",
       "</style>\n",
       "<table border=\"1\" class=\"dataframe\">\n",
       "  <thead>\n",
       "    <tr style=\"text-align: right;\">\n",
       "      <th></th>\n",
       "      <th>SUS1</th>\n",
       "      <th>SUS2</th>\n",
       "      <th>SUS3</th>\n",
       "      <th>SUS4</th>\n",
       "      <th>SUS5</th>\n",
       "      <th>SUS6</th>\n",
       "      <th>SUS7</th>\n",
       "      <th>SUS8</th>\n",
       "      <th>SUS9</th>\n",
       "      <th>SUS10</th>\n",
       "      <th>Score</th>\n",
       "      <th>Score 100</th>\n",
       "    </tr>\n",
       "  </thead>\n",
       "  <tbody>\n",
       "    <tr>\n",
       "      <th>count</th>\n",
       "      <td>15.000000</td>\n",
       "      <td>15.000000</td>\n",
       "      <td>15.000000</td>\n",
       "      <td>15.000000</td>\n",
       "      <td>15.000000</td>\n",
       "      <td>15.000000</td>\n",
       "      <td>15.000000</td>\n",
       "      <td>15.000000</td>\n",
       "      <td>15.000000</td>\n",
       "      <td>15.000000</td>\n",
       "      <td>15.000000</td>\n",
       "      <td>15.000000</td>\n",
       "    </tr>\n",
       "    <tr>\n",
       "      <th>mean</th>\n",
       "      <td>5.333333</td>\n",
       "      <td>5.800000</td>\n",
       "      <td>5.533333</td>\n",
       "      <td>5.866667</td>\n",
       "      <td>5.000000</td>\n",
       "      <td>5.333333</td>\n",
       "      <td>5.533333</td>\n",
       "      <td>5.666667</td>\n",
       "      <td>5.200000</td>\n",
       "      <td>5.866667</td>\n",
       "      <td>55.133333</td>\n",
       "      <td>91.888889</td>\n",
       "    </tr>\n",
       "    <tr>\n",
       "      <th>std</th>\n",
       "      <td>0.723747</td>\n",
       "      <td>0.414039</td>\n",
       "      <td>0.639940</td>\n",
       "      <td>0.351866</td>\n",
       "      <td>0.755929</td>\n",
       "      <td>1.290994</td>\n",
       "      <td>0.639940</td>\n",
       "      <td>0.617213</td>\n",
       "      <td>0.941124</td>\n",
       "      <td>0.351866</td>\n",
       "      <td>3.852025</td>\n",
       "      <td>6.420041</td>\n",
       "    </tr>\n",
       "    <tr>\n",
       "      <th>min</th>\n",
       "      <td>4.000000</td>\n",
       "      <td>5.000000</td>\n",
       "      <td>4.000000</td>\n",
       "      <td>5.000000</td>\n",
       "      <td>3.000000</td>\n",
       "      <td>1.000000</td>\n",
       "      <td>4.000000</td>\n",
       "      <td>4.000000</td>\n",
       "      <td>3.000000</td>\n",
       "      <td>5.000000</td>\n",
       "      <td>47.000000</td>\n",
       "      <td>78.333333</td>\n",
       "    </tr>\n",
       "    <tr>\n",
       "      <th>25%</th>\n",
       "      <td>5.000000</td>\n",
       "      <td>6.000000</td>\n",
       "      <td>5.000000</td>\n",
       "      <td>6.000000</td>\n",
       "      <td>5.000000</td>\n",
       "      <td>5.000000</td>\n",
       "      <td>5.000000</td>\n",
       "      <td>5.500000</td>\n",
       "      <td>5.000000</td>\n",
       "      <td>6.000000</td>\n",
       "      <td>53.000000</td>\n",
       "      <td>88.333333</td>\n",
       "    </tr>\n",
       "    <tr>\n",
       "      <th>50%</th>\n",
       "      <td>5.000000</td>\n",
       "      <td>6.000000</td>\n",
       "      <td>6.000000</td>\n",
       "      <td>6.000000</td>\n",
       "      <td>5.000000</td>\n",
       "      <td>6.000000</td>\n",
       "      <td>6.000000</td>\n",
       "      <td>6.000000</td>\n",
       "      <td>5.000000</td>\n",
       "      <td>6.000000</td>\n",
       "      <td>57.000000</td>\n",
       "      <td>95.000000</td>\n",
       "    </tr>\n",
       "    <tr>\n",
       "      <th>75%</th>\n",
       "      <td>6.000000</td>\n",
       "      <td>6.000000</td>\n",
       "      <td>6.000000</td>\n",
       "      <td>6.000000</td>\n",
       "      <td>5.000000</td>\n",
       "      <td>6.000000</td>\n",
       "      <td>6.000000</td>\n",
       "      <td>6.000000</td>\n",
       "      <td>6.000000</td>\n",
       "      <td>6.000000</td>\n",
       "      <td>58.000000</td>\n",
       "      <td>96.666667</td>\n",
       "    </tr>\n",
       "    <tr>\n",
       "      <th>max</th>\n",
       "      <td>6.000000</td>\n",
       "      <td>6.000000</td>\n",
       "      <td>6.000000</td>\n",
       "      <td>6.000000</td>\n",
       "      <td>6.000000</td>\n",
       "      <td>6.000000</td>\n",
       "      <td>6.000000</td>\n",
       "      <td>6.000000</td>\n",
       "      <td>6.000000</td>\n",
       "      <td>6.000000</td>\n",
       "      <td>60.000000</td>\n",
       "      <td>100.000000</td>\n",
       "    </tr>\n",
       "  </tbody>\n",
       "</table>\n",
       "</div>"
      ],
      "text/plain": [
       "            SUS1       SUS2       SUS3       SUS4       SUS5       SUS6  \\\n",
       "count  15.000000  15.000000  15.000000  15.000000  15.000000  15.000000   \n",
       "mean    5.333333   5.800000   5.533333   5.866667   5.000000   5.333333   \n",
       "std     0.723747   0.414039   0.639940   0.351866   0.755929   1.290994   \n",
       "min     4.000000   5.000000   4.000000   5.000000   3.000000   1.000000   \n",
       "25%     5.000000   6.000000   5.000000   6.000000   5.000000   5.000000   \n",
       "50%     5.000000   6.000000   6.000000   6.000000   5.000000   6.000000   \n",
       "75%     6.000000   6.000000   6.000000   6.000000   5.000000   6.000000   \n",
       "max     6.000000   6.000000   6.000000   6.000000   6.000000   6.000000   \n",
       "\n",
       "            SUS7       SUS8       SUS9      SUS10      Score   Score 100  \n",
       "count  15.000000  15.000000  15.000000  15.000000  15.000000   15.000000  \n",
       "mean    5.533333   5.666667   5.200000   5.866667  55.133333   91.888889  \n",
       "std     0.639940   0.617213   0.941124   0.351866   3.852025    6.420041  \n",
       "min     4.000000   4.000000   3.000000   5.000000  47.000000   78.333333  \n",
       "25%     5.000000   5.500000   5.000000   6.000000  53.000000   88.333333  \n",
       "50%     6.000000   6.000000   5.000000   6.000000  57.000000   95.000000  \n",
       "75%     6.000000   6.000000   6.000000   6.000000  58.000000   96.666667  \n",
       "max     6.000000   6.000000   6.000000   6.000000  60.000000  100.000000  "
      ]
     },
     "execution_count": 13,
     "metadata": {},
     "output_type": "execute_result"
    }
   ],
   "source": [
    "data_sus.describe()\n",
    "#print_stats(data_sus)"
   ]
  },
  {
   "cell_type": "code",
   "execution_count": 14,
   "id": "e6a2fd7d-3910-42ff-ac6d-e6e196467216",
   "metadata": {},
   "outputs": [
    {
     "data": {
      "image/png": "[encoded data removed]",
      "text/plain": [
       "<Figure size 576x432 with 1 Axes>"
      ]
     },
     "metadata": {
      "needs_background": "light"
     },
     "output_type": "display_data"
    }
   ],
   "source": [
    "data_sus_res = data_sus.iloc[:,:10]\n",
    "ax = plot_likert.plot_likert(pd.DataFrame(data_sus_res), np.arange(1,8), plot_percentage=True, colors=plot_likert.colors.likert7, figsize=(8,6));\n",
    "ax.figure.savefig('out/yanux-youtube-viewer-sus.pdf', bbox_inches='tight')"
   ]
  },
  {
   "cell_type": "markdown",
   "id": "f6212d4b-a59f-4df9-a5d7-7a3e8f1b8722",
   "metadata": {},
   "source": [
    "#### Confidence Interval"
   ]
  },
  {
   "cell_type": "code",
   "execution_count": 15,
   "id": "db50f7b1-6b86-49fa-acb4-b638c4390e66",
   "metadata": {},
   "outputs": [
    {
     "data": {
      "text/plain": [
       "(88.33358848104832, 95.44418929672948)"
      ]
     },
     "execution_count": 15,
     "metadata": {},
     "output_type": "execute_result"
    }
   ],
   "source": [
    "confidence_interval_t(data_sus['Score 100'])"
   ]
  },
  {
   "cell_type": "markdown",
   "id": "76622639-249a-43cd-bc62-5a39a77ec235",
   "metadata": {},
   "source": [
    "#### Per-question Stats"
   ]
  },
  {
   "cell_type": "code",
   "execution_count": 16,
   "id": "1b8fc199-dd66-4571-af3d-b391976406a5",
   "metadata": {},
   "outputs": [],
   "source": [
    "##Uncomment if you need these stats\n",
    "#for column in data_sus:\n",
    "    #print_stats(data_sus[column])"
   ]
  },
  {
   "cell_type": "markdown",
   "id": "428d1bbb-de38-4c0d-bc7f-9d8eca8edd64",
   "metadata": {},
   "source": [
    "## NPS"
   ]
  },
  {
   "cell_type": "code",
   "execution_count": 17,
   "id": "a6224268-ec0f-4faa-8e94-2122e3e66c7f",
   "metadata": {},
   "outputs": [
    {
     "data": {
      "text/html": [
       "<div>\n",
       "<style scoped>\n",
       "    .dataframe tbody tr th:only-of-type {\n",
       "        vertical-align: middle;\n",
       "    }\n",
       "\n",
       "    .dataframe tbody tr th {\n",
       "        vertical-align: top;\n",
       "    }\n",
       "\n",
       "    .dataframe thead th {\n",
       "        text-align: right;\n",
       "    }\n",
       "</style>\n",
       "<table border=\"1\" class=\"dataframe\">\n",
       "  <thead>\n",
       "    <tr style=\"text-align: right;\">\n",
       "      <th></th>\n",
       "      <th>NPS</th>\n",
       "    </tr>\n",
       "  </thead>\n",
       "  <tbody>\n",
       "    <tr>\n",
       "      <th>0</th>\n",
       "      <td>10</td>\n",
       "    </tr>\n",
       "    <tr>\n",
       "      <th>1</th>\n",
       "      <td>10</td>\n",
       "    </tr>\n",
       "    <tr>\n",
       "      <th>2</th>\n",
       "      <td>10</td>\n",
       "    </tr>\n",
       "    <tr>\n",
       "      <th>3</th>\n",
       "      <td>8</td>\n",
       "    </tr>\n",
       "    <tr>\n",
       "      <th>4</th>\n",
       "      <td>9</td>\n",
       "    </tr>\n",
       "    <tr>\n",
       "      <th>5</th>\n",
       "      <td>7</td>\n",
       "    </tr>\n",
       "    <tr>\n",
       "      <th>6</th>\n",
       "      <td>10</td>\n",
       "    </tr>\n",
       "    <tr>\n",
       "      <th>7</th>\n",
       "      <td>9</td>\n",
       "    </tr>\n",
       "    <tr>\n",
       "      <th>8</th>\n",
       "      <td>7</td>\n",
       "    </tr>\n",
       "    <tr>\n",
       "      <th>9</th>\n",
       "      <td>10</td>\n",
       "    </tr>\n",
       "    <tr>\n",
       "      <th>10</th>\n",
       "      <td>9</td>\n",
       "    </tr>\n",
       "    <tr>\n",
       "      <th>11</th>\n",
       "      <td>10</td>\n",
       "    </tr>\n",
       "    <tr>\n",
       "      <th>12</th>\n",
       "      <td>8</td>\n",
       "    </tr>\n",
       "    <tr>\n",
       "      <th>13</th>\n",
       "      <td>9</td>\n",
       "    </tr>\n",
       "    <tr>\n",
       "      <th>14</th>\n",
       "      <td>8</td>\n",
       "    </tr>\n",
       "  </tbody>\n",
       "</table>\n",
       "</div>"
      ],
      "text/plain": [
       "    NPS\n",
       "0    10\n",
       "1    10\n",
       "2    10\n",
       "3     8\n",
       "4     9\n",
       "5     7\n",
       "6    10\n",
       "7     9\n",
       "8     7\n",
       "9    10\n",
       "10    9\n",
       "11   10\n",
       "12    8\n",
       "13    9\n",
       "14    8"
      ]
     },
     "execution_count": 17,
     "metadata": {},
     "output_type": "execute_result"
    }
   ],
   "source": [
    "data_nps = data['NPS'].copy().dropna()\n",
    "data_nps"
   ]
  },
  {
   "cell_type": "markdown",
   "id": "9eed8a6f-5c31-445d-afd3-f466c8f4dcc6",
   "metadata": {},
   "source": [
    "### Calculate NPS"
   ]
  },
  {
   "cell_type": "code",
   "execution_count": 18,
   "id": "5952cdfe-8608-4624-a6af-ef1681da67e2",
   "metadata": {},
   "outputs": [
    {
     "name": "stdout",
     "output_type": "stream",
     "text": [
      "NPS Count 15\n",
      "NPS Promoters 10\n",
      "NPS Detractors 0\n",
      "NPS Promoters (Percentage) 66.66666666666666\n",
      "NPS Detractors (Percentage) 0.0\n"
     ]
    }
   ],
   "source": [
    "nps_count = data_nps['NPS'].count()\n",
    "nps_promoters = data_nps['NPS'][data_nps['NPS'] >= 9].count()\n",
    "nps_detractors = data_nps['NPS'][data_nps['NPS'] <= 6].count()\n",
    "\n",
    "nps_promoters_per = nps_promoters/nps_count*100\n",
    "nps_detractors_per = nps_detractors/nps_count*100\n",
    "\n",
    "nps_score = nps_promoters_per - nps_detractors_per\n",
    "print('NPS Count', nps_count)\n",
    "print('NPS Promoters', nps_promoters)\n",
    "print('NPS Detractors', nps_detractors)\n",
    "print('NPS Promoters (Percentage)', nps_promoters_per)\n",
    "print('NPS Detractors (Percentage)', nps_detractors_per)"
   ]
  },
  {
   "cell_type": "markdown",
   "id": "9cbc11ec-2a2c-4220-892a-f521fc8ab091",
   "metadata": {},
   "source": [
    "### NPS Mean"
   ]
  },
  {
   "cell_type": "code",
   "execution_count": 19,
   "id": "2166ce23-4b9d-4c82-8bd6-f5cd98b14eb2",
   "metadata": {},
   "outputs": [
    {
     "name": "stdout",
     "output_type": "stream",
     "text": [
      "NPS    8.933333\n",
      "dtype: float64\n"
     ]
    }
   ],
   "source": [
    "print(data_nps.mean())"
   ]
  },
  {
   "cell_type": "markdown",
   "id": "26d95f45-0914-49d2-8312-c74494b957b4",
   "metadata": {},
   "source": [
    "#### General Stats"
   ]
  },
  {
   "cell_type": "code",
   "execution_count": 20,
   "id": "685f08a5-5226-4c5b-a8f4-a05785b00a72",
   "metadata": {},
   "outputs": [
    {
     "data": {
      "text/html": [
       "<div>\n",
       "<style scoped>\n",
       "    .dataframe tbody tr th:only-of-type {\n",
       "        vertical-align: middle;\n",
       "    }\n",
       "\n",
       "    .dataframe tbody tr th {\n",
       "        vertical-align: top;\n",
       "    }\n",
       "\n",
       "    .dataframe thead th {\n",
       "        text-align: right;\n",
       "    }\n",
       "</style>\n",
       "<table border=\"1\" class=\"dataframe\">\n",
       "  <thead>\n",
       "    <tr style=\"text-align: right;\">\n",
       "      <th></th>\n",
       "      <th>NPS</th>\n",
       "    </tr>\n",
       "  </thead>\n",
       "  <tbody>\n",
       "    <tr>\n",
       "      <th>count</th>\n",
       "      <td>15.000000</td>\n",
       "    </tr>\n",
       "    <tr>\n",
       "      <th>mean</th>\n",
       "      <td>8.933333</td>\n",
       "    </tr>\n",
       "    <tr>\n",
       "      <th>std</th>\n",
       "      <td>1.099784</td>\n",
       "    </tr>\n",
       "    <tr>\n",
       "      <th>min</th>\n",
       "      <td>7.000000</td>\n",
       "    </tr>\n",
       "    <tr>\n",
       "      <th>25%</th>\n",
       "      <td>8.000000</td>\n",
       "    </tr>\n",
       "    <tr>\n",
       "      <th>50%</th>\n",
       "      <td>9.000000</td>\n",
       "    </tr>\n",
       "    <tr>\n",
       "      <th>75%</th>\n",
       "      <td>10.000000</td>\n",
       "    </tr>\n",
       "    <tr>\n",
       "      <th>max</th>\n",
       "      <td>10.000000</td>\n",
       "    </tr>\n",
       "  </tbody>\n",
       "</table>\n",
       "</div>"
      ],
      "text/plain": [
       "             NPS\n",
       "count  15.000000\n",
       "mean    8.933333\n",
       "std     1.099784\n",
       "min     7.000000\n",
       "25%     8.000000\n",
       "50%     9.000000\n",
       "75%    10.000000\n",
       "max    10.000000"
      ]
     },
     "execution_count": 20,
     "metadata": {},
     "output_type": "execute_result"
    }
   ],
   "source": [
    "data_nps.describe()\n",
    "#print_stats(data_nps)"
   ]
  },
  {
   "cell_type": "markdown",
   "id": "d0dce02c-05f4-4026-9aff-d1b8193a1399",
   "metadata": {},
   "source": [
    "### Response Frequency"
   ]
  },
  {
   "cell_type": "code",
   "execution_count": 21,
   "id": "f71303b0-c117-4866-a128-f3e61c7f7cdd",
   "metadata": {},
   "outputs": [
    {
     "data": {
      "text/html": [
       "<div>\n",
       "<style scoped>\n",
       "    .dataframe tbody tr th:only-of-type {\n",
       "        vertical-align: middle;\n",
       "    }\n",
       "\n",
       "    .dataframe tbody tr th {\n",
       "        vertical-align: top;\n",
       "    }\n",
       "\n",
       "    .dataframe thead th {\n",
       "        text-align: right;\n",
       "    }\n",
       "</style>\n",
       "<table border=\"1\" class=\"dataframe\">\n",
       "  <thead>\n",
       "    <tr style=\"text-align: right;\">\n",
       "      <th></th>\n",
       "      <th>NPS</th>\n",
       "    </tr>\n",
       "  </thead>\n",
       "  <tbody>\n",
       "    <tr>\n",
       "      <th>7</th>\n",
       "      <td>13.333333</td>\n",
       "    </tr>\n",
       "    <tr>\n",
       "      <th>8</th>\n",
       "      <td>20.000000</td>\n",
       "    </tr>\n",
       "    <tr>\n",
       "      <th>9</th>\n",
       "      <td>26.666667</td>\n",
       "    </tr>\n",
       "    <tr>\n",
       "      <th>10</th>\n",
       "      <td>40.000000</td>\n",
       "    </tr>\n",
       "  </tbody>\n",
       "</table>\n",
       "</div>"
      ],
      "text/plain": [
       "          NPS\n",
       "7   13.333333\n",
       "8   20.000000\n",
       "9   26.666667\n",
       "10  40.000000"
      ]
     },
     "execution_count": 21,
     "metadata": {},
     "output_type": "execute_result"
    }
   ],
   "source": [
    "data_nps_freq = (data_nps.apply(pd.value_counts).fillna(0)/data_nps.count()*100).sort_index()\n",
    "data_nps_freq"
   ]
  },
  {
   "cell_type": "code",
   "execution_count": 22,
   "id": "5e350426-664f-4c09-9049-6b1dc75d15f3",
   "metadata": {},
   "outputs": [
    {
     "data": {
      "text/html": [
       "<div>\n",
       "<style scoped>\n",
       "    .dataframe tbody tr th:only-of-type {\n",
       "        vertical-align: middle;\n",
       "    }\n",
       "\n",
       "    .dataframe tbody tr th {\n",
       "        vertical-align: top;\n",
       "    }\n",
       "\n",
       "    .dataframe thead th {\n",
       "        text-align: right;\n",
       "    }\n",
       "</style>\n",
       "<table border=\"1\" class=\"dataframe\">\n",
       "  <thead>\n",
       "    <tr style=\"text-align: right;\">\n",
       "      <th></th>\n",
       "      <th>NPS</th>\n",
       "    </tr>\n",
       "  </thead>\n",
       "  <tbody>\n",
       "    <tr>\n",
       "      <th>7</th>\n",
       "      <td>13.33</td>\n",
       "    </tr>\n",
       "    <tr>\n",
       "      <th>8</th>\n",
       "      <td>20.00</td>\n",
       "    </tr>\n",
       "    <tr>\n",
       "      <th>9</th>\n",
       "      <td>26.67</td>\n",
       "    </tr>\n",
       "    <tr>\n",
       "      <th>10</th>\n",
       "      <td>40.00</td>\n",
       "    </tr>\n",
       "    <tr>\n",
       "      <th>median</th>\n",
       "      <td>9.00</td>\n",
       "    </tr>\n",
       "    <tr>\n",
       "      <th>mean</th>\n",
       "      <td>8.93</td>\n",
       "    </tr>\n",
       "    <tr>\n",
       "      <th>std</th>\n",
       "      <td>1.10</td>\n",
       "    </tr>\n",
       "  </tbody>\n",
       "</table>\n",
       "</div>"
      ],
      "text/plain": [
       "          NPS\n",
       "7       13.33\n",
       "8       20.00\n",
       "9       26.67\n",
       "10      40.00\n",
       "median   9.00\n",
       "mean     8.93\n",
       "std      1.10"
      ]
     },
     "execution_count": 22,
     "metadata": {},
     "output_type": "execute_result"
    }
   ],
   "source": [
    "data_nps_tab = data_nps_freq.copy()\n",
    "data_nps_tab.loc['median'] = data_nps.median()['NPS']\n",
    "data_nps_tab.loc['mean'] = data_nps.mean()['NPS']\n",
    "data_nps_tab.loc['std'] = data_nps.std()['NPS']\n",
    "data_nps_tab.to_csv('out/yanux-youtube-viewer-nps.csv')\n",
    "data_nps_tab.round(2)"
   ]
  },
  {
   "cell_type": "code",
   "execution_count": 23,
   "id": "875cb2fc-3b97-4e9e-be08-59fd0f0bccb3",
   "metadata": {},
   "outputs": [
    {
     "data": {
      "image/png": "[encoded data removed]",
      "text/plain": [
       "<Figure size 576x72 with 1 Axes>"
      ]
     },
     "metadata": {
      "needs_background": "light"
     },
     "output_type": "display_data"
    }
   ],
   "source": [
    "ax = plot_likert.plot_likert(pd.DataFrame(data_nps), np.arange(1,11), plot_percentage=True, colors=plot_likert.colors.likert10, figsize=(8,1));\n",
    "ax.figure.savefig('out/yanux-youtube-viewer-nps.pdf', bbox_inches='tight')"
   ]
  },
  {
   "cell_type": "code",
   "execution_count": 24,
   "id": "abdd228f-1431-403d-bfbc-41eb033160a7",
   "metadata": {},
   "outputs": [
    {
     "data": {
      "image/png": "[encoded data removed]",
      "text/plain": [
       "<Figure size 216x360 with 1 Axes>"
      ]
     },
     "metadata": {
      "needs_background": "light"
     },
     "output_type": "display_data"
    },
    {
     "name": "stdout",
     "output_type": "stream",
     "text": [
      "IQR:\n",
      " NPS    2.0\n",
      "dtype: float64\n"
     ]
    }
   ],
   "source": [
    "ax = boxplot(data_nps, plt_size=(3,5))\n",
    "ax.figure.savefig('out/yanux-youtube-viewer-nps-boxplot.pdf', bbox_inches='tight')"
   ]
  },
  {
   "cell_type": "markdown",
   "id": "e6db5683-08ba-434c-87c5-6936cd8557a9",
   "metadata": {},
   "source": [
    "## Domain Specific Questions"
   ]
  },
  {
   "cell_type": "code",
   "execution_count": 25,
   "id": "cb0b7d6a-5a34-4a8c-98ba-2315c248806f",
   "metadata": {},
   "outputs": [],
   "source": [
    "data_domain_specific = data['Domain Specific']\n",
    "#data_domain_specific"
   ]
  },
  {
   "cell_type": "code",
   "execution_count": 26,
   "id": "26e6c5de-a9f0-4655-93a7-336153a4772a",
   "metadata": {},
   "outputs": [
    {
     "name": "stdout",
     "output_type": "stream",
     "text": [
      "--- Statistics ----\n"
     ]
    },
    {
     "data": {
      "text/html": [
       "<div>\n",
       "<style scoped>\n",
       "    .dataframe tbody tr th:only-of-type {\n",
       "        vertical-align: middle;\n",
       "    }\n",
       "\n",
       "    .dataframe tbody tr th {\n",
       "        vertical-align: top;\n",
       "    }\n",
       "\n",
       "    .dataframe thead th {\n",
       "        text-align: right;\n",
       "    }\n",
       "</style>\n",
       "<table border=\"1\" class=\"dataframe\">\n",
       "  <thead>\n",
       "    <tr style=\"text-align: right;\">\n",
       "      <th></th>\n",
       "      <th>DS1</th>\n",
       "      <th>DS2</th>\n",
       "      <th>DS3</th>\n",
       "      <th>DS4</th>\n",
       "      <th>DS5</th>\n",
       "      <th>DS6</th>\n",
       "    </tr>\n",
       "  </thead>\n",
       "  <tbody>\n",
       "    <tr>\n",
       "      <th>count</th>\n",
       "      <td>15.000000</td>\n",
       "      <td>15.000000</td>\n",
       "      <td>15.000000</td>\n",
       "      <td>15.000000</td>\n",
       "      <td>15.000000</td>\n",
       "      <td>15.000000</td>\n",
       "    </tr>\n",
       "    <tr>\n",
       "      <th>mean</th>\n",
       "      <td>5.933333</td>\n",
       "      <td>5.866667</td>\n",
       "      <td>6.400000</td>\n",
       "      <td>6.133333</td>\n",
       "      <td>5.866667</td>\n",
       "      <td>5.933333</td>\n",
       "    </tr>\n",
       "    <tr>\n",
       "      <th>std</th>\n",
       "      <td>1.334523</td>\n",
       "      <td>0.833809</td>\n",
       "      <td>1.055597</td>\n",
       "      <td>1.125463</td>\n",
       "      <td>1.187234</td>\n",
       "      <td>0.883715</td>\n",
       "    </tr>\n",
       "    <tr>\n",
       "      <th>min</th>\n",
       "      <td>2.000000</td>\n",
       "      <td>4.000000</td>\n",
       "      <td>3.000000</td>\n",
       "      <td>3.000000</td>\n",
       "      <td>3.000000</td>\n",
       "      <td>4.000000</td>\n",
       "    </tr>\n",
       "    <tr>\n",
       "      <th>25%</th>\n",
       "      <td>5.500000</td>\n",
       "      <td>5.500000</td>\n",
       "      <td>6.000000</td>\n",
       "      <td>6.000000</td>\n",
       "      <td>5.500000</td>\n",
       "      <td>5.500000</td>\n",
       "    </tr>\n",
       "    <tr>\n",
       "      <th>50%</th>\n",
       "      <td>6.000000</td>\n",
       "      <td>6.000000</td>\n",
       "      <td>7.000000</td>\n",
       "      <td>6.000000</td>\n",
       "      <td>6.000000</td>\n",
       "      <td>6.000000</td>\n",
       "    </tr>\n",
       "    <tr>\n",
       "      <th>75%</th>\n",
       "      <td>7.000000</td>\n",
       "      <td>6.000000</td>\n",
       "      <td>7.000000</td>\n",
       "      <td>7.000000</td>\n",
       "      <td>7.000000</td>\n",
       "      <td>6.500000</td>\n",
       "    </tr>\n",
       "    <tr>\n",
       "      <th>max</th>\n",
       "      <td>7.000000</td>\n",
       "      <td>7.000000</td>\n",
       "      <td>7.000000</td>\n",
       "      <td>7.000000</td>\n",
       "      <td>7.000000</td>\n",
       "      <td>7.000000</td>\n",
       "    </tr>\n",
       "  </tbody>\n",
       "</table>\n",
       "</div>"
      ],
      "text/plain": [
       "             DS1        DS2        DS3        DS4        DS5        DS6\n",
       "count  15.000000  15.000000  15.000000  15.000000  15.000000  15.000000\n",
       "mean    5.933333   5.866667   6.400000   6.133333   5.866667   5.933333\n",
       "std     1.334523   0.833809   1.055597   1.125463   1.187234   0.883715\n",
       "min     2.000000   4.000000   3.000000   3.000000   3.000000   4.000000\n",
       "25%     5.500000   5.500000   6.000000   6.000000   5.500000   5.500000\n",
       "50%     6.000000   6.000000   7.000000   6.000000   6.000000   6.000000\n",
       "75%     7.000000   6.000000   7.000000   7.000000   7.000000   6.500000\n",
       "max     7.000000   7.000000   7.000000   7.000000   7.000000   7.000000"
      ]
     },
     "metadata": {},
     "output_type": "display_data"
    },
    {
     "name": "stdout",
     "output_type": "stream",
     "text": [
      "\n",
      "\n",
      "--- Counting Unique Values ----\n"
     ]
    },
    {
     "data": {
      "text/plain": [
       "DS1  DS2  DS3  DS4  DS5  DS6\n",
       "2    5    7    7    6    6      1\n",
       "5    6    6    5    5    6      1\n",
       "               6    6    6      1\n",
       "     7    7    6    7    7      1\n",
       "6    4    7    7    7    7      1\n",
       "     5    7    5    5    7      1\n",
       "     6    6    7    4    5      1\n",
       "          7    6    6    6      1\n",
       "     7    7    7    7    6      1\n",
       "7    5    3    3    3    6      1\n",
       "     6    6    6    6    4      1\n",
       "                         6      1\n",
       "          7    7    6    5      1\n",
       "                    7    7      1\n",
       "     7    7    7    7    5      1\n",
       "dtype: int64"
      ]
     },
     "metadata": {},
     "output_type": "display_data"
    },
    {
     "name": "stdout",
     "output_type": "stream",
     "text": [
      "\n",
      "\n",
      "--- Basic Histogram ----\n"
     ]
    },
    {
     "data": {
      "image/png": "[encoded data removed]",
      "text/plain": [
       "<Figure size 576x288 with 6 Axes>"
      ]
     },
     "metadata": {
      "needs_background": "light"
     },
     "output_type": "display_data"
    }
   ],
   "source": [
    "print_stats(data_domain_specific)"
   ]
  },
  {
   "cell_type": "markdown",
   "id": "f65eb910-2086-4c2b-a758-c217176423a9",
   "metadata": {},
   "source": [
    "### Response Frequency"
   ]
  },
  {
   "cell_type": "code",
   "execution_count": 27,
   "id": "6a82a179-d897-4b09-9229-1976e86d8bd1",
   "metadata": {},
   "outputs": [
    {
     "data": {
      "text/html": [
       "<div>\n",
       "<style scoped>\n",
       "    .dataframe tbody tr th:only-of-type {\n",
       "        vertical-align: middle;\n",
       "    }\n",
       "\n",
       "    .dataframe tbody tr th {\n",
       "        vertical-align: top;\n",
       "    }\n",
       "\n",
       "    .dataframe thead th {\n",
       "        text-align: right;\n",
       "    }\n",
       "</style>\n",
       "<table border=\"1\" class=\"dataframe\">\n",
       "  <thead>\n",
       "    <tr style=\"text-align: right;\">\n",
       "      <th></th>\n",
       "      <th>2</th>\n",
       "      <th>3</th>\n",
       "      <th>4</th>\n",
       "      <th>5</th>\n",
       "      <th>6</th>\n",
       "      <th>7</th>\n",
       "    </tr>\n",
       "  </thead>\n",
       "  <tbody>\n",
       "    <tr>\n",
       "      <th>DS1</th>\n",
       "      <td>6.666667</td>\n",
       "      <td>0.000000</td>\n",
       "      <td>0.000000</td>\n",
       "      <td>20.000000</td>\n",
       "      <td>33.333333</td>\n",
       "      <td>40.000000</td>\n",
       "    </tr>\n",
       "    <tr>\n",
       "      <th>DS2</th>\n",
       "      <td>0.000000</td>\n",
       "      <td>0.000000</td>\n",
       "      <td>6.666667</td>\n",
       "      <td>20.000000</td>\n",
       "      <td>53.333333</td>\n",
       "      <td>20.000000</td>\n",
       "    </tr>\n",
       "    <tr>\n",
       "      <th>DS3</th>\n",
       "      <td>0.000000</td>\n",
       "      <td>6.666667</td>\n",
       "      <td>0.000000</td>\n",
       "      <td>0.000000</td>\n",
       "      <td>33.333333</td>\n",
       "      <td>60.000000</td>\n",
       "    </tr>\n",
       "    <tr>\n",
       "      <th>DS4</th>\n",
       "      <td>0.000000</td>\n",
       "      <td>6.666667</td>\n",
       "      <td>0.000000</td>\n",
       "      <td>13.333333</td>\n",
       "      <td>33.333333</td>\n",
       "      <td>46.666667</td>\n",
       "    </tr>\n",
       "    <tr>\n",
       "      <th>DS5</th>\n",
       "      <td>0.000000</td>\n",
       "      <td>6.666667</td>\n",
       "      <td>6.666667</td>\n",
       "      <td>13.333333</td>\n",
       "      <td>40.000000</td>\n",
       "      <td>33.333333</td>\n",
       "    </tr>\n",
       "    <tr>\n",
       "      <th>DS6</th>\n",
       "      <td>0.000000</td>\n",
       "      <td>0.000000</td>\n",
       "      <td>6.666667</td>\n",
       "      <td>20.000000</td>\n",
       "      <td>46.666667</td>\n",
       "      <td>26.666667</td>\n",
       "    </tr>\n",
       "  </tbody>\n",
       "</table>\n",
       "</div>"
      ],
      "text/plain": [
       "            2         3         4          5          6          7\n",
       "DS1  6.666667  0.000000  0.000000  20.000000  33.333333  40.000000\n",
       "DS2  0.000000  0.000000  6.666667  20.000000  53.333333  20.000000\n",
       "DS3  0.000000  6.666667  0.000000   0.000000  33.333333  60.000000\n",
       "DS4  0.000000  6.666667  0.000000  13.333333  33.333333  46.666667\n",
       "DS5  0.000000  6.666667  6.666667  13.333333  40.000000  33.333333\n",
       "DS6  0.000000  0.000000  6.666667  20.000000  46.666667  26.666667"
      ]
     },
     "execution_count": 27,
     "metadata": {},
     "output_type": "execute_result"
    }
   ],
   "source": [
    "data_domain_specific_freq_res = (data_domain_specific.apply(pd.value_counts).fillna(0)/data_domain_specific.count()*100).transpose()\n",
    "data_domain_specific_freq_res"
   ]
  },
  {
   "cell_type": "code",
   "execution_count": 28,
   "id": "e20961ab-45d0-4774-bc8c-868ad61fc800",
   "metadata": {},
   "outputs": [
    {
     "data": {
      "image/png": "[encoded data removed]",
      "text/plain": [
       "<Figure size 432x288 with 1 Axes>"
      ]
     },
     "metadata": {
      "needs_background": "light"
     },
     "output_type": "display_data"
    }
   ],
   "source": [
    "data_domain_specific_freq_res.iloc[::-1].plot.barh(stacked=True).legend(loc='center left',bbox_to_anchor=(1.0, 0.5))\n",
    "plt.show()"
   ]
  },
  {
   "cell_type": "code",
   "execution_count": 29,
   "id": "7e106224-dfb0-4f87-8159-3fb0d8476782",
   "metadata": {},
   "outputs": [
    {
     "data": {
      "image/png": "[encoded data removed]",
      "text/plain": [
       "<Figure size 576x216 with 1 Axes>"
      ]
     },
     "metadata": {
      "needs_background": "light"
     },
     "output_type": "display_data"
    }
   ],
   "source": [
    "data_domain_specific_likert = data_domain_specific.copy()\n",
    "data_domain_specific_likert.columns = data_domain_specific_likert.columns.str.replace('DS', 'Q')\n",
    "ax = plot_likert.plot_likert(pd.DataFrame(data_domain_specific_likert), np.arange(1,8), plot_percentage=True, colors=plot_likert.colors.likert7, figsize=(8,3));\n",
    "ax.figure.savefig('out/yanux-youtube-viewer-ds.pdf', bbox_inches='tight')"
   ]
  },
  {
   "cell_type": "code",
   "execution_count": 30,
   "id": "b3e63b68-3121-4abb-b5e5-1f464f0690ec",
   "metadata": {},
   "outputs": [
    {
     "name": "stdout",
     "output_type": "stream",
     "text": [
      "DS1 Median: 6.0 Mean: 5.933333333333334 Standard Deviation: 1.334523278535216 Confidence Interval: (5.194298974892202, 6.672367691774465)\n",
      "DS2 Median: 6.0 Mean: 5.866666666666666 Standard Deviation: 0.8338093878327919 Confidence Interval: (5.404918418501553, 6.32841491483178)\n",
      "DS3 Median: 7.0 Mean: 6.4 Standard Deviation: 1.0555973258234952 Confidence Interval: (5.815429685633952, 6.9845703143660485)\n",
      "DS4 Median: 6.0 Mean: 6.133333333333334 Standard Deviation: 1.1254628677422753 Confidence Interval: (5.510072771461254, 6.756593895205413)\n",
      "DS5 Median: 6.0 Mean: 5.866666666666666 Standard Deviation: 1.1872336794093272 Confidence Interval: (5.209198569485908, 6.5241347638474245)\n",
      "DS6 Median: 6.0 Mean: 5.933333333333334 Standard Deviation: 0.8837151016885368 Confidence Interval: (5.443948222016302, 6.422718444650365)\n"
     ]
    }
   ],
   "source": [
    "for question in data_domain_specific:\n",
    "    print(question,\n",
    "          'Median:', data_domain_specific[question].median(), \n",
    "          'Mean:', data_domain_specific[question].mean(), \n",
    "          'Standard Deviation:', data_domain_specific[question].std(), \n",
    "          'Confidence Interval:', confidence_interval_t(data_domain_specific[question]))"
   ]
  },
  {
   "cell_type": "markdown",
   "id": "b2e59b5e-bd3b-4b93-8e4e-9ab7e5996223",
   "metadata": {},
   "source": [
    "#### Percentage of Users that User Multiple Devices Sometimes or More Often"
   ]
  },
  {
   "cell_type": "code",
   "execution_count": 31,
   "id": "a24e7e40-046e-4663-95c4-30e217cd68cc",
   "metadata": {},
   "outputs": [
    {
     "data": {
      "text/plain": [
       "93.33333333333333"
      ]
     },
     "execution_count": 31,
     "metadata": {},
     "output_type": "execute_result"
    }
   ],
   "source": [
    "data_basic_usage_multiple_devices = data_domain_specific['DS1']\n",
    "(data_basic_usage_multiple_devices[data_basic_usage_multiple_devices >= 5].count()/data_basic_usage_multiple_devices.count())*100"
   ]
  },
  {
   "cell_type": "code",
   "execution_count": null,
   "id": "d5f632a4-665a-489b-9435-9f2a2a87ee85",
   "metadata": {},
   "outputs": [],
   "source": []
  }
 ],
 "metadata": {
  "kernelspec": {
   "display_name": "Python 3",
   "language": "python",
   "name": "python3"
  },
  "language_info": {
   "codemirror_mode": {
    "name": "ipython",
    "version": 3
   },
   "file_extension": ".py",
   "mimetype": "text/x-python",
   "name": "python",
   "nbconvert_exporter": "python",
   "pygments_lexer": "ipython3",
   "version": "3.8.8"
  }
 },
 "nbformat": 4,
 "nbformat_minor": 5
}
